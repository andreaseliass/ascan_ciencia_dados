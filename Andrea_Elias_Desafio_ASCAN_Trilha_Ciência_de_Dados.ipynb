{
  "cells": [
    {
      "cell_type": "markdown",
      "metadata": {
        "id": "view-in-github",
        "colab_type": "text"
      },
      "source": [
        "<a href=\"https://colab.research.google.com/github/andreaseliass/ascan_ciencia_dados/blob/main/Andrea_Elias_Desafio_ASCAN_Trilha_Ci%C3%AAncia_de_Dados.ipynb\" target=\"_parent\"><img src=\"https://colab.research.google.com/assets/colab-badge.svg\" alt=\"Open In Colab\"/></a>"
      ]
    },
    {
      "cell_type": "markdown",
      "id": "da86d790",
      "metadata": {
        "id": "da86d790"
      },
      "source": [
        "# Introdução ao desafio\n",
        "Este desafio foi desenvolvido para a conclusão da trilha Data Science.\n",
        "Caso tenha alguma dúvida sobre o desafio, pode entrar em contato com a equipe ASCAN;\n",
        "\n",
        "#### Recomendações para o desafio:\n",
        "- Toda informação que possa ser representada em gráficos deve ser representada, escolher o gráfico adequado para o dado em questão faz parte do desafio;\n",
        "- Entenda do que o dado se trata, pesquise, teste, pense!;\n",
        "- Seja curioso, passe por cada coluna olhando elas isoladamente e também procurando se há alguma relação com as demais colunas.\n",
        "- Utilize boas práticas de programação em Python e em notebooks, segue um [link](https://www.slideshare.net/joelpl/boas-prticas-de-desenvolvimento-para-jupyter-notebooks) para mais orientações;\n",
        "- Todo gráfico deve ter um título e está em um tamanho adequado, lembre-se das boas políticas de visualização.\n",
        "- Faça métodos (functions) para reaproveitar código;\n",
        "- Documente o seu código, lembre-se que outros pessoas vão avaliá-lo;\n",
        "- **Perguntas guias** ou **Perguntas chaves** devem ser respondidas diretamente por você durante a elaboração do notebook, sempre com dados reforçando seus argumentos.\n",
        "- E o mais importante, divirta-se!\n",
        "\n",
        "\n",
        "\n",
        "# Dados\n",
        "\n",
        "Para este desafio vamos utilizar um dos dados mais utilizados na comunidade de Ciência de Dados, o tão famoso TITANIC! Esta versão foi modificada para este desafio com o intuito de facilitar e direcionar melhor os desafiantes.\n",
        "Recomendo que antes de iniciar você se familiarize com o contexto do dataset, o que basicamente foi um navio famoso no início do século 20 que naufragou. \n",
        "\n",
        "Vou deixar dois links sobre o tema abaixo:\n",
        "- [Youtube](https://www.youtube.com/watch?v=epc1KZMx2vs)\n",
        "- [Wikipedia](https://pt.wikipedia.org/wiki/RMS_Titanic)\n",
        "\n",
        "Metadata:\n",
        " \n",
        "| **Variável**         | **Descrição**           |**Valores Chaves**          |\n",
        "| ---------------- | ------------------- | ---------------------- |\n",
        "| sobreviveu       | Se sobreviveu ou não ao acidente.            |Não sobreviveu = False, Sobreviveu = Yes |\n",
        "| classe_bilhete   | Classe do bilhete comprado.      |1=Primeira Classe, 2=Segunda Classe, 3=Terceira Classe |\n",
        "| genero           | Gênero do passageiro.                 |M=Masculino, F=Feminino       |\n",
        "| idade            | Idade em anos e meses.        |Min=0.42 ~ Max=80.0       |\n",
        "| irmaos_conjuges_abordo    | Número de irmãos/cônjuges a bordo do Titanic.  |Min=0 ~ Max=6       |\n",
        "| pais_filhos_abordo      | Número de pais/filhos a bordo do Titanic.   |Min=0 ~ Max=8       |\n",
        "| numero_bilhete   | Número do Bilhete.     |Combinação de texto e número.       |\n",
        "| preco_bilhete    | Preço pago no Bilhete.    |Min=0.00 ~ Max=512.32       |\n",
        "| cabine_numero    | Número da Cabine do Passageiro.        |Combinação de texto e número.       |\n",
        "| local_embarque   | Cidade que o passageiro embarcou. |Valores válidos=['Southampton', 'Cherbourg', 'Queenstown'] |\n",
        " \n",
        "[Referência do dado](https://www.kaggle.com/competitions/titanic/data?select=train.csv)"
      ]
    },
    {
      "cell_type": "markdown",
      "id": "ee98bd7e",
      "metadata": {
        "id": "ee98bd7e"
      },
      "source": [
        "**ATENÇÃO: Você pode usar outras versões dos pacotes como também outras ferramentas de visualização de dados no lugar do `seaborn`, como exemplo o `plotly`!!!**"
      ]
    },
    {
      "cell_type": "code",
      "execution_count": null,
      "id": "5005be66",
      "metadata": {
        "id": "5005be66"
      },
      "outputs": [],
      "source": [
        "!pip install pandas==1.1.4 seaborn==0.11.0 -q"
      ]
    },
    {
      "cell_type": "code",
      "source": [
        "!pip install matplotlib==3.5.3"
      ],
      "metadata": {
        "colab": {
          "base_uri": "https://localhost:8080/"
        },
        "id": "udMDytDf8Wfh",
        "outputId": "e7473b32-4ec0-42ed-c2ae-9f6ed92c9862"
      },
      "id": "udMDytDf8Wfh",
      "execution_count": null,
      "outputs": [
        {
          "output_type": "stream",
          "name": "stdout",
          "text": [
            "Looking in indexes: https://pypi.org/simple, https://us-python.pkg.dev/colab-wheels/public/simple/\n",
            "Requirement already satisfied: matplotlib==3.5.3 in /usr/local/lib/python3.7/dist-packages (3.5.3)\n",
            "Requirement already satisfied: python-dateutil>=2.7 in /usr/local/lib/python3.7/dist-packages (from matplotlib==3.5.3) (2.8.2)\n",
            "Requirement already satisfied: cycler>=0.10 in /usr/local/lib/python3.7/dist-packages (from matplotlib==3.5.3) (0.11.0)\n",
            "Requirement already satisfied: numpy>=1.17 in /usr/local/lib/python3.7/dist-packages (from matplotlib==3.5.3) (1.21.6)\n",
            "Requirement already satisfied: kiwisolver>=1.0.1 in /usr/local/lib/python3.7/dist-packages (from matplotlib==3.5.3) (1.4.4)\n",
            "Requirement already satisfied: pyparsing>=2.2.1 in /usr/local/lib/python3.7/dist-packages (from matplotlib==3.5.3) (3.0.9)\n",
            "Requirement already satisfied: fonttools>=4.22.0 in /usr/local/lib/python3.7/dist-packages (from matplotlib==3.5.3) (4.37.3)\n",
            "Requirement already satisfied: pillow>=6.2.0 in /usr/local/lib/python3.7/dist-packages (from matplotlib==3.5.3) (7.1.2)\n",
            "Requirement already satisfied: packaging>=20.0 in /usr/local/lib/python3.7/dist-packages (from matplotlib==3.5.3) (21.3)\n",
            "Requirement already satisfied: typing-extensions in /usr/local/lib/python3.7/dist-packages (from kiwisolver>=1.0.1->matplotlib==3.5.3) (4.1.1)\n",
            "Requirement already satisfied: six>=1.5 in /usr/local/lib/python3.7/dist-packages (from python-dateutil>=2.7->matplotlib==3.5.3) (1.15.0)\n"
          ]
        }
      ]
    },
    {
      "cell_type": "code",
      "source": [
        "from google.colab import drive\n",
        "drive.mount('/content/drive')"
      ],
      "metadata": {
        "id": "1BM3-HFj5POF",
        "colab": {
          "base_uri": "https://localhost:8080/"
        },
        "outputId": "b9207659-c4a3-4f8b-f5f9-de200a3f5568"
      },
      "id": "1BM3-HFj5POF",
      "execution_count": null,
      "outputs": [
        {
          "output_type": "stream",
          "name": "stdout",
          "text": [
            "Drive already mounted at /content/drive; to attempt to forcibly remount, call drive.mount(\"/content/drive\", force_remount=True).\n"
          ]
        }
      ]
    },
    {
      "cell_type": "code",
      "execution_count": null,
      "id": "5cc5bbdb",
      "metadata": {
        "id": "5cc5bbdb",
        "colab": {
          "base_uri": "https://localhost:8080/",
          "height": 319
        },
        "outputId": "2d03ad44-69e1-4f51-a46b-ad0a9fb0d7ee"
      },
      "outputs": [
        {
          "output_type": "execute_result",
          "data": {
            "text/plain": [
              "               sobreviveu  classe_bilhete genero  idade  \\\n",
              "id_passageiro                                             \n",
              "1                   False               3      M   22.0   \n",
              "2                    True               1      F   38.0   \n",
              "3                    True               3      F   26.0   \n",
              "4                    True               1      F   35.0   \n",
              "5                   False               3      M   35.0   \n",
              "\n",
              "               irmaos_conjuges_abordo  pais_filhos_abordo    numero_bilhete  \\\n",
              "id_passageiro                                                                 \n",
              "1                                   1                   0         A/5 21171   \n",
              "2                                   1                   0          PC 17599   \n",
              "3                                   0                   0  STON/O2. 3101282   \n",
              "4                                   1                   0            113803   \n",
              "5                                   0                   0            373450   \n",
              "\n",
              "               preco_bilhete cabine_numero local_embarque  \n",
              "id_passageiro                                              \n",
              "1                     7.2500           NaN    Southampton  \n",
              "2                    71.2833           C85      Cherbourg  \n",
              "3                     7.9250           NaN    Southampton  \n",
              "4                    53.1000          C123    Southampton  \n",
              "5                     8.0500           NaN    Southampton  "
            ],
            "text/html": [
              "\n",
              "  <div id=\"df-4cb7fbc6-dc38-4864-befb-436954bd868a\">\n",
              "    <div class=\"colab-df-container\">\n",
              "      <div>\n",
              "<style scoped>\n",
              "    .dataframe tbody tr th:only-of-type {\n",
              "        vertical-align: middle;\n",
              "    }\n",
              "\n",
              "    .dataframe tbody tr th {\n",
              "        vertical-align: top;\n",
              "    }\n",
              "\n",
              "    .dataframe thead th {\n",
              "        text-align: right;\n",
              "    }\n",
              "</style>\n",
              "<table border=\"1\" class=\"dataframe\">\n",
              "  <thead>\n",
              "    <tr style=\"text-align: right;\">\n",
              "      <th></th>\n",
              "      <th>sobreviveu</th>\n",
              "      <th>classe_bilhete</th>\n",
              "      <th>genero</th>\n",
              "      <th>idade</th>\n",
              "      <th>irmaos_conjuges_abordo</th>\n",
              "      <th>pais_filhos_abordo</th>\n",
              "      <th>numero_bilhete</th>\n",
              "      <th>preco_bilhete</th>\n",
              "      <th>cabine_numero</th>\n",
              "      <th>local_embarque</th>\n",
              "    </tr>\n",
              "    <tr>\n",
              "      <th>id_passageiro</th>\n",
              "      <th></th>\n",
              "      <th></th>\n",
              "      <th></th>\n",
              "      <th></th>\n",
              "      <th></th>\n",
              "      <th></th>\n",
              "      <th></th>\n",
              "      <th></th>\n",
              "      <th></th>\n",
              "      <th></th>\n",
              "    </tr>\n",
              "  </thead>\n",
              "  <tbody>\n",
              "    <tr>\n",
              "      <th>1</th>\n",
              "      <td>False</td>\n",
              "      <td>3</td>\n",
              "      <td>M</td>\n",
              "      <td>22.0</td>\n",
              "      <td>1</td>\n",
              "      <td>0</td>\n",
              "      <td>A/5 21171</td>\n",
              "      <td>7.2500</td>\n",
              "      <td>NaN</td>\n",
              "      <td>Southampton</td>\n",
              "    </tr>\n",
              "    <tr>\n",
              "      <th>2</th>\n",
              "      <td>True</td>\n",
              "      <td>1</td>\n",
              "      <td>F</td>\n",
              "      <td>38.0</td>\n",
              "      <td>1</td>\n",
              "      <td>0</td>\n",
              "      <td>PC 17599</td>\n",
              "      <td>71.2833</td>\n",
              "      <td>C85</td>\n",
              "      <td>Cherbourg</td>\n",
              "    </tr>\n",
              "    <tr>\n",
              "      <th>3</th>\n",
              "      <td>True</td>\n",
              "      <td>3</td>\n",
              "      <td>F</td>\n",
              "      <td>26.0</td>\n",
              "      <td>0</td>\n",
              "      <td>0</td>\n",
              "      <td>STON/O2. 3101282</td>\n",
              "      <td>7.9250</td>\n",
              "      <td>NaN</td>\n",
              "      <td>Southampton</td>\n",
              "    </tr>\n",
              "    <tr>\n",
              "      <th>4</th>\n",
              "      <td>True</td>\n",
              "      <td>1</td>\n",
              "      <td>F</td>\n",
              "      <td>35.0</td>\n",
              "      <td>1</td>\n",
              "      <td>0</td>\n",
              "      <td>113803</td>\n",
              "      <td>53.1000</td>\n",
              "      <td>C123</td>\n",
              "      <td>Southampton</td>\n",
              "    </tr>\n",
              "    <tr>\n",
              "      <th>5</th>\n",
              "      <td>False</td>\n",
              "      <td>3</td>\n",
              "      <td>M</td>\n",
              "      <td>35.0</td>\n",
              "      <td>0</td>\n",
              "      <td>0</td>\n",
              "      <td>373450</td>\n",
              "      <td>8.0500</td>\n",
              "      <td>NaN</td>\n",
              "      <td>Southampton</td>\n",
              "    </tr>\n",
              "  </tbody>\n",
              "</table>\n",
              "</div>\n",
              "      <button class=\"colab-df-convert\" onclick=\"convertToInteractive('df-4cb7fbc6-dc38-4864-befb-436954bd868a')\"\n",
              "              title=\"Convert this dataframe to an interactive table.\"\n",
              "              style=\"display:none;\">\n",
              "        \n",
              "  <svg xmlns=\"http://www.w3.org/2000/svg\" height=\"24px\"viewBox=\"0 0 24 24\"\n",
              "       width=\"24px\">\n",
              "    <path d=\"M0 0h24v24H0V0z\" fill=\"none\"/>\n",
              "    <path d=\"M18.56 5.44l.94 2.06.94-2.06 2.06-.94-2.06-.94-.94-2.06-.94 2.06-2.06.94zm-11 1L8.5 8.5l.94-2.06 2.06-.94-2.06-.94L8.5 2.5l-.94 2.06-2.06.94zm10 10l.94 2.06.94-2.06 2.06-.94-2.06-.94-.94-2.06-.94 2.06-2.06.94z\"/><path d=\"M17.41 7.96l-1.37-1.37c-.4-.4-.92-.59-1.43-.59-.52 0-1.04.2-1.43.59L10.3 9.45l-7.72 7.72c-.78.78-.78 2.05 0 2.83L4 21.41c.39.39.9.59 1.41.59.51 0 1.02-.2 1.41-.59l7.78-7.78 2.81-2.81c.8-.78.8-2.07 0-2.86zM5.41 20L4 18.59l7.72-7.72 1.47 1.35L5.41 20z\"/>\n",
              "  </svg>\n",
              "      </button>\n",
              "      \n",
              "  <style>\n",
              "    .colab-df-container {\n",
              "      display:flex;\n",
              "      flex-wrap:wrap;\n",
              "      gap: 12px;\n",
              "    }\n",
              "\n",
              "    .colab-df-convert {\n",
              "      background-color: #E8F0FE;\n",
              "      border: none;\n",
              "      border-radius: 50%;\n",
              "      cursor: pointer;\n",
              "      display: none;\n",
              "      fill: #1967D2;\n",
              "      height: 32px;\n",
              "      padding: 0 0 0 0;\n",
              "      width: 32px;\n",
              "    }\n",
              "\n",
              "    .colab-df-convert:hover {\n",
              "      background-color: #E2EBFA;\n",
              "      box-shadow: 0px 1px 2px rgba(60, 64, 67, 0.3), 0px 1px 3px 1px rgba(60, 64, 67, 0.15);\n",
              "      fill: #174EA6;\n",
              "    }\n",
              "\n",
              "    [theme=dark] .colab-df-convert {\n",
              "      background-color: #3B4455;\n",
              "      fill: #D2E3FC;\n",
              "    }\n",
              "\n",
              "    [theme=dark] .colab-df-convert:hover {\n",
              "      background-color: #434B5C;\n",
              "      box-shadow: 0px 1px 3px 1px rgba(0, 0, 0, 0.15);\n",
              "      filter: drop-shadow(0px 1px 2px rgba(0, 0, 0, 0.3));\n",
              "      fill: #FFFFFF;\n",
              "    }\n",
              "  </style>\n",
              "\n",
              "      <script>\n",
              "        const buttonEl =\n",
              "          document.querySelector('#df-4cb7fbc6-dc38-4864-befb-436954bd868a button.colab-df-convert');\n",
              "        buttonEl.style.display =\n",
              "          google.colab.kernel.accessAllowed ? 'block' : 'none';\n",
              "\n",
              "        async function convertToInteractive(key) {\n",
              "          const element = document.querySelector('#df-4cb7fbc6-dc38-4864-befb-436954bd868a');\n",
              "          const dataTable =\n",
              "            await google.colab.kernel.invokeFunction('convertToInteractive',\n",
              "                                                     [key], {});\n",
              "          if (!dataTable) return;\n",
              "\n",
              "          const docLinkHtml = 'Like what you see? Visit the ' +\n",
              "            '<a target=\"_blank\" href=https://colab.research.google.com/notebooks/data_table.ipynb>data table notebook</a>'\n",
              "            + ' to learn more about interactive tables.';\n",
              "          element.innerHTML = '';\n",
              "          dataTable['output_type'] = 'display_data';\n",
              "          await google.colab.output.renderOutput(dataTable, element);\n",
              "          const docLink = document.createElement('div');\n",
              "          docLink.innerHTML = docLinkHtml;\n",
              "          element.appendChild(docLink);\n",
              "        }\n",
              "      </script>\n",
              "    </div>\n",
              "  </div>\n",
              "  "
            ]
          },
          "metadata": {},
          "execution_count": 4
        }
      ],
      "source": [
        "import pandas as pd\n",
        "import seaborn as sns\n",
        "\n",
        "df = pd.read_csv(\"/content/drive/MyDrive/AsCan/titanic.csv\").set_index(\"id_passageiro\")\n",
        "df.head()"
      ]
    },
    {
      "cell_type": "code",
      "source": [
        "df.head(10)"
      ],
      "metadata": {
        "colab": {
          "base_uri": "https://localhost:8080/",
          "height": 476
        },
        "id": "ILVH1pSBOMte",
        "outputId": "0a55c8d4-204b-4070-b98c-b7e7cc1a9f9c"
      },
      "id": "ILVH1pSBOMte",
      "execution_count": null,
      "outputs": [
        {
          "output_type": "execute_result",
          "data": {
            "text/plain": [
              "               sobreviveu  classe_bilhete genero  idade  \\\n",
              "id_passageiro                                             \n",
              "1                   False               3      M   22.0   \n",
              "2                    True               1      F   38.0   \n",
              "3                    True               3      F   26.0   \n",
              "4                    True               1      F   35.0   \n",
              "5                   False               3      M   35.0   \n",
              "6                   False               3      M    NaN   \n",
              "7                   False               1      M   54.0   \n",
              "8                   False               3      M    2.0   \n",
              "9                    True               3      F   27.0   \n",
              "10                   True               2      F   14.0   \n",
              "\n",
              "               irmaos_conjuges_abordo  pais_filhos_abordo    numero_bilhete  \\\n",
              "id_passageiro                                                                 \n",
              "1                                   1                   0         A/5 21171   \n",
              "2                                   1                   0          PC 17599   \n",
              "3                                   0                   0  STON/O2. 3101282   \n",
              "4                                   1                   0            113803   \n",
              "5                                   0                   0            373450   \n",
              "6                                   0                   0            330877   \n",
              "7                                   0                   0             17463   \n",
              "8                                   3                   1            349909   \n",
              "9                                   0                   2            347742   \n",
              "10                                  1                   0            237736   \n",
              "\n",
              "               preco_bilhete cabine_numero local_embarque  \n",
              "id_passageiro                                              \n",
              "1                     7.2500           NaN    Southampton  \n",
              "2                    71.2833           C85      Cherbourg  \n",
              "3                     7.9250           NaN    Southampton  \n",
              "4                    53.1000          C123    Southampton  \n",
              "5                     8.0500           NaN    Southampton  \n",
              "6                     8.4583           NaN     Queenstown  \n",
              "7                    51.8625           E46    Southampton  \n",
              "8                    21.0750           NaN    Southampton  \n",
              "9                    11.1333           NaN    Southampton  \n",
              "10                   30.0708           NaN      Cherbourg  "
            ],
            "text/html": [
              "\n",
              "  <div id=\"df-aef3cef1-fd3a-487b-9796-463b675e9c45\">\n",
              "    <div class=\"colab-df-container\">\n",
              "      <div>\n",
              "<style scoped>\n",
              "    .dataframe tbody tr th:only-of-type {\n",
              "        vertical-align: middle;\n",
              "    }\n",
              "\n",
              "    .dataframe tbody tr th {\n",
              "        vertical-align: top;\n",
              "    }\n",
              "\n",
              "    .dataframe thead th {\n",
              "        text-align: right;\n",
              "    }\n",
              "</style>\n",
              "<table border=\"1\" class=\"dataframe\">\n",
              "  <thead>\n",
              "    <tr style=\"text-align: right;\">\n",
              "      <th></th>\n",
              "      <th>sobreviveu</th>\n",
              "      <th>classe_bilhete</th>\n",
              "      <th>genero</th>\n",
              "      <th>idade</th>\n",
              "      <th>irmaos_conjuges_abordo</th>\n",
              "      <th>pais_filhos_abordo</th>\n",
              "      <th>numero_bilhete</th>\n",
              "      <th>preco_bilhete</th>\n",
              "      <th>cabine_numero</th>\n",
              "      <th>local_embarque</th>\n",
              "    </tr>\n",
              "    <tr>\n",
              "      <th>id_passageiro</th>\n",
              "      <th></th>\n",
              "      <th></th>\n",
              "      <th></th>\n",
              "      <th></th>\n",
              "      <th></th>\n",
              "      <th></th>\n",
              "      <th></th>\n",
              "      <th></th>\n",
              "      <th></th>\n",
              "      <th></th>\n",
              "    </tr>\n",
              "  </thead>\n",
              "  <tbody>\n",
              "    <tr>\n",
              "      <th>1</th>\n",
              "      <td>False</td>\n",
              "      <td>3</td>\n",
              "      <td>M</td>\n",
              "      <td>22.0</td>\n",
              "      <td>1</td>\n",
              "      <td>0</td>\n",
              "      <td>A/5 21171</td>\n",
              "      <td>7.2500</td>\n",
              "      <td>NaN</td>\n",
              "      <td>Southampton</td>\n",
              "    </tr>\n",
              "    <tr>\n",
              "      <th>2</th>\n",
              "      <td>True</td>\n",
              "      <td>1</td>\n",
              "      <td>F</td>\n",
              "      <td>38.0</td>\n",
              "      <td>1</td>\n",
              "      <td>0</td>\n",
              "      <td>PC 17599</td>\n",
              "      <td>71.2833</td>\n",
              "      <td>C85</td>\n",
              "      <td>Cherbourg</td>\n",
              "    </tr>\n",
              "    <tr>\n",
              "      <th>3</th>\n",
              "      <td>True</td>\n",
              "      <td>3</td>\n",
              "      <td>F</td>\n",
              "      <td>26.0</td>\n",
              "      <td>0</td>\n",
              "      <td>0</td>\n",
              "      <td>STON/O2. 3101282</td>\n",
              "      <td>7.9250</td>\n",
              "      <td>NaN</td>\n",
              "      <td>Southampton</td>\n",
              "    </tr>\n",
              "    <tr>\n",
              "      <th>4</th>\n",
              "      <td>True</td>\n",
              "      <td>1</td>\n",
              "      <td>F</td>\n",
              "      <td>35.0</td>\n",
              "      <td>1</td>\n",
              "      <td>0</td>\n",
              "      <td>113803</td>\n",
              "      <td>53.1000</td>\n",
              "      <td>C123</td>\n",
              "      <td>Southampton</td>\n",
              "    </tr>\n",
              "    <tr>\n",
              "      <th>5</th>\n",
              "      <td>False</td>\n",
              "      <td>3</td>\n",
              "      <td>M</td>\n",
              "      <td>35.0</td>\n",
              "      <td>0</td>\n",
              "      <td>0</td>\n",
              "      <td>373450</td>\n",
              "      <td>8.0500</td>\n",
              "      <td>NaN</td>\n",
              "      <td>Southampton</td>\n",
              "    </tr>\n",
              "    <tr>\n",
              "      <th>6</th>\n",
              "      <td>False</td>\n",
              "      <td>3</td>\n",
              "      <td>M</td>\n",
              "      <td>NaN</td>\n",
              "      <td>0</td>\n",
              "      <td>0</td>\n",
              "      <td>330877</td>\n",
              "      <td>8.4583</td>\n",
              "      <td>NaN</td>\n",
              "      <td>Queenstown</td>\n",
              "    </tr>\n",
              "    <tr>\n",
              "      <th>7</th>\n",
              "      <td>False</td>\n",
              "      <td>1</td>\n",
              "      <td>M</td>\n",
              "      <td>54.0</td>\n",
              "      <td>0</td>\n",
              "      <td>0</td>\n",
              "      <td>17463</td>\n",
              "      <td>51.8625</td>\n",
              "      <td>E46</td>\n",
              "      <td>Southampton</td>\n",
              "    </tr>\n",
              "    <tr>\n",
              "      <th>8</th>\n",
              "      <td>False</td>\n",
              "      <td>3</td>\n",
              "      <td>M</td>\n",
              "      <td>2.0</td>\n",
              "      <td>3</td>\n",
              "      <td>1</td>\n",
              "      <td>349909</td>\n",
              "      <td>21.0750</td>\n",
              "      <td>NaN</td>\n",
              "      <td>Southampton</td>\n",
              "    </tr>\n",
              "    <tr>\n",
              "      <th>9</th>\n",
              "      <td>True</td>\n",
              "      <td>3</td>\n",
              "      <td>F</td>\n",
              "      <td>27.0</td>\n",
              "      <td>0</td>\n",
              "      <td>2</td>\n",
              "      <td>347742</td>\n",
              "      <td>11.1333</td>\n",
              "      <td>NaN</td>\n",
              "      <td>Southampton</td>\n",
              "    </tr>\n",
              "    <tr>\n",
              "      <th>10</th>\n",
              "      <td>True</td>\n",
              "      <td>2</td>\n",
              "      <td>F</td>\n",
              "      <td>14.0</td>\n",
              "      <td>1</td>\n",
              "      <td>0</td>\n",
              "      <td>237736</td>\n",
              "      <td>30.0708</td>\n",
              "      <td>NaN</td>\n",
              "      <td>Cherbourg</td>\n",
              "    </tr>\n",
              "  </tbody>\n",
              "</table>\n",
              "</div>\n",
              "      <button class=\"colab-df-convert\" onclick=\"convertToInteractive('df-aef3cef1-fd3a-487b-9796-463b675e9c45')\"\n",
              "              title=\"Convert this dataframe to an interactive table.\"\n",
              "              style=\"display:none;\">\n",
              "        \n",
              "  <svg xmlns=\"http://www.w3.org/2000/svg\" height=\"24px\"viewBox=\"0 0 24 24\"\n",
              "       width=\"24px\">\n",
              "    <path d=\"M0 0h24v24H0V0z\" fill=\"none\"/>\n",
              "    <path d=\"M18.56 5.44l.94 2.06.94-2.06 2.06-.94-2.06-.94-.94-2.06-.94 2.06-2.06.94zm-11 1L8.5 8.5l.94-2.06 2.06-.94-2.06-.94L8.5 2.5l-.94 2.06-2.06.94zm10 10l.94 2.06.94-2.06 2.06-.94-2.06-.94-.94-2.06-.94 2.06-2.06.94z\"/><path d=\"M17.41 7.96l-1.37-1.37c-.4-.4-.92-.59-1.43-.59-.52 0-1.04.2-1.43.59L10.3 9.45l-7.72 7.72c-.78.78-.78 2.05 0 2.83L4 21.41c.39.39.9.59 1.41.59.51 0 1.02-.2 1.41-.59l7.78-7.78 2.81-2.81c.8-.78.8-2.07 0-2.86zM5.41 20L4 18.59l7.72-7.72 1.47 1.35L5.41 20z\"/>\n",
              "  </svg>\n",
              "      </button>\n",
              "      \n",
              "  <style>\n",
              "    .colab-df-container {\n",
              "      display:flex;\n",
              "      flex-wrap:wrap;\n",
              "      gap: 12px;\n",
              "    }\n",
              "\n",
              "    .colab-df-convert {\n",
              "      background-color: #E8F0FE;\n",
              "      border: none;\n",
              "      border-radius: 50%;\n",
              "      cursor: pointer;\n",
              "      display: none;\n",
              "      fill: #1967D2;\n",
              "      height: 32px;\n",
              "      padding: 0 0 0 0;\n",
              "      width: 32px;\n",
              "    }\n",
              "\n",
              "    .colab-df-convert:hover {\n",
              "      background-color: #E2EBFA;\n",
              "      box-shadow: 0px 1px 2px rgba(60, 64, 67, 0.3), 0px 1px 3px 1px rgba(60, 64, 67, 0.15);\n",
              "      fill: #174EA6;\n",
              "    }\n",
              "\n",
              "    [theme=dark] .colab-df-convert {\n",
              "      background-color: #3B4455;\n",
              "      fill: #D2E3FC;\n",
              "    }\n",
              "\n",
              "    [theme=dark] .colab-df-convert:hover {\n",
              "      background-color: #434B5C;\n",
              "      box-shadow: 0px 1px 3px 1px rgba(0, 0, 0, 0.15);\n",
              "      filter: drop-shadow(0px 1px 2px rgba(0, 0, 0, 0.3));\n",
              "      fill: #FFFFFF;\n",
              "    }\n",
              "  </style>\n",
              "\n",
              "      <script>\n",
              "        const buttonEl =\n",
              "          document.querySelector('#df-aef3cef1-fd3a-487b-9796-463b675e9c45 button.colab-df-convert');\n",
              "        buttonEl.style.display =\n",
              "          google.colab.kernel.accessAllowed ? 'block' : 'none';\n",
              "\n",
              "        async function convertToInteractive(key) {\n",
              "          const element = document.querySelector('#df-aef3cef1-fd3a-487b-9796-463b675e9c45');\n",
              "          const dataTable =\n",
              "            await google.colab.kernel.invokeFunction('convertToInteractive',\n",
              "                                                     [key], {});\n",
              "          if (!dataTable) return;\n",
              "\n",
              "          const docLinkHtml = 'Like what you see? Visit the ' +\n",
              "            '<a target=\"_blank\" href=https://colab.research.google.com/notebooks/data_table.ipynb>data table notebook</a>'\n",
              "            + ' to learn more about interactive tables.';\n",
              "          element.innerHTML = '';\n",
              "          dataTable['output_type'] = 'display_data';\n",
              "          await google.colab.output.renderOutput(dataTable, element);\n",
              "          const docLink = document.createElement('div');\n",
              "          docLink.innerHTML = docLinkHtml;\n",
              "          element.appendChild(docLink);\n",
              "        }\n",
              "      </script>\n",
              "    </div>\n",
              "  </div>\n",
              "  "
            ]
          },
          "metadata": {},
          "execution_count": 5
        }
      ]
    },
    {
      "cell_type": "code",
      "source": [
        "df.tail(10)"
      ],
      "metadata": {
        "colab": {
          "base_uri": "https://localhost:8080/",
          "height": 493
        },
        "id": "KF0UZ0bjOf1v",
        "outputId": "f754fd81-78c3-4ad7-a98d-7e38fccc085a"
      },
      "id": "KF0UZ0bjOf1v",
      "execution_count": null,
      "outputs": [
        {
          "output_type": "execute_result",
          "data": {
            "text/plain": [
              "               sobreviveu  classe_bilhete genero  idade  \\\n",
              "id_passageiro                                             \n",
              "882                 False               3      M   33.0   \n",
              "883                 False               3      F   22.0   \n",
              "884                 False               2      M   28.0   \n",
              "885                 False               3      M   25.0   \n",
              "886                 False               3      F   39.0   \n",
              "887                 False               2      M   27.0   \n",
              "888                  True               1      F   19.0   \n",
              "889                 False               3      F    NaN   \n",
              "890                  True               1      M   26.0   \n",
              "891                 False               3      M   32.0   \n",
              "\n",
              "               irmaos_conjuges_abordo  pais_filhos_abordo    numero_bilhete  \\\n",
              "id_passageiro                                                                 \n",
              "882                                 0                   0            349257   \n",
              "883                                 0                   0              7552   \n",
              "884                                 0                   0  C.A./SOTON 34068   \n",
              "885                                 0                   0   SOTON/OQ 392076   \n",
              "886                                 0                   5            382652   \n",
              "887                                 0                   0            211536   \n",
              "888                                 0                   0            112053   \n",
              "889                                 1                   2        W./C. 6607   \n",
              "890                                 0                   0            111369   \n",
              "891                                 0                   0            370376   \n",
              "\n",
              "               preco_bilhete cabine_numero local_embarque  \n",
              "id_passageiro                                              \n",
              "882                   7.8958           NaN    Southampton  \n",
              "883                  10.5167           NaN    Southampton  \n",
              "884                  10.5000           NaN    Southampton  \n",
              "885                   7.0500           NaN    Southampton  \n",
              "886                  29.1250           NaN     Queenstown  \n",
              "887                  13.0000           NaN    Southampton  \n",
              "888                  30.0000           B42    Southampton  \n",
              "889                  23.4500           NaN    Southampton  \n",
              "890                  30.0000          C148      Cherbourg  \n",
              "891                   7.7500           NaN     Queenstown  "
            ],
            "text/html": [
              "\n",
              "  <div id=\"df-6e26b32b-acc6-40e3-88d2-0560789f7eab\">\n",
              "    <div class=\"colab-df-container\">\n",
              "      <div>\n",
              "<style scoped>\n",
              "    .dataframe tbody tr th:only-of-type {\n",
              "        vertical-align: middle;\n",
              "    }\n",
              "\n",
              "    .dataframe tbody tr th {\n",
              "        vertical-align: top;\n",
              "    }\n",
              "\n",
              "    .dataframe thead th {\n",
              "        text-align: right;\n",
              "    }\n",
              "</style>\n",
              "<table border=\"1\" class=\"dataframe\">\n",
              "  <thead>\n",
              "    <tr style=\"text-align: right;\">\n",
              "      <th></th>\n",
              "      <th>sobreviveu</th>\n",
              "      <th>classe_bilhete</th>\n",
              "      <th>genero</th>\n",
              "      <th>idade</th>\n",
              "      <th>irmaos_conjuges_abordo</th>\n",
              "      <th>pais_filhos_abordo</th>\n",
              "      <th>numero_bilhete</th>\n",
              "      <th>preco_bilhete</th>\n",
              "      <th>cabine_numero</th>\n",
              "      <th>local_embarque</th>\n",
              "    </tr>\n",
              "    <tr>\n",
              "      <th>id_passageiro</th>\n",
              "      <th></th>\n",
              "      <th></th>\n",
              "      <th></th>\n",
              "      <th></th>\n",
              "      <th></th>\n",
              "      <th></th>\n",
              "      <th></th>\n",
              "      <th></th>\n",
              "      <th></th>\n",
              "      <th></th>\n",
              "    </tr>\n",
              "  </thead>\n",
              "  <tbody>\n",
              "    <tr>\n",
              "      <th>882</th>\n",
              "      <td>False</td>\n",
              "      <td>3</td>\n",
              "      <td>M</td>\n",
              "      <td>33.0</td>\n",
              "      <td>0</td>\n",
              "      <td>0</td>\n",
              "      <td>349257</td>\n",
              "      <td>7.8958</td>\n",
              "      <td>NaN</td>\n",
              "      <td>Southampton</td>\n",
              "    </tr>\n",
              "    <tr>\n",
              "      <th>883</th>\n",
              "      <td>False</td>\n",
              "      <td>3</td>\n",
              "      <td>F</td>\n",
              "      <td>22.0</td>\n",
              "      <td>0</td>\n",
              "      <td>0</td>\n",
              "      <td>7552</td>\n",
              "      <td>10.5167</td>\n",
              "      <td>NaN</td>\n",
              "      <td>Southampton</td>\n",
              "    </tr>\n",
              "    <tr>\n",
              "      <th>884</th>\n",
              "      <td>False</td>\n",
              "      <td>2</td>\n",
              "      <td>M</td>\n",
              "      <td>28.0</td>\n",
              "      <td>0</td>\n",
              "      <td>0</td>\n",
              "      <td>C.A./SOTON 34068</td>\n",
              "      <td>10.5000</td>\n",
              "      <td>NaN</td>\n",
              "      <td>Southampton</td>\n",
              "    </tr>\n",
              "    <tr>\n",
              "      <th>885</th>\n",
              "      <td>False</td>\n",
              "      <td>3</td>\n",
              "      <td>M</td>\n",
              "      <td>25.0</td>\n",
              "      <td>0</td>\n",
              "      <td>0</td>\n",
              "      <td>SOTON/OQ 392076</td>\n",
              "      <td>7.0500</td>\n",
              "      <td>NaN</td>\n",
              "      <td>Southampton</td>\n",
              "    </tr>\n",
              "    <tr>\n",
              "      <th>886</th>\n",
              "      <td>False</td>\n",
              "      <td>3</td>\n",
              "      <td>F</td>\n",
              "      <td>39.0</td>\n",
              "      <td>0</td>\n",
              "      <td>5</td>\n",
              "      <td>382652</td>\n",
              "      <td>29.1250</td>\n",
              "      <td>NaN</td>\n",
              "      <td>Queenstown</td>\n",
              "    </tr>\n",
              "    <tr>\n",
              "      <th>887</th>\n",
              "      <td>False</td>\n",
              "      <td>2</td>\n",
              "      <td>M</td>\n",
              "      <td>27.0</td>\n",
              "      <td>0</td>\n",
              "      <td>0</td>\n",
              "      <td>211536</td>\n",
              "      <td>13.0000</td>\n",
              "      <td>NaN</td>\n",
              "      <td>Southampton</td>\n",
              "    </tr>\n",
              "    <tr>\n",
              "      <th>888</th>\n",
              "      <td>True</td>\n",
              "      <td>1</td>\n",
              "      <td>F</td>\n",
              "      <td>19.0</td>\n",
              "      <td>0</td>\n",
              "      <td>0</td>\n",
              "      <td>112053</td>\n",
              "      <td>30.0000</td>\n",
              "      <td>B42</td>\n",
              "      <td>Southampton</td>\n",
              "    </tr>\n",
              "    <tr>\n",
              "      <th>889</th>\n",
              "      <td>False</td>\n",
              "      <td>3</td>\n",
              "      <td>F</td>\n",
              "      <td>NaN</td>\n",
              "      <td>1</td>\n",
              "      <td>2</td>\n",
              "      <td>W./C. 6607</td>\n",
              "      <td>23.4500</td>\n",
              "      <td>NaN</td>\n",
              "      <td>Southampton</td>\n",
              "    </tr>\n",
              "    <tr>\n",
              "      <th>890</th>\n",
              "      <td>True</td>\n",
              "      <td>1</td>\n",
              "      <td>M</td>\n",
              "      <td>26.0</td>\n",
              "      <td>0</td>\n",
              "      <td>0</td>\n",
              "      <td>111369</td>\n",
              "      <td>30.0000</td>\n",
              "      <td>C148</td>\n",
              "      <td>Cherbourg</td>\n",
              "    </tr>\n",
              "    <tr>\n",
              "      <th>891</th>\n",
              "      <td>False</td>\n",
              "      <td>3</td>\n",
              "      <td>M</td>\n",
              "      <td>32.0</td>\n",
              "      <td>0</td>\n",
              "      <td>0</td>\n",
              "      <td>370376</td>\n",
              "      <td>7.7500</td>\n",
              "      <td>NaN</td>\n",
              "      <td>Queenstown</td>\n",
              "    </tr>\n",
              "  </tbody>\n",
              "</table>\n",
              "</div>\n",
              "      <button class=\"colab-df-convert\" onclick=\"convertToInteractive('df-6e26b32b-acc6-40e3-88d2-0560789f7eab')\"\n",
              "              title=\"Convert this dataframe to an interactive table.\"\n",
              "              style=\"display:none;\">\n",
              "        \n",
              "  <svg xmlns=\"http://www.w3.org/2000/svg\" height=\"24px\"viewBox=\"0 0 24 24\"\n",
              "       width=\"24px\">\n",
              "    <path d=\"M0 0h24v24H0V0z\" fill=\"none\"/>\n",
              "    <path d=\"M18.56 5.44l.94 2.06.94-2.06 2.06-.94-2.06-.94-.94-2.06-.94 2.06-2.06.94zm-11 1L8.5 8.5l.94-2.06 2.06-.94-2.06-.94L8.5 2.5l-.94 2.06-2.06.94zm10 10l.94 2.06.94-2.06 2.06-.94-2.06-.94-.94-2.06-.94 2.06-2.06.94z\"/><path d=\"M17.41 7.96l-1.37-1.37c-.4-.4-.92-.59-1.43-.59-.52 0-1.04.2-1.43.59L10.3 9.45l-7.72 7.72c-.78.78-.78 2.05 0 2.83L4 21.41c.39.39.9.59 1.41.59.51 0 1.02-.2 1.41-.59l7.78-7.78 2.81-2.81c.8-.78.8-2.07 0-2.86zM5.41 20L4 18.59l7.72-7.72 1.47 1.35L5.41 20z\"/>\n",
              "  </svg>\n",
              "      </button>\n",
              "      \n",
              "  <style>\n",
              "    .colab-df-container {\n",
              "      display:flex;\n",
              "      flex-wrap:wrap;\n",
              "      gap: 12px;\n",
              "    }\n",
              "\n",
              "    .colab-df-convert {\n",
              "      background-color: #E8F0FE;\n",
              "      border: none;\n",
              "      border-radius: 50%;\n",
              "      cursor: pointer;\n",
              "      display: none;\n",
              "      fill: #1967D2;\n",
              "      height: 32px;\n",
              "      padding: 0 0 0 0;\n",
              "      width: 32px;\n",
              "    }\n",
              "\n",
              "    .colab-df-convert:hover {\n",
              "      background-color: #E2EBFA;\n",
              "      box-shadow: 0px 1px 2px rgba(60, 64, 67, 0.3), 0px 1px 3px 1px rgba(60, 64, 67, 0.15);\n",
              "      fill: #174EA6;\n",
              "    }\n",
              "\n",
              "    [theme=dark] .colab-df-convert {\n",
              "      background-color: #3B4455;\n",
              "      fill: #D2E3FC;\n",
              "    }\n",
              "\n",
              "    [theme=dark] .colab-df-convert:hover {\n",
              "      background-color: #434B5C;\n",
              "      box-shadow: 0px 1px 3px 1px rgba(0, 0, 0, 0.15);\n",
              "      filter: drop-shadow(0px 1px 2px rgba(0, 0, 0, 0.3));\n",
              "      fill: #FFFFFF;\n",
              "    }\n",
              "  </style>\n",
              "\n",
              "      <script>\n",
              "        const buttonEl =\n",
              "          document.querySelector('#df-6e26b32b-acc6-40e3-88d2-0560789f7eab button.colab-df-convert');\n",
              "        buttonEl.style.display =\n",
              "          google.colab.kernel.accessAllowed ? 'block' : 'none';\n",
              "\n",
              "        async function convertToInteractive(key) {\n",
              "          const element = document.querySelector('#df-6e26b32b-acc6-40e3-88d2-0560789f7eab');\n",
              "          const dataTable =\n",
              "            await google.colab.kernel.invokeFunction('convertToInteractive',\n",
              "                                                     [key], {});\n",
              "          if (!dataTable) return;\n",
              "\n",
              "          const docLinkHtml = 'Like what you see? Visit the ' +\n",
              "            '<a target=\"_blank\" href=https://colab.research.google.com/notebooks/data_table.ipynb>data table notebook</a>'\n",
              "            + ' to learn more about interactive tables.';\n",
              "          element.innerHTML = '';\n",
              "          dataTable['output_type'] = 'display_data';\n",
              "          await google.colab.output.renderOutput(dataTable, element);\n",
              "          const docLink = document.createElement('div');\n",
              "          docLink.innerHTML = docLinkHtml;\n",
              "          element.appendChild(docLink);\n",
              "        }\n",
              "      </script>\n",
              "    </div>\n",
              "  </div>\n",
              "  "
            ]
          },
          "metadata": {},
          "execution_count": 6
        }
      ]
    },
    {
      "cell_type": "code",
      "source": [
        "df.count()"
      ],
      "metadata": {
        "colab": {
          "base_uri": "https://localhost:8080/"
        },
        "id": "3dwKgAm0OygE",
        "outputId": "15308275-8474-4bee-f03e-abc6b6d410ff"
      },
      "id": "3dwKgAm0OygE",
      "execution_count": null,
      "outputs": [
        {
          "output_type": "execute_result",
          "data": {
            "text/plain": [
              "sobreviveu                891\n",
              "classe_bilhete            891\n",
              "genero                    891\n",
              "idade                     714\n",
              "irmaos_conjuges_abordo    891\n",
              "pais_filhos_abordo        891\n",
              "numero_bilhete            891\n",
              "preco_bilhete             891\n",
              "cabine_numero             204\n",
              "local_embarque            889\n",
              "dtype: int64"
            ]
          },
          "metadata": {},
          "execution_count": 7
        }
      ]
    },
    {
      "cell_type": "code",
      "source": [
        "df.info()"
      ],
      "metadata": {
        "id": "IoLMGera8pM1",
        "colab": {
          "base_uri": "https://localhost:8080/"
        },
        "outputId": "0386bb5b-5511-4066-ec97-3c0c2ce8cbcd"
      },
      "id": "IoLMGera8pM1",
      "execution_count": null,
      "outputs": [
        {
          "output_type": "stream",
          "name": "stdout",
          "text": [
            "<class 'pandas.core.frame.DataFrame'>\n",
            "Int64Index: 891 entries, 1 to 891\n",
            "Data columns (total 10 columns):\n",
            " #   Column                  Non-Null Count  Dtype  \n",
            "---  ------                  --------------  -----  \n",
            " 0   sobreviveu              891 non-null    bool   \n",
            " 1   classe_bilhete          891 non-null    int64  \n",
            " 2   genero                  891 non-null    object \n",
            " 3   idade                   714 non-null    float64\n",
            " 4   irmaos_conjuges_abordo  891 non-null    int64  \n",
            " 5   pais_filhos_abordo      891 non-null    int64  \n",
            " 6   numero_bilhete          891 non-null    object \n",
            " 7   preco_bilhete           891 non-null    float64\n",
            " 8   cabine_numero           204 non-null    object \n",
            " 9   local_embarque          889 non-null    object \n",
            "dtypes: bool(1), float64(2), int64(3), object(4)\n",
            "memory usage: 70.5+ KB\n"
          ]
        }
      ]
    },
    {
      "cell_type": "code",
      "source": [
        "df.describe()"
      ],
      "metadata": {
        "id": "N40oo0ZO-IfH",
        "colab": {
          "base_uri": "https://localhost:8080/",
          "height": 300
        },
        "outputId": "70455528-e0f7-401a-ff9a-422da91fc0d7"
      },
      "id": "N40oo0ZO-IfH",
      "execution_count": null,
      "outputs": [
        {
          "output_type": "execute_result",
          "data": {
            "text/plain": [
              "       classe_bilhete       idade  irmaos_conjuges_abordo  pais_filhos_abordo  \\\n",
              "count      891.000000  714.000000              891.000000          891.000000   \n",
              "mean         2.308642   29.699118                0.523008            0.381594   \n",
              "std          0.836071   14.526497                1.102743            0.806057   \n",
              "min          1.000000    0.420000                0.000000            0.000000   \n",
              "25%          2.000000   20.125000                0.000000            0.000000   \n",
              "50%          3.000000   28.000000                0.000000            0.000000   \n",
              "75%          3.000000   38.000000                1.000000            0.000000   \n",
              "max          3.000000   80.000000                8.000000            6.000000   \n",
              "\n",
              "       preco_bilhete  \n",
              "count     891.000000  \n",
              "mean       32.204208  \n",
              "std        49.693429  \n",
              "min         0.000000  \n",
              "25%         7.910400  \n",
              "50%        14.454200  \n",
              "75%        31.000000  \n",
              "max       512.329200  "
            ],
            "text/html": [
              "\n",
              "  <div id=\"df-47b9a33d-a7d3-4846-9acf-399f9c80646e\">\n",
              "    <div class=\"colab-df-container\">\n",
              "      <div>\n",
              "<style scoped>\n",
              "    .dataframe tbody tr th:only-of-type {\n",
              "        vertical-align: middle;\n",
              "    }\n",
              "\n",
              "    .dataframe tbody tr th {\n",
              "        vertical-align: top;\n",
              "    }\n",
              "\n",
              "    .dataframe thead th {\n",
              "        text-align: right;\n",
              "    }\n",
              "</style>\n",
              "<table border=\"1\" class=\"dataframe\">\n",
              "  <thead>\n",
              "    <tr style=\"text-align: right;\">\n",
              "      <th></th>\n",
              "      <th>classe_bilhete</th>\n",
              "      <th>idade</th>\n",
              "      <th>irmaos_conjuges_abordo</th>\n",
              "      <th>pais_filhos_abordo</th>\n",
              "      <th>preco_bilhete</th>\n",
              "    </tr>\n",
              "  </thead>\n",
              "  <tbody>\n",
              "    <tr>\n",
              "      <th>count</th>\n",
              "      <td>891.000000</td>\n",
              "      <td>714.000000</td>\n",
              "      <td>891.000000</td>\n",
              "      <td>891.000000</td>\n",
              "      <td>891.000000</td>\n",
              "    </tr>\n",
              "    <tr>\n",
              "      <th>mean</th>\n",
              "      <td>2.308642</td>\n",
              "      <td>29.699118</td>\n",
              "      <td>0.523008</td>\n",
              "      <td>0.381594</td>\n",
              "      <td>32.204208</td>\n",
              "    </tr>\n",
              "    <tr>\n",
              "      <th>std</th>\n",
              "      <td>0.836071</td>\n",
              "      <td>14.526497</td>\n",
              "      <td>1.102743</td>\n",
              "      <td>0.806057</td>\n",
              "      <td>49.693429</td>\n",
              "    </tr>\n",
              "    <tr>\n",
              "      <th>min</th>\n",
              "      <td>1.000000</td>\n",
              "      <td>0.420000</td>\n",
              "      <td>0.000000</td>\n",
              "      <td>0.000000</td>\n",
              "      <td>0.000000</td>\n",
              "    </tr>\n",
              "    <tr>\n",
              "      <th>25%</th>\n",
              "      <td>2.000000</td>\n",
              "      <td>20.125000</td>\n",
              "      <td>0.000000</td>\n",
              "      <td>0.000000</td>\n",
              "      <td>7.910400</td>\n",
              "    </tr>\n",
              "    <tr>\n",
              "      <th>50%</th>\n",
              "      <td>3.000000</td>\n",
              "      <td>28.000000</td>\n",
              "      <td>0.000000</td>\n",
              "      <td>0.000000</td>\n",
              "      <td>14.454200</td>\n",
              "    </tr>\n",
              "    <tr>\n",
              "      <th>75%</th>\n",
              "      <td>3.000000</td>\n",
              "      <td>38.000000</td>\n",
              "      <td>1.000000</td>\n",
              "      <td>0.000000</td>\n",
              "      <td>31.000000</td>\n",
              "    </tr>\n",
              "    <tr>\n",
              "      <th>max</th>\n",
              "      <td>3.000000</td>\n",
              "      <td>80.000000</td>\n",
              "      <td>8.000000</td>\n",
              "      <td>6.000000</td>\n",
              "      <td>512.329200</td>\n",
              "    </tr>\n",
              "  </tbody>\n",
              "</table>\n",
              "</div>\n",
              "      <button class=\"colab-df-convert\" onclick=\"convertToInteractive('df-47b9a33d-a7d3-4846-9acf-399f9c80646e')\"\n",
              "              title=\"Convert this dataframe to an interactive table.\"\n",
              "              style=\"display:none;\">\n",
              "        \n",
              "  <svg xmlns=\"http://www.w3.org/2000/svg\" height=\"24px\"viewBox=\"0 0 24 24\"\n",
              "       width=\"24px\">\n",
              "    <path d=\"M0 0h24v24H0V0z\" fill=\"none\"/>\n",
              "    <path d=\"M18.56 5.44l.94 2.06.94-2.06 2.06-.94-2.06-.94-.94-2.06-.94 2.06-2.06.94zm-11 1L8.5 8.5l.94-2.06 2.06-.94-2.06-.94L8.5 2.5l-.94 2.06-2.06.94zm10 10l.94 2.06.94-2.06 2.06-.94-2.06-.94-.94-2.06-.94 2.06-2.06.94z\"/><path d=\"M17.41 7.96l-1.37-1.37c-.4-.4-.92-.59-1.43-.59-.52 0-1.04.2-1.43.59L10.3 9.45l-7.72 7.72c-.78.78-.78 2.05 0 2.83L4 21.41c.39.39.9.59 1.41.59.51 0 1.02-.2 1.41-.59l7.78-7.78 2.81-2.81c.8-.78.8-2.07 0-2.86zM5.41 20L4 18.59l7.72-7.72 1.47 1.35L5.41 20z\"/>\n",
              "  </svg>\n",
              "      </button>\n",
              "      \n",
              "  <style>\n",
              "    .colab-df-container {\n",
              "      display:flex;\n",
              "      flex-wrap:wrap;\n",
              "      gap: 12px;\n",
              "    }\n",
              "\n",
              "    .colab-df-convert {\n",
              "      background-color: #E8F0FE;\n",
              "      border: none;\n",
              "      border-radius: 50%;\n",
              "      cursor: pointer;\n",
              "      display: none;\n",
              "      fill: #1967D2;\n",
              "      height: 32px;\n",
              "      padding: 0 0 0 0;\n",
              "      width: 32px;\n",
              "    }\n",
              "\n",
              "    .colab-df-convert:hover {\n",
              "      background-color: #E2EBFA;\n",
              "      box-shadow: 0px 1px 2px rgba(60, 64, 67, 0.3), 0px 1px 3px 1px rgba(60, 64, 67, 0.15);\n",
              "      fill: #174EA6;\n",
              "    }\n",
              "\n",
              "    [theme=dark] .colab-df-convert {\n",
              "      background-color: #3B4455;\n",
              "      fill: #D2E3FC;\n",
              "    }\n",
              "\n",
              "    [theme=dark] .colab-df-convert:hover {\n",
              "      background-color: #434B5C;\n",
              "      box-shadow: 0px 1px 3px 1px rgba(0, 0, 0, 0.15);\n",
              "      filter: drop-shadow(0px 1px 2px rgba(0, 0, 0, 0.3));\n",
              "      fill: #FFFFFF;\n",
              "    }\n",
              "  </style>\n",
              "\n",
              "      <script>\n",
              "        const buttonEl =\n",
              "          document.querySelector('#df-47b9a33d-a7d3-4846-9acf-399f9c80646e button.colab-df-convert');\n",
              "        buttonEl.style.display =\n",
              "          google.colab.kernel.accessAllowed ? 'block' : 'none';\n",
              "\n",
              "        async function convertToInteractive(key) {\n",
              "          const element = document.querySelector('#df-47b9a33d-a7d3-4846-9acf-399f9c80646e');\n",
              "          const dataTable =\n",
              "            await google.colab.kernel.invokeFunction('convertToInteractive',\n",
              "                                                     [key], {});\n",
              "          if (!dataTable) return;\n",
              "\n",
              "          const docLinkHtml = 'Like what you see? Visit the ' +\n",
              "            '<a target=\"_blank\" href=https://colab.research.google.com/notebooks/data_table.ipynb>data table notebook</a>'\n",
              "            + ' to learn more about interactive tables.';\n",
              "          element.innerHTML = '';\n",
              "          dataTable['output_type'] = 'display_data';\n",
              "          await google.colab.output.renderOutput(dataTable, element);\n",
              "          const docLink = document.createElement('div');\n",
              "          docLink.innerHTML = docLinkHtml;\n",
              "          element.appendChild(docLink);\n",
              "        }\n",
              "      </script>\n",
              "    </div>\n",
              "  </div>\n",
              "  "
            ]
          },
          "metadata": {},
          "execution_count": 9
        }
      ]
    },
    {
      "cell_type": "markdown",
      "id": "568d67a8",
      "metadata": {
        "id": "568d67a8"
      },
      "source": [
        "# EDA \n",
        "Aqui vamos iniciar a parte de exploratório, as categorias do DataFrame já foram previamente identificadas, mas nada impede que você faça transformações para estas. Fique livre para identificar novos pontos e trazer para a sua defesa no futuro.\n",
        "\n",
        "Novamente: **Perguntas guias** ou **Perguntas chaves** devem ser respondidas diretamente por você durante a elaboração do notebook, sempre com dados reforçando seus argumentos.\n",
        "\n",
        "\n"
      ]
    },
    {
      "cell_type": "code",
      "execution_count": null,
      "id": "2b4294a6",
      "metadata": {
        "id": "2b4294a6"
      },
      "outputs": [],
      "source": [
        "numerica = [\n",
        "    \"idade\",\n",
        "    \"preco_bilhete\",\n",
        "    \"irmaos_conjuges_abordo\",\n",
        "    \"pais_filhos_abordo\",\n",
        "]\n",
        "\n",
        "categorica = [\n",
        "    \"classe_bilhete\",\n",
        "    \"genero\",\n",
        "    \"numero_bilhete\",\n",
        "    \"cabine_numero\",\n",
        "    \"local_embarque\",\n",
        "    \"sobreviveu\",\n",
        "]"
      ]
    },
    {
      "cell_type": "markdown",
      "id": "e77f5e6c",
      "metadata": {
        "id": "e77f5e6c"
      },
      "source": [
        "##  Visualize e entenda todas as colunas numéricas.\n",
        "#### Perguntas guias para as categorias númerias:\n",
        "- Existem dados faltantes no seu conjunto?\n",
        "- Quais as suas distribuições?\n",
        "- Temos outliers neste subconjunto? (utilize a definição numérica de outliers apresentado na trilha para fazer essa verificação)\n",
        "- Existe alguma correlação entre essas variáveis numéricas? (não precisa olhar para outras categorias no momento)\n",
        "\n",
        "\n"
      ]
    },
    {
      "cell_type": "markdown",
      "source": [
        "Distribuição das variáveis numéricas:"
      ],
      "metadata": {
        "id": "j5YhuXsWJCkS"
      },
      "id": "j5YhuXsWJCkS"
    },
    {
      "cell_type": "code",
      "source": [
        "print(df.columns)"
      ],
      "metadata": {
        "colab": {
          "base_uri": "https://localhost:8080/"
        },
        "id": "ZFRFncXaJpx-",
        "outputId": "e03c19c0-4044-4da1-f6fe-53b52ea3c040"
      },
      "id": "ZFRFncXaJpx-",
      "execution_count": null,
      "outputs": [
        {
          "output_type": "stream",
          "name": "stdout",
          "text": [
            "Index(['sobreviveu', 'classe_bilhete', 'genero', 'idade',\n",
            "       'irmaos_conjuges_abordo', 'pais_filhos_abordo', 'numero_bilhete',\n",
            "       'preco_bilhete', 'cabine_numero', 'local_embarque'],\n",
            "      dtype='object')\n"
          ]
        }
      ]
    },
    {
      "cell_type": "code",
      "source": [
        "from matplotlib import pyplot as plt\n",
        "fig, axes = plt.subplots(1, 2, figsize=(30, 8), sharey=True)\n",
        "fig.suptitle('Discrete variable distribution')\n",
        "sns.histplot(ax=axes[0], data=df, x=\"idade\")\n",
        "sns.histplot(ax=axes[1], data=df, x=\"preco_bilhete\")\n",
        "\n"
      ],
      "metadata": {
        "colab": {
          "base_uri": "https://localhost:8080/",
          "height": 395
        },
        "id": "W9uxpQGrJBB9",
        "outputId": "ac49acec-9a3e-48be-aff0-965e2f77d2cb"
      },
      "id": "W9uxpQGrJBB9",
      "execution_count": null,
      "outputs": [
        {
          "output_type": "execute_result",
          "data": {
            "text/plain": [
              "<AxesSubplot:xlabel='preco_bilhete', ylabel='Count'>"
            ]
          },
          "metadata": {},
          "execution_count": 12
        },
        {
          "output_type": "display_data",
          "data": {
            "text/plain": [
              "<Figure size 2160x576 with 2 Axes>"
            ],
            "image/png": "[encoded data removed]"
          },
          "metadata": {
            "needs_background": "light"
          }
        }
      ]
    },
    {
      "cell_type": "code",
      "source": [
        "fig, axes = plt.subplots(1, 2, figsize=(30, 6), sharey=True)\n",
        "fig.suptitle('Discrete variable distribution')\n",
        "sns.histplot(ax=axes[0], data=df, x=\"irmaos_conjuges_abordo\")\n",
        "sns.histplot(ax=axes[1], data=df, x=\"pais_filhos_abordo\")"
      ],
      "metadata": {
        "colab": {
          "base_uri": "https://localhost:8080/",
          "height": 313
        },
        "id": "Z5r9fv54O6r2",
        "outputId": "27b3255e-680e-46ff-bfb2-c4a77e59ee67"
      },
      "id": "Z5r9fv54O6r2",
      "execution_count": null,
      "outputs": [
        {
          "output_type": "execute_result",
          "data": {
            "text/plain": [
              "<AxesSubplot:xlabel='pais_filhos_abordo', ylabel='Count'>"
            ]
          },
          "metadata": {},
          "execution_count": 13
        },
        {
          "output_type": "display_data",
          "data": {
            "text/plain": [
              "<Figure size 2160x432 with 2 Axes>"
            ],
            "image/png": "[encoded data removed]"
          },
          "metadata": {
            "needs_background": "light"
          }
        }
      ]
    },
    {
      "cell_type": "markdown",
      "source": [
        "Abaixo criamos uma função que determina se existem valores nulos (dados faltantes) ou não  e quais e quantos são eles (suas distribuições):"
      ],
      "metadata": {
        "id": "iG2xqDF7Uj28"
      },
      "id": "iG2xqDF7Uj28"
    },
    {
      "cell_type": "code",
      "source": [
        "def enulo(x):\n",
        "  for item in x:\n",
        "    if df[item].isna().any():\n",
        "      valor = df[item].isna().sum()\n",
        "      print(\"Na coluna\", item, \"HÁ\", valor, \"valores nulos.\\n\")\n",
        "    else:\n",
        "      print(\"Na coluna\", item, \"NÃO há valores nulos.\\n\")\n"
      ],
      "metadata": {
        "id": "bH8ItYo6DjCB"
      },
      "id": "bH8ItYo6DjCB",
      "execution_count": null,
      "outputs": []
    },
    {
      "cell_type": "markdown",
      "source": [
        "Criamos também uma função que apresenta um resumo dos valores nulos:"
      ],
      "metadata": {
        "id": "Hv8P2c0Fae3h"
      },
      "id": "Hv8P2c0Fae3h"
    },
    {
      "cell_type": "code",
      "source": [
        "def nullsummary(x):\n",
        "  for item in x:\n",
        "    if df[item].isna().any():\n",
        "      valor = df[item].isna().sum()\n",
        "      print(item, \":\", valor, \"valores nulos.\\n\")\n",
        "    else:\n",
        "       print(item, \":\", \"0 valores nulos.\\n\")"
      ],
      "metadata": {
        "id": "cbAe2sNqWBnX"
      },
      "id": "cbAe2sNqWBnX",
      "execution_count": null,
      "outputs": []
    },
    {
      "cell_type": "markdown",
      "source": [
        "Criamos, ainda, uma função para determinar a sobrevivência de acordo com cada variável:"
      ],
      "metadata": {
        "id": "lPXXktvc8vHp"
      },
      "id": "lPXXktvc8vHp"
    },
    {
      "cell_type": "code",
      "source": [
        "def titanic_cor(data, column, count= True):\n",
        "  print(f'Quantidade por opção: \\n{data[column].value_counts()}')\n",
        "  if count == True:\n",
        "    sns.countplot(data = data, x = column, hue = 'sobreviveu')\n",
        "  else:\n",
        "    sns.distplot(data[column], kde = True)"
      ],
      "metadata": {
        "id": "zXHXo3yu8uCN"
      },
      "id": "zXHXo3yu8uCN",
      "execution_count": null,
      "outputs": []
    },
    {
      "cell_type": "markdown",
      "source": [
        "A seguir apresentamos quais colunas de valores numéricos apresentam valores nulos (dados faltantes):"
      ],
      "metadata": {
        "id": "oq9qJ91janhr"
      },
      "id": "oq9qJ91janhr"
    },
    {
      "cell_type": "code",
      "source": [
        "enulo(numerica)"
      ],
      "metadata": {
        "id": "C1b6Jf7xD9cK",
        "colab": {
          "base_uri": "https://localhost:8080/"
        },
        "outputId": "f5e1cb5f-a7d5-46ea-ddb8-2376aad727bb"
      },
      "id": "C1b6Jf7xD9cK",
      "execution_count": null,
      "outputs": [
        {
          "output_type": "stream",
          "name": "stdout",
          "text": [
            "Na coluna idade HÁ 177 valores nulos.\n",
            "\n",
            "Na coluna preco_bilhete NÃO há valores nulos.\n",
            "\n",
            "Na coluna irmaos_conjuges_abordo NÃO há valores nulos.\n",
            "\n",
            "Na coluna pais_filhos_abordo NÃO há valores nulos.\n",
            "\n"
          ]
        }
      ]
    },
    {
      "cell_type": "markdown",
      "source": [
        "Resumo dos valores nulos da parte numérica do dataset:"
      ],
      "metadata": {
        "id": "qt5pAIk9WdiJ"
      },
      "id": "qt5pAIk9WdiJ"
    },
    {
      "cell_type": "code",
      "source": [
        "print(\"Resumo dos valores nulos da parte numérica do dataset:\\n\")\n",
        "nullsummary(numerica)"
      ],
      "metadata": {
        "id": "WDFEfmT5WT4O",
        "colab": {
          "base_uri": "https://localhost:8080/"
        },
        "outputId": "93ec3c5c-fd9d-46b1-858e-3543b20a894d"
      },
      "id": "WDFEfmT5WT4O",
      "execution_count": null,
      "outputs": [
        {
          "output_type": "stream",
          "name": "stdout",
          "text": [
            "Resumo dos valores nulos da parte numérica do dataset:\n",
            "\n",
            "idade : 177 valores nulos.\n",
            "\n",
            "preco_bilhete : 0 valores nulos.\n",
            "\n",
            "irmaos_conjuges_abordo : 0 valores nulos.\n",
            "\n",
            "pais_filhos_abordo : 0 valores nulos.\n",
            "\n"
          ]
        }
      ]
    },
    {
      "cell_type": "markdown",
      "source": [
        "Detectando outliers - usaremos boxplots e as definições de zscore:"
      ],
      "metadata": {
        "id": "mkzHwEbneYno"
      },
      "id": "mkzHwEbneYno"
    },
    {
      "cell_type": "code",
      "source": [
        "#Criando um dataset apenas com as variáveis numéricas:\n",
        "df_num = df[['idade','preco_bilhete','irmaos_conjuges_abordo','pais_filhos_abordo']]\n"
      ],
      "metadata": {
        "id": "WiCtLkOikNJy"
      },
      "id": "WiCtLkOikNJy",
      "execution_count": null,
      "outputs": []
    },
    {
      "cell_type": "markdown",
      "source": [
        "Plotando os outliers de todas as colunas de variáveis numéricas:"
      ],
      "metadata": {
        "id": "merFi_grwGGm"
      },
      "id": "merFi_grwGGm"
    },
    {
      "cell_type": "code",
      "source": [
        "sns.boxplot(df_num['idade'],data=df_num)\n"
      ],
      "metadata": {
        "colab": {
          "base_uri": "https://localhost:8080/",
          "height": 351
        },
        "id": "VrmC1cH1wA_7",
        "outputId": "0935d3ce-b942-4d00-a537-de714bab01de"
      },
      "id": "VrmC1cH1wA_7",
      "execution_count": null,
      "outputs": [
        {
          "output_type": "stream",
          "name": "stderr",
          "text": [
            "/usr/local/lib/python3.7/dist-packages/seaborn/_decorators.py:43: FutureWarning: Pass the following variable as a keyword arg: x. From version 0.12, the only valid positional argument will be `data`, and passing other arguments without an explicit keyword will result in an error or misinterpretation.\n",
            "  FutureWarning\n"
          ]
        },
        {
          "output_type": "execute_result",
          "data": {
            "text/plain": [
              "<AxesSubplot:xlabel='idade'>"
            ]
          },
          "metadata": {},
          "execution_count": 20
        },
        {
          "output_type": "display_data",
          "data": {
            "text/plain": [
              "<Figure size 432x288 with 1 Axes>"
            ],
            "image/png": "[encoded data removed]"
          },
          "metadata": {
            "needs_background": "light"
          }
        }
      ]
    },
    {
      "cell_type": "code",
      "source": [
        "df_num.idade.mean()"
      ],
      "metadata": {
        "colab": {
          "base_uri": "https://localhost:8080/"
        },
        "id": "wyQdePn0s-ey",
        "outputId": "322a9fcc-d4b4-4632-df4b-1f2f54da1692"
      },
      "id": "wyQdePn0s-ey",
      "execution_count": null,
      "outputs": [
        {
          "output_type": "execute_result",
          "data": {
            "text/plain": [
              "29.69911764705882"
            ]
          },
          "metadata": {},
          "execution_count": 21
        }
      ]
    },
    {
      "cell_type": "code",
      "source": [
        "df_num.idade.std()"
      ],
      "metadata": {
        "colab": {
          "base_uri": "https://localhost:8080/"
        },
        "id": "LxZBJ6mytHA1",
        "outputId": "40fbff09-bbd7-403e-8eb0-46c951c51a41"
      },
      "id": "LxZBJ6mytHA1",
      "execution_count": null,
      "outputs": [
        {
          "output_type": "execute_result",
          "data": {
            "text/plain": [
              "14.526497332334042"
            ]
          },
          "metadata": {},
          "execution_count": 22
        }
      ]
    },
    {
      "cell_type": "code",
      "source": [
        "limite_superior_idade = df_num.idade.mean() + 3*df_num.idade.std()\n",
        "limite_superior_idade"
      ],
      "metadata": {
        "colab": {
          "base_uri": "https://localhost:8080/"
        },
        "id": "fkjU7KTrtLY6",
        "outputId": "d3ae6543-4cf5-4307-aa93-7f041a66f72d"
      },
      "id": "fkjU7KTrtLY6",
      "execution_count": null,
      "outputs": [
        {
          "output_type": "execute_result",
          "data": {
            "text/plain": [
              "73.27860964406094"
            ]
          },
          "metadata": {},
          "execution_count": 23
        }
      ]
    },
    {
      "cell_type": "code",
      "source": [
        "limite_inferior_idade = df_num.idade.mean() - 3*df_num.idade.std()\n",
        "limite_inferior_idade\n"
      ],
      "metadata": {
        "colab": {
          "base_uri": "https://localhost:8080/"
        },
        "id": "HclhUp_mtW7O",
        "outputId": "1201e859-641e-4407-aff6-9b6dc331f524"
      },
      "id": "HclhUp_mtW7O",
      "execution_count": null,
      "outputs": [
        {
          "output_type": "execute_result",
          "data": {
            "text/plain": [
              "-13.880374349943303"
            ]
          },
          "metadata": {},
          "execution_count": 24
        }
      ]
    },
    {
      "cell_type": "code",
      "source": [
        "df_num[(df.idade > limite_superior_idade) | (df.idade < limite_inferior_idade)]"
      ],
      "metadata": {
        "colab": {
          "base_uri": "https://localhost:8080/",
          "height": 143
        },
        "id": "gljATLs7tiR8",
        "outputId": "577736c9-9d67-4272-ae06-dd5273cc79af"
      },
      "id": "gljATLs7tiR8",
      "execution_count": null,
      "outputs": [
        {
          "output_type": "execute_result",
          "data": {
            "text/plain": [
              "               idade  preco_bilhete  irmaos_conjuges_abordo  \\\n",
              "id_passageiro                                                 \n",
              "631             80.0         30.000                       0   \n",
              "852             74.0          7.775                       0   \n",
              "\n",
              "               pais_filhos_abordo  \n",
              "id_passageiro                      \n",
              "631                             0  \n",
              "852                             0  "
            ],
            "text/html": [
              "\n",
              "  <div id=\"df-4cb7725d-1fe1-486f-bd8c-a14925ed91f7\">\n",
              "    <div class=\"colab-df-container\">\n",
              "      <div>\n",
              "<style scoped>\n",
              "    .dataframe tbody tr th:only-of-type {\n",
              "        vertical-align: middle;\n",
              "    }\n",
              "\n",
              "    .dataframe tbody tr th {\n",
              "        vertical-align: top;\n",
              "    }\n",
              "\n",
              "    .dataframe thead th {\n",
              "        text-align: right;\n",
              "    }\n",
              "</style>\n",
              "<table border=\"1\" class=\"dataframe\">\n",
              "  <thead>\n",
              "    <tr style=\"text-align: right;\">\n",
              "      <th></th>\n",
              "      <th>idade</th>\n",
              "      <th>preco_bilhete</th>\n",
              "      <th>irmaos_conjuges_abordo</th>\n",
              "      <th>pais_filhos_abordo</th>\n",
              "    </tr>\n",
              "    <tr>\n",
              "      <th>id_passageiro</th>\n",
              "      <th></th>\n",
              "      <th></th>\n",
              "      <th></th>\n",
              "      <th></th>\n",
              "    </tr>\n",
              "  </thead>\n",
              "  <tbody>\n",
              "    <tr>\n",
              "      <th>631</th>\n",
              "      <td>80.0</td>\n",
              "      <td>30.000</td>\n",
              "      <td>0</td>\n",
              "      <td>0</td>\n",
              "    </tr>\n",
              "    <tr>\n",
              "      <th>852</th>\n",
              "      <td>74.0</td>\n",
              "      <td>7.775</td>\n",
              "      <td>0</td>\n",
              "      <td>0</td>\n",
              "    </tr>\n",
              "  </tbody>\n",
              "</table>\n",
              "</div>\n",
              "      <button class=\"colab-df-convert\" onclick=\"convertToInteractive('df-4cb7725d-1fe1-486f-bd8c-a14925ed91f7')\"\n",
              "              title=\"Convert this dataframe to an interactive table.\"\n",
              "              style=\"display:none;\">\n",
              "        \n",
              "  <svg xmlns=\"http://www.w3.org/2000/svg\" height=\"24px\"viewBox=\"0 0 24 24\"\n",
              "       width=\"24px\">\n",
              "    <path d=\"M0 0h24v24H0V0z\" fill=\"none\"/>\n",
              "    <path d=\"M18.56 5.44l.94 2.06.94-2.06 2.06-.94-2.06-.94-.94-2.06-.94 2.06-2.06.94zm-11 1L8.5 8.5l.94-2.06 2.06-.94-2.06-.94L8.5 2.5l-.94 2.06-2.06.94zm10 10l.94 2.06.94-2.06 2.06-.94-2.06-.94-.94-2.06-.94 2.06-2.06.94z\"/><path d=\"M17.41 7.96l-1.37-1.37c-.4-.4-.92-.59-1.43-.59-.52 0-1.04.2-1.43.59L10.3 9.45l-7.72 7.72c-.78.78-.78 2.05 0 2.83L4 21.41c.39.39.9.59 1.41.59.51 0 1.02-.2 1.41-.59l7.78-7.78 2.81-2.81c.8-.78.8-2.07 0-2.86zM5.41 20L4 18.59l7.72-7.72 1.47 1.35L5.41 20z\"/>\n",
              "  </svg>\n",
              "      </button>\n",
              "      \n",
              "  <style>\n",
              "    .colab-df-container {\n",
              "      display:flex;\n",
              "      flex-wrap:wrap;\n",
              "      gap: 12px;\n",
              "    }\n",
              "\n",
              "    .colab-df-convert {\n",
              "      background-color: #E8F0FE;\n",
              "      border: none;\n",
              "      border-radius: 50%;\n",
              "      cursor: pointer;\n",
              "      display: none;\n",
              "      fill: #1967D2;\n",
              "      height: 32px;\n",
              "      padding: 0 0 0 0;\n",
              "      width: 32px;\n",
              "    }\n",
              "\n",
              "    .colab-df-convert:hover {\n",
              "      background-color: #E2EBFA;\n",
              "      box-shadow: 0px 1px 2px rgba(60, 64, 67, 0.3), 0px 1px 3px 1px rgba(60, 64, 67, 0.15);\n",
              "      fill: #174EA6;\n",
              "    }\n",
              "\n",
              "    [theme=dark] .colab-df-convert {\n",
              "      background-color: #3B4455;\n",
              "      fill: #D2E3FC;\n",
              "    }\n",
              "\n",
              "    [theme=dark] .colab-df-convert:hover {\n",
              "      background-color: #434B5C;\n",
              "      box-shadow: 0px 1px 3px 1px rgba(0, 0, 0, 0.15);\n",
              "      filter: drop-shadow(0px 1px 2px rgba(0, 0, 0, 0.3));\n",
              "      fill: #FFFFFF;\n",
              "    }\n",
              "  </style>\n",
              "\n",
              "      <script>\n",
              "        const buttonEl =\n",
              "          document.querySelector('#df-4cb7725d-1fe1-486f-bd8c-a14925ed91f7 button.colab-df-convert');\n",
              "        buttonEl.style.display =\n",
              "          google.colab.kernel.accessAllowed ? 'block' : 'none';\n",
              "\n",
              "        async function convertToInteractive(key) {\n",
              "          const element = document.querySelector('#df-4cb7725d-1fe1-486f-bd8c-a14925ed91f7');\n",
              "          const dataTable =\n",
              "            await google.colab.kernel.invokeFunction('convertToInteractive',\n",
              "                                                     [key], {});\n",
              "          if (!dataTable) return;\n",
              "\n",
              "          const docLinkHtml = 'Like what you see? Visit the ' +\n",
              "            '<a target=\"_blank\" href=https://colab.research.google.com/notebooks/data_table.ipynb>data table notebook</a>'\n",
              "            + ' to learn more about interactive tables.';\n",
              "          element.innerHTML = '';\n",
              "          dataTable['output_type'] = 'display_data';\n",
              "          await google.colab.output.renderOutput(dataTable, element);\n",
              "          const docLink = document.createElement('div');\n",
              "          docLink.innerHTML = docLinkHtml;\n",
              "          element.appendChild(docLink);\n",
              "        }\n",
              "      </script>\n",
              "    </div>\n",
              "  </div>\n",
              "  "
            ]
          },
          "metadata": {},
          "execution_count": 25
        }
      ]
    },
    {
      "cell_type": "code",
      "source": [
        "sns.boxplot(df_num['preco_bilhete'],data=df_num)\n"
      ],
      "metadata": {
        "colab": {
          "base_uri": "https://localhost:8080/",
          "height": 352
        },
        "id": "vUJKxhLUwMwo",
        "outputId": "eb8b4fc9-e0b4-451c-9611-adde78fe2e7a"
      },
      "id": "vUJKxhLUwMwo",
      "execution_count": null,
      "outputs": [
        {
          "output_type": "stream",
          "name": "stderr",
          "text": [
            "/usr/local/lib/python3.7/dist-packages/seaborn/_decorators.py:43: FutureWarning: Pass the following variable as a keyword arg: x. From version 0.12, the only valid positional argument will be `data`, and passing other arguments without an explicit keyword will result in an error or misinterpretation.\n",
            "  FutureWarning\n"
          ]
        },
        {
          "output_type": "execute_result",
          "data": {
            "text/plain": [
              "<AxesSubplot:xlabel='preco_bilhete'>"
            ]
          },
          "metadata": {},
          "execution_count": 26
        },
        {
          "output_type": "display_data",
          "data": {
            "text/plain": [
              "<Figure size 432x288 with 1 Axes>"
            ],
            "image/png": "[encoded data removed]"
          },
          "metadata": {
            "needs_background": "light"
          }
        }
      ]
    },
    {
      "cell_type": "code",
      "source": [
        "df_num.preco_bilhete.mean()"
      ],
      "metadata": {
        "colab": {
          "base_uri": "https://localhost:8080/"
        },
        "id": "vxizb0s_uWQ7",
        "outputId": "8345d816-4554-4118-add3-fa0b0958e433"
      },
      "id": "vxizb0s_uWQ7",
      "execution_count": null,
      "outputs": [
        {
          "output_type": "execute_result",
          "data": {
            "text/plain": [
              "32.204207968574636"
            ]
          },
          "metadata": {},
          "execution_count": 27
        }
      ]
    },
    {
      "cell_type": "code",
      "source": [
        "df_num.preco_bilhete.std()"
      ],
      "metadata": {
        "colab": {
          "base_uri": "https://localhost:8080/"
        },
        "id": "DMSv8FzyuacW",
        "outputId": "85269b20-e9f0-447b-ec11-eefbd4a3650f"
      },
      "id": "DMSv8FzyuacW",
      "execution_count": null,
      "outputs": [
        {
          "output_type": "execute_result",
          "data": {
            "text/plain": [
              "49.6934285971809"
            ]
          },
          "metadata": {},
          "execution_count": 28
        }
      ]
    },
    {
      "cell_type": "code",
      "source": [
        "limite_superior_precobi = df_num.preco_bilhete.mean() + 3*df_num.preco_bilhete.std()\n",
        "limite_superior_precobi"
      ],
      "metadata": {
        "colab": {
          "base_uri": "https://localhost:8080/"
        },
        "id": "1Hong9Fxuedm",
        "outputId": "6db2629d-cd11-4d61-884c-efcc1deb8e60"
      },
      "id": "1Hong9Fxuedm",
      "execution_count": null,
      "outputs": [
        {
          "output_type": "execute_result",
          "data": {
            "text/plain": [
              "181.2844937601173"
            ]
          },
          "metadata": {},
          "execution_count": 29
        }
      ]
    },
    {
      "cell_type": "code",
      "source": [
        "limite_inferior_precobi = df_num.preco_bilhete.mean() - 3*df_num.preco_bilhete.std()\n",
        "limite_inferior_precobi"
      ],
      "metadata": {
        "colab": {
          "base_uri": "https://localhost:8080/"
        },
        "id": "9Elvl6ObunkB",
        "outputId": "52c74bdb-84f3-417e-f9a1-e7e345567b13"
      },
      "id": "9Elvl6ObunkB",
      "execution_count": null,
      "outputs": [
        {
          "output_type": "execute_result",
          "data": {
            "text/plain": [
              "-116.87607782296804"
            ]
          },
          "metadata": {},
          "execution_count": 30
        }
      ]
    },
    {
      "cell_type": "code",
      "source": [
        "df_num[(df.preco_bilhete > limite_superior_precobi) | (df.preco_bilhete < limite_inferior_precobi)]"
      ],
      "metadata": {
        "colab": {
          "base_uri": "https://localhost:8080/",
          "height": 708
        },
        "id": "eoKEy7DquwlS",
        "outputId": "ef9b7422-3445-4a9d-9e15-6514234ce06c"
      },
      "id": "eoKEy7DquwlS",
      "execution_count": null,
      "outputs": [
        {
          "output_type": "execute_result",
          "data": {
            "text/plain": [
              "               idade  preco_bilhete  irmaos_conjuges_abordo  \\\n",
              "id_passageiro                                                 \n",
              "28              19.0       263.0000                       3   \n",
              "89              23.0       263.0000                       3   \n",
              "119             24.0       247.5208                       0   \n",
              "259             35.0       512.3292                       0   \n",
              "300             50.0       247.5208                       0   \n",
              "312             18.0       262.3750                       2   \n",
              "342             24.0       263.0000                       3   \n",
              "378             27.0       211.5000                       0   \n",
              "381             42.0       227.5250                       0   \n",
              "439             64.0       263.0000                       1   \n",
              "528              NaN       221.7792                       0   \n",
              "558              NaN       227.5250                       0   \n",
              "680             36.0       512.3292                       0   \n",
              "690             15.0       211.3375                       0   \n",
              "701             18.0       227.5250                       1   \n",
              "717             38.0       227.5250                       0   \n",
              "731             29.0       211.3375                       0   \n",
              "738             35.0       512.3292                       0   \n",
              "743             21.0       262.3750                       2   \n",
              "780             43.0       211.3375                       0   \n",
              "\n",
              "               pais_filhos_abordo  \n",
              "id_passageiro                      \n",
              "28                              2  \n",
              "89                              2  \n",
              "119                             1  \n",
              "259                             0  \n",
              "300                             1  \n",
              "312                             2  \n",
              "342                             2  \n",
              "378                             2  \n",
              "381                             0  \n",
              "439                             4  \n",
              "528                             0  \n",
              "558                             0  \n",
              "680                             1  \n",
              "690                             1  \n",
              "701                             0  \n",
              "717                             0  \n",
              "731                             0  \n",
              "738                             0  \n",
              "743                             2  \n",
              "780                             1  "
            ],
            "text/html": [
              "\n",
              "  <div id=\"df-c1b2a8a5-a4f8-424f-aaf2-66fd191b6d64\">\n",
              "    <div class=\"colab-df-container\">\n",
              "      <div>\n",
              "<style scoped>\n",
              "    .dataframe tbody tr th:only-of-type {\n",
              "        vertical-align: middle;\n",
              "    }\n",
              "\n",
              "    .dataframe tbody tr th {\n",
              "        vertical-align: top;\n",
              "    }\n",
              "\n",
              "    .dataframe thead th {\n",
              "        text-align: right;\n",
              "    }\n",
              "</style>\n",
              "<table border=\"1\" class=\"dataframe\">\n",
              "  <thead>\n",
              "    <tr style=\"text-align: right;\">\n",
              "      <th></th>\n",
              "      <th>idade</th>\n",
              "      <th>preco_bilhete</th>\n",
              "      <th>irmaos_conjuges_abordo</th>\n",
              "      <th>pais_filhos_abordo</th>\n",
              "    </tr>\n",
              "    <tr>\n",
              "      <th>id_passageiro</th>\n",
              "      <th></th>\n",
              "      <th></th>\n",
              "      <th></th>\n",
              "      <th></th>\n",
              "    </tr>\n",
              "  </thead>\n",
              "  <tbody>\n",
              "    <tr>\n",
              "      <th>28</th>\n",
              "      <td>19.0</td>\n",
              "      <td>263.0000</td>\n",
              "      <td>3</td>\n",
              "      <td>2</td>\n",
              "    </tr>\n",
              "    <tr>\n",
              "      <th>89</th>\n",
              "      <td>23.0</td>\n",
              "      <td>263.0000</td>\n",
              "      <td>3</td>\n",
              "      <td>2</td>\n",
              "    </tr>\n",
              "    <tr>\n",
              "      <th>119</th>\n",
              "      <td>24.0</td>\n",
              "      <td>247.5208</td>\n",
              "      <td>0</td>\n",
              "      <td>1</td>\n",
              "    </tr>\n",
              "    <tr>\n",
              "      <th>259</th>\n",
              "      <td>35.0</td>\n",
              "      <td>512.3292</td>\n",
              "      <td>0</td>\n",
              "      <td>0</td>\n",
              "    </tr>\n",
              "    <tr>\n",
              "      <th>300</th>\n",
              "      <td>50.0</td>\n",
              "      <td>247.5208</td>\n",
              "      <td>0</td>\n",
              "      <td>1</td>\n",
              "    </tr>\n",
              "    <tr>\n",
              "      <th>312</th>\n",
              "      <td>18.0</td>\n",
              "      <td>262.3750</td>\n",
              "      <td>2</td>\n",
              "      <td>2</td>\n",
              "    </tr>\n",
              "    <tr>\n",
              "      <th>342</th>\n",
              "      <td>24.0</td>\n",
              "      <td>263.0000</td>\n",
              "      <td>3</td>\n",
              "      <td>2</td>\n",
              "    </tr>\n",
              "    <tr>\n",
              "      <th>378</th>\n",
              "      <td>27.0</td>\n",
              "      <td>211.5000</td>\n",
              "      <td>0</td>\n",
              "      <td>2</td>\n",
              "    </tr>\n",
              "    <tr>\n",
              "      <th>381</th>\n",
              "      <td>42.0</td>\n",
              "      <td>227.5250</td>\n",
              "      <td>0</td>\n",
              "      <td>0</td>\n",
              "    </tr>\n",
              "    <tr>\n",
              "      <th>439</th>\n",
              "      <td>64.0</td>\n",
              "      <td>263.0000</td>\n",
              "      <td>1</td>\n",
              "      <td>4</td>\n",
              "    </tr>\n",
              "    <tr>\n",
              "      <th>528</th>\n",
              "      <td>NaN</td>\n",
              "      <td>221.7792</td>\n",
              "      <td>0</td>\n",
              "      <td>0</td>\n",
              "    </tr>\n",
              "    <tr>\n",
              "      <th>558</th>\n",
              "      <td>NaN</td>\n",
              "      <td>227.5250</td>\n",
              "      <td>0</td>\n",
              "      <td>0</td>\n",
              "    </tr>\n",
              "    <tr>\n",
              "      <th>680</th>\n",
              "      <td>36.0</td>\n",
              "      <td>512.3292</td>\n",
              "      <td>0</td>\n",
              "      <td>1</td>\n",
              "    </tr>\n",
              "    <tr>\n",
              "      <th>690</th>\n",
              "      <td>15.0</td>\n",
              "      <td>211.3375</td>\n",
              "      <td>0</td>\n",
              "      <td>1</td>\n",
              "    </tr>\n",
              "    <tr>\n",
              "      <th>701</th>\n",
              "      <td>18.0</td>\n",
              "      <td>227.5250</td>\n",
              "      <td>1</td>\n",
              "      <td>0</td>\n",
              "    </tr>\n",
              "    <tr>\n",
              "      <th>717</th>\n",
              "      <td>38.0</td>\n",
              "      <td>227.5250</td>\n",
              "      <td>0</td>\n",
              "      <td>0</td>\n",
              "    </tr>\n",
              "    <tr>\n",
              "      <th>731</th>\n",
              "      <td>29.0</td>\n",
              "      <td>211.3375</td>\n",
              "      <td>0</td>\n",
              "      <td>0</td>\n",
              "    </tr>\n",
              "    <tr>\n",
              "      <th>738</th>\n",
              "      <td>35.0</td>\n",
              "      <td>512.3292</td>\n",
              "      <td>0</td>\n",
              "      <td>0</td>\n",
              "    </tr>\n",
              "    <tr>\n",
              "      <th>743</th>\n",
              "      <td>21.0</td>\n",
              "      <td>262.3750</td>\n",
              "      <td>2</td>\n",
              "      <td>2</td>\n",
              "    </tr>\n",
              "    <tr>\n",
              "      <th>780</th>\n",
              "      <td>43.0</td>\n",
              "      <td>211.3375</td>\n",
              "      <td>0</td>\n",
              "      <td>1</td>\n",
              "    </tr>\n",
              "  </tbody>\n",
              "</table>\n",
              "</div>\n",
              "      <button class=\"colab-df-convert\" onclick=\"convertToInteractive('df-c1b2a8a5-a4f8-424f-aaf2-66fd191b6d64')\"\n",
              "              title=\"Convert this dataframe to an interactive table.\"\n",
              "              style=\"display:none;\">\n",
              "        \n",
              "  <svg xmlns=\"http://www.w3.org/2000/svg\" height=\"24px\"viewBox=\"0 0 24 24\"\n",
              "       width=\"24px\">\n",
              "    <path d=\"M0 0h24v24H0V0z\" fill=\"none\"/>\n",
              "    <path d=\"M18.56 5.44l.94 2.06.94-2.06 2.06-.94-2.06-.94-.94-2.06-.94 2.06-2.06.94zm-11 1L8.5 8.5l.94-2.06 2.06-.94-2.06-.94L8.5 2.5l-.94 2.06-2.06.94zm10 10l.94 2.06.94-2.06 2.06-.94-2.06-.94-.94-2.06-.94 2.06-2.06.94z\"/><path d=\"M17.41 7.96l-1.37-1.37c-.4-.4-.92-.59-1.43-.59-.52 0-1.04.2-1.43.59L10.3 9.45l-7.72 7.72c-.78.78-.78 2.05 0 2.83L4 21.41c.39.39.9.59 1.41.59.51 0 1.02-.2 1.41-.59l7.78-7.78 2.81-2.81c.8-.78.8-2.07 0-2.86zM5.41 20L4 18.59l7.72-7.72 1.47 1.35L5.41 20z\"/>\n",
              "  </svg>\n",
              "      </button>\n",
              "      \n",
              "  <style>\n",
              "    .colab-df-container {\n",
              "      display:flex;\n",
              "      flex-wrap:wrap;\n",
              "      gap: 12px;\n",
              "    }\n",
              "\n",
              "    .colab-df-convert {\n",
              "      background-color: #E8F0FE;\n",
              "      border: none;\n",
              "      border-radius: 50%;\n",
              "      cursor: pointer;\n",
              "      display: none;\n",
              "      fill: #1967D2;\n",
              "      height: 32px;\n",
              "      padding: 0 0 0 0;\n",
              "      width: 32px;\n",
              "    }\n",
              "\n",
              "    .colab-df-convert:hover {\n",
              "      background-color: #E2EBFA;\n",
              "      box-shadow: 0px 1px 2px rgba(60, 64, 67, 0.3), 0px 1px 3px 1px rgba(60, 64, 67, 0.15);\n",
              "      fill: #174EA6;\n",
              "    }\n",
              "\n",
              "    [theme=dark] .colab-df-convert {\n",
              "      background-color: #3B4455;\n",
              "      fill: #D2E3FC;\n",
              "    }\n",
              "\n",
              "    [theme=dark] .colab-df-convert:hover {\n",
              "      background-color: #434B5C;\n",
              "      box-shadow: 0px 1px 3px 1px rgba(0, 0, 0, 0.15);\n",
              "      filter: drop-shadow(0px 1px 2px rgba(0, 0, 0, 0.3));\n",
              "      fill: #FFFFFF;\n",
              "    }\n",
              "  </style>\n",
              "\n",
              "      <script>\n",
              "        const buttonEl =\n",
              "          document.querySelector('#df-c1b2a8a5-a4f8-424f-aaf2-66fd191b6d64 button.colab-df-convert');\n",
              "        buttonEl.style.display =\n",
              "          google.colab.kernel.accessAllowed ? 'block' : 'none';\n",
              "\n",
              "        async function convertToInteractive(key) {\n",
              "          const element = document.querySelector('#df-c1b2a8a5-a4f8-424f-aaf2-66fd191b6d64');\n",
              "          const dataTable =\n",
              "            await google.colab.kernel.invokeFunction('convertToInteractive',\n",
              "                                                     [key], {});\n",
              "          if (!dataTable) return;\n",
              "\n",
              "          const docLinkHtml = 'Like what you see? Visit the ' +\n",
              "            '<a target=\"_blank\" href=https://colab.research.google.com/notebooks/data_table.ipynb>data table notebook</a>'\n",
              "            + ' to learn more about interactive tables.';\n",
              "          element.innerHTML = '';\n",
              "          dataTable['output_type'] = 'display_data';\n",
              "          await google.colab.output.renderOutput(dataTable, element);\n",
              "          const docLink = document.createElement('div');\n",
              "          docLink.innerHTML = docLinkHtml;\n",
              "          element.appendChild(docLink);\n",
              "        }\n",
              "      </script>\n",
              "    </div>\n",
              "  </div>\n",
              "  "
            ]
          },
          "metadata": {},
          "execution_count": 31
        }
      ]
    },
    {
      "cell_type": "code",
      "source": [
        "sns.boxplot(df_num['irmaos_conjuges_abordo'],data=df_num)\n"
      ],
      "metadata": {
        "colab": {
          "base_uri": "https://localhost:8080/",
          "height": 352
        },
        "id": "thwZgQ6fwOad",
        "outputId": "ba7d7c43-98d1-4692-fe92-785ca389441b"
      },
      "id": "thwZgQ6fwOad",
      "execution_count": null,
      "outputs": [
        {
          "output_type": "stream",
          "name": "stderr",
          "text": [
            "/usr/local/lib/python3.7/dist-packages/seaborn/_decorators.py:43: FutureWarning: Pass the following variable as a keyword arg: x. From version 0.12, the only valid positional argument will be `data`, and passing other arguments without an explicit keyword will result in an error or misinterpretation.\n",
            "  FutureWarning\n"
          ]
        },
        {
          "output_type": "execute_result",
          "data": {
            "text/plain": [
              "<AxesSubplot:xlabel='irmaos_conjuges_abordo'>"
            ]
          },
          "metadata": {},
          "execution_count": 32
        },
        {
          "output_type": "display_data",
          "data": {
            "text/plain": [
              "<Figure size 432x288 with 1 Axes>"
            ],
            "image/png": "[encoded data removed]"
          },
          "metadata": {
            "needs_background": "light"
          }
        }
      ]
    },
    {
      "cell_type": "code",
      "source": [
        "df_num.irmaos_conjuges_abordo.mean()"
      ],
      "metadata": {
        "colab": {
          "base_uri": "https://localhost:8080/"
        },
        "id": "0AOdd6nEu_4Y",
        "outputId": "b5136453-cdc2-41d6-cc1f-819f507c9342"
      },
      "id": "0AOdd6nEu_4Y",
      "execution_count": null,
      "outputs": [
        {
          "output_type": "execute_result",
          "data": {
            "text/plain": [
              "0.5230078563411896"
            ]
          },
          "metadata": {},
          "execution_count": 33
        }
      ]
    },
    {
      "cell_type": "code",
      "source": [
        "df_num.irmaos_conjuges_abordo.std()"
      ],
      "metadata": {
        "colab": {
          "base_uri": "https://localhost:8080/"
        },
        "id": "7e-bIEk0vERl",
        "outputId": "4e048052-64b1-4c3f-e6a7-43f71f9f0edc"
      },
      "id": "7e-bIEk0vERl",
      "execution_count": null,
      "outputs": [
        {
          "output_type": "execute_result",
          "data": {
            "text/plain": [
              "1.1027434322934317"
            ]
          },
          "metadata": {},
          "execution_count": 34
        }
      ]
    },
    {
      "cell_type": "code",
      "source": [
        "limite_superior_irmcon = df_num.irmaos_conjuges_abordo.mean() + 3*df_num.irmaos_conjuges_abordo.std()\n",
        "limite_superior_irmcon\n"
      ],
      "metadata": {
        "colab": {
          "base_uri": "https://localhost:8080/"
        },
        "id": "ulQRYLU3vKOI",
        "outputId": "c73e7cbe-dc88-4908-9b7a-76303b6eac99"
      },
      "id": "ulQRYLU3vKOI",
      "execution_count": null,
      "outputs": [
        {
          "output_type": "execute_result",
          "data": {
            "text/plain": [
              "3.831238153221485"
            ]
          },
          "metadata": {},
          "execution_count": 35
        }
      ]
    },
    {
      "cell_type": "code",
      "source": [
        "limite_inferior_irmcon = df_num.irmaos_conjuges_abordo.mean() - 3*df_num.irmaos_conjuges_abordo.std()\n",
        "limite_inferior_irmcon"
      ],
      "metadata": {
        "colab": {
          "base_uri": "https://localhost:8080/"
        },
        "id": "uATHnOjWvS-7",
        "outputId": "039c8212-4b5f-456a-9d3b-9c7a9cd7eb38"
      },
      "id": "uATHnOjWvS-7",
      "execution_count": null,
      "outputs": [
        {
          "output_type": "execute_result",
          "data": {
            "text/plain": [
              "-2.7852224405391057"
            ]
          },
          "metadata": {},
          "execution_count": 36
        }
      ]
    },
    {
      "cell_type": "code",
      "source": [
        "df_num[(df_num.irmaos_conjuges_abordo > limite_superior_irmcon) | (df_num.irmaos_conjuges_abordo < limite_inferior_irmcon)]"
      ],
      "metadata": {
        "colab": {
          "base_uri": "https://localhost:8080/",
          "height": 1000
        },
        "id": "Xz_dKrPKvbmd",
        "outputId": "fcba777a-d0f0-4320-b703-79264b3c6ea3"
      },
      "id": "Xz_dKrPKvbmd",
      "execution_count": null,
      "outputs": [
        {
          "output_type": "execute_result",
          "data": {
            "text/plain": [
              "               idade  preco_bilhete  irmaos_conjuges_abordo  \\\n",
              "id_passageiro                                                 \n",
              "17               2.0        29.1250                       4   \n",
              "51               7.0        39.6875                       4   \n",
              "60              11.0        46.9000                       5   \n",
              "69              17.0         7.9250                       4   \n",
              "72              16.0        46.9000                       5   \n",
              "120              2.0        31.2750                       4   \n",
              "160              NaN        69.5500                       8   \n",
              "165              1.0        39.6875                       4   \n",
              "172              4.0        29.1250                       4   \n",
              "181              NaN        69.5500                       8   \n",
              "183              9.0        31.3875                       4   \n",
              "202              NaN        69.5500                       8   \n",
              "234              5.0        31.3875                       4   \n",
              "262              3.0        31.3875                       4   \n",
              "267             16.0        39.6875                       4   \n",
              "279              7.0        29.1250                       4   \n",
              "325              NaN        69.5500                       8   \n",
              "387              1.0        46.9000                       5   \n",
              "481              9.0        46.9000                       5   \n",
              "542              9.0        31.2750                       4   \n",
              "543             11.0        31.2750                       4   \n",
              "684             14.0        46.9000                       5   \n",
              "687             14.0        39.6875                       4   \n",
              "788              8.0        29.1250                       4   \n",
              "793              NaN        69.5500                       8   \n",
              "814              6.0        31.2750                       4   \n",
              "825              2.0        39.6875                       4   \n",
              "847              NaN        69.5500                       8   \n",
              "851              4.0        31.2750                       4   \n",
              "864              NaN        69.5500                       8   \n",
              "\n",
              "               pais_filhos_abordo  \n",
              "id_passageiro                      \n",
              "17                              1  \n",
              "51                              1  \n",
              "60                              2  \n",
              "69                              2  \n",
              "72                              2  \n",
              "120                             2  \n",
              "160                             2  \n",
              "165                             1  \n",
              "172                             1  \n",
              "181                             2  \n",
              "183                             2  \n",
              "202                             2  \n",
              "234                             2  \n",
              "262                             2  \n",
              "267                             1  \n",
              "279                             1  \n",
              "325                             2  \n",
              "387                             2  \n",
              "481                             2  \n",
              "542                             2  \n",
              "543                             2  \n",
              "684                             2  \n",
              "687                             1  \n",
              "788                             1  \n",
              "793                             2  \n",
              "814                             2  \n",
              "825                             1  \n",
              "847                             2  \n",
              "851                             2  \n",
              "864                             2  "
            ],
            "text/html": [
              "\n",
              "  <div id=\"df-b3cdefcd-a064-41c6-84a2-671a2583b2c1\">\n",
              "    <div class=\"colab-df-container\">\n",
              "      <div>\n",
              "<style scoped>\n",
              "    .dataframe tbody tr th:only-of-type {\n",
              "        vertical-align: middle;\n",
              "    }\n",
              "\n",
              "    .dataframe tbody tr th {\n",
              "        vertical-align: top;\n",
              "    }\n",
              "\n",
              "    .dataframe thead th {\n",
              "        text-align: right;\n",
              "    }\n",
              "</style>\n",
              "<table border=\"1\" class=\"dataframe\">\n",
              "  <thead>\n",
              "    <tr style=\"text-align: right;\">\n",
              "      <th></th>\n",
              "      <th>idade</th>\n",
              "      <th>preco_bilhete</th>\n",
              "      <th>irmaos_conjuges_abordo</th>\n",
              "      <th>pais_filhos_abordo</th>\n",
              "    </tr>\n",
              "    <tr>\n",
              "      <th>id_passageiro</th>\n",
              "      <th></th>\n",
              "      <th></th>\n",
              "      <th></th>\n",
              "      <th></th>\n",
              "    </tr>\n",
              "  </thead>\n",
              "  <tbody>\n",
              "    <tr>\n",
              "      <th>17</th>\n",
              "      <td>2.0</td>\n",
              "      <td>29.1250</td>\n",
              "      <td>4</td>\n",
              "      <td>1</td>\n",
              "    </tr>\n",
              "    <tr>\n",
              "      <th>51</th>\n",
              "      <td>7.0</td>\n",
              "      <td>39.6875</td>\n",
              "      <td>4</td>\n",
              "      <td>1</td>\n",
              "    </tr>\n",
              "    <tr>\n",
              "      <th>60</th>\n",
              "      <td>11.0</td>\n",
              "      <td>46.9000</td>\n",
              "      <td>5</td>\n",
              "      <td>2</td>\n",
              "    </tr>\n",
              "    <tr>\n",
              "      <th>69</th>\n",
              "      <td>17.0</td>\n",
              "      <td>7.9250</td>\n",
              "      <td>4</td>\n",
              "      <td>2</td>\n",
              "    </tr>\n",
              "    <tr>\n",
              "      <th>72</th>\n",
              "      <td>16.0</td>\n",
              "      <td>46.9000</td>\n",
              "      <td>5</td>\n",
              "      <td>2</td>\n",
              "    </tr>\n",
              "    <tr>\n",
              "      <th>120</th>\n",
              "      <td>2.0</td>\n",
              "      <td>31.2750</td>\n",
              "      <td>4</td>\n",
              "      <td>2</td>\n",
              "    </tr>\n",
              "    <tr>\n",
              "      <th>160</th>\n",
              "      <td>NaN</td>\n",
              "      <td>69.5500</td>\n",
              "      <td>8</td>\n",
              "      <td>2</td>\n",
              "    </tr>\n",
              "    <tr>\n",
              "      <th>165</th>\n",
              "      <td>1.0</td>\n",
              "      <td>39.6875</td>\n",
              "      <td>4</td>\n",
              "      <td>1</td>\n",
              "    </tr>\n",
              "    <tr>\n",
              "      <th>172</th>\n",
              "      <td>4.0</td>\n",
              "      <td>29.1250</td>\n",
              "      <td>4</td>\n",
              "      <td>1</td>\n",
              "    </tr>\n",
              "    <tr>\n",
              "      <th>181</th>\n",
              "      <td>NaN</td>\n",
              "      <td>69.5500</td>\n",
              "      <td>8</td>\n",
              "      <td>2</td>\n",
              "    </tr>\n",
              "    <tr>\n",
              "      <th>183</th>\n",
              "      <td>9.0</td>\n",
              "      <td>31.3875</td>\n",
              "      <td>4</td>\n",
              "      <td>2</td>\n",
              "    </tr>\n",
              "    <tr>\n",
              "      <th>202</th>\n",
              "      <td>NaN</td>\n",
              "      <td>69.5500</td>\n",
              "      <td>8</td>\n",
              "      <td>2</td>\n",
              "    </tr>\n",
              "    <tr>\n",
              "      <th>234</th>\n",
              "      <td>5.0</td>\n",
              "      <td>31.3875</td>\n",
              "      <td>4</td>\n",
              "      <td>2</td>\n",
              "    </tr>\n",
              "    <tr>\n",
              "      <th>262</th>\n",
              "      <td>3.0</td>\n",
              "      <td>31.3875</td>\n",
              "      <td>4</td>\n",
              "      <td>2</td>\n",
              "    </tr>\n",
              "    <tr>\n",
              "      <th>267</th>\n",
              "      <td>16.0</td>\n",
              "      <td>39.6875</td>\n",
              "      <td>4</td>\n",
              "      <td>1</td>\n",
              "    </tr>\n",
              "    <tr>\n",
              "      <th>279</th>\n",
              "      <td>7.0</td>\n",
              "      <td>29.1250</td>\n",
              "      <td>4</td>\n",
              "      <td>1</td>\n",
              "    </tr>\n",
              "    <tr>\n",
              "      <th>325</th>\n",
              "      <td>NaN</td>\n",
              "      <td>69.5500</td>\n",
              "      <td>8</td>\n",
              "      <td>2</td>\n",
              "    </tr>\n",
              "    <tr>\n",
              "      <th>387</th>\n",
              "      <td>1.0</td>\n",
              "      <td>46.9000</td>\n",
              "      <td>5</td>\n",
              "      <td>2</td>\n",
              "    </tr>\n",
              "    <tr>\n",
              "      <th>481</th>\n",
              "      <td>9.0</td>\n",
              "      <td>46.9000</td>\n",
              "      <td>5</td>\n",
              "      <td>2</td>\n",
              "    </tr>\n",
              "    <tr>\n",
              "      <th>542</th>\n",
              "      <td>9.0</td>\n",
              "      <td>31.2750</td>\n",
              "      <td>4</td>\n",
              "      <td>2</td>\n",
              "    </tr>\n",
              "    <tr>\n",
              "      <th>543</th>\n",
              "      <td>11.0</td>\n",
              "      <td>31.2750</td>\n",
              "      <td>4</td>\n",
              "      <td>2</td>\n",
              "    </tr>\n",
              "    <tr>\n",
              "      <th>684</th>\n",
              "      <td>14.0</td>\n",
              "      <td>46.9000</td>\n",
              "      <td>5</td>\n",
              "      <td>2</td>\n",
              "    </tr>\n",
              "    <tr>\n",
              "      <th>687</th>\n",
              "      <td>14.0</td>\n",
              "      <td>39.6875</td>\n",
              "      <td>4</td>\n",
              "      <td>1</td>\n",
              "    </tr>\n",
              "    <tr>\n",
              "      <th>788</th>\n",
              "      <td>8.0</td>\n",
              "      <td>29.1250</td>\n",
              "      <td>4</td>\n",
              "      <td>1</td>\n",
              "    </tr>\n",
              "    <tr>\n",
              "      <th>793</th>\n",
              "      <td>NaN</td>\n",
              "      <td>69.5500</td>\n",
              "      <td>8</td>\n",
              "      <td>2</td>\n",
              "    </tr>\n",
              "    <tr>\n",
              "      <th>814</th>\n",
              "      <td>6.0</td>\n",
              "      <td>31.2750</td>\n",
              "      <td>4</td>\n",
              "      <td>2</td>\n",
              "    </tr>\n",
              "    <tr>\n",
              "      <th>825</th>\n",
              "      <td>2.0</td>\n",
              "      <td>39.6875</td>\n",
              "      <td>4</td>\n",
              "      <td>1</td>\n",
              "    </tr>\n",
              "    <tr>\n",
              "      <th>847</th>\n",
              "      <td>NaN</td>\n",
              "      <td>69.5500</td>\n",
              "      <td>8</td>\n",
              "      <td>2</td>\n",
              "    </tr>\n",
              "    <tr>\n",
              "      <th>851</th>\n",
              "      <td>4.0</td>\n",
              "      <td>31.2750</td>\n",
              "      <td>4</td>\n",
              "      <td>2</td>\n",
              "    </tr>\n",
              "    <tr>\n",
              "      <th>864</th>\n",
              "      <td>NaN</td>\n",
              "      <td>69.5500</td>\n",
              "      <td>8</td>\n",
              "      <td>2</td>\n",
              "    </tr>\n",
              "  </tbody>\n",
              "</table>\n",
              "</div>\n",
              "      <button class=\"colab-df-convert\" onclick=\"convertToInteractive('df-b3cdefcd-a064-41c6-84a2-671a2583b2c1')\"\n",
              "              title=\"Convert this dataframe to an interactive table.\"\n",
              "              style=\"display:none;\">\n",
              "        \n",
              "  <svg xmlns=\"http://www.w3.org/2000/svg\" height=\"24px\"viewBox=\"0 0 24 24\"\n",
              "       width=\"24px\">\n",
              "    <path d=\"M0 0h24v24H0V0z\" fill=\"none\"/>\n",
              "    <path d=\"M18.56 5.44l.94 2.06.94-2.06 2.06-.94-2.06-.94-.94-2.06-.94 2.06-2.06.94zm-11 1L8.5 8.5l.94-2.06 2.06-.94-2.06-.94L8.5 2.5l-.94 2.06-2.06.94zm10 10l.94 2.06.94-2.06 2.06-.94-2.06-.94-.94-2.06-.94 2.06-2.06.94z\"/><path d=\"M17.41 7.96l-1.37-1.37c-.4-.4-.92-.59-1.43-.59-.52 0-1.04.2-1.43.59L10.3 9.45l-7.72 7.72c-.78.78-.78 2.05 0 2.83L4 21.41c.39.39.9.59 1.41.59.51 0 1.02-.2 1.41-.59l7.78-7.78 2.81-2.81c.8-.78.8-2.07 0-2.86zM5.41 20L4 18.59l7.72-7.72 1.47 1.35L5.41 20z\"/>\n",
              "  </svg>\n",
              "      </button>\n",
              "      \n",
              "  <style>\n",
              "    .colab-df-container {\n",
              "      display:flex;\n",
              "      flex-wrap:wrap;\n",
              "      gap: 12px;\n",
              "    }\n",
              "\n",
              "    .colab-df-convert {\n",
              "      background-color: #E8F0FE;\n",
              "      border: none;\n",
              "      border-radius: 50%;\n",
              "      cursor: pointer;\n",
              "      display: none;\n",
              "      fill: #1967D2;\n",
              "      height: 32px;\n",
              "      padding: 0 0 0 0;\n",
              "      width: 32px;\n",
              "    }\n",
              "\n",
              "    .colab-df-convert:hover {\n",
              "      background-color: #E2EBFA;\n",
              "      box-shadow: 0px 1px 2px rgba(60, 64, 67, 0.3), 0px 1px 3px 1px rgba(60, 64, 67, 0.15);\n",
              "      fill: #174EA6;\n",
              "    }\n",
              "\n",
              "    [theme=dark] .colab-df-convert {\n",
              "      background-color: #3B4455;\n",
              "      fill: #D2E3FC;\n",
              "    }\n",
              "\n",
              "    [theme=dark] .colab-df-convert:hover {\n",
              "      background-color: #434B5C;\n",
              "      box-shadow: 0px 1px 3px 1px rgba(0, 0, 0, 0.15);\n",
              "      filter: drop-shadow(0px 1px 2px rgba(0, 0, 0, 0.3));\n",
              "      fill: #FFFFFF;\n",
              "    }\n",
              "  </style>\n",
              "\n",
              "      <script>\n",
              "        const buttonEl =\n",
              "          document.querySelector('#df-b3cdefcd-a064-41c6-84a2-671a2583b2c1 button.colab-df-convert');\n",
              "        buttonEl.style.display =\n",
              "          google.colab.kernel.accessAllowed ? 'block' : 'none';\n",
              "\n",
              "        async function convertToInteractive(key) {\n",
              "          const element = document.querySelector('#df-b3cdefcd-a064-41c6-84a2-671a2583b2c1');\n",
              "          const dataTable =\n",
              "            await google.colab.kernel.invokeFunction('convertToInteractive',\n",
              "                                                     [key], {});\n",
              "          if (!dataTable) return;\n",
              "\n",
              "          const docLinkHtml = 'Like what you see? Visit the ' +\n",
              "            '<a target=\"_blank\" href=https://colab.research.google.com/notebooks/data_table.ipynb>data table notebook</a>'\n",
              "            + ' to learn more about interactive tables.';\n",
              "          element.innerHTML = '';\n",
              "          dataTable['output_type'] = 'display_data';\n",
              "          await google.colab.output.renderOutput(dataTable, element);\n",
              "          const docLink = document.createElement('div');\n",
              "          docLink.innerHTML = docLinkHtml;\n",
              "          element.appendChild(docLink);\n",
              "        }\n",
              "      </script>\n",
              "    </div>\n",
              "  </div>\n",
              "  "
            ]
          },
          "metadata": {},
          "execution_count": 37
        }
      ]
    },
    {
      "cell_type": "code",
      "source": [
        "sns.boxplot(df_num['pais_filhos_abordo'],data=df_num)\n"
      ],
      "metadata": {
        "colab": {
          "base_uri": "https://localhost:8080/",
          "height": 352
        },
        "id": "xqGXDr-iwQwo",
        "outputId": "4f48344c-2dab-4f42-902f-65a84012bfcf"
      },
      "id": "xqGXDr-iwQwo",
      "execution_count": null,
      "outputs": [
        {
          "output_type": "stream",
          "name": "stderr",
          "text": [
            "/usr/local/lib/python3.7/dist-packages/seaborn/_decorators.py:43: FutureWarning: Pass the following variable as a keyword arg: x. From version 0.12, the only valid positional argument will be `data`, and passing other arguments without an explicit keyword will result in an error or misinterpretation.\n",
            "  FutureWarning\n"
          ]
        },
        {
          "output_type": "execute_result",
          "data": {
            "text/plain": [
              "<AxesSubplot:xlabel='pais_filhos_abordo'>"
            ]
          },
          "metadata": {},
          "execution_count": 38
        },
        {
          "output_type": "display_data",
          "data": {
            "text/plain": [
              "<Figure size 432x288 with 1 Axes>"
            ],
            "image/png": "[encoded data removed]"
          },
          "metadata": {
            "needs_background": "light"
          }
        }
      ]
    },
    {
      "cell_type": "code",
      "source": [
        "df_num.pais_filhos_abordo.mean()"
      ],
      "metadata": {
        "colab": {
          "base_uri": "https://localhost:8080/"
        },
        "id": "nsjBAI_xvtaE",
        "outputId": "5c67ed54-2b45-458c-9138-73c491ab56ea"
      },
      "id": "nsjBAI_xvtaE",
      "execution_count": null,
      "outputs": [
        {
          "output_type": "execute_result",
          "data": {
            "text/plain": [
              "0.38159371492704824"
            ]
          },
          "metadata": {},
          "execution_count": 39
        }
      ]
    },
    {
      "cell_type": "code",
      "source": [
        "df_num.pais_filhos_abordo.std()"
      ],
      "metadata": {
        "colab": {
          "base_uri": "https://localhost:8080/"
        },
        "id": "El84JPhpv5hg",
        "outputId": "db1babe7-5fb0-4d5a-f0fb-f708cee4b7a9"
      },
      "id": "El84JPhpv5hg",
      "execution_count": null,
      "outputs": [
        {
          "output_type": "execute_result",
          "data": {
            "text/plain": [
              "0.8060572211299483"
            ]
          },
          "metadata": {},
          "execution_count": 40
        }
      ]
    },
    {
      "cell_type": "code",
      "source": [
        "limite_superior_pfi = df_num.pais_filhos_abordo.mean() + 3*df_num.pais_filhos_abordo.std()\n",
        "\n",
        "limite_superior_pfi"
      ],
      "metadata": {
        "colab": {
          "base_uri": "https://localhost:8080/"
        },
        "id": "eL4u0Hkov-wS",
        "outputId": "dcd806f6-49df-459a-bc63-7b9aeddcbbbb"
      },
      "id": "eL4u0Hkov-wS",
      "execution_count": null,
      "outputs": [
        {
          "output_type": "execute_result",
          "data": {
            "text/plain": [
              "2.799765378316893"
            ]
          },
          "metadata": {},
          "execution_count": 41
        }
      ]
    },
    {
      "cell_type": "code",
      "source": [
        "limite_inferior_pfi = df_num.pais_filhos_abordo.mean() - 3*df_num.pais_filhos_abordo.std()\n",
        "limite_inferior_pfi\n"
      ],
      "metadata": {
        "colab": {
          "base_uri": "https://localhost:8080/"
        },
        "id": "1n91NZT0wJrt",
        "outputId": "9eee7eb4-682e-48cd-b191-e92aa16e4241"
      },
      "id": "1n91NZT0wJrt",
      "execution_count": null,
      "outputs": [
        {
          "output_type": "execute_result",
          "data": {
            "text/plain": [
              "-2.0365779484627966"
            ]
          },
          "metadata": {},
          "execution_count": 42
        }
      ]
    },
    {
      "cell_type": "code",
      "source": [
        "df_num[(df_num.pais_filhos_abordo > limite_superior_pfi) | (df_num.pais_filhos_abordo < limite_inferior_pfi)]"
      ],
      "metadata": {
        "colab": {
          "base_uri": "https://localhost:8080/",
          "height": 551
        },
        "id": "O1lVbKLrwSbe",
        "outputId": "6c1fb3ed-04cc-4fc8-9374-89ef757b02ae"
      },
      "id": "O1lVbKLrwSbe",
      "execution_count": null,
      "outputs": [
        {
          "output_type": "execute_result",
          "data": {
            "text/plain": [
              "               idade  preco_bilhete  irmaos_conjuges_abordo  \\\n",
              "id_passageiro                                                 \n",
              "14              39.0        31.2750                       1   \n",
              "26              38.0        31.3875                       1   \n",
              "87              16.0        34.3750                       1   \n",
              "168             45.0        27.9000                       1   \n",
              "361             40.0        27.9000                       1   \n",
              "438             24.0        18.7500                       2   \n",
              "439             64.0       263.0000                       1   \n",
              "568             29.0        21.0750                       0   \n",
              "611             39.0        31.2750                       1   \n",
              "639             41.0        39.6875                       0   \n",
              "679             43.0        46.9000                       1   \n",
              "737             48.0        34.3750                       1   \n",
              "775             54.0        23.0000                       1   \n",
              "859             24.0        19.2583                       0   \n",
              "886             39.0        29.1250                       0   \n",
              "\n",
              "               pais_filhos_abordo  \n",
              "id_passageiro                      \n",
              "14                              5  \n",
              "26                              5  \n",
              "87                              3  \n",
              "168                             4  \n",
              "361                             4  \n",
              "438                             3  \n",
              "439                             4  \n",
              "568                             4  \n",
              "611                             5  \n",
              "639                             5  \n",
              "679                             6  \n",
              "737                             3  \n",
              "775                             3  \n",
              "859                             3  \n",
              "886                             5  "
            ],
            "text/html": [
              "\n",
              "  <div id=\"df-953cf780-9624-48b4-8757-3b10ffeb0334\">\n",
              "    <div class=\"colab-df-container\">\n",
              "      <div>\n",
              "<style scoped>\n",
              "    .dataframe tbody tr th:only-of-type {\n",
              "        vertical-align: middle;\n",
              "    }\n",
              "\n",
              "    .dataframe tbody tr th {\n",
              "        vertical-align: top;\n",
              "    }\n",
              "\n",
              "    .dataframe thead th {\n",
              "        text-align: right;\n",
              "    }\n",
              "</style>\n",
              "<table border=\"1\" class=\"dataframe\">\n",
              "  <thead>\n",
              "    <tr style=\"text-align: right;\">\n",
              "      <th></th>\n",
              "      <th>idade</th>\n",
              "      <th>preco_bilhete</th>\n",
              "      <th>irmaos_conjuges_abordo</th>\n",
              "      <th>pais_filhos_abordo</th>\n",
              "    </tr>\n",
              "    <tr>\n",
              "      <th>id_passageiro</th>\n",
              "      <th></th>\n",
              "      <th></th>\n",
              "      <th></th>\n",
              "      <th></th>\n",
              "    </tr>\n",
              "  </thead>\n",
              "  <tbody>\n",
              "    <tr>\n",
              "      <th>14</th>\n",
              "      <td>39.0</td>\n",
              "      <td>31.2750</td>\n",
              "      <td>1</td>\n",
              "      <td>5</td>\n",
              "    </tr>\n",
              "    <tr>\n",
              "      <th>26</th>\n",
              "      <td>38.0</td>\n",
              "      <td>31.3875</td>\n",
              "      <td>1</td>\n",
              "      <td>5</td>\n",
              "    </tr>\n",
              "    <tr>\n",
              "      <th>87</th>\n",
              "      <td>16.0</td>\n",
              "      <td>34.3750</td>\n",
              "      <td>1</td>\n",
              "      <td>3</td>\n",
              "    </tr>\n",
              "    <tr>\n",
              "      <th>168</th>\n",
              "      <td>45.0</td>\n",
              "      <td>27.9000</td>\n",
              "      <td>1</td>\n",
              "      <td>4</td>\n",
              "    </tr>\n",
              "    <tr>\n",
              "      <th>361</th>\n",
              "      <td>40.0</td>\n",
              "      <td>27.9000</td>\n",
              "      <td>1</td>\n",
              "      <td>4</td>\n",
              "    </tr>\n",
              "    <tr>\n",
              "      <th>438</th>\n",
              "      <td>24.0</td>\n",
              "      <td>18.7500</td>\n",
              "      <td>2</td>\n",
              "      <td>3</td>\n",
              "    </tr>\n",
              "    <tr>\n",
              "      <th>439</th>\n",
              "      <td>64.0</td>\n",
              "      <td>263.0000</td>\n",
              "      <td>1</td>\n",
              "      <td>4</td>\n",
              "    </tr>\n",
              "    <tr>\n",
              "      <th>568</th>\n",
              "      <td>29.0</td>\n",
              "      <td>21.0750</td>\n",
              "      <td>0</td>\n",
              "      <td>4</td>\n",
              "    </tr>\n",
              "    <tr>\n",
              "      <th>611</th>\n",
              "      <td>39.0</td>\n",
              "      <td>31.2750</td>\n",
              "      <td>1</td>\n",
              "      <td>5</td>\n",
              "    </tr>\n",
              "    <tr>\n",
              "      <th>639</th>\n",
              "      <td>41.0</td>\n",
              "      <td>39.6875</td>\n",
              "      <td>0</td>\n",
              "      <td>5</td>\n",
              "    </tr>\n",
              "    <tr>\n",
              "      <th>679</th>\n",
              "      <td>43.0</td>\n",
              "      <td>46.9000</td>\n",
              "      <td>1</td>\n",
              "      <td>6</td>\n",
              "    </tr>\n",
              "    <tr>\n",
              "      <th>737</th>\n",
              "      <td>48.0</td>\n",
              "      <td>34.3750</td>\n",
              "      <td>1</td>\n",
              "      <td>3</td>\n",
              "    </tr>\n",
              "    <tr>\n",
              "      <th>775</th>\n",
              "      <td>54.0</td>\n",
              "      <td>23.0000</td>\n",
              "      <td>1</td>\n",
              "      <td>3</td>\n",
              "    </tr>\n",
              "    <tr>\n",
              "      <th>859</th>\n",
              "      <td>24.0</td>\n",
              "      <td>19.2583</td>\n",
              "      <td>0</td>\n",
              "      <td>3</td>\n",
              "    </tr>\n",
              "    <tr>\n",
              "      <th>886</th>\n",
              "      <td>39.0</td>\n",
              "      <td>29.1250</td>\n",
              "      <td>0</td>\n",
              "      <td>5</td>\n",
              "    </tr>\n",
              "  </tbody>\n",
              "</table>\n",
              "</div>\n",
              "      <button class=\"colab-df-convert\" onclick=\"convertToInteractive('df-953cf780-9624-48b4-8757-3b10ffeb0334')\"\n",
              "              title=\"Convert this dataframe to an interactive table.\"\n",
              "              style=\"display:none;\">\n",
              "        \n",
              "  <svg xmlns=\"http://www.w3.org/2000/svg\" height=\"24px\"viewBox=\"0 0 24 24\"\n",
              "       width=\"24px\">\n",
              "    <path d=\"M0 0h24v24H0V0z\" fill=\"none\"/>\n",
              "    <path d=\"M18.56 5.44l.94 2.06.94-2.06 2.06-.94-2.06-.94-.94-2.06-.94 2.06-2.06.94zm-11 1L8.5 8.5l.94-2.06 2.06-.94-2.06-.94L8.5 2.5l-.94 2.06-2.06.94zm10 10l.94 2.06.94-2.06 2.06-.94-2.06-.94-.94-2.06-.94 2.06-2.06.94z\"/><path d=\"M17.41 7.96l-1.37-1.37c-.4-.4-.92-.59-1.43-.59-.52 0-1.04.2-1.43.59L10.3 9.45l-7.72 7.72c-.78.78-.78 2.05 0 2.83L4 21.41c.39.39.9.59 1.41.59.51 0 1.02-.2 1.41-.59l7.78-7.78 2.81-2.81c.8-.78.8-2.07 0-2.86zM5.41 20L4 18.59l7.72-7.72 1.47 1.35L5.41 20z\"/>\n",
              "  </svg>\n",
              "      </button>\n",
              "      \n",
              "  <style>\n",
              "    .colab-df-container {\n",
              "      display:flex;\n",
              "      flex-wrap:wrap;\n",
              "      gap: 12px;\n",
              "    }\n",
              "\n",
              "    .colab-df-convert {\n",
              "      background-color: #E8F0FE;\n",
              "      border: none;\n",
              "      border-radius: 50%;\n",
              "      cursor: pointer;\n",
              "      display: none;\n",
              "      fill: #1967D2;\n",
              "      height: 32px;\n",
              "      padding: 0 0 0 0;\n",
              "      width: 32px;\n",
              "    }\n",
              "\n",
              "    .colab-df-convert:hover {\n",
              "      background-color: #E2EBFA;\n",
              "      box-shadow: 0px 1px 2px rgba(60, 64, 67, 0.3), 0px 1px 3px 1px rgba(60, 64, 67, 0.15);\n",
              "      fill: #174EA6;\n",
              "    }\n",
              "\n",
              "    [theme=dark] .colab-df-convert {\n",
              "      background-color: #3B4455;\n",
              "      fill: #D2E3FC;\n",
              "    }\n",
              "\n",
              "    [theme=dark] .colab-df-convert:hover {\n",
              "      background-color: #434B5C;\n",
              "      box-shadow: 0px 1px 3px 1px rgba(0, 0, 0, 0.15);\n",
              "      filter: drop-shadow(0px 1px 2px rgba(0, 0, 0, 0.3));\n",
              "      fill: #FFFFFF;\n",
              "    }\n",
              "  </style>\n",
              "\n",
              "      <script>\n",
              "        const buttonEl =\n",
              "          document.querySelector('#df-953cf780-9624-48b4-8757-3b10ffeb0334 button.colab-df-convert');\n",
              "        buttonEl.style.display =\n",
              "          google.colab.kernel.accessAllowed ? 'block' : 'none';\n",
              "\n",
              "        async function convertToInteractive(key) {\n",
              "          const element = document.querySelector('#df-953cf780-9624-48b4-8757-3b10ffeb0334');\n",
              "          const dataTable =\n",
              "            await google.colab.kernel.invokeFunction('convertToInteractive',\n",
              "                                                     [key], {});\n",
              "          if (!dataTable) return;\n",
              "\n",
              "          const docLinkHtml = 'Like what you see? Visit the ' +\n",
              "            '<a target=\"_blank\" href=https://colab.research.google.com/notebooks/data_table.ipynb>data table notebook</a>'\n",
              "            + ' to learn more about interactive tables.';\n",
              "          element.innerHTML = '';\n",
              "          dataTable['output_type'] = 'display_data';\n",
              "          await google.colab.output.renderOutput(dataTable, element);\n",
              "          const docLink = document.createElement('div');\n",
              "          docLink.innerHTML = docLinkHtml;\n",
              "          element.appendChild(docLink);\n",
              "        }\n",
              "      </script>\n",
              "    </div>\n",
              "  </div>\n",
              "  "
            ]
          },
          "metadata": {},
          "execution_count": 43
        }
      ]
    },
    {
      "cell_type": "markdown",
      "source": [
        "Os pontos pretos em cada um dos boxplots mostram os outliers da variável em análise. Usando o zscore obtemos todas as linhas que contém outliers em cada coluna numérica do dataset."
      ],
      "metadata": {
        "id": "24U7P2D_xe9e"
      },
      "id": "24U7P2D_xe9e"
    },
    {
      "cell_type": "code",
      "source": [
        "df_num.corr()"
      ],
      "metadata": {
        "colab": {
          "base_uri": "https://localhost:8080/",
          "height": 175
        },
        "id": "33ks3PJjTXgM",
        "outputId": "ea5b35c1-6ce7-4590-b112-719b42c51ed6"
      },
      "id": "33ks3PJjTXgM",
      "execution_count": null,
      "outputs": [
        {
          "output_type": "execute_result",
          "data": {
            "text/plain": [
              "                           idade  preco_bilhete  irmaos_conjuges_abordo  \\\n",
              "idade                   1.000000       0.096067               -0.308247   \n",
              "preco_bilhete           0.096067       1.000000                0.159651   \n",
              "irmaos_conjuges_abordo -0.308247       0.159651                1.000000   \n",
              "pais_filhos_abordo     -0.189119       0.216225                0.414838   \n",
              "\n",
              "                        pais_filhos_abordo  \n",
              "idade                            -0.189119  \n",
              "preco_bilhete                     0.216225  \n",
              "irmaos_conjuges_abordo            0.414838  \n",
              "pais_filhos_abordo                1.000000  "
            ],
            "text/html": [
              "\n",
              "  <div id=\"df-68cbb26e-23bb-4d70-a9fe-9b045fc2564a\">\n",
              "    <div class=\"colab-df-container\">\n",
              "      <div>\n",
              "<style scoped>\n",
              "    .dataframe tbody tr th:only-of-type {\n",
              "        vertical-align: middle;\n",
              "    }\n",
              "\n",
              "    .dataframe tbody tr th {\n",
              "        vertical-align: top;\n",
              "    }\n",
              "\n",
              "    .dataframe thead th {\n",
              "        text-align: right;\n",
              "    }\n",
              "</style>\n",
              "<table border=\"1\" class=\"dataframe\">\n",
              "  <thead>\n",
              "    <tr style=\"text-align: right;\">\n",
              "      <th></th>\n",
              "      <th>idade</th>\n",
              "      <th>preco_bilhete</th>\n",
              "      <th>irmaos_conjuges_abordo</th>\n",
              "      <th>pais_filhos_abordo</th>\n",
              "    </tr>\n",
              "  </thead>\n",
              "  <tbody>\n",
              "    <tr>\n",
              "      <th>idade</th>\n",
              "      <td>1.000000</td>\n",
              "      <td>0.096067</td>\n",
              "      <td>-0.308247</td>\n",
              "      <td>-0.189119</td>\n",
              "    </tr>\n",
              "    <tr>\n",
              "      <th>preco_bilhete</th>\n",
              "      <td>0.096067</td>\n",
              "      <td>1.000000</td>\n",
              "      <td>0.159651</td>\n",
              "      <td>0.216225</td>\n",
              "    </tr>\n",
              "    <tr>\n",
              "      <th>irmaos_conjuges_abordo</th>\n",
              "      <td>-0.308247</td>\n",
              "      <td>0.159651</td>\n",
              "      <td>1.000000</td>\n",
              "      <td>0.414838</td>\n",
              "    </tr>\n",
              "    <tr>\n",
              "      <th>pais_filhos_abordo</th>\n",
              "      <td>-0.189119</td>\n",
              "      <td>0.216225</td>\n",
              "      <td>0.414838</td>\n",
              "      <td>1.000000</td>\n",
              "    </tr>\n",
              "  </tbody>\n",
              "</table>\n",
              "</div>\n",
              "      <button class=\"colab-df-convert\" onclick=\"convertToInteractive('df-68cbb26e-23bb-4d70-a9fe-9b045fc2564a')\"\n",
              "              title=\"Convert this dataframe to an interactive table.\"\n",
              "              style=\"display:none;\">\n",
              "        \n",
              "  <svg xmlns=\"http://www.w3.org/2000/svg\" height=\"24px\"viewBox=\"0 0 24 24\"\n",
              "       width=\"24px\">\n",
              "    <path d=\"M0 0h24v24H0V0z\" fill=\"none\"/>\n",
              "    <path d=\"M18.56 5.44l.94 2.06.94-2.06 2.06-.94-2.06-.94-.94-2.06-.94 2.06-2.06.94zm-11 1L8.5 8.5l.94-2.06 2.06-.94-2.06-.94L8.5 2.5l-.94 2.06-2.06.94zm10 10l.94 2.06.94-2.06 2.06-.94-2.06-.94-.94-2.06-.94 2.06-2.06.94z\"/><path d=\"M17.41 7.96l-1.37-1.37c-.4-.4-.92-.59-1.43-.59-.52 0-1.04.2-1.43.59L10.3 9.45l-7.72 7.72c-.78.78-.78 2.05 0 2.83L4 21.41c.39.39.9.59 1.41.59.51 0 1.02-.2 1.41-.59l7.78-7.78 2.81-2.81c.8-.78.8-2.07 0-2.86zM5.41 20L4 18.59l7.72-7.72 1.47 1.35L5.41 20z\"/>\n",
              "  </svg>\n",
              "      </button>\n",
              "      \n",
              "  <style>\n",
              "    .colab-df-container {\n",
              "      display:flex;\n",
              "      flex-wrap:wrap;\n",
              "      gap: 12px;\n",
              "    }\n",
              "\n",
              "    .colab-df-convert {\n",
              "      background-color: #E8F0FE;\n",
              "      border: none;\n",
              "      border-radius: 50%;\n",
              "      cursor: pointer;\n",
              "      display: none;\n",
              "      fill: #1967D2;\n",
              "      height: 32px;\n",
              "      padding: 0 0 0 0;\n",
              "      width: 32px;\n",
              "    }\n",
              "\n",
              "    .colab-df-convert:hover {\n",
              "      background-color: #E2EBFA;\n",
              "      box-shadow: 0px 1px 2px rgba(60, 64, 67, 0.3), 0px 1px 3px 1px rgba(60, 64, 67, 0.15);\n",
              "      fill: #174EA6;\n",
              "    }\n",
              "\n",
              "    [theme=dark] .colab-df-convert {\n",
              "      background-color: #3B4455;\n",
              "      fill: #D2E3FC;\n",
              "    }\n",
              "\n",
              "    [theme=dark] .colab-df-convert:hover {\n",
              "      background-color: #434B5C;\n",
              "      box-shadow: 0px 1px 3px 1px rgba(0, 0, 0, 0.15);\n",
              "      filter: drop-shadow(0px 1px 2px rgba(0, 0, 0, 0.3));\n",
              "      fill: #FFFFFF;\n",
              "    }\n",
              "  </style>\n",
              "\n",
              "      <script>\n",
              "        const buttonEl =\n",
              "          document.querySelector('#df-68cbb26e-23bb-4d70-a9fe-9b045fc2564a button.colab-df-convert');\n",
              "        buttonEl.style.display =\n",
              "          google.colab.kernel.accessAllowed ? 'block' : 'none';\n",
              "\n",
              "        async function convertToInteractive(key) {\n",
              "          const element = document.querySelector('#df-68cbb26e-23bb-4d70-a9fe-9b045fc2564a');\n",
              "          const dataTable =\n",
              "            await google.colab.kernel.invokeFunction('convertToInteractive',\n",
              "                                                     [key], {});\n",
              "          if (!dataTable) return;\n",
              "\n",
              "          const docLinkHtml = 'Like what you see? Visit the ' +\n",
              "            '<a target=\"_blank\" href=https://colab.research.google.com/notebooks/data_table.ipynb>data table notebook</a>'\n",
              "            + ' to learn more about interactive tables.';\n",
              "          element.innerHTML = '';\n",
              "          dataTable['output_type'] = 'display_data';\n",
              "          await google.colab.output.renderOutput(dataTable, element);\n",
              "          const docLink = document.createElement('div');\n",
              "          docLink.innerHTML = docLinkHtml;\n",
              "          element.appendChild(docLink);\n",
              "        }\n",
              "      </script>\n",
              "    </div>\n",
              "  </div>\n",
              "  "
            ]
          },
          "metadata": {},
          "execution_count": 44
        }
      ]
    },
    {
      "cell_type": "code",
      "source": [
        "sns.heatmap(df_num.corr(), vmin=-1)\n"
      ],
      "metadata": {
        "colab": {
          "base_uri": "https://localhost:8080/",
          "height": 400
        },
        "id": "-mKNV2iukJf1",
        "outputId": "63a6e0ff-f2dd-4d1a-ac82-72bd5c2c7610"
      },
      "id": "-mKNV2iukJf1",
      "execution_count": null,
      "outputs": [
        {
          "output_type": "execute_result",
          "data": {
            "text/plain": [
              "<AxesSubplot:>"
            ]
          },
          "metadata": {},
          "execution_count": 45
        },
        {
          "output_type": "display_data",
          "data": {
            "text/plain": [
              "<Figure size 432x288 with 2 Axes>"
            ],
            "image/png": "[encoded data removed]"
          },
          "metadata": {
            "needs_background": "light"
          }
        }
      ]
    },
    {
      "cell_type": "markdown",
      "source": [
        "Como podemos ver acima, as variáveis numéricas que têm maior correlação são 'pais_filhos_abordo' e 'irmaos_conjuges_abordo', correlação de 0.414838, o que faz sentido, já que pais tendem a viajar com seus vários filhos e cônjuges tendem a viajar juntos."
      ],
      "metadata": {
        "id": "EgOO0lQXk7a3"
      },
      "id": "EgOO0lQXk7a3"
    },
    {
      "cell_type": "markdown",
      "source": [
        "Observamos que a coluna 'sobreviveu' é do tipo boolean, tendo valores 'true' ou 'false'. Para melhor análise do dataset vamos transformar os valores do tipo boolean em valores do tipo int, passando o valor 'true' a ser 1 e o valor 'false' a ser 0, ou seja, se a pessoa sobreviveu constará o valor 1, se a pessoa não sobreviveu constará o valor 0."
      ],
      "metadata": {
        "id": "ZoR8sKOV56vx"
      },
      "id": "ZoR8sKOV56vx"
    },
    {
      "cell_type": "code",
      "source": [
        "df.sobreviveu = df.sobreviveu.replace({True: 1, False: 0})"
      ],
      "metadata": {
        "id": "wfLTiKTi5sym"
      },
      "id": "wfLTiKTi5sym",
      "execution_count": null,
      "outputs": []
    },
    {
      "cell_type": "code",
      "source": [
        "df.head()"
      ],
      "metadata": {
        "colab": {
          "base_uri": "https://localhost:8080/",
          "height": 319
        },
        "id": "w9OP-3sU52NP",
        "outputId": "09779dc6-3a0e-48e1-d7de-fae585bc0fec"
      },
      "id": "w9OP-3sU52NP",
      "execution_count": null,
      "outputs": [
        {
          "output_type": "execute_result",
          "data": {
            "text/plain": [
              "               sobreviveu  classe_bilhete genero  idade  \\\n",
              "id_passageiro                                             \n",
              "1                       0               3      M   22.0   \n",
              "2                       1               1      F   38.0   \n",
              "3                       1               3      F   26.0   \n",
              "4                       1               1      F   35.0   \n",
              "5                       0               3      M   35.0   \n",
              "\n",
              "               irmaos_conjuges_abordo  pais_filhos_abordo    numero_bilhete  \\\n",
              "id_passageiro                                                                 \n",
              "1                                   1                   0         A/5 21171   \n",
              "2                                   1                   0          PC 17599   \n",
              "3                                   0                   0  STON/O2. 3101282   \n",
              "4                                   1                   0            113803   \n",
              "5                                   0                   0            373450   \n",
              "\n",
              "               preco_bilhete cabine_numero local_embarque  \n",
              "id_passageiro                                              \n",
              "1                     7.2500           NaN    Southampton  \n",
              "2                    71.2833           C85      Cherbourg  \n",
              "3                     7.9250           NaN    Southampton  \n",
              "4                    53.1000          C123    Southampton  \n",
              "5                     8.0500           NaN    Southampton  "
            ],
            "text/html": [
              "\n",
              "  <div id=\"df-69f7891c-4de3-43f3-8f94-ae478606dc68\">\n",
              "    <div class=\"colab-df-container\">\n",
              "      <div>\n",
              "<style scoped>\n",
              "    .dataframe tbody tr th:only-of-type {\n",
              "        vertical-align: middle;\n",
              "    }\n",
              "\n",
              "    .dataframe tbody tr th {\n",
              "        vertical-align: top;\n",
              "    }\n",
              "\n",
              "    .dataframe thead th {\n",
              "        text-align: right;\n",
              "    }\n",
              "</style>\n",
              "<table border=\"1\" class=\"dataframe\">\n",
              "  <thead>\n",
              "    <tr style=\"text-align: right;\">\n",
              "      <th></th>\n",
              "      <th>sobreviveu</th>\n",
              "      <th>classe_bilhete</th>\n",
              "      <th>genero</th>\n",
              "      <th>idade</th>\n",
              "      <th>irmaos_conjuges_abordo</th>\n",
              "      <th>pais_filhos_abordo</th>\n",
              "      <th>numero_bilhete</th>\n",
              "      <th>preco_bilhete</th>\n",
              "      <th>cabine_numero</th>\n",
              "      <th>local_embarque</th>\n",
              "    </tr>\n",
              "    <tr>\n",
              "      <th>id_passageiro</th>\n",
              "      <th></th>\n",
              "      <th></th>\n",
              "      <th></th>\n",
              "      <th></th>\n",
              "      <th></th>\n",
              "      <th></th>\n",
              "      <th></th>\n",
              "      <th></th>\n",
              "      <th></th>\n",
              "      <th></th>\n",
              "    </tr>\n",
              "  </thead>\n",
              "  <tbody>\n",
              "    <tr>\n",
              "      <th>1</th>\n",
              "      <td>0</td>\n",
              "      <td>3</td>\n",
              "      <td>M</td>\n",
              "      <td>22.0</td>\n",
              "      <td>1</td>\n",
              "      <td>0</td>\n",
              "      <td>A/5 21171</td>\n",
              "      <td>7.2500</td>\n",
              "      <td>NaN</td>\n",
              "      <td>Southampton</td>\n",
              "    </tr>\n",
              "    <tr>\n",
              "      <th>2</th>\n",
              "      <td>1</td>\n",
              "      <td>1</td>\n",
              "      <td>F</td>\n",
              "      <td>38.0</td>\n",
              "      <td>1</td>\n",
              "      <td>0</td>\n",
              "      <td>PC 17599</td>\n",
              "      <td>71.2833</td>\n",
              "      <td>C85</td>\n",
              "      <td>Cherbourg</td>\n",
              "    </tr>\n",
              "    <tr>\n",
              "      <th>3</th>\n",
              "      <td>1</td>\n",
              "      <td>3</td>\n",
              "      <td>F</td>\n",
              "      <td>26.0</td>\n",
              "      <td>0</td>\n",
              "      <td>0</td>\n",
              "      <td>STON/O2. 3101282</td>\n",
              "      <td>7.9250</td>\n",
              "      <td>NaN</td>\n",
              "      <td>Southampton</td>\n",
              "    </tr>\n",
              "    <tr>\n",
              "      <th>4</th>\n",
              "      <td>1</td>\n",
              "      <td>1</td>\n",
              "      <td>F</td>\n",
              "      <td>35.0</td>\n",
              "      <td>1</td>\n",
              "      <td>0</td>\n",
              "      <td>113803</td>\n",
              "      <td>53.1000</td>\n",
              "      <td>C123</td>\n",
              "      <td>Southampton</td>\n",
              "    </tr>\n",
              "    <tr>\n",
              "      <th>5</th>\n",
              "      <td>0</td>\n",
              "      <td>3</td>\n",
              "      <td>M</td>\n",
              "      <td>35.0</td>\n",
              "      <td>0</td>\n",
              "      <td>0</td>\n",
              "      <td>373450</td>\n",
              "      <td>8.0500</td>\n",
              "      <td>NaN</td>\n",
              "      <td>Southampton</td>\n",
              "    </tr>\n",
              "  </tbody>\n",
              "</table>\n",
              "</div>\n",
              "      <button class=\"colab-df-convert\" onclick=\"convertToInteractive('df-69f7891c-4de3-43f3-8f94-ae478606dc68')\"\n",
              "              title=\"Convert this dataframe to an interactive table.\"\n",
              "              style=\"display:none;\">\n",
              "        \n",
              "  <svg xmlns=\"http://www.w3.org/2000/svg\" height=\"24px\"viewBox=\"0 0 24 24\"\n",
              "       width=\"24px\">\n",
              "    <path d=\"M0 0h24v24H0V0z\" fill=\"none\"/>\n",
              "    <path d=\"M18.56 5.44l.94 2.06.94-2.06 2.06-.94-2.06-.94-.94-2.06-.94 2.06-2.06.94zm-11 1L8.5 8.5l.94-2.06 2.06-.94-2.06-.94L8.5 2.5l-.94 2.06-2.06.94zm10 10l.94 2.06.94-2.06 2.06-.94-2.06-.94-.94-2.06-.94 2.06-2.06.94z\"/><path d=\"M17.41 7.96l-1.37-1.37c-.4-.4-.92-.59-1.43-.59-.52 0-1.04.2-1.43.59L10.3 9.45l-7.72 7.72c-.78.78-.78 2.05 0 2.83L4 21.41c.39.39.9.59 1.41.59.51 0 1.02-.2 1.41-.59l7.78-7.78 2.81-2.81c.8-.78.8-2.07 0-2.86zM5.41 20L4 18.59l7.72-7.72 1.47 1.35L5.41 20z\"/>\n",
              "  </svg>\n",
              "      </button>\n",
              "      \n",
              "  <style>\n",
              "    .colab-df-container {\n",
              "      display:flex;\n",
              "      flex-wrap:wrap;\n",
              "      gap: 12px;\n",
              "    }\n",
              "\n",
              "    .colab-df-convert {\n",
              "      background-color: #E8F0FE;\n",
              "      border: none;\n",
              "      border-radius: 50%;\n",
              "      cursor: pointer;\n",
              "      display: none;\n",
              "      fill: #1967D2;\n",
              "      height: 32px;\n",
              "      padding: 0 0 0 0;\n",
              "      width: 32px;\n",
              "    }\n",
              "\n",
              "    .colab-df-convert:hover {\n",
              "      background-color: #E2EBFA;\n",
              "      box-shadow: 0px 1px 2px rgba(60, 64, 67, 0.3), 0px 1px 3px 1px rgba(60, 64, 67, 0.15);\n",
              "      fill: #174EA6;\n",
              "    }\n",
              "\n",
              "    [theme=dark] .colab-df-convert {\n",
              "      background-color: #3B4455;\n",
              "      fill: #D2E3FC;\n",
              "    }\n",
              "\n",
              "    [theme=dark] .colab-df-convert:hover {\n",
              "      background-color: #434B5C;\n",
              "      box-shadow: 0px 1px 3px 1px rgba(0, 0, 0, 0.15);\n",
              "      filter: drop-shadow(0px 1px 2px rgba(0, 0, 0, 0.3));\n",
              "      fill: #FFFFFF;\n",
              "    }\n",
              "  </style>\n",
              "\n",
              "      <script>\n",
              "        const buttonEl =\n",
              "          document.querySelector('#df-69f7891c-4de3-43f3-8f94-ae478606dc68 button.colab-df-convert');\n",
              "        buttonEl.style.display =\n",
              "          google.colab.kernel.accessAllowed ? 'block' : 'none';\n",
              "\n",
              "        async function convertToInteractive(key) {\n",
              "          const element = document.querySelector('#df-69f7891c-4de3-43f3-8f94-ae478606dc68');\n",
              "          const dataTable =\n",
              "            await google.colab.kernel.invokeFunction('convertToInteractive',\n",
              "                                                     [key], {});\n",
              "          if (!dataTable) return;\n",
              "\n",
              "          const docLinkHtml = 'Like what you see? Visit the ' +\n",
              "            '<a target=\"_blank\" href=https://colab.research.google.com/notebooks/data_table.ipynb>data table notebook</a>'\n",
              "            + ' to learn more about interactive tables.';\n",
              "          element.innerHTML = '';\n",
              "          dataTable['output_type'] = 'display_data';\n",
              "          await google.colab.output.renderOutput(dataTable, element);\n",
              "          const docLink = document.createElement('div');\n",
              "          docLink.innerHTML = docLinkHtml;\n",
              "          element.appendChild(docLink);\n",
              "        }\n",
              "      </script>\n",
              "    </div>\n",
              "  </div>\n",
              "  "
            ]
          },
          "metadata": {},
          "execution_count": 47
        }
      ]
    },
    {
      "cell_type": "markdown",
      "id": "0d7c2f4b",
      "metadata": {
        "id": "0d7c2f4b"
      },
      "source": [
        "##  Visualize e entenda todas as colunas categóricas.\n",
        "#### Perguntas guias para as categorias categóricas:\n",
        "- Existem dados faltantes no seu conjunto? \n",
        "- Conseguimos extrair alguma informação nas colunas `numero_bilhete` e `cabine_numero`? ([Dica](https://pt.wikipedia.org/wiki/Instala%C3%A7%C3%B5es_da_primeira_classe_do_RMS_Titanic))\n",
        "- Existe alguma casualidade ou correlação entre as categorias?\n",
        "- Existe alguma relação entre a `classe_bilhete` e o `cabine_numero`?\n",
        "\n",
        "\n"
      ]
    },
    {
      "cell_type": "markdown",
      "source": [
        "Distribuição das variáveis categóricas:\n"
      ],
      "metadata": {
        "id": "3vOgEdkYCB-7"
      },
      "id": "3vOgEdkYCB-7"
    },
    {
      "cell_type": "code",
      "source": [
        "from matplotlib import pyplot as plt\n",
        "fig, axes = plt.subplots(1, 4, figsize=(20, 6), sharey=True)\n",
        "fig.suptitle('Distribuição das variáveis categóricas:')\n",
        "sns.countplot(ax=axes[0], x=\"classe_bilhete\", data=df, color=\"#00BFFF\")\n",
        "b = sns.countplot(ax=axes[1], x=\"genero\", data=df, hue='genero')\n",
        "b.legend(labels = ['homem', 'mulher'])\n",
        "sns.countplot(ax=axes[2], x=\"local_embarque\", data=df, color=\"#FF1493\")\n",
        "c= sns.countplot(ax=axes[3], x=\"sobreviveu\", data=df, hue='sobreviveu')\n",
        "c.legend(labels = ['não sobreviveu', 'sobreviveu'])\n",
        "\n",
        "plt.show()"
      ],
      "metadata": {
        "colab": {
          "base_uri": "https://localhost:8080/",
          "height": 428
        },
        "id": "v6QgJ938CFYY",
        "outputId": "d6611262-27bd-4314-c431-9f8224013be1"
      },
      "id": "v6QgJ938CFYY",
      "execution_count": null,
      "outputs": [
        {
          "output_type": "display_data",
          "data": {
            "text/plain": [
              "<Figure size 1440x432 with 4 Axes>"
            ],
            "image/png": "[encoded data removed]"
          },
          "metadata": {
            "needs_background": "light"
          }
        }
      ]
    },
    {
      "cell_type": "markdown",
      "source": [
        "A seguir apresentamos quais colunas de valores categóricos apresentam valores nulos (dados faltantes):"
      ],
      "metadata": {
        "id": "QjexFI_Dax57"
      },
      "id": "QjexFI_Dax57"
    },
    {
      "cell_type": "code",
      "source": [
        "enulo(categorica)"
      ],
      "metadata": {
        "id": "iETglA99D2cG",
        "colab": {
          "base_uri": "https://localhost:8080/"
        },
        "outputId": "a392cd85-927b-41da-e7d0-3ee21d04c279"
      },
      "id": "iETglA99D2cG",
      "execution_count": null,
      "outputs": [
        {
          "output_type": "stream",
          "name": "stdout",
          "text": [
            "Na coluna classe_bilhete NÃO há valores nulos.\n",
            "\n",
            "Na coluna genero NÃO há valores nulos.\n",
            "\n",
            "Na coluna numero_bilhete NÃO há valores nulos.\n",
            "\n",
            "Na coluna cabine_numero HÁ 687 valores nulos.\n",
            "\n",
            "Na coluna local_embarque HÁ 2 valores nulos.\n",
            "\n",
            "Na coluna sobreviveu NÃO há valores nulos.\n",
            "\n"
          ]
        }
      ]
    },
    {
      "cell_type": "code",
      "source": [
        "print(\"Resumo dos valores nulos da parte categórica do dataset:\\n\")\n",
        "nullsummary(categorica)"
      ],
      "metadata": {
        "id": "Ik8o4mOWWqA7",
        "colab": {
          "base_uri": "https://localhost:8080/"
        },
        "outputId": "d0f9ff71-5942-4504-e6d6-a0a8cff88ebd"
      },
      "id": "Ik8o4mOWWqA7",
      "execution_count": null,
      "outputs": [
        {
          "output_type": "stream",
          "name": "stdout",
          "text": [
            "Resumo dos valores nulos da parte categórica do dataset:\n",
            "\n",
            "classe_bilhete : 0 valores nulos.\n",
            "\n",
            "genero : 0 valores nulos.\n",
            "\n",
            "numero_bilhete : 0 valores nulos.\n",
            "\n",
            "cabine_numero : 687 valores nulos.\n",
            "\n",
            "local_embarque : 2 valores nulos.\n",
            "\n",
            "sobreviveu : 0 valores nulos.\n",
            "\n"
          ]
        }
      ]
    },
    {
      "cell_type": "code",
      "execution_count": null,
      "id": "301769d7",
      "metadata": {
        "id": "301769d7"
      },
      "outputs": [],
      "source": [
        "#Criando um dataset apenas com as variáveis categóricas:\n",
        "df_cat = df[['classe_bilhete','genero','numero_bilhete','cabine_numero', 'local_embarque', 'sobreviveu']]\n",
        "\n"
      ]
    },
    {
      "cell_type": "code",
      "source": [
        "df_cat.head()"
      ],
      "metadata": {
        "colab": {
          "base_uri": "https://localhost:8080/",
          "height": 237
        },
        "id": "xREcf9eIUesU",
        "outputId": "3ff518c0-3bae-48b4-edd8-008cd8493fda"
      },
      "id": "xREcf9eIUesU",
      "execution_count": null,
      "outputs": [
        {
          "output_type": "execute_result",
          "data": {
            "text/plain": [
              "               classe_bilhete genero    numero_bilhete cabine_numero  \\\n",
              "id_passageiro                                                          \n",
              "1                           3      M         A/5 21171           NaN   \n",
              "2                           1      F          PC 17599           C85   \n",
              "3                           3      F  STON/O2. 3101282           NaN   \n",
              "4                           1      F            113803          C123   \n",
              "5                           3      M            373450           NaN   \n",
              "\n",
              "              local_embarque  sobreviveu  \n",
              "id_passageiro                             \n",
              "1                Southampton           0  \n",
              "2                  Cherbourg           1  \n",
              "3                Southampton           1  \n",
              "4                Southampton           1  \n",
              "5                Southampton           0  "
            ],
            "text/html": [
              "\n",
              "  <div id=\"df-b2566c09-cb99-465f-97e8-fafb6991b66f\">\n",
              "    <div class=\"colab-df-container\">\n",
              "      <div>\n",
              "<style scoped>\n",
              "    .dataframe tbody tr th:only-of-type {\n",
              "        vertical-align: middle;\n",
              "    }\n",
              "\n",
              "    .dataframe tbody tr th {\n",
              "        vertical-align: top;\n",
              "    }\n",
              "\n",
              "    .dataframe thead th {\n",
              "        text-align: right;\n",
              "    }\n",
              "</style>\n",
              "<table border=\"1\" class=\"dataframe\">\n",
              "  <thead>\n",
              "    <tr style=\"text-align: right;\">\n",
              "      <th></th>\n",
              "      <th>classe_bilhete</th>\n",
              "      <th>genero</th>\n",
              "      <th>numero_bilhete</th>\n",
              "      <th>cabine_numero</th>\n",
              "      <th>local_embarque</th>\n",
              "      <th>sobreviveu</th>\n",
              "    </tr>\n",
              "    <tr>\n",
              "      <th>id_passageiro</th>\n",
              "      <th></th>\n",
              "      <th></th>\n",
              "      <th></th>\n",
              "      <th></th>\n",
              "      <th></th>\n",
              "      <th></th>\n",
              "    </tr>\n",
              "  </thead>\n",
              "  <tbody>\n",
              "    <tr>\n",
              "      <th>1</th>\n",
              "      <td>3</td>\n",
              "      <td>M</td>\n",
              "      <td>A/5 21171</td>\n",
              "      <td>NaN</td>\n",
              "      <td>Southampton</td>\n",
              "      <td>0</td>\n",
              "    </tr>\n",
              "    <tr>\n",
              "      <th>2</th>\n",
              "      <td>1</td>\n",
              "      <td>F</td>\n",
              "      <td>PC 17599</td>\n",
              "      <td>C85</td>\n",
              "      <td>Cherbourg</td>\n",
              "      <td>1</td>\n",
              "    </tr>\n",
              "    <tr>\n",
              "      <th>3</th>\n",
              "      <td>3</td>\n",
              "      <td>F</td>\n",
              "      <td>STON/O2. 3101282</td>\n",
              "      <td>NaN</td>\n",
              "      <td>Southampton</td>\n",
              "      <td>1</td>\n",
              "    </tr>\n",
              "    <tr>\n",
              "      <th>4</th>\n",
              "      <td>1</td>\n",
              "      <td>F</td>\n",
              "      <td>113803</td>\n",
              "      <td>C123</td>\n",
              "      <td>Southampton</td>\n",
              "      <td>1</td>\n",
              "    </tr>\n",
              "    <tr>\n",
              "      <th>5</th>\n",
              "      <td>3</td>\n",
              "      <td>M</td>\n",
              "      <td>373450</td>\n",
              "      <td>NaN</td>\n",
              "      <td>Southampton</td>\n",
              "      <td>0</td>\n",
              "    </tr>\n",
              "  </tbody>\n",
              "</table>\n",
              "</div>\n",
              "      <button class=\"colab-df-convert\" onclick=\"convertToInteractive('df-b2566c09-cb99-465f-97e8-fafb6991b66f')\"\n",
              "              title=\"Convert this dataframe to an interactive table.\"\n",
              "              style=\"display:none;\">\n",
              "        \n",
              "  <svg xmlns=\"http://www.w3.org/2000/svg\" height=\"24px\"viewBox=\"0 0 24 24\"\n",
              "       width=\"24px\">\n",
              "    <path d=\"M0 0h24v24H0V0z\" fill=\"none\"/>\n",
              "    <path d=\"M18.56 5.44l.94 2.06.94-2.06 2.06-.94-2.06-.94-.94-2.06-.94 2.06-2.06.94zm-11 1L8.5 8.5l.94-2.06 2.06-.94-2.06-.94L8.5 2.5l-.94 2.06-2.06.94zm10 10l.94 2.06.94-2.06 2.06-.94-2.06-.94-.94-2.06-.94 2.06-2.06.94z\"/><path d=\"M17.41 7.96l-1.37-1.37c-.4-.4-.92-.59-1.43-.59-.52 0-1.04.2-1.43.59L10.3 9.45l-7.72 7.72c-.78.78-.78 2.05 0 2.83L4 21.41c.39.39.9.59 1.41.59.51 0 1.02-.2 1.41-.59l7.78-7.78 2.81-2.81c.8-.78.8-2.07 0-2.86zM5.41 20L4 18.59l7.72-7.72 1.47 1.35L5.41 20z\"/>\n",
              "  </svg>\n",
              "      </button>\n",
              "      \n",
              "  <style>\n",
              "    .colab-df-container {\n",
              "      display:flex;\n",
              "      flex-wrap:wrap;\n",
              "      gap: 12px;\n",
              "    }\n",
              "\n",
              "    .colab-df-convert {\n",
              "      background-color: #E8F0FE;\n",
              "      border: none;\n",
              "      border-radius: 50%;\n",
              "      cursor: pointer;\n",
              "      display: none;\n",
              "      fill: #1967D2;\n",
              "      height: 32px;\n",
              "      padding: 0 0 0 0;\n",
              "      width: 32px;\n",
              "    }\n",
              "\n",
              "    .colab-df-convert:hover {\n",
              "      background-color: #E2EBFA;\n",
              "      box-shadow: 0px 1px 2px rgba(60, 64, 67, 0.3), 0px 1px 3px 1px rgba(60, 64, 67, 0.15);\n",
              "      fill: #174EA6;\n",
              "    }\n",
              "\n",
              "    [theme=dark] .colab-df-convert {\n",
              "      background-color: #3B4455;\n",
              "      fill: #D2E3FC;\n",
              "    }\n",
              "\n",
              "    [theme=dark] .colab-df-convert:hover {\n",
              "      background-color: #434B5C;\n",
              "      box-shadow: 0px 1px 3px 1px rgba(0, 0, 0, 0.15);\n",
              "      filter: drop-shadow(0px 1px 2px rgba(0, 0, 0, 0.3));\n",
              "      fill: #FFFFFF;\n",
              "    }\n",
              "  </style>\n",
              "\n",
              "      <script>\n",
              "        const buttonEl =\n",
              "          document.querySelector('#df-b2566c09-cb99-465f-97e8-fafb6991b66f button.colab-df-convert');\n",
              "        buttonEl.style.display =\n",
              "          google.colab.kernel.accessAllowed ? 'block' : 'none';\n",
              "\n",
              "        async function convertToInteractive(key) {\n",
              "          const element = document.querySelector('#df-b2566c09-cb99-465f-97e8-fafb6991b66f');\n",
              "          const dataTable =\n",
              "            await google.colab.kernel.invokeFunction('convertToInteractive',\n",
              "                                                     [key], {});\n",
              "          if (!dataTable) return;\n",
              "\n",
              "          const docLinkHtml = 'Like what you see? Visit the ' +\n",
              "            '<a target=\"_blank\" href=https://colab.research.google.com/notebooks/data_table.ipynb>data table notebook</a>'\n",
              "            + ' to learn more about interactive tables.';\n",
              "          element.innerHTML = '';\n",
              "          dataTable['output_type'] = 'display_data';\n",
              "          await google.colab.output.renderOutput(dataTable, element);\n",
              "          const docLink = document.createElement('div');\n",
              "          docLink.innerHTML = docLinkHtml;\n",
              "          element.appendChild(docLink);\n",
              "        }\n",
              "      </script>\n",
              "    </div>\n",
              "  </div>\n",
              "  "
            ]
          },
          "metadata": {},
          "execution_count": 52
        }
      ]
    },
    {
      "cell_type": "code",
      "source": [
        "df_cat.genero = df.genero.replace({'F': 1, 'M': 0})"
      ],
      "metadata": {
        "colab": {
          "base_uri": "https://localhost:8080/"
        },
        "id": "_kOFGTzjXBlP",
        "outputId": "5679a3e7-533d-48c8-9e4f-699d25f6cdda"
      },
      "id": "_kOFGTzjXBlP",
      "execution_count": null,
      "outputs": [
        {
          "output_type": "stream",
          "name": "stderr",
          "text": [
            "/usr/local/lib/python3.7/dist-packages/pandas/core/generic.py:5168: SettingWithCopyWarning: \n",
            "A value is trying to be set on a copy of a slice from a DataFrame.\n",
            "Try using .loc[row_indexer,col_indexer] = value instead\n",
            "\n",
            "See the caveats in the documentation: https://pandas.pydata.org/pandas-docs/stable/user_guide/indexing.html#returning-a-view-versus-a-copy\n",
            "  self[name] = value\n"
          ]
        }
      ]
    },
    {
      "cell_type": "code",
      "source": [
        "df_cat['local_embarque'].unique()"
      ],
      "metadata": {
        "colab": {
          "base_uri": "https://localhost:8080/"
        },
        "id": "qQMN5WByXcn9",
        "outputId": "2e76fae1-5793-4369-90a8-75301a23f7bd"
      },
      "id": "qQMN5WByXcn9",
      "execution_count": null,
      "outputs": [
        {
          "output_type": "execute_result",
          "data": {
            "text/plain": [
              "array(['Southampton', 'Cherbourg', 'Queenstown', nan], dtype=object)"
            ]
          },
          "metadata": {},
          "execution_count": 54
        }
      ]
    },
    {
      "cell_type": "code",
      "source": [
        "dummies= pd.get_dummies(df_cat.local_embarque)\n",
        "dummies"
      ],
      "metadata": {
        "colab": {
          "base_uri": "https://localhost:8080/",
          "height": 455
        },
        "id": "1eWQPhbptu_A",
        "outputId": "28e3880f-bf38-4bc8-820e-bcbb0741ba78"
      },
      "id": "1eWQPhbptu_A",
      "execution_count": null,
      "outputs": [
        {
          "output_type": "execute_result",
          "data": {
            "text/plain": [
              "               Cherbourg  Queenstown  Southampton\n",
              "id_passageiro                                    \n",
              "1                      0           0            1\n",
              "2                      1           0            0\n",
              "3                      0           0            1\n",
              "4                      0           0            1\n",
              "5                      0           0            1\n",
              "...                  ...         ...          ...\n",
              "887                    0           0            1\n",
              "888                    0           0            1\n",
              "889                    0           0            1\n",
              "890                    1           0            0\n",
              "891                    0           1            0\n",
              "\n",
              "[891 rows x 3 columns]"
            ],
            "text/html": [
              "\n",
              "  <div id=\"df-4e00cc50-6380-4236-b978-14ee2e5caada\">\n",
              "    <div class=\"colab-df-container\">\n",
              "      <div>\n",
              "<style scoped>\n",
              "    .dataframe tbody tr th:only-of-type {\n",
              "        vertical-align: middle;\n",
              "    }\n",
              "\n",
              "    .dataframe tbody tr th {\n",
              "        vertical-align: top;\n",
              "    }\n",
              "\n",
              "    .dataframe thead th {\n",
              "        text-align: right;\n",
              "    }\n",
              "</style>\n",
              "<table border=\"1\" class=\"dataframe\">\n",
              "  <thead>\n",
              "    <tr style=\"text-align: right;\">\n",
              "      <th></th>\n",
              "      <th>Cherbourg</th>\n",
              "      <th>Queenstown</th>\n",
              "      <th>Southampton</th>\n",
              "    </tr>\n",
              "    <tr>\n",
              "      <th>id_passageiro</th>\n",
              "      <th></th>\n",
              "      <th></th>\n",
              "      <th></th>\n",
              "    </tr>\n",
              "  </thead>\n",
              "  <tbody>\n",
              "    <tr>\n",
              "      <th>1</th>\n",
              "      <td>0</td>\n",
              "      <td>0</td>\n",
              "      <td>1</td>\n",
              "    </tr>\n",
              "    <tr>\n",
              "      <th>2</th>\n",
              "      <td>1</td>\n",
              "      <td>0</td>\n",
              "      <td>0</td>\n",
              "    </tr>\n",
              "    <tr>\n",
              "      <th>3</th>\n",
              "      <td>0</td>\n",
              "      <td>0</td>\n",
              "      <td>1</td>\n",
              "    </tr>\n",
              "    <tr>\n",
              "      <th>4</th>\n",
              "      <td>0</td>\n",
              "      <td>0</td>\n",
              "      <td>1</td>\n",
              "    </tr>\n",
              "    <tr>\n",
              "      <th>5</th>\n",
              "      <td>0</td>\n",
              "      <td>0</td>\n",
              "      <td>1</td>\n",
              "    </tr>\n",
              "    <tr>\n",
              "      <th>...</th>\n",
              "      <td>...</td>\n",
              "      <td>...</td>\n",
              "      <td>...</td>\n",
              "    </tr>\n",
              "    <tr>\n",
              "      <th>887</th>\n",
              "      <td>0</td>\n",
              "      <td>0</td>\n",
              "      <td>1</td>\n",
              "    </tr>\n",
              "    <tr>\n",
              "      <th>888</th>\n",
              "      <td>0</td>\n",
              "      <td>0</td>\n",
              "      <td>1</td>\n",
              "    </tr>\n",
              "    <tr>\n",
              "      <th>889</th>\n",
              "      <td>0</td>\n",
              "      <td>0</td>\n",
              "      <td>1</td>\n",
              "    </tr>\n",
              "    <tr>\n",
              "      <th>890</th>\n",
              "      <td>1</td>\n",
              "      <td>0</td>\n",
              "      <td>0</td>\n",
              "    </tr>\n",
              "    <tr>\n",
              "      <th>891</th>\n",
              "      <td>0</td>\n",
              "      <td>1</td>\n",
              "      <td>0</td>\n",
              "    </tr>\n",
              "  </tbody>\n",
              "</table>\n",
              "<p>891 rows × 3 columns</p>\n",
              "</div>\n",
              "      <button class=\"colab-df-convert\" onclick=\"convertToInteractive('df-4e00cc50-6380-4236-b978-14ee2e5caada')\"\n",
              "              title=\"Convert this dataframe to an interactive table.\"\n",
              "              style=\"display:none;\">\n",
              "        \n",
              "  <svg xmlns=\"http://www.w3.org/2000/svg\" height=\"24px\"viewBox=\"0 0 24 24\"\n",
              "       width=\"24px\">\n",
              "    <path d=\"M0 0h24v24H0V0z\" fill=\"none\"/>\n",
              "    <path d=\"M18.56 5.44l.94 2.06.94-2.06 2.06-.94-2.06-.94-.94-2.06-.94 2.06-2.06.94zm-11 1L8.5 8.5l.94-2.06 2.06-.94-2.06-.94L8.5 2.5l-.94 2.06-2.06.94zm10 10l.94 2.06.94-2.06 2.06-.94-2.06-.94-.94-2.06-.94 2.06-2.06.94z\"/><path d=\"M17.41 7.96l-1.37-1.37c-.4-.4-.92-.59-1.43-.59-.52 0-1.04.2-1.43.59L10.3 9.45l-7.72 7.72c-.78.78-.78 2.05 0 2.83L4 21.41c.39.39.9.59 1.41.59.51 0 1.02-.2 1.41-.59l7.78-7.78 2.81-2.81c.8-.78.8-2.07 0-2.86zM5.41 20L4 18.59l7.72-7.72 1.47 1.35L5.41 20z\"/>\n",
              "  </svg>\n",
              "      </button>\n",
              "      \n",
              "  <style>\n",
              "    .colab-df-container {\n",
              "      display:flex;\n",
              "      flex-wrap:wrap;\n",
              "      gap: 12px;\n",
              "    }\n",
              "\n",
              "    .colab-df-convert {\n",
              "      background-color: #E8F0FE;\n",
              "      border: none;\n",
              "      border-radius: 50%;\n",
              "      cursor: pointer;\n",
              "      display: none;\n",
              "      fill: #1967D2;\n",
              "      height: 32px;\n",
              "      padding: 0 0 0 0;\n",
              "      width: 32px;\n",
              "    }\n",
              "\n",
              "    .colab-df-convert:hover {\n",
              "      background-color: #E2EBFA;\n",
              "      box-shadow: 0px 1px 2px rgba(60, 64, 67, 0.3), 0px 1px 3px 1px rgba(60, 64, 67, 0.15);\n",
              "      fill: #174EA6;\n",
              "    }\n",
              "\n",
              "    [theme=dark] .colab-df-convert {\n",
              "      background-color: #3B4455;\n",
              "      fill: #D2E3FC;\n",
              "    }\n",
              "\n",
              "    [theme=dark] .colab-df-convert:hover {\n",
              "      background-color: #434B5C;\n",
              "      box-shadow: 0px 1px 3px 1px rgba(0, 0, 0, 0.15);\n",
              "      filter: drop-shadow(0px 1px 2px rgba(0, 0, 0, 0.3));\n",
              "      fill: #FFFFFF;\n",
              "    }\n",
              "  </style>\n",
              "\n",
              "      <script>\n",
              "        const buttonEl =\n",
              "          document.querySelector('#df-4e00cc50-6380-4236-b978-14ee2e5caada button.colab-df-convert');\n",
              "        buttonEl.style.display =\n",
              "          google.colab.kernel.accessAllowed ? 'block' : 'none';\n",
              "\n",
              "        async function convertToInteractive(key) {\n",
              "          const element = document.querySelector('#df-4e00cc50-6380-4236-b978-14ee2e5caada');\n",
              "          const dataTable =\n",
              "            await google.colab.kernel.invokeFunction('convertToInteractive',\n",
              "                                                     [key], {});\n",
              "          if (!dataTable) return;\n",
              "\n",
              "          const docLinkHtml = 'Like what you see? Visit the ' +\n",
              "            '<a target=\"_blank\" href=https://colab.research.google.com/notebooks/data_table.ipynb>data table notebook</a>'\n",
              "            + ' to learn more about interactive tables.';\n",
              "          element.innerHTML = '';\n",
              "          dataTable['output_type'] = 'display_data';\n",
              "          await google.colab.output.renderOutput(dataTable, element);\n",
              "          const docLink = document.createElement('div');\n",
              "          docLink.innerHTML = docLinkHtml;\n",
              "          element.appendChild(docLink);\n",
              "        }\n",
              "      </script>\n",
              "    </div>\n",
              "  </div>\n",
              "  "
            ]
          },
          "metadata": {},
          "execution_count": 55
        }
      ]
    },
    {
      "cell_type": "code",
      "source": [
        "df_cat = pd.concat([df_cat, dummies], axis='columns')"
      ],
      "metadata": {
        "id": "lZNW0r4GvIPK"
      },
      "id": "lZNW0r4GvIPK",
      "execution_count": null,
      "outputs": []
    },
    {
      "cell_type": "code",
      "source": [
        "df_cat.head()"
      ],
      "metadata": {
        "colab": {
          "base_uri": "https://localhost:8080/",
          "height": 237
        },
        "id": "hyGB5Y3UW5JJ",
        "outputId": "76cb74df-ebd5-4d5b-acc4-48b66f4692db"
      },
      "id": "hyGB5Y3UW5JJ",
      "execution_count": null,
      "outputs": [
        {
          "output_type": "execute_result",
          "data": {
            "text/plain": [
              "               classe_bilhete  genero    numero_bilhete cabine_numero  \\\n",
              "id_passageiro                                                           \n",
              "1                           3       0         A/5 21171           NaN   \n",
              "2                           1       1          PC 17599           C85   \n",
              "3                           3       1  STON/O2. 3101282           NaN   \n",
              "4                           1       1            113803          C123   \n",
              "5                           3       0            373450           NaN   \n",
              "\n",
              "              local_embarque  sobreviveu  Cherbourg  Queenstown  Southampton  \n",
              "id_passageiro                                                                 \n",
              "1                Southampton           0          0           0            1  \n",
              "2                  Cherbourg           1          1           0            0  \n",
              "3                Southampton           1          0           0            1  \n",
              "4                Southampton           1          0           0            1  \n",
              "5                Southampton           0          0           0            1  "
            ],
            "text/html": [
              "\n",
              "  <div id=\"df-a78e6e35-accd-4f4b-bb58-b4f0c2b9bfc5\">\n",
              "    <div class=\"colab-df-container\">\n",
              "      <div>\n",
              "<style scoped>\n",
              "    .dataframe tbody tr th:only-of-type {\n",
              "        vertical-align: middle;\n",
              "    }\n",
              "\n",
              "    .dataframe tbody tr th {\n",
              "        vertical-align: top;\n",
              "    }\n",
              "\n",
              "    .dataframe thead th {\n",
              "        text-align: right;\n",
              "    }\n",
              "</style>\n",
              "<table border=\"1\" class=\"dataframe\">\n",
              "  <thead>\n",
              "    <tr style=\"text-align: right;\">\n",
              "      <th></th>\n",
              "      <th>classe_bilhete</th>\n",
              "      <th>genero</th>\n",
              "      <th>numero_bilhete</th>\n",
              "      <th>cabine_numero</th>\n",
              "      <th>local_embarque</th>\n",
              "      <th>sobreviveu</th>\n",
              "      <th>Cherbourg</th>\n",
              "      <th>Queenstown</th>\n",
              "      <th>Southampton</th>\n",
              "    </tr>\n",
              "    <tr>\n",
              "      <th>id_passageiro</th>\n",
              "      <th></th>\n",
              "      <th></th>\n",
              "      <th></th>\n",
              "      <th></th>\n",
              "      <th></th>\n",
              "      <th></th>\n",
              "      <th></th>\n",
              "      <th></th>\n",
              "      <th></th>\n",
              "    </tr>\n",
              "  </thead>\n",
              "  <tbody>\n",
              "    <tr>\n",
              "      <th>1</th>\n",
              "      <td>3</td>\n",
              "      <td>0</td>\n",
              "      <td>A/5 21171</td>\n",
              "      <td>NaN</td>\n",
              "      <td>Southampton</td>\n",
              "      <td>0</td>\n",
              "      <td>0</td>\n",
              "      <td>0</td>\n",
              "      <td>1</td>\n",
              "    </tr>\n",
              "    <tr>\n",
              "      <th>2</th>\n",
              "      <td>1</td>\n",
              "      <td>1</td>\n",
              "      <td>PC 17599</td>\n",
              "      <td>C85</td>\n",
              "      <td>Cherbourg</td>\n",
              "      <td>1</td>\n",
              "      <td>1</td>\n",
              "      <td>0</td>\n",
              "      <td>0</td>\n",
              "    </tr>\n",
              "    <tr>\n",
              "      <th>3</th>\n",
              "      <td>3</td>\n",
              "      <td>1</td>\n",
              "      <td>STON/O2. 3101282</td>\n",
              "      <td>NaN</td>\n",
              "      <td>Southampton</td>\n",
              "      <td>1</td>\n",
              "      <td>0</td>\n",
              "      <td>0</td>\n",
              "      <td>1</td>\n",
              "    </tr>\n",
              "    <tr>\n",
              "      <th>4</th>\n",
              "      <td>1</td>\n",
              "      <td>1</td>\n",
              "      <td>113803</td>\n",
              "      <td>C123</td>\n",
              "      <td>Southampton</td>\n",
              "      <td>1</td>\n",
              "      <td>0</td>\n",
              "      <td>0</td>\n",
              "      <td>1</td>\n",
              "    </tr>\n",
              "    <tr>\n",
              "      <th>5</th>\n",
              "      <td>3</td>\n",
              "      <td>0</td>\n",
              "      <td>373450</td>\n",
              "      <td>NaN</td>\n",
              "      <td>Southampton</td>\n",
              "      <td>0</td>\n",
              "      <td>0</td>\n",
              "      <td>0</td>\n",
              "      <td>1</td>\n",
              "    </tr>\n",
              "  </tbody>\n",
              "</table>\n",
              "</div>\n",
              "      <button class=\"colab-df-convert\" onclick=\"convertToInteractive('df-a78e6e35-accd-4f4b-bb58-b4f0c2b9bfc5')\"\n",
              "              title=\"Convert this dataframe to an interactive table.\"\n",
              "              style=\"display:none;\">\n",
              "        \n",
              "  <svg xmlns=\"http://www.w3.org/2000/svg\" height=\"24px\"viewBox=\"0 0 24 24\"\n",
              "       width=\"24px\">\n",
              "    <path d=\"M0 0h24v24H0V0z\" fill=\"none\"/>\n",
              "    <path d=\"M18.56 5.44l.94 2.06.94-2.06 2.06-.94-2.06-.94-.94-2.06-.94 2.06-2.06.94zm-11 1L8.5 8.5l.94-2.06 2.06-.94-2.06-.94L8.5 2.5l-.94 2.06-2.06.94zm10 10l.94 2.06.94-2.06 2.06-.94-2.06-.94-.94-2.06-.94 2.06-2.06.94z\"/><path d=\"M17.41 7.96l-1.37-1.37c-.4-.4-.92-.59-1.43-.59-.52 0-1.04.2-1.43.59L10.3 9.45l-7.72 7.72c-.78.78-.78 2.05 0 2.83L4 21.41c.39.39.9.59 1.41.59.51 0 1.02-.2 1.41-.59l7.78-7.78 2.81-2.81c.8-.78.8-2.07 0-2.86zM5.41 20L4 18.59l7.72-7.72 1.47 1.35L5.41 20z\"/>\n",
              "  </svg>\n",
              "      </button>\n",
              "      \n",
              "  <style>\n",
              "    .colab-df-container {\n",
              "      display:flex;\n",
              "      flex-wrap:wrap;\n",
              "      gap: 12px;\n",
              "    }\n",
              "\n",
              "    .colab-df-convert {\n",
              "      background-color: #E8F0FE;\n",
              "      border: none;\n",
              "      border-radius: 50%;\n",
              "      cursor: pointer;\n",
              "      display: none;\n",
              "      fill: #1967D2;\n",
              "      height: 32px;\n",
              "      padding: 0 0 0 0;\n",
              "      width: 32px;\n",
              "    }\n",
              "\n",
              "    .colab-df-convert:hover {\n",
              "      background-color: #E2EBFA;\n",
              "      box-shadow: 0px 1px 2px rgba(60, 64, 67, 0.3), 0px 1px 3px 1px rgba(60, 64, 67, 0.15);\n",
              "      fill: #174EA6;\n",
              "    }\n",
              "\n",
              "    [theme=dark] .colab-df-convert {\n",
              "      background-color: #3B4455;\n",
              "      fill: #D2E3FC;\n",
              "    }\n",
              "\n",
              "    [theme=dark] .colab-df-convert:hover {\n",
              "      background-color: #434B5C;\n",
              "      box-shadow: 0px 1px 3px 1px rgba(0, 0, 0, 0.15);\n",
              "      filter: drop-shadow(0px 1px 2px rgba(0, 0, 0, 0.3));\n",
              "      fill: #FFFFFF;\n",
              "    }\n",
              "  </style>\n",
              "\n",
              "      <script>\n",
              "        const buttonEl =\n",
              "          document.querySelector('#df-a78e6e35-accd-4f4b-bb58-b4f0c2b9bfc5 button.colab-df-convert');\n",
              "        buttonEl.style.display =\n",
              "          google.colab.kernel.accessAllowed ? 'block' : 'none';\n",
              "\n",
              "        async function convertToInteractive(key) {\n",
              "          const element = document.querySelector('#df-a78e6e35-accd-4f4b-bb58-b4f0c2b9bfc5');\n",
              "          const dataTable =\n",
              "            await google.colab.kernel.invokeFunction('convertToInteractive',\n",
              "                                                     [key], {});\n",
              "          if (!dataTable) return;\n",
              "\n",
              "          const docLinkHtml = 'Like what you see? Visit the ' +\n",
              "            '<a target=\"_blank\" href=https://colab.research.google.com/notebooks/data_table.ipynb>data table notebook</a>'\n",
              "            + ' to learn more about interactive tables.';\n",
              "          element.innerHTML = '';\n",
              "          dataTable['output_type'] = 'display_data';\n",
              "          await google.colab.output.renderOutput(dataTable, element);\n",
              "          const docLink = document.createElement('div');\n",
              "          docLink.innerHTML = docLinkHtml;\n",
              "          element.appendChild(docLink);\n",
              "        }\n",
              "      </script>\n",
              "    </div>\n",
              "  </div>\n",
              "  "
            ]
          },
          "metadata": {},
          "execution_count": 57
        }
      ]
    },
    {
      "cell_type": "code",
      "source": [
        "df_cat.corr()"
      ],
      "metadata": {
        "colab": {
          "base_uri": "https://localhost:8080/",
          "height": 237
        },
        "id": "-_WWBgioUlYn",
        "outputId": "4df03c7c-8f22-467e-d403-e12dc95b48ca"
      },
      "id": "-_WWBgioUlYn",
      "execution_count": null,
      "outputs": [
        {
          "output_type": "execute_result",
          "data": {
            "text/plain": [
              "                classe_bilhete    genero  sobreviveu  Cherbourg  Queenstown  \\\n",
              "classe_bilhete        1.000000 -0.131900   -0.338481  -0.243292    0.221009   \n",
              "genero               -0.131900  1.000000    0.543351   0.082853    0.074115   \n",
              "sobreviveu           -0.338481  0.543351    1.000000   0.168240    0.003650   \n",
              "Cherbourg            -0.243292  0.082853    0.168240   1.000000   -0.148258   \n",
              "Queenstown            0.221009  0.074115    0.003650  -0.148258    1.000000   \n",
              "Southampton           0.081720 -0.125722   -0.155660  -0.778359   -0.496624   \n",
              "\n",
              "                Southampton  \n",
              "classe_bilhete     0.081720  \n",
              "genero            -0.125722  \n",
              "sobreviveu        -0.155660  \n",
              "Cherbourg         -0.778359  \n",
              "Queenstown        -0.496624  \n",
              "Southampton        1.000000  "
            ],
            "text/html": [
              "\n",
              "  <div id=\"df-9c8e1441-4e60-4e0c-bf9f-99b70e506b2a\">\n",
              "    <div class=\"colab-df-container\">\n",
              "      <div>\n",
              "<style scoped>\n",
              "    .dataframe tbody tr th:only-of-type {\n",
              "        vertical-align: middle;\n",
              "    }\n",
              "\n",
              "    .dataframe tbody tr th {\n",
              "        vertical-align: top;\n",
              "    }\n",
              "\n",
              "    .dataframe thead th {\n",
              "        text-align: right;\n",
              "    }\n",
              "</style>\n",
              "<table border=\"1\" class=\"dataframe\">\n",
              "  <thead>\n",
              "    <tr style=\"text-align: right;\">\n",
              "      <th></th>\n",
              "      <th>classe_bilhete</th>\n",
              "      <th>genero</th>\n",
              "      <th>sobreviveu</th>\n",
              "      <th>Cherbourg</th>\n",
              "      <th>Queenstown</th>\n",
              "      <th>Southampton</th>\n",
              "    </tr>\n",
              "  </thead>\n",
              "  <tbody>\n",
              "    <tr>\n",
              "      <th>classe_bilhete</th>\n",
              "      <td>1.000000</td>\n",
              "      <td>-0.131900</td>\n",
              "      <td>-0.338481</td>\n",
              "      <td>-0.243292</td>\n",
              "      <td>0.221009</td>\n",
              "      <td>0.081720</td>\n",
              "    </tr>\n",
              "    <tr>\n",
              "      <th>genero</th>\n",
              "      <td>-0.131900</td>\n",
              "      <td>1.000000</td>\n",
              "      <td>0.543351</td>\n",
              "      <td>0.082853</td>\n",
              "      <td>0.074115</td>\n",
              "      <td>-0.125722</td>\n",
              "    </tr>\n",
              "    <tr>\n",
              "      <th>sobreviveu</th>\n",
              "      <td>-0.338481</td>\n",
              "      <td>0.543351</td>\n",
              "      <td>1.000000</td>\n",
              "      <td>0.168240</td>\n",
              "      <td>0.003650</td>\n",
              "      <td>-0.155660</td>\n",
              "    </tr>\n",
              "    <tr>\n",
              "      <th>Cherbourg</th>\n",
              "      <td>-0.243292</td>\n",
              "      <td>0.082853</td>\n",
              "      <td>0.168240</td>\n",
              "      <td>1.000000</td>\n",
              "      <td>-0.148258</td>\n",
              "      <td>-0.778359</td>\n",
              "    </tr>\n",
              "    <tr>\n",
              "      <th>Queenstown</th>\n",
              "      <td>0.221009</td>\n",
              "      <td>0.074115</td>\n",
              "      <td>0.003650</td>\n",
              "      <td>-0.148258</td>\n",
              "      <td>1.000000</td>\n",
              "      <td>-0.496624</td>\n",
              "    </tr>\n",
              "    <tr>\n",
              "      <th>Southampton</th>\n",
              "      <td>0.081720</td>\n",
              "      <td>-0.125722</td>\n",
              "      <td>-0.155660</td>\n",
              "      <td>-0.778359</td>\n",
              "      <td>-0.496624</td>\n",
              "      <td>1.000000</td>\n",
              "    </tr>\n",
              "  </tbody>\n",
              "</table>\n",
              "</div>\n",
              "      <button class=\"colab-df-convert\" onclick=\"convertToInteractive('df-9c8e1441-4e60-4e0c-bf9f-99b70e506b2a')\"\n",
              "              title=\"Convert this dataframe to an interactive table.\"\n",
              "              style=\"display:none;\">\n",
              "        \n",
              "  <svg xmlns=\"http://www.w3.org/2000/svg\" height=\"24px\"viewBox=\"0 0 24 24\"\n",
              "       width=\"24px\">\n",
              "    <path d=\"M0 0h24v24H0V0z\" fill=\"none\"/>\n",
              "    <path d=\"M18.56 5.44l.94 2.06.94-2.06 2.06-.94-2.06-.94-.94-2.06-.94 2.06-2.06.94zm-11 1L8.5 8.5l.94-2.06 2.06-.94-2.06-.94L8.5 2.5l-.94 2.06-2.06.94zm10 10l.94 2.06.94-2.06 2.06-.94-2.06-.94-.94-2.06-.94 2.06-2.06.94z\"/><path d=\"M17.41 7.96l-1.37-1.37c-.4-.4-.92-.59-1.43-.59-.52 0-1.04.2-1.43.59L10.3 9.45l-7.72 7.72c-.78.78-.78 2.05 0 2.83L4 21.41c.39.39.9.59 1.41.59.51 0 1.02-.2 1.41-.59l7.78-7.78 2.81-2.81c.8-.78.8-2.07 0-2.86zM5.41 20L4 18.59l7.72-7.72 1.47 1.35L5.41 20z\"/>\n",
              "  </svg>\n",
              "      </button>\n",
              "      \n",
              "  <style>\n",
              "    .colab-df-container {\n",
              "      display:flex;\n",
              "      flex-wrap:wrap;\n",
              "      gap: 12px;\n",
              "    }\n",
              "\n",
              "    .colab-df-convert {\n",
              "      background-color: #E8F0FE;\n",
              "      border: none;\n",
              "      border-radius: 50%;\n",
              "      cursor: pointer;\n",
              "      display: none;\n",
              "      fill: #1967D2;\n",
              "      height: 32px;\n",
              "      padding: 0 0 0 0;\n",
              "      width: 32px;\n",
              "    }\n",
              "\n",
              "    .colab-df-convert:hover {\n",
              "      background-color: #E2EBFA;\n",
              "      box-shadow: 0px 1px 2px rgba(60, 64, 67, 0.3), 0px 1px 3px 1px rgba(60, 64, 67, 0.15);\n",
              "      fill: #174EA6;\n",
              "    }\n",
              "\n",
              "    [theme=dark] .colab-df-convert {\n",
              "      background-color: #3B4455;\n",
              "      fill: #D2E3FC;\n",
              "    }\n",
              "\n",
              "    [theme=dark] .colab-df-convert:hover {\n",
              "      background-color: #434B5C;\n",
              "      box-shadow: 0px 1px 3px 1px rgba(0, 0, 0, 0.15);\n",
              "      filter: drop-shadow(0px 1px 2px rgba(0, 0, 0, 0.3));\n",
              "      fill: #FFFFFF;\n",
              "    }\n",
              "  </style>\n",
              "\n",
              "      <script>\n",
              "        const buttonEl =\n",
              "          document.querySelector('#df-9c8e1441-4e60-4e0c-bf9f-99b70e506b2a button.colab-df-convert');\n",
              "        buttonEl.style.display =\n",
              "          google.colab.kernel.accessAllowed ? 'block' : 'none';\n",
              "\n",
              "        async function convertToInteractive(key) {\n",
              "          const element = document.querySelector('#df-9c8e1441-4e60-4e0c-bf9f-99b70e506b2a');\n",
              "          const dataTable =\n",
              "            await google.colab.kernel.invokeFunction('convertToInteractive',\n",
              "                                                     [key], {});\n",
              "          if (!dataTable) return;\n",
              "\n",
              "          const docLinkHtml = 'Like what you see? Visit the ' +\n",
              "            '<a target=\"_blank\" href=https://colab.research.google.com/notebooks/data_table.ipynb>data table notebook</a>'\n",
              "            + ' to learn more about interactive tables.';\n",
              "          element.innerHTML = '';\n",
              "          dataTable['output_type'] = 'display_data';\n",
              "          await google.colab.output.renderOutput(dataTable, element);\n",
              "          const docLink = document.createElement('div');\n",
              "          docLink.innerHTML = docLinkHtml;\n",
              "          element.appendChild(docLink);\n",
              "        }\n",
              "      </script>\n",
              "    </div>\n",
              "  </div>\n",
              "  "
            ]
          },
          "metadata": {},
          "execution_count": 58
        }
      ]
    },
    {
      "cell_type": "markdown",
      "source": [
        "A relação que existe entre classe_bilhete e o cabine_numero é que as classes (1a, 2a e 3a classes) são dividas nas cabines (A, B, C, D, E, F, G, T)"
      ],
      "metadata": {
        "id": "C4GaYxP5Zpea"
      },
      "id": "C4GaYxP5Zpea"
    },
    {
      "cell_type": "markdown",
      "source": [
        "No entanto existem muitos dados faltantes na coluna cabine_numero, como podemos ver:"
      ],
      "metadata": {
        "id": "DGG32hPfZ_OR"
      },
      "id": "DGG32hPfZ_OR"
    },
    {
      "cell_type": "code",
      "source": [
        "df_cat.info()"
      ],
      "metadata": {
        "colab": {
          "base_uri": "https://localhost:8080/"
        },
        "id": "I-P5ml6FaXcX",
        "outputId": "d0fdb258-3046-4bad-ff20-112eafe3e7f8"
      },
      "id": "I-P5ml6FaXcX",
      "execution_count": null,
      "outputs": [
        {
          "output_type": "stream",
          "name": "stdout",
          "text": [
            "<class 'pandas.core.frame.DataFrame'>\n",
            "Int64Index: 891 entries, 1 to 891\n",
            "Data columns (total 9 columns):\n",
            " #   Column          Non-Null Count  Dtype \n",
            "---  ------          --------------  ----- \n",
            " 0   classe_bilhete  891 non-null    int64 \n",
            " 1   genero          891 non-null    int64 \n",
            " 2   numero_bilhete  891 non-null    object\n",
            " 3   cabine_numero   204 non-null    object\n",
            " 4   local_embarque  889 non-null    object\n",
            " 5   sobreviveu      891 non-null    int64 \n",
            " 6   Cherbourg       891 non-null    uint8 \n",
            " 7   Queenstown      891 non-null    uint8 \n",
            " 8   Southampton     891 non-null    uint8 \n",
            "dtypes: int64(3), object(3), uint8(3)\n",
            "memory usage: 91.3+ KB\n"
          ]
        }
      ]
    },
    {
      "cell_type": "markdown",
      "source": [
        "De 891 linhas, apenas 204 tem cabine_numero não nula, ou seja, as análises levando em conta a variável 'cabine_numero' não são tão confiáveis."
      ],
      "metadata": {
        "id": "ALQO4sQKaePy"
      },
      "id": "ALQO4sQKaePy"
    },
    {
      "cell_type": "markdown",
      "source": [
        "No entanto, vamos dropar todas as linhas que têm a variável 'cabine_numero' não preenchida, para fazer uma análise, na medida do possível, dessa variável."
      ],
      "metadata": {
        "id": "SHvkYTA4as3G"
      },
      "id": "SHvkYTA4as3G"
    },
    {
      "cell_type": "code",
      "source": [
        "df_cat_cab = df_cat.dropna()\n"
      ],
      "metadata": {
        "id": "jNUPob2bVHfr"
      },
      "id": "jNUPob2bVHfr",
      "execution_count": null,
      "outputs": []
    },
    {
      "cell_type": "markdown",
      "source": [
        "Pega-se apenas a primeira letra da variável 'cabine_numero' para saber o convés de cada passageiro:"
      ],
      "metadata": {
        "id": "gf8esrdba6yk"
      },
      "id": "gf8esrdba6yk"
    },
    {
      "cell_type": "code",
      "source": [
        "df_cat_cab['cabine_conves'] = df_cat_cab.cabine_numero.str.get(0)\n",
        "df_cat_cab.head()"
      ],
      "metadata": {
        "colab": {
          "base_uri": "https://localhost:8080/",
          "height": 386
        },
        "id": "4mB4f7CSXMY6",
        "outputId": "da7e777d-9dde-404a-bf66-fedc3bed733f"
      },
      "id": "4mB4f7CSXMY6",
      "execution_count": null,
      "outputs": [
        {
          "output_type": "stream",
          "name": "stderr",
          "text": [
            "/usr/local/lib/python3.7/dist-packages/ipykernel_launcher.py:1: SettingWithCopyWarning: \n",
            "A value is trying to be set on a copy of a slice from a DataFrame.\n",
            "Try using .loc[row_indexer,col_indexer] = value instead\n",
            "\n",
            "See the caveats in the documentation: https://pandas.pydata.org/pandas-docs/stable/user_guide/indexing.html#returning-a-view-versus-a-copy\n",
            "  \"\"\"Entry point for launching an IPython kernel.\n"
          ]
        },
        {
          "output_type": "execute_result",
          "data": {
            "text/plain": [
              "               classe_bilhete  genero numero_bilhete cabine_numero  \\\n",
              "id_passageiro                                                        \n",
              "2                           1       1       PC 17599           C85   \n",
              "4                           1       1         113803          C123   \n",
              "7                           1       0          17463           E46   \n",
              "11                          3       1        PP 9549            G6   \n",
              "12                          1       1         113783          C103   \n",
              "\n",
              "              local_embarque  sobreviveu  Cherbourg  Queenstown  Southampton  \\\n",
              "id_passageiro                                                                  \n",
              "2                  Cherbourg           1          1           0            0   \n",
              "4                Southampton           1          0           0            1   \n",
              "7                Southampton           0          0           0            1   \n",
              "11               Southampton           1          0           0            1   \n",
              "12               Southampton           1          0           0            1   \n",
              "\n",
              "              cabine_conves  \n",
              "id_passageiro                \n",
              "2                         C  \n",
              "4                         C  \n",
              "7                         E  \n",
              "11                        G  \n",
              "12                        C  "
            ],
            "text/html": [
              "\n",
              "  <div id=\"df-8a14ce4d-569b-4dd7-a4ef-a418a59770b9\">\n",
              "    <div class=\"colab-df-container\">\n",
              "      <div>\n",
              "<style scoped>\n",
              "    .dataframe tbody tr th:only-of-type {\n",
              "        vertical-align: middle;\n",
              "    }\n",
              "\n",
              "    .dataframe tbody tr th {\n",
              "        vertical-align: top;\n",
              "    }\n",
              "\n",
              "    .dataframe thead th {\n",
              "        text-align: right;\n",
              "    }\n",
              "</style>\n",
              "<table border=\"1\" class=\"dataframe\">\n",
              "  <thead>\n",
              "    <tr style=\"text-align: right;\">\n",
              "      <th></th>\n",
              "      <th>classe_bilhete</th>\n",
              "      <th>genero</th>\n",
              "      <th>numero_bilhete</th>\n",
              "      <th>cabine_numero</th>\n",
              "      <th>local_embarque</th>\n",
              "      <th>sobreviveu</th>\n",
              "      <th>Cherbourg</th>\n",
              "      <th>Queenstown</th>\n",
              "      <th>Southampton</th>\n",
              "      <th>cabine_conves</th>\n",
              "    </tr>\n",
              "    <tr>\n",
              "      <th>id_passageiro</th>\n",
              "      <th></th>\n",
              "      <th></th>\n",
              "      <th></th>\n",
              "      <th></th>\n",
              "      <th></th>\n",
              "      <th></th>\n",
              "      <th></th>\n",
              "      <th></th>\n",
              "      <th></th>\n",
              "      <th></th>\n",
              "    </tr>\n",
              "  </thead>\n",
              "  <tbody>\n",
              "    <tr>\n",
              "      <th>2</th>\n",
              "      <td>1</td>\n",
              "      <td>1</td>\n",
              "      <td>PC 17599</td>\n",
              "      <td>C85</td>\n",
              "      <td>Cherbourg</td>\n",
              "      <td>1</td>\n",
              "      <td>1</td>\n",
              "      <td>0</td>\n",
              "      <td>0</td>\n",
              "      <td>C</td>\n",
              "    </tr>\n",
              "    <tr>\n",
              "      <th>4</th>\n",
              "      <td>1</td>\n",
              "      <td>1</td>\n",
              "      <td>113803</td>\n",
              "      <td>C123</td>\n",
              "      <td>Southampton</td>\n",
              "      <td>1</td>\n",
              "      <td>0</td>\n",
              "      <td>0</td>\n",
              "      <td>1</td>\n",
              "      <td>C</td>\n",
              "    </tr>\n",
              "    <tr>\n",
              "      <th>7</th>\n",
              "      <td>1</td>\n",
              "      <td>0</td>\n",
              "      <td>17463</td>\n",
              "      <td>E46</td>\n",
              "      <td>Southampton</td>\n",
              "      <td>0</td>\n",
              "      <td>0</td>\n",
              "      <td>0</td>\n",
              "      <td>1</td>\n",
              "      <td>E</td>\n",
              "    </tr>\n",
              "    <tr>\n",
              "      <th>11</th>\n",
              "      <td>3</td>\n",
              "      <td>1</td>\n",
              "      <td>PP 9549</td>\n",
              "      <td>G6</td>\n",
              "      <td>Southampton</td>\n",
              "      <td>1</td>\n",
              "      <td>0</td>\n",
              "      <td>0</td>\n",
              "      <td>1</td>\n",
              "      <td>G</td>\n",
              "    </tr>\n",
              "    <tr>\n",
              "      <th>12</th>\n",
              "      <td>1</td>\n",
              "      <td>1</td>\n",
              "      <td>113783</td>\n",
              "      <td>C103</td>\n",
              "      <td>Southampton</td>\n",
              "      <td>1</td>\n",
              "      <td>0</td>\n",
              "      <td>0</td>\n",
              "      <td>1</td>\n",
              "      <td>C</td>\n",
              "    </tr>\n",
              "  </tbody>\n",
              "</table>\n",
              "</div>\n",
              "      <button class=\"colab-df-convert\" onclick=\"convertToInteractive('df-8a14ce4d-569b-4dd7-a4ef-a418a59770b9')\"\n",
              "              title=\"Convert this dataframe to an interactive table.\"\n",
              "              style=\"display:none;\">\n",
              "        \n",
              "  <svg xmlns=\"http://www.w3.org/2000/svg\" height=\"24px\"viewBox=\"0 0 24 24\"\n",
              "       width=\"24px\">\n",
              "    <path d=\"M0 0h24v24H0V0z\" fill=\"none\"/>\n",
              "    <path d=\"M18.56 5.44l.94 2.06.94-2.06 2.06-.94-2.06-.94-.94-2.06-.94 2.06-2.06.94zm-11 1L8.5 8.5l.94-2.06 2.06-.94-2.06-.94L8.5 2.5l-.94 2.06-2.06.94zm10 10l.94 2.06.94-2.06 2.06-.94-2.06-.94-.94-2.06-.94 2.06-2.06.94z\"/><path d=\"M17.41 7.96l-1.37-1.37c-.4-.4-.92-.59-1.43-.59-.52 0-1.04.2-1.43.59L10.3 9.45l-7.72 7.72c-.78.78-.78 2.05 0 2.83L4 21.41c.39.39.9.59 1.41.59.51 0 1.02-.2 1.41-.59l7.78-7.78 2.81-2.81c.8-.78.8-2.07 0-2.86zM5.41 20L4 18.59l7.72-7.72 1.47 1.35L5.41 20z\"/>\n",
              "  </svg>\n",
              "      </button>\n",
              "      \n",
              "  <style>\n",
              "    .colab-df-container {\n",
              "      display:flex;\n",
              "      flex-wrap:wrap;\n",
              "      gap: 12px;\n",
              "    }\n",
              "\n",
              "    .colab-df-convert {\n",
              "      background-color: #E8F0FE;\n",
              "      border: none;\n",
              "      border-radius: 50%;\n",
              "      cursor: pointer;\n",
              "      display: none;\n",
              "      fill: #1967D2;\n",
              "      height: 32px;\n",
              "      padding: 0 0 0 0;\n",
              "      width: 32px;\n",
              "    }\n",
              "\n",
              "    .colab-df-convert:hover {\n",
              "      background-color: #E2EBFA;\n",
              "      box-shadow: 0px 1px 2px rgba(60, 64, 67, 0.3), 0px 1px 3px 1px rgba(60, 64, 67, 0.15);\n",
              "      fill: #174EA6;\n",
              "    }\n",
              "\n",
              "    [theme=dark] .colab-df-convert {\n",
              "      background-color: #3B4455;\n",
              "      fill: #D2E3FC;\n",
              "    }\n",
              "\n",
              "    [theme=dark] .colab-df-convert:hover {\n",
              "      background-color: #434B5C;\n",
              "      box-shadow: 0px 1px 3px 1px rgba(0, 0, 0, 0.15);\n",
              "      filter: drop-shadow(0px 1px 2px rgba(0, 0, 0, 0.3));\n",
              "      fill: #FFFFFF;\n",
              "    }\n",
              "  </style>\n",
              "\n",
              "      <script>\n",
              "        const buttonEl =\n",
              "          document.querySelector('#df-8a14ce4d-569b-4dd7-a4ef-a418a59770b9 button.colab-df-convert');\n",
              "        buttonEl.style.display =\n",
              "          google.colab.kernel.accessAllowed ? 'block' : 'none';\n",
              "\n",
              "        async function convertToInteractive(key) {\n",
              "          const element = document.querySelector('#df-8a14ce4d-569b-4dd7-a4ef-a418a59770b9');\n",
              "          const dataTable =\n",
              "            await google.colab.kernel.invokeFunction('convertToInteractive',\n",
              "                                                     [key], {});\n",
              "          if (!dataTable) return;\n",
              "\n",
              "          const docLinkHtml = 'Like what you see? Visit the ' +\n",
              "            '<a target=\"_blank\" href=https://colab.research.google.com/notebooks/data_table.ipynb>data table notebook</a>'\n",
              "            + ' to learn more about interactive tables.';\n",
              "          element.innerHTML = '';\n",
              "          dataTable['output_type'] = 'display_data';\n",
              "          await google.colab.output.renderOutput(dataTable, element);\n",
              "          const docLink = document.createElement('div');\n",
              "          docLink.innerHTML = docLinkHtml;\n",
              "          element.appendChild(docLink);\n",
              "        }\n",
              "      </script>\n",
              "    </div>\n",
              "  </div>\n",
              "  "
            ]
          },
          "metadata": {},
          "execution_count": 61
        }
      ]
    },
    {
      "cell_type": "markdown",
      "source": [
        "Abaixo tempos a classe do bilhete, o covés da cabine e se o passageiro sobreviveu ou não:"
      ],
      "metadata": {
        "id": "I6AQqAFGbDuG"
      },
      "id": "I6AQqAFGbDuG"
    },
    {
      "cell_type": "code",
      "source": [
        "\n",
        "df_cat_cab.groupby(['classe_bilhete', 'cabine_conves', 'sobreviveu']).size()"
      ],
      "metadata": {
        "colab": {
          "base_uri": "https://localhost:8080/"
        },
        "id": "2tFcXrecVHXW",
        "outputId": "3c6b8a32-2970-4772-90be-c3ef0f7ffc83"
      },
      "id": "2tFcXrecVHXW",
      "execution_count": null,
      "outputs": [
        {
          "output_type": "execute_result",
          "data": {
            "text/plain": [
              "classe_bilhete  cabine_conves  sobreviveu\n",
              "1               A              0              8\n",
              "                               1              7\n",
              "                B              0             12\n",
              "                               1             33\n",
              "                C              0             24\n",
              "                               1             35\n",
              "                D              0              7\n",
              "                               1             22\n",
              "                E              0              7\n",
              "                               1             18\n",
              "                T              0              1\n",
              "2               D              0              1\n",
              "                               1              3\n",
              "                E              0              1\n",
              "                               1              3\n",
              "                F              0              1\n",
              "                               1              7\n",
              "3               E              1              3\n",
              "                F              0              4\n",
              "                               1              1\n",
              "                G              0              2\n",
              "                               1              2\n",
              "dtype: int64"
            ]
          },
          "metadata": {},
          "execution_count": 62
        }
      ]
    },
    {
      "cell_type": "markdown",
      "source": [
        "Podemos observar pelo resultado acima que:\n",
        "- a 1a classe estava nas cabines de convés A, B, C, D, E e T.\n",
        "- a 2a classe estava nas cabines de convés D, E, F\n",
        "- a 3a classe estava nas cabines de convés E, F e G"
      ],
      "metadata": {
        "id": "mQMM-HupYQNI"
      },
      "id": "mQMM-HupYQNI"
    },
    {
      "cell_type": "code",
      "source": [
        "titanic_cor(df_cat_cab, 'cabine_conves' )"
      ],
      "metadata": {
        "colab": {
          "base_uri": "https://localhost:8080/",
          "height": 454
        },
        "id": "VXUmyGDbYzGR",
        "outputId": "8c58c9ec-5c33-49fe-97bf-59218eb42512"
      },
      "id": "VXUmyGDbYzGR",
      "execution_count": null,
      "outputs": [
        {
          "output_type": "stream",
          "name": "stdout",
          "text": [
            "Quantidade por opção: \n",
            "C    59\n",
            "B    45\n",
            "D    33\n",
            "E    32\n",
            "A    15\n",
            "F    13\n",
            "G     4\n",
            "T     1\n",
            "Name: cabine_conves, dtype: int64\n"
          ]
        },
        {
          "output_type": "display_data",
          "data": {
            "text/plain": [
              "<Figure size 432x288 with 1 Axes>"
            ],
            "image/png": "[encoded data removed]"
          },
          "metadata": {
            "needs_background": "light"
          }
        }
      ]
    },
    {
      "cell_type": "code",
      "source": [
        "titanic_cor(df_cat_cab, 'classe_bilhete' )"
      ],
      "metadata": {
        "colab": {
          "base_uri": "https://localhost:8080/",
          "height": 370
        },
        "id": "2CXU4RRTbRdT",
        "outputId": "4e3b2c75-d4af-4a2e-f0ea-ba1ef03f67de"
      },
      "id": "2CXU4RRTbRdT",
      "execution_count": null,
      "outputs": [
        {
          "output_type": "stream",
          "name": "stdout",
          "text": [
            "Quantidade por opção: \n",
            "1    174\n",
            "2     16\n",
            "3     12\n",
            "Name: classe_bilhete, dtype: int64\n"
          ]
        },
        {
          "output_type": "display_data",
          "data": {
            "text/plain": [
              "<Figure size 432x288 with 1 Axes>"
            ],
            "image/png": "[encoded data removed]"
          },
          "metadata": {
            "needs_background": "light"
          }
        }
      ]
    },
    {
      "cell_type": "markdown",
      "source": [
        "Mesmo que retirados muitos dados, ainda se pode ver que quanto maior a classe, mais os passageiros sobreviveram."
      ],
      "metadata": {
        "id": "Vp83uXUubbNz"
      },
      "id": "Vp83uXUubbNz"
    },
    {
      "cell_type": "code",
      "source": [
        "df_cat.cabine_numero.unique()"
      ],
      "metadata": {
        "colab": {
          "base_uri": "https://localhost:8080/"
        },
        "id": "PoPHbqJtT389",
        "outputId": "9f123cff-0f8f-4908-ffa8-7f8ef5466ca8"
      },
      "id": "PoPHbqJtT389",
      "execution_count": null,
      "outputs": [
        {
          "output_type": "execute_result",
          "data": {
            "text/plain": [
              "array([nan, 'C85', 'C123', 'E46', 'G6', 'C103', 'D56', 'A6',\n",
              "       'C23 C25 C27', 'B78', 'D33', 'B30', 'C52', 'B28', 'C83', 'F33',\n",
              "       'F G73', 'E31', 'A5', 'D10 D12', 'D26', 'C110', 'B58 B60', 'E101',\n",
              "       'F E69', 'D47', 'B86', 'F2', 'C2', 'E33', 'B19', 'A7', 'C49', 'F4',\n",
              "       'A32', 'B4', 'B80', 'A31', 'D36', 'D15', 'C93', 'C78', 'D35',\n",
              "       'C87', 'B77', 'E67', 'B94', 'C125', 'C99', 'C118', 'D7', 'A19',\n",
              "       'B49', 'D', 'C22 C26', 'C106', 'C65', 'E36', 'C54',\n",
              "       'B57 B59 B63 B66', 'C7', 'E34', 'C32', 'B18', 'C124', 'C91', 'E40',\n",
              "       'T', 'C128', 'D37', 'B35', 'E50', 'C82', 'B96 B98', 'E10', 'E44',\n",
              "       'A34', 'C104', 'C111', 'C92', 'E38', 'D21', 'E12', 'E63', 'A14',\n",
              "       'B37', 'C30', 'D20', 'B79', 'E25', 'D46', 'B73', 'C95', 'B38',\n",
              "       'B39', 'B22', 'C86', 'C70', 'A16', 'C101', 'C68', 'A10', 'E68',\n",
              "       'B41', 'A20', 'D19', 'D50', 'D9', 'A23', 'B50', 'A26', 'D48',\n",
              "       'E58', 'C126', 'B71', 'B51 B53 B55', 'D49', 'B5', 'B20', 'F G63',\n",
              "       'C62 C64', 'E24', 'C90', 'C45', 'E8', 'B101', 'D45', 'C46', 'D30',\n",
              "       'E121', 'D11', 'E77', 'F38', 'B3', 'D6', 'B82 B84', 'D17', 'A36',\n",
              "       'B102', 'B69', 'E49', 'C47', 'D28', 'E17', 'A24', 'C50', 'B42',\n",
              "       'C148'], dtype=object)"
            ]
          },
          "metadata": {},
          "execution_count": 65
        }
      ]
    },
    {
      "cell_type": "code",
      "execution_count": null,
      "id": "2513dea6",
      "metadata": {
        "id": "2513dea6"
      },
      "outputs": [],
      "source": []
    },
    {
      "cell_type": "markdown",
      "id": "ed1301b9",
      "metadata": {
        "id": "ed1301b9"
      },
      "source": [
        "#### Perguntas chave para as categorias categóricas:\n",
        "- Há alguma influência de pertencer a algum grupo de alguma cabine na sua sobrevivência?\n",
        "- Há algum padrão no `numero_bilhete`?\n",
        "- Há algum padrão na `cabine_numero`?\n",
        "\n",
        "\n"
      ]
    },
    {
      "cell_type": "markdown",
      "source": [
        "Como mostrado acima, há sim influência em pertencer a alguma cabine na sobrevivência. Cabines de convés de 1a classe têm os maiores índices de sobrevivência, já cabines de convés de 3a classe têm os menores índices de sobrevivência."
      ],
      "metadata": {
        "id": "XTn3PAntb3xy"
      },
      "id": "XTn3PAntb3xy"
    },
    {
      "cell_type": "markdown",
      "source": [
        "Padrão de cabine_numero. Os valores de cabine_numero iniciam com uma letra, que é o numero do convés."
      ],
      "metadata": {
        "id": "ZfzNAvvocdVB"
      },
      "id": "ZfzNAvvocdVB"
    },
    {
      "cell_type": "code",
      "source": [
        "df_cat_cab['cabine_numero'].nunique()"
      ],
      "metadata": {
        "colab": {
          "base_uri": "https://localhost:8080/"
        },
        "id": "zhwlZn9Mcp2I",
        "outputId": "81f66143-a966-4ac8-918d-c3181357c9de"
      },
      "id": "zhwlZn9Mcp2I",
      "execution_count": null,
      "outputs": [
        {
          "output_type": "execute_result",
          "data": {
            "text/plain": [
              "146"
            ]
          },
          "metadata": {},
          "execution_count": 66
        }
      ]
    },
    {
      "cell_type": "markdown",
      "source": [
        "Existem, nos dados, 146 cabines diferentes"
      ],
      "metadata": {
        "id": "RzUxfMsvcnXS"
      },
      "id": "RzUxfMsvcnXS"
    },
    {
      "cell_type": "code",
      "source": [
        "df_cat_cab['cabine_conves'].nunique()"
      ],
      "metadata": {
        "colab": {
          "base_uri": "https://localhost:8080/"
        },
        "id": "_s47TilncwbN",
        "outputId": "4d129853-ad78-4502-aa95-866d95de4a1d"
      },
      "id": "_s47TilncwbN",
      "execution_count": null,
      "outputs": [
        {
          "output_type": "execute_result",
          "data": {
            "text/plain": [
              "8"
            ]
          },
          "metadata": {},
          "execution_count": 67
        }
      ]
    },
    {
      "cell_type": "markdown",
      "source": [
        "distribuídas em 8 convés diferentes."
      ],
      "metadata": {
        "id": "qzLNvHQec0C_"
      },
      "id": "qzLNvHQec0C_"
    },
    {
      "cell_type": "markdown",
      "source": [
        "As diferentes cabines disponíveis nos dados são as seguinte:"
      ],
      "metadata": {
        "id": "2sAs686qc6q0"
      },
      "id": "2sAs686qc6q0"
    },
    {
      "cell_type": "code",
      "source": [
        "df_cat_cab['cabine_numero'].unique()"
      ],
      "metadata": {
        "colab": {
          "base_uri": "https://localhost:8080/"
        },
        "id": "wFonMCANc-g5",
        "outputId": "73b8d390-7c0e-499b-c18f-99aa79dd855b"
      },
      "id": "wFonMCANc-g5",
      "execution_count": null,
      "outputs": [
        {
          "output_type": "execute_result",
          "data": {
            "text/plain": [
              "array(['C85', 'C123', 'E46', 'G6', 'C103', 'D56', 'A6', 'C23 C25 C27',\n",
              "       'B78', 'D33', 'B30', 'C52', 'C83', 'F33', 'F G73', 'E31', 'A5',\n",
              "       'D10 D12', 'D26', 'C110', 'B58 B60', 'E101', 'F E69', 'D47', 'B86',\n",
              "       'F2', 'C2', 'E33', 'B19', 'A7', 'C49', 'F4', 'A32', 'B4', 'B80',\n",
              "       'A31', 'D36', 'D15', 'C93', 'C78', 'D35', 'C87', 'B77', 'E67',\n",
              "       'B94', 'C125', 'C99', 'C118', 'D7', 'A19', 'B49', 'D', 'C22 C26',\n",
              "       'C106', 'C65', 'E36', 'C54', 'B57 B59 B63 B66', 'C7', 'E34', 'C32',\n",
              "       'B18', 'C124', 'C91', 'E40', 'T', 'C128', 'D37', 'B35', 'E50',\n",
              "       'C82', 'B96 B98', 'E10', 'E44', 'A34', 'C104', 'C111', 'C92',\n",
              "       'E38', 'D21', 'E12', 'E63', 'A14', 'B37', 'C30', 'D20', 'B79',\n",
              "       'E25', 'D46', 'B73', 'C95', 'B38', 'B39', 'B22', 'C86', 'C70',\n",
              "       'A16', 'C101', 'C68', 'A10', 'E68', 'B41', 'A20', 'D19', 'D50',\n",
              "       'D9', 'A23', 'B50', 'A26', 'D48', 'E58', 'C126', 'B71',\n",
              "       'B51 B53 B55', 'D49', 'B5', 'B20', 'F G63', 'C62 C64', 'E24',\n",
              "       'C90', 'C45', 'E8', 'B101', 'D45', 'C46', 'D30', 'E121', 'D11',\n",
              "       'E77', 'F38', 'B3', 'D6', 'B82 B84', 'D17', 'A36', 'B102', 'B69',\n",
              "       'E49', 'C47', 'D28', 'E17', 'A24', 'C50', 'B42', 'C148'],\n",
              "      dtype=object)"
            ]
          },
          "metadata": {},
          "execution_count": 68
        }
      ]
    },
    {
      "cell_type": "markdown",
      "source": [
        "Padrão de número_bilhete:"
      ],
      "metadata": {
        "id": "q5pLkoVOwyI_"
      },
      "id": "q5pLkoVOwyI_"
    },
    {
      "cell_type": "code",
      "source": [
        "df_cat['numero_bilhete'].nunique()"
      ],
      "metadata": {
        "colab": {
          "base_uri": "https://localhost:8080/"
        },
        "id": "ok94BJejcmrK",
        "outputId": "a5f50ea6-87af-4bdb-8091-d7fa785ac21a"
      },
      "id": "ok94BJejcmrK",
      "execution_count": null,
      "outputs": [
        {
          "output_type": "execute_result",
          "data": {
            "text/plain": [
              "681"
            ]
          },
          "metadata": {},
          "execution_count": 69
        }
      ]
    },
    {
      "cell_type": "markdown",
      "source": [
        "Existem 681 diferentes bilhetes em 891 linhas de dados."
      ],
      "metadata": {
        "id": "8-Q47GyJjSgZ"
      },
      "id": "8-Q47GyJjSgZ"
    },
    {
      "cell_type": "markdown",
      "source": [
        "Abaixo a distribuição dos dados faltante levando em conta todas as colunas do dataset:"
      ],
      "metadata": {
        "id": "uSgaRgKxWGBc"
      },
      "id": "uSgaRgKxWGBc"
    },
    {
      "cell_type": "code",
      "execution_count": null,
      "id": "38bd1c5d",
      "metadata": {
        "id": "38bd1c5d"
      },
      "outputs": [],
      "source": [
        "\n",
        "missing_data_size = df.isnull().sum()\n",
        "missing_data_columns = (\n",
        "    (\n",
        "        missing_data_size[missing_data_size > 0]\n",
        "    )\n",
        "    .sort_values(ascending=False)\n",
        "    .to_frame(name='Count')\n",
        ")\n",
        "missing_data_columns = (\n",
        "    missing_data_columns.assign(\n",
        "        Column=missing_data_columns.index\n",
        "    )\n",
        ").reset_index(drop=True)"
      ]
    },
    {
      "cell_type": "code",
      "source": [
        "plt.figure(figsize=(10, 4))\n",
        "ax = sns.barplot(data=missing_data_columns, x='Count', y='Column', color=\"#00853B\")\n",
        "sns.despine(left=True, bottom=True)\n",
        "ax.bar_label(ax.containers[0], labels=[f\"{i:.2f} %\" for i in missing_data_columns.Count.astype(int) / len(df) * 100])\n",
        "plt.suptitle(\"Distribuição dos dados faltantes\", ha='left', va='top', x=-.1, fontweight='bold')\n",
        "plt.show()"
      ],
      "metadata": {
        "colab": {
          "base_uri": "https://localhost:8080/",
          "height": 308
        },
        "id": "f1unsyt_RlrG",
        "outputId": "fd54ab23-8f37-4dfa-be11-6583469a69b1"
      },
      "id": "f1unsyt_RlrG",
      "execution_count": null,
      "outputs": [
        {
          "output_type": "display_data",
          "data": {
            "text/plain": [
              "<Figure size 720x288 with 1 Axes>"
            ],
            "image/png": "[encoded data removed]"
          },
          "metadata": {
            "needs_background": "light"
          }
        }
      ]
    },
    {
      "cell_type": "markdown",
      "source": [
        "Tratando os dados faltantes:"
      ],
      "metadata": {
        "id": "IGWATpqEWWAK"
      },
      "id": "IGWATpqEWWAK"
    },
    {
      "cell_type": "code",
      "source": [
        "for column in missing_data_columns.Column:\n",
        "    indexes = list(df[df[column].isnull()].index)\n",
        "    print(f'{column}: {indexes}')"
      ],
      "metadata": {
        "id": "N3_vmUv8WVlf",
        "colab": {
          "base_uri": "https://localhost:8080/"
        },
        "outputId": "4e84f73a-70fc-47aa-c2ec-5632c3a9ac5f"
      },
      "id": "N3_vmUv8WVlf",
      "execution_count": null,
      "outputs": [
        {
          "output_type": "stream",
          "name": "stdout",
          "text": [
            "cabine_numero: [1, 3, 5, 6, 8, 9, 10, 13, 14, 15, 16, 17, 18, 19, 20, 21, 23, 25, 26, 27, 29, 30, 31, 33, 34, 35, 36, 37, 38, 39, 40, 41, 42, 43, 44, 45, 46, 47, 48, 49, 50, 51, 52, 54, 57, 58, 59, 60, 61, 64, 65, 66, 68, 69, 70, 71, 72, 73, 74, 75, 77, 78, 79, 80, 81, 82, 83, 84, 85, 86, 87, 88, 90, 91, 92, 94, 95, 96, 99, 100, 101, 102, 104, 105, 106, 107, 108, 109, 110, 112, 113, 114, 115, 116, 117, 118, 120, 121, 122, 123, 126, 127, 128, 130, 131, 132, 133, 134, 135, 136, 139, 141, 142, 143, 144, 145, 146, 147, 148, 150, 151, 153, 154, 155, 156, 157, 158, 159, 160, 161, 162, 163, 164, 165, 166, 168, 169, 170, 172, 173, 174, 176, 177, 179, 180, 181, 182, 183, 185, 187, 188, 189, 190, 191, 192, 193, 197, 198, 199, 200, 201, 202, 203, 204, 205, 207, 208, 209, 211, 212, 213, 214, 215, 217, 218, 220, 221, 222, 223, 224, 226, 227, 228, 229, 230, 232, 233, 234, 235, 236, 237, 238, 239, 240, 241, 242, 243, 244, 245, 247, 248, 250, 251, 254, 255, 256, 257, 259, 260, 261, 262, 265, 266, 267, 268, 271, 272, 273, 275, 277, 278, 279, 280, 281, 282, 283, 284, 286, 287, 288, 289, 290, 291, 294, 295, 296, 297, 301, 302, 303, 305, 307, 309, 313, 314, 315, 316, 317, 318, 321, 322, 323, 324, 325, 327, 329, 331, 334, 335, 336, 339, 343, 344, 345, 347, 348, 349, 350, 351, 353, 354, 355, 356, 358, 359, 360, 361, 362, 363, 364, 365, 366, 368, 369, 372, 373, 374, 375, 376, 377, 379, 380, 381, 382, 383, 384, 385, 386, 387, 388, 389, 390, 392, 393, 396, 397, 398, 399, 400, 401, 402, 403, 404, 405, 406, 407, 408, 409, 410, 411, 412, 414, 415, 416, 417, 418, 419, 420, 421, 422, 423, 424, 425, 426, 427, 428, 429, 432, 433, 434, 437, 438, 440, 441, 442, 443, 444, 445, 447, 448, 449, 451, 452, 455, 456, 459, 460, 462, 464, 465, 466, 467, 468, 469, 470, 471, 472, 473, 475, 477, 478, 479, 480, 481, 482, 483, 484, 486, 489, 490, 491, 492, 494, 495, 496, 498, 500, 501, 502, 503, 504, 507, 508, 509, 510, 511, 512, 514, 515, 518, 519, 520, 522, 523, 525, 526, 527, 529, 530, 531, 532, 533, 534, 535, 536, 538, 539, 542, 543, 544, 546, 547, 548, 549, 550, 552, 553, 554, 555, 556, 558, 560, 561, 562, 563, 564, 565, 566, 567, 568, 569, 570, 571, 574, 575, 576, 577, 579, 580, 581, 583, 585, 587, 589, 590, 591, 593, 594, 595, 596, 597, 598, 599, 601, 602, 603, 604, 605, 606, 607, 608, 609, 611, 612, 613, 614, 615, 616, 617, 618, 620, 621, 623, 624, 625, 627, 629, 630, 632, 634, 635, 636, 637, 638, 639, 640, 641, 643, 644, 645, 647, 649, 650, 651, 652, 653, 654, 655, 656, 657, 658, 659, 661, 662, 664, 665, 666, 667, 668, 669, 671, 673, 674, 675, 676, 677, 678, 679, 681, 683, 684, 685, 686, 687, 688, 689, 692, 693, 694, 695, 696, 697, 698, 703, 704, 705, 706, 707, 709, 710, 714, 715, 719, 720, 721, 722, 723, 724, 726, 727, 728, 729, 730, 732, 733, 734, 735, 736, 737, 739, 740, 744, 745, 747, 748, 750, 751, 753, 754, 755, 756, 757, 758, 759, 761, 762, 763, 765, 767, 768, 769, 770, 771, 772, 774, 775, 776, 778, 779, 781, 784, 785, 786, 787, 788, 789, 791, 792, 793, 794, 795, 796, 798, 799, 800, 801, 802, 804, 805, 806, 808, 809, 811, 812, 813, 814, 815, 817, 818, 819, 820, 822, 823, 825, 826, 827, 828, 829, 831, 832, 833, 834, 835, 837, 838, 839, 841, 842, 843, 844, 845, 846, 847, 848, 849, 851, 852, 853, 855, 856, 857, 859, 860, 861, 862, 864, 865, 866, 867, 869, 870, 871, 874, 875, 876, 877, 878, 879, 881, 882, 883, 884, 885, 886, 887, 889, 891]\n",
            "idade: [6, 18, 20, 27, 29, 30, 32, 33, 37, 43, 46, 47, 48, 49, 56, 65, 66, 77, 78, 83, 88, 96, 102, 108, 110, 122, 127, 129, 141, 155, 159, 160, 167, 169, 177, 181, 182, 186, 187, 197, 199, 202, 215, 224, 230, 236, 241, 242, 251, 257, 261, 265, 271, 275, 278, 285, 296, 299, 301, 302, 304, 305, 307, 325, 331, 335, 336, 348, 352, 355, 359, 360, 365, 368, 369, 376, 385, 389, 410, 411, 412, 414, 416, 421, 426, 429, 432, 445, 452, 455, 458, 460, 465, 467, 469, 471, 476, 482, 486, 491, 496, 498, 503, 508, 512, 518, 523, 525, 528, 532, 534, 539, 548, 553, 558, 561, 564, 565, 569, 574, 579, 585, 590, 594, 597, 599, 602, 603, 612, 613, 614, 630, 634, 640, 644, 649, 651, 654, 657, 668, 670, 675, 681, 693, 698, 710, 712, 719, 728, 733, 739, 740, 741, 761, 767, 769, 774, 777, 779, 784, 791, 793, 794, 816, 826, 827, 829, 833, 838, 840, 847, 850, 860, 864, 869, 879, 889]\n",
            "local_embarque: [62, 830]\n"
          ]
        }
      ]
    },
    {
      "cell_type": "markdown",
      "source": [
        "Como os valores faltantes em local_embarque são apenas 2, decidimos deletar essas 2 linhas:"
      ],
      "metadata": {
        "id": "V0PsGnKPXOe9"
      },
      "id": "V0PsGnKPXOe9"
    },
    {
      "cell_type": "code",
      "source": [
        "df = df.drop(index=[62, 830], axis=0).reset_index(drop=True)\n"
      ],
      "metadata": {
        "id": "kZkuEL0ZXaEh"
      },
      "id": "kZkuEL0ZXaEh",
      "execution_count": null,
      "outputs": []
    },
    {
      "cell_type": "markdown",
      "source": [
        "Nosso dataset, agora, está com os seguintes valores faltantes:"
      ],
      "metadata": {
        "id": "lRDYqA0xXeic"
      },
      "id": "lRDYqA0xXeic"
    },
    {
      "cell_type": "code",
      "source": [
        "for column in missing_data_columns.Column:\n",
        "    indexes = list(df[df[column].isnull()].index)\n",
        "    print(f'{column}: {indexes}')"
      ],
      "metadata": {
        "id": "3wnGgO0AXjgq",
        "colab": {
          "base_uri": "https://localhost:8080/"
        },
        "outputId": "0a0b3c4c-73e4-43cc-dec4-6c5dfa324303"
      },
      "id": "3wnGgO0AXjgq",
      "execution_count": null,
      "outputs": [
        {
          "output_type": "stream",
          "name": "stdout",
          "text": [
            "cabine_numero: [0, 2, 4, 5, 7, 8, 9, 12, 13, 14, 15, 16, 17, 18, 19, 20, 22, 24, 25, 26, 28, 29, 30, 32, 33, 34, 35, 36, 37, 38, 39, 40, 41, 42, 43, 44, 45, 46, 47, 48, 49, 50, 51, 53, 56, 57, 58, 59, 60, 62, 63, 64, 66, 67, 68, 69, 70, 71, 72, 73, 75, 76, 77, 78, 79, 80, 81, 82, 83, 84, 85, 86, 88, 89, 90, 92, 93, 94, 97, 98, 99, 100, 102, 103, 104, 105, 106, 107, 108, 110, 111, 112, 113, 114, 115, 116, 118, 119, 120, 121, 124, 125, 126, 128, 129, 130, 131, 132, 133, 134, 137, 139, 140, 141, 142, 143, 144, 145, 146, 148, 149, 151, 152, 153, 154, 155, 156, 157, 158, 159, 160, 161, 162, 163, 164, 166, 167, 168, 170, 171, 172, 174, 175, 177, 178, 179, 180, 181, 183, 185, 186, 187, 188, 189, 190, 191, 195, 196, 197, 198, 199, 200, 201, 202, 203, 205, 206, 207, 209, 210, 211, 212, 213, 215, 216, 218, 219, 220, 221, 222, 224, 225, 226, 227, 228, 230, 231, 232, 233, 234, 235, 236, 237, 238, 239, 240, 241, 242, 243, 245, 246, 248, 249, 252, 253, 254, 255, 257, 258, 259, 260, 263, 264, 265, 266, 269, 270, 271, 273, 275, 276, 277, 278, 279, 280, 281, 282, 284, 285, 286, 287, 288, 289, 292, 293, 294, 295, 299, 300, 301, 303, 305, 307, 311, 312, 313, 314, 315, 316, 319, 320, 321, 322, 323, 325, 327, 329, 332, 333, 334, 337, 341, 342, 343, 345, 346, 347, 348, 349, 351, 352, 353, 354, 356, 357, 358, 359, 360, 361, 362, 363, 364, 366, 367, 370, 371, 372, 373, 374, 375, 377, 378, 379, 380, 381, 382, 383, 384, 385, 386, 387, 388, 390, 391, 394, 395, 396, 397, 398, 399, 400, 401, 402, 403, 404, 405, 406, 407, 408, 409, 410, 412, 413, 414, 415, 416, 417, 418, 419, 420, 421, 422, 423, 424, 425, 426, 427, 430, 431, 432, 435, 436, 438, 439, 440, 441, 442, 443, 445, 446, 447, 449, 450, 453, 454, 457, 458, 460, 462, 463, 464, 465, 466, 467, 468, 469, 470, 471, 473, 475, 476, 477, 478, 479, 480, 481, 482, 484, 487, 488, 489, 490, 492, 493, 494, 496, 498, 499, 500, 501, 502, 505, 506, 507, 508, 509, 510, 512, 513, 516, 517, 518, 520, 521, 523, 524, 525, 527, 528, 529, 530, 531, 532, 533, 534, 536, 537, 540, 541, 542, 544, 545, 546, 547, 548, 550, 551, 552, 553, 554, 556, 558, 559, 560, 561, 562, 563, 564, 565, 566, 567, 568, 569, 572, 573, 574, 575, 577, 578, 579, 581, 583, 585, 587, 588, 589, 591, 592, 593, 594, 595, 596, 597, 599, 600, 601, 602, 603, 604, 605, 606, 607, 609, 610, 611, 612, 613, 614, 615, 616, 618, 619, 621, 622, 623, 625, 627, 628, 630, 632, 633, 634, 635, 636, 637, 638, 639, 641, 642, 643, 645, 647, 648, 649, 650, 651, 652, 653, 654, 655, 656, 657, 659, 660, 662, 663, 664, 665, 666, 667, 669, 671, 672, 673, 674, 675, 676, 677, 679, 681, 682, 683, 684, 685, 686, 687, 690, 691, 692, 693, 694, 695, 696, 701, 702, 703, 704, 705, 707, 708, 712, 713, 717, 718, 719, 720, 721, 722, 724, 725, 726, 727, 728, 730, 731, 732, 733, 734, 735, 737, 738, 742, 743, 745, 746, 748, 749, 751, 752, 753, 754, 755, 756, 757, 759, 760, 761, 763, 765, 766, 767, 768, 769, 770, 772, 773, 774, 776, 777, 779, 782, 783, 784, 785, 786, 787, 789, 790, 791, 792, 793, 794, 796, 797, 798, 799, 800, 802, 803, 804, 806, 807, 809, 810, 811, 812, 813, 815, 816, 817, 818, 820, 821, 823, 824, 825, 826, 827, 828, 829, 830, 831, 832, 834, 835, 836, 838, 839, 840, 841, 842, 843, 844, 845, 846, 848, 849, 850, 852, 853, 854, 856, 857, 858, 859, 861, 862, 863, 864, 866, 867, 868, 871, 872, 873, 874, 875, 876, 878, 879, 880, 881, 882, 883, 884, 886, 888]\n",
            "idade: [5, 17, 19, 26, 28, 29, 31, 32, 36, 42, 45, 46, 47, 48, 55, 63, 64, 75, 76, 81, 86, 94, 100, 106, 108, 120, 125, 127, 139, 153, 157, 158, 165, 167, 175, 179, 180, 184, 185, 195, 197, 200, 213, 222, 228, 234, 239, 240, 249, 255, 259, 263, 269, 273, 276, 283, 294, 297, 299, 300, 302, 303, 305, 323, 329, 333, 334, 346, 350, 353, 357, 358, 363, 366, 367, 374, 383, 387, 408, 409, 410, 412, 414, 419, 424, 427, 430, 443, 450, 453, 456, 458, 463, 465, 467, 469, 474, 480, 484, 489, 494, 496, 501, 506, 510, 516, 521, 523, 526, 530, 532, 537, 546, 551, 556, 559, 562, 563, 567, 572, 577, 583, 588, 592, 595, 597, 600, 601, 610, 611, 612, 628, 632, 638, 642, 647, 649, 652, 655, 666, 668, 673, 679, 691, 696, 708, 710, 717, 726, 731, 737, 738, 739, 759, 765, 767, 772, 775, 777, 782, 789, 791, 792, 814, 824, 825, 827, 830, 835, 837, 844, 847, 857, 861, 866, 876, 886]\n",
            "local_embarque: []\n"
          ]
        }
      ]
    },
    {
      "cell_type": "markdown",
      "source": [
        "Temos, agora, valores faltantes nas coluna cabine_numero (uma variável categórica) e valores faltantes na coluna idade (uma variável numérica). "
      ],
      "metadata": {
        "id": "myPnYtalZIL3"
      },
      "id": "myPnYtalZIL3"
    },
    {
      "cell_type": "markdown",
      "source": [
        "Na coluna idade, que é do tipo numérica, subustituímos os valores faltantes pela mediana dos valores:"
      ],
      "metadata": {
        "id": "m5l9tUcCan0L"
      },
      "id": "m5l9tUcCan0L"
    },
    {
      "cell_type": "code",
      "source": [
        "for i in numerica:\n",
        "    df[i].fillna(df[i].median(),inplace=True)"
      ],
      "metadata": {
        "id": "IZeKIi8mZ-eN"
      },
      "id": "IZeKIi8mZ-eN",
      "execution_count": null,
      "outputs": []
    },
    {
      "cell_type": "markdown",
      "source": [
        "Assim, não temos mais valores faltantes na coluna idade:"
      ],
      "metadata": {
        "id": "H39Zyi4XapUv"
      },
      "id": "H39Zyi4XapUv"
    },
    {
      "cell_type": "code",
      "source": [
        "for column in missing_data_columns.Column:\n",
        "    indexes = list(df[df[column].isnull()].index)\n",
        "    print(f'{column}: {indexes}')"
      ],
      "metadata": {
        "id": "80mgALKmaDaT",
        "colab": {
          "base_uri": "https://localhost:8080/"
        },
        "outputId": "81ce08ee-0e63-4d12-9f21-73c40f068ad3"
      },
      "id": "80mgALKmaDaT",
      "execution_count": null,
      "outputs": [
        {
          "output_type": "stream",
          "name": "stdout",
          "text": [
            "cabine_numero: [0, 2, 4, 5, 7, 8, 9, 12, 13, 14, 15, 16, 17, 18, 19, 20, 22, 24, 25, 26, 28, 29, 30, 32, 33, 34, 35, 36, 37, 38, 39, 40, 41, 42, 43, 44, 45, 46, 47, 48, 49, 50, 51, 53, 56, 57, 58, 59, 60, 62, 63, 64, 66, 67, 68, 69, 70, 71, 72, 73, 75, 76, 77, 78, 79, 80, 81, 82, 83, 84, 85, 86, 88, 89, 90, 92, 93, 94, 97, 98, 99, 100, 102, 103, 104, 105, 106, 107, 108, 110, 111, 112, 113, 114, 115, 116, 118, 119, 120, 121, 124, 125, 126, 128, 129, 130, 131, 132, 133, 134, 137, 139, 140, 141, 142, 143, 144, 145, 146, 148, 149, 151, 152, 153, 154, 155, 156, 157, 158, 159, 160, 161, 162, 163, 164, 166, 167, 168, 170, 171, 172, 174, 175, 177, 178, 179, 180, 181, 183, 185, 186, 187, 188, 189, 190, 191, 195, 196, 197, 198, 199, 200, 201, 202, 203, 205, 206, 207, 209, 210, 211, 212, 213, 215, 216, 218, 219, 220, 221, 222, 224, 225, 226, 227, 228, 230, 231, 232, 233, 234, 235, 236, 237, 238, 239, 240, 241, 242, 243, 245, 246, 248, 249, 252, 253, 254, 255, 257, 258, 259, 260, 263, 264, 265, 266, 269, 270, 271, 273, 275, 276, 277, 278, 279, 280, 281, 282, 284, 285, 286, 287, 288, 289, 292, 293, 294, 295, 299, 300, 301, 303, 305, 307, 311, 312, 313, 314, 315, 316, 319, 320, 321, 322, 323, 325, 327, 329, 332, 333, 334, 337, 341, 342, 343, 345, 346, 347, 348, 349, 351, 352, 353, 354, 356, 357, 358, 359, 360, 361, 362, 363, 364, 366, 367, 370, 371, 372, 373, 374, 375, 377, 378, 379, 380, 381, 382, 383, 384, 385, 386, 387, 388, 390, 391, 394, 395, 396, 397, 398, 399, 400, 401, 402, 403, 404, 405, 406, 407, 408, 409, 410, 412, 413, 414, 415, 416, 417, 418, 419, 420, 421, 422, 423, 424, 425, 426, 427, 430, 431, 432, 435, 436, 438, 439, 440, 441, 442, 443, 445, 446, 447, 449, 450, 453, 454, 457, 458, 460, 462, 463, 464, 465, 466, 467, 468, 469, 470, 471, 473, 475, 476, 477, 478, 479, 480, 481, 482, 484, 487, 488, 489, 490, 492, 493, 494, 496, 498, 499, 500, 501, 502, 505, 506, 507, 508, 509, 510, 512, 513, 516, 517, 518, 520, 521, 523, 524, 525, 527, 528, 529, 530, 531, 532, 533, 534, 536, 537, 540, 541, 542, 544, 545, 546, 547, 548, 550, 551, 552, 553, 554, 556, 558, 559, 560, 561, 562, 563, 564, 565, 566, 567, 568, 569, 572, 573, 574, 575, 577, 578, 579, 581, 583, 585, 587, 588, 589, 591, 592, 593, 594, 595, 596, 597, 599, 600, 601, 602, 603, 604, 605, 606, 607, 609, 610, 611, 612, 613, 614, 615, 616, 618, 619, 621, 622, 623, 625, 627, 628, 630, 632, 633, 634, 635, 636, 637, 638, 639, 641, 642, 643, 645, 647, 648, 649, 650, 651, 652, 653, 654, 655, 656, 657, 659, 660, 662, 663, 664, 665, 666, 667, 669, 671, 672, 673, 674, 675, 676, 677, 679, 681, 682, 683, 684, 685, 686, 687, 690, 691, 692, 693, 694, 695, 696, 701, 702, 703, 704, 705, 707, 708, 712, 713, 717, 718, 719, 720, 721, 722, 724, 725, 726, 727, 728, 730, 731, 732, 733, 734, 735, 737, 738, 742, 743, 745, 746, 748, 749, 751, 752, 753, 754, 755, 756, 757, 759, 760, 761, 763, 765, 766, 767, 768, 769, 770, 772, 773, 774, 776, 777, 779, 782, 783, 784, 785, 786, 787, 789, 790, 791, 792, 793, 794, 796, 797, 798, 799, 800, 802, 803, 804, 806, 807, 809, 810, 811, 812, 813, 815, 816, 817, 818, 820, 821, 823, 824, 825, 826, 827, 828, 829, 830, 831, 832, 834, 835, 836, 838, 839, 840, 841, 842, 843, 844, 845, 846, 848, 849, 850, 852, 853, 854, 856, 857, 858, 859, 861, 862, 863, 864, 866, 867, 868, 871, 872, 873, 874, 875, 876, 878, 879, 880, 881, 882, 883, 884, 886, 888]\n",
            "idade: []\n",
            "local_embarque: []\n"
          ]
        }
      ]
    },
    {
      "cell_type": "markdown",
      "source": [
        "Na coluna cabine_numero, que é do tipo categórica, subustituímos os valores faltantes pela media das contagens:"
      ],
      "metadata": {
        "id": "oES4ALdgbU87"
      },
      "id": "oES4ALdgbU87"
    },
    {
      "cell_type": "code",
      "source": [
        "for i in categorica:\n",
        "    df[i].fillna(df[i].value_counts().index[0],inplace=True)"
      ],
      "metadata": {
        "id": "bvOnnRm8Zm96"
      },
      "id": "bvOnnRm8Zm96",
      "execution_count": null,
      "outputs": []
    },
    {
      "cell_type": "markdown",
      "source": [
        "Agora não temos mais valores nulos: "
      ],
      "metadata": {
        "id": "xfSD9EnNaPtL"
      },
      "id": "xfSD9EnNaPtL"
    },
    {
      "cell_type": "code",
      "source": [
        "for column in missing_data_columns.Column:\n",
        "    indexes = list(df[df[column].isnull()].index)\n",
        "    print(f'{column}: {indexes}')"
      ],
      "metadata": {
        "id": "J9uuc79qaR82",
        "colab": {
          "base_uri": "https://localhost:8080/"
        },
        "outputId": "745efa24-18f2-443c-94dc-30ee052a44ab"
      },
      "id": "J9uuc79qaR82",
      "execution_count": null,
      "outputs": [
        {
          "output_type": "stream",
          "name": "stdout",
          "text": [
            "cabine_numero: []\n",
            "idade: []\n",
            "local_embarque: []\n"
          ]
        }
      ]
    },
    {
      "cell_type": "markdown",
      "id": "88c76877",
      "metadata": {
        "id": "88c76877"
      },
      "source": [
        "# Perguntas do Desafio:"
      ]
    },
    {
      "cell_type": "code",
      "source": [
        "titanic_cor(df_cat, 'local_embarque')"
      ],
      "metadata": {
        "id": "CCCe3YpF_BhV",
        "colab": {
          "base_uri": "https://localhost:8080/",
          "height": 367
        },
        "outputId": "334c3139-b7a6-4a3a-e1c0-f1888bfc03aa"
      },
      "id": "CCCe3YpF_BhV",
      "execution_count": null,
      "outputs": [
        {
          "output_type": "stream",
          "name": "stdout",
          "text": [
            "Quantidade por opção: \n",
            "Southampton    644\n",
            "Cherbourg      168\n",
            "Queenstown      77\n",
            "Name: local_embarque, dtype: int64\n"
          ]
        },
        {
          "output_type": "display_data",
          "data": {
            "text/plain": [
              "<Figure size 432x288 with 1 Axes>"
            ],
            "image/png": "[encoded data removed]"
          },
          "metadata": {
            "needs_background": "light"
          }
        }
      ]
    },
    {
      "cell_type": "code",
      "source": [
        "#Quantidade de pessoas que sobreviveu (1) e que não sobreviveu(0):\n",
        "titanic_cor(df, 'sobreviveu')"
      ],
      "metadata": {
        "id": "khwctSuc9hKr",
        "colab": {
          "base_uri": "https://localhost:8080/",
          "height": 348
        },
        "outputId": "8e833c48-949e-4274-87ce-cb4d4008bb9e"
      },
      "id": "khwctSuc9hKr",
      "execution_count": null,
      "outputs": [
        {
          "output_type": "stream",
          "name": "stdout",
          "text": [
            "Quantidade por opção: \n",
            "0    549\n",
            "1    340\n",
            "Name: sobreviveu, dtype: int64\n"
          ]
        },
        {
          "output_type": "display_data",
          "data": {
            "text/plain": [
              "<Figure size 432x288 with 1 Axes>"
            ],
            "image/png": "[encoded data removed]"
          },
          "metadata": {
            "needs_background": "light"
          }
        }
      ]
    },
    {
      "cell_type": "markdown",
      "id": "2b125633",
      "metadata": {
        "id": "2b125633"
      },
      "source": [
        "### Qual o fator que foi mais importante e menos importante para determinar a sobrevivência para esta população?\n",
        "\n"
      ]
    },
    {
      "cell_type": "markdown",
      "source": [
        "Abaixo faremos a correlação das variáveis:"
      ],
      "metadata": {
        "id": "QxN4fO6nCKca"
      },
      "id": "QxN4fO6nCKca"
    },
    {
      "cell_type": "code",
      "source": [
        "df_correl = df\n"
      ],
      "metadata": {
        "id": "PIbh-pIEfQZe"
      },
      "id": "PIbh-pIEfQZe",
      "execution_count": null,
      "outputs": []
    },
    {
      "cell_type": "code",
      "source": [
        "df_correl.genero = df.genero.replace({'F': 1, 'M': 0})"
      ],
      "metadata": {
        "id": "dyqpzHDTetku"
      },
      "id": "dyqpzHDTetku",
      "execution_count": null,
      "outputs": []
    },
    {
      "cell_type": "code",
      "source": [
        "df_correl.head()"
      ],
      "metadata": {
        "id": "WaXqf32VeQc0",
        "colab": {
          "base_uri": "https://localhost:8080/",
          "height": 267
        },
        "outputId": "057647c5-a953-40ca-c586-35fa4af19ecf"
      },
      "id": "WaXqf32VeQc0",
      "execution_count": null,
      "outputs": [
        {
          "output_type": "execute_result",
          "data": {
            "text/plain": [
              "   sobreviveu  classe_bilhete  genero  idade  irmaos_conjuges_abordo  \\\n",
              "0           0               3       0   22.0                       1   \n",
              "1           1               1       1   38.0                       1   \n",
              "2           1               3       1   26.0                       0   \n",
              "3           1               1       1   35.0                       1   \n",
              "4           0               3       0   35.0                       0   \n",
              "\n",
              "   pais_filhos_abordo    numero_bilhete  preco_bilhete cabine_numero  \\\n",
              "0                   0         A/5 21171         7.2500   C23 C25 C27   \n",
              "1                   0          PC 17599        71.2833           C85   \n",
              "2                   0  STON/O2. 3101282         7.9250   C23 C25 C27   \n",
              "3                   0            113803        53.1000          C123   \n",
              "4                   0            373450         8.0500   C23 C25 C27   \n",
              "\n",
              "  local_embarque  \n",
              "0    Southampton  \n",
              "1      Cherbourg  \n",
              "2    Southampton  \n",
              "3    Southampton  \n",
              "4    Southampton  "
            ],
            "text/html": [
              "\n",
              "  <div id=\"df-c96bb378-089f-4242-b2a4-cd735e1146a8\">\n",
              "    <div class=\"colab-df-container\">\n",
              "      <div>\n",
              "<style scoped>\n",
              "    .dataframe tbody tr th:only-of-type {\n",
              "        vertical-align: middle;\n",
              "    }\n",
              "\n",
              "    .dataframe tbody tr th {\n",
              "        vertical-align: top;\n",
              "    }\n",
              "\n",
              "    .dataframe thead th {\n",
              "        text-align: right;\n",
              "    }\n",
              "</style>\n",
              "<table border=\"1\" class=\"dataframe\">\n",
              "  <thead>\n",
              "    <tr style=\"text-align: right;\">\n",
              "      <th></th>\n",
              "      <th>sobreviveu</th>\n",
              "      <th>classe_bilhete</th>\n",
              "      <th>genero</th>\n",
              "      <th>idade</th>\n",
              "      <th>irmaos_conjuges_abordo</th>\n",
              "      <th>pais_filhos_abordo</th>\n",
              "      <th>numero_bilhete</th>\n",
              "      <th>preco_bilhete</th>\n",
              "      <th>cabine_numero</th>\n",
              "      <th>local_embarque</th>\n",
              "    </tr>\n",
              "  </thead>\n",
              "  <tbody>\n",
              "    <tr>\n",
              "      <th>0</th>\n",
              "      <td>0</td>\n",
              "      <td>3</td>\n",
              "      <td>0</td>\n",
              "      <td>22.0</td>\n",
              "      <td>1</td>\n",
              "      <td>0</td>\n",
              "      <td>A/5 21171</td>\n",
              "      <td>7.2500</td>\n",
              "      <td>C23 C25 C27</td>\n",
              "      <td>Southampton</td>\n",
              "    </tr>\n",
              "    <tr>\n",
              "      <th>1</th>\n",
              "      <td>1</td>\n",
              "      <td>1</td>\n",
              "      <td>1</td>\n",
              "      <td>38.0</td>\n",
              "      <td>1</td>\n",
              "      <td>0</td>\n",
              "      <td>PC 17599</td>\n",
              "      <td>71.2833</td>\n",
              "      <td>C85</td>\n",
              "      <td>Cherbourg</td>\n",
              "    </tr>\n",
              "    <tr>\n",
              "      <th>2</th>\n",
              "      <td>1</td>\n",
              "      <td>3</td>\n",
              "      <td>1</td>\n",
              "      <td>26.0</td>\n",
              "      <td>0</td>\n",
              "      <td>0</td>\n",
              "      <td>STON/O2. 3101282</td>\n",
              "      <td>7.9250</td>\n",
              "      <td>C23 C25 C27</td>\n",
              "      <td>Southampton</td>\n",
              "    </tr>\n",
              "    <tr>\n",
              "      <th>3</th>\n",
              "      <td>1</td>\n",
              "      <td>1</td>\n",
              "      <td>1</td>\n",
              "      <td>35.0</td>\n",
              "      <td>1</td>\n",
              "      <td>0</td>\n",
              "      <td>113803</td>\n",
              "      <td>53.1000</td>\n",
              "      <td>C123</td>\n",
              "      <td>Southampton</td>\n",
              "    </tr>\n",
              "    <tr>\n",
              "      <th>4</th>\n",
              "      <td>0</td>\n",
              "      <td>3</td>\n",
              "      <td>0</td>\n",
              "      <td>35.0</td>\n",
              "      <td>0</td>\n",
              "      <td>0</td>\n",
              "      <td>373450</td>\n",
              "      <td>8.0500</td>\n",
              "      <td>C23 C25 C27</td>\n",
              "      <td>Southampton</td>\n",
              "    </tr>\n",
              "  </tbody>\n",
              "</table>\n",
              "</div>\n",
              "      <button class=\"colab-df-convert\" onclick=\"convertToInteractive('df-c96bb378-089f-4242-b2a4-cd735e1146a8')\"\n",
              "              title=\"Convert this dataframe to an interactive table.\"\n",
              "              style=\"display:none;\">\n",
              "        \n",
              "  <svg xmlns=\"http://www.w3.org/2000/svg\" height=\"24px\"viewBox=\"0 0 24 24\"\n",
              "       width=\"24px\">\n",
              "    <path d=\"M0 0h24v24H0V0z\" fill=\"none\"/>\n",
              "    <path d=\"M18.56 5.44l.94 2.06.94-2.06 2.06-.94-2.06-.94-.94-2.06-.94 2.06-2.06.94zm-11 1L8.5 8.5l.94-2.06 2.06-.94-2.06-.94L8.5 2.5l-.94 2.06-2.06.94zm10 10l.94 2.06.94-2.06 2.06-.94-2.06-.94-.94-2.06-.94 2.06-2.06.94z\"/><path d=\"M17.41 7.96l-1.37-1.37c-.4-.4-.92-.59-1.43-.59-.52 0-1.04.2-1.43.59L10.3 9.45l-7.72 7.72c-.78.78-.78 2.05 0 2.83L4 21.41c.39.39.9.59 1.41.59.51 0 1.02-.2 1.41-.59l7.78-7.78 2.81-2.81c.8-.78.8-2.07 0-2.86zM5.41 20L4 18.59l7.72-7.72 1.47 1.35L5.41 20z\"/>\n",
              "  </svg>\n",
              "      </button>\n",
              "      \n",
              "  <style>\n",
              "    .colab-df-container {\n",
              "      display:flex;\n",
              "      flex-wrap:wrap;\n",
              "      gap: 12px;\n",
              "    }\n",
              "\n",
              "    .colab-df-convert {\n",
              "      background-color: #E8F0FE;\n",
              "      border: none;\n",
              "      border-radius: 50%;\n",
              "      cursor: pointer;\n",
              "      display: none;\n",
              "      fill: #1967D2;\n",
              "      height: 32px;\n",
              "      padding: 0 0 0 0;\n",
              "      width: 32px;\n",
              "    }\n",
              "\n",
              "    .colab-df-convert:hover {\n",
              "      background-color: #E2EBFA;\n",
              "      box-shadow: 0px 1px 2px rgba(60, 64, 67, 0.3), 0px 1px 3px 1px rgba(60, 64, 67, 0.15);\n",
              "      fill: #174EA6;\n",
              "    }\n",
              "\n",
              "    [theme=dark] .colab-df-convert {\n",
              "      background-color: #3B4455;\n",
              "      fill: #D2E3FC;\n",
              "    }\n",
              "\n",
              "    [theme=dark] .colab-df-convert:hover {\n",
              "      background-color: #434B5C;\n",
              "      box-shadow: 0px 1px 3px 1px rgba(0, 0, 0, 0.15);\n",
              "      filter: drop-shadow(0px 1px 2px rgba(0, 0, 0, 0.3));\n",
              "      fill: #FFFFFF;\n",
              "    }\n",
              "  </style>\n",
              "\n",
              "      <script>\n",
              "        const buttonEl =\n",
              "          document.querySelector('#df-c96bb378-089f-4242-b2a4-cd735e1146a8 button.colab-df-convert');\n",
              "        buttonEl.style.display =\n",
              "          google.colab.kernel.accessAllowed ? 'block' : 'none';\n",
              "\n",
              "        async function convertToInteractive(key) {\n",
              "          const element = document.querySelector('#df-c96bb378-089f-4242-b2a4-cd735e1146a8');\n",
              "          const dataTable =\n",
              "            await google.colab.kernel.invokeFunction('convertToInteractive',\n",
              "                                                     [key], {});\n",
              "          if (!dataTable) return;\n",
              "\n",
              "          const docLinkHtml = 'Like what you see? Visit the ' +\n",
              "            '<a target=\"_blank\" href=https://colab.research.google.com/notebooks/data_table.ipynb>data table notebook</a>'\n",
              "            + ' to learn more about interactive tables.';\n",
              "          element.innerHTML = '';\n",
              "          dataTable['output_type'] = 'display_data';\n",
              "          await google.colab.output.renderOutput(dataTable, element);\n",
              "          const docLink = document.createElement('div');\n",
              "          docLink.innerHTML = docLinkHtml;\n",
              "          element.appendChild(docLink);\n",
              "        }\n",
              "      </script>\n",
              "    </div>\n",
              "  </div>\n",
              "  "
            ]
          },
          "metadata": {},
          "execution_count": 83
        }
      ]
    },
    {
      "cell_type": "code",
      "source": [
        "df_correl.corr()"
      ],
      "metadata": {
        "id": "gc9W35Y5COHd",
        "colab": {
          "base_uri": "https://localhost:8080/",
          "height": 269
        },
        "outputId": "fb73b6a9-937f-42c1-ddb6-be7e33893f34"
      },
      "id": "gc9W35Y5COHd",
      "execution_count": null,
      "outputs": [
        {
          "output_type": "execute_result",
          "data": {
            "text/plain": [
              "                        sobreviveu  classe_bilhete    genero     idade  \\\n",
              "sobreviveu                1.000000       -0.335549  0.541585 -0.069822   \n",
              "classe_bilhete           -0.335549        1.000000 -0.127741 -0.336512   \n",
              "genero                    0.541585       -0.127741  1.000000 -0.086506   \n",
              "idade                    -0.069822       -0.336512 -0.086506  1.000000   \n",
              "irmaos_conjuges_abordo   -0.034040        0.081656  0.116348 -0.232543   \n",
              "pais_filhos_abordo        0.083151        0.016824  0.247508 -0.171485   \n",
              "preco_bilhete             0.255290       -0.548193  0.179958  0.093707   \n",
              "\n",
              "                        irmaos_conjuges_abordo  pais_filhos_abordo  \\\n",
              "sobreviveu                           -0.034040            0.083151   \n",
              "classe_bilhete                        0.081656            0.016824   \n",
              "genero                                0.116348            0.247508   \n",
              "idade                                -0.232543           -0.171485   \n",
              "irmaos_conjuges_abordo                1.000000            0.414542   \n",
              "pais_filhos_abordo                    0.414542            1.000000   \n",
              "preco_bilhete                         0.160887            0.217532   \n",
              "\n",
              "                        preco_bilhete  \n",
              "sobreviveu                   0.255290  \n",
              "classe_bilhete              -0.548193  \n",
              "genero                       0.179958  \n",
              "idade                        0.093707  \n",
              "irmaos_conjuges_abordo       0.160887  \n",
              "pais_filhos_abordo           0.217532  \n",
              "preco_bilhete                1.000000  "
            ],
            "text/html": [
              "\n",
              "  <div id=\"df-27be2019-aa19-4b5b-814f-89096f4f2bef\">\n",
              "    <div class=\"colab-df-container\">\n",
              "      <div>\n",
              "<style scoped>\n",
              "    .dataframe tbody tr th:only-of-type {\n",
              "        vertical-align: middle;\n",
              "    }\n",
              "\n",
              "    .dataframe tbody tr th {\n",
              "        vertical-align: top;\n",
              "    }\n",
              "\n",
              "    .dataframe thead th {\n",
              "        text-align: right;\n",
              "    }\n",
              "</style>\n",
              "<table border=\"1\" class=\"dataframe\">\n",
              "  <thead>\n",
              "    <tr style=\"text-align: right;\">\n",
              "      <th></th>\n",
              "      <th>sobreviveu</th>\n",
              "      <th>classe_bilhete</th>\n",
              "      <th>genero</th>\n",
              "      <th>idade</th>\n",
              "      <th>irmaos_conjuges_abordo</th>\n",
              "      <th>pais_filhos_abordo</th>\n",
              "      <th>preco_bilhete</th>\n",
              "    </tr>\n",
              "  </thead>\n",
              "  <tbody>\n",
              "    <tr>\n",
              "      <th>sobreviveu</th>\n",
              "      <td>1.000000</td>\n",
              "      <td>-0.335549</td>\n",
              "      <td>0.541585</td>\n",
              "      <td>-0.069822</td>\n",
              "      <td>-0.034040</td>\n",
              "      <td>0.083151</td>\n",
              "      <td>0.255290</td>\n",
              "    </tr>\n",
              "    <tr>\n",
              "      <th>classe_bilhete</th>\n",
              "      <td>-0.335549</td>\n",
              "      <td>1.000000</td>\n",
              "      <td>-0.127741</td>\n",
              "      <td>-0.336512</td>\n",
              "      <td>0.081656</td>\n",
              "      <td>0.016824</td>\n",
              "      <td>-0.548193</td>\n",
              "    </tr>\n",
              "    <tr>\n",
              "      <th>genero</th>\n",
              "      <td>0.541585</td>\n",
              "      <td>-0.127741</td>\n",
              "      <td>1.000000</td>\n",
              "      <td>-0.086506</td>\n",
              "      <td>0.116348</td>\n",
              "      <td>0.247508</td>\n",
              "      <td>0.179958</td>\n",
              "    </tr>\n",
              "    <tr>\n",
              "      <th>idade</th>\n",
              "      <td>-0.069822</td>\n",
              "      <td>-0.336512</td>\n",
              "      <td>-0.086506</td>\n",
              "      <td>1.000000</td>\n",
              "      <td>-0.232543</td>\n",
              "      <td>-0.171485</td>\n",
              "      <td>0.093707</td>\n",
              "    </tr>\n",
              "    <tr>\n",
              "      <th>irmaos_conjuges_abordo</th>\n",
              "      <td>-0.034040</td>\n",
              "      <td>0.081656</td>\n",
              "      <td>0.116348</td>\n",
              "      <td>-0.232543</td>\n",
              "      <td>1.000000</td>\n",
              "      <td>0.414542</td>\n",
              "      <td>0.160887</td>\n",
              "    </tr>\n",
              "    <tr>\n",
              "      <th>pais_filhos_abordo</th>\n",
              "      <td>0.083151</td>\n",
              "      <td>0.016824</td>\n",
              "      <td>0.247508</td>\n",
              "      <td>-0.171485</td>\n",
              "      <td>0.414542</td>\n",
              "      <td>1.000000</td>\n",
              "      <td>0.217532</td>\n",
              "    </tr>\n",
              "    <tr>\n",
              "      <th>preco_bilhete</th>\n",
              "      <td>0.255290</td>\n",
              "      <td>-0.548193</td>\n",
              "      <td>0.179958</td>\n",
              "      <td>0.093707</td>\n",
              "      <td>0.160887</td>\n",
              "      <td>0.217532</td>\n",
              "      <td>1.000000</td>\n",
              "    </tr>\n",
              "  </tbody>\n",
              "</table>\n",
              "</div>\n",
              "      <button class=\"colab-df-convert\" onclick=\"convertToInteractive('df-27be2019-aa19-4b5b-814f-89096f4f2bef')\"\n",
              "              title=\"Convert this dataframe to an interactive table.\"\n",
              "              style=\"display:none;\">\n",
              "        \n",
              "  <svg xmlns=\"http://www.w3.org/2000/svg\" height=\"24px\"viewBox=\"0 0 24 24\"\n",
              "       width=\"24px\">\n",
              "    <path d=\"M0 0h24v24H0V0z\" fill=\"none\"/>\n",
              "    <path d=\"M18.56 5.44l.94 2.06.94-2.06 2.06-.94-2.06-.94-.94-2.06-.94 2.06-2.06.94zm-11 1L8.5 8.5l.94-2.06 2.06-.94-2.06-.94L8.5 2.5l-.94 2.06-2.06.94zm10 10l.94 2.06.94-2.06 2.06-.94-2.06-.94-.94-2.06-.94 2.06-2.06.94z\"/><path d=\"M17.41 7.96l-1.37-1.37c-.4-.4-.92-.59-1.43-.59-.52 0-1.04.2-1.43.59L10.3 9.45l-7.72 7.72c-.78.78-.78 2.05 0 2.83L4 21.41c.39.39.9.59 1.41.59.51 0 1.02-.2 1.41-.59l7.78-7.78 2.81-2.81c.8-.78.8-2.07 0-2.86zM5.41 20L4 18.59l7.72-7.72 1.47 1.35L5.41 20z\"/>\n",
              "  </svg>\n",
              "      </button>\n",
              "      \n",
              "  <style>\n",
              "    .colab-df-container {\n",
              "      display:flex;\n",
              "      flex-wrap:wrap;\n",
              "      gap: 12px;\n",
              "    }\n",
              "\n",
              "    .colab-df-convert {\n",
              "      background-color: #E8F0FE;\n",
              "      border: none;\n",
              "      border-radius: 50%;\n",
              "      cursor: pointer;\n",
              "      display: none;\n",
              "      fill: #1967D2;\n",
              "      height: 32px;\n",
              "      padding: 0 0 0 0;\n",
              "      width: 32px;\n",
              "    }\n",
              "\n",
              "    .colab-df-convert:hover {\n",
              "      background-color: #E2EBFA;\n",
              "      box-shadow: 0px 1px 2px rgba(60, 64, 67, 0.3), 0px 1px 3px 1px rgba(60, 64, 67, 0.15);\n",
              "      fill: #174EA6;\n",
              "    }\n",
              "\n",
              "    [theme=dark] .colab-df-convert {\n",
              "      background-color: #3B4455;\n",
              "      fill: #D2E3FC;\n",
              "    }\n",
              "\n",
              "    [theme=dark] .colab-df-convert:hover {\n",
              "      background-color: #434B5C;\n",
              "      box-shadow: 0px 1px 3px 1px rgba(0, 0, 0, 0.15);\n",
              "      filter: drop-shadow(0px 1px 2px rgba(0, 0, 0, 0.3));\n",
              "      fill: #FFFFFF;\n",
              "    }\n",
              "  </style>\n",
              "\n",
              "      <script>\n",
              "        const buttonEl =\n",
              "          document.querySelector('#df-27be2019-aa19-4b5b-814f-89096f4f2bef button.colab-df-convert');\n",
              "        buttonEl.style.display =\n",
              "          google.colab.kernel.accessAllowed ? 'block' : 'none';\n",
              "\n",
              "        async function convertToInteractive(key) {\n",
              "          const element = document.querySelector('#df-27be2019-aa19-4b5b-814f-89096f4f2bef');\n",
              "          const dataTable =\n",
              "            await google.colab.kernel.invokeFunction('convertToInteractive',\n",
              "                                                     [key], {});\n",
              "          if (!dataTable) return;\n",
              "\n",
              "          const docLinkHtml = 'Like what you see? Visit the ' +\n",
              "            '<a target=\"_blank\" href=https://colab.research.google.com/notebooks/data_table.ipynb>data table notebook</a>'\n",
              "            + ' to learn more about interactive tables.';\n",
              "          element.innerHTML = '';\n",
              "          dataTable['output_type'] = 'display_data';\n",
              "          await google.colab.output.renderOutput(dataTable, element);\n",
              "          const docLink = document.createElement('div');\n",
              "          docLink.innerHTML = docLinkHtml;\n",
              "          element.appendChild(docLink);\n",
              "        }\n",
              "      </script>\n",
              "    </div>\n",
              "  </div>\n",
              "  "
            ]
          },
          "metadata": {},
          "execution_count": 84
        }
      ]
    },
    {
      "cell_type": "markdown",
      "source": [
        "Vemos pelas correlação entre 'sobreviveu' e as outras variáveis que a maior correlação com sobreviveu é a da variável 'gênero', seguida da variável 'classe_bilhete' e a menor correlação é de 'irmaos_conjuges_abordo'. Ou seja, os fatores mais importantes para sobrevivência são os de gênero e classe social e o fator menos importante é a de 'irmaos_conjuges_abordo'."
      ],
      "metadata": {
        "id": "HiLLoRMLCUS0"
      },
      "id": "HiLLoRMLCUS0"
    },
    {
      "cell_type": "markdown",
      "id": "a551f815",
      "metadata": {
        "id": "a551f815"
      },
      "source": [
        "### Você pode dizer que houve alguma influência do poder aquisitivo na sobrevivência do acidente? \n",
        "\n"
      ]
    },
    {
      "cell_type": "code",
      "source": [
        "titanic_cor(df, 'classe_bilhete')"
      ],
      "metadata": {
        "id": "4Emq50GC_DqF",
        "colab": {
          "base_uri": "https://localhost:8080/",
          "height": 367
        },
        "outputId": "33dbf6e8-440d-46ab-b86d-519bf969561a"
      },
      "id": "4Emq50GC_DqF",
      "execution_count": null,
      "outputs": [
        {
          "output_type": "stream",
          "name": "stdout",
          "text": [
            "Quantidade por opção: \n",
            "3    491\n",
            "1    214\n",
            "2    184\n",
            "Name: classe_bilhete, dtype: int64\n"
          ]
        },
        {
          "output_type": "display_data",
          "data": {
            "text/plain": [
              "<Figure size 432x288 with 1 Axes>"
            ],
            "image/png": "[encoded data removed]"
          },
          "metadata": {
            "needs_background": "light"
          }
        }
      ]
    },
    {
      "cell_type": "markdown",
      "source": [
        "Houve grande correlação entre o poder aquisitivo e a sobrevivência. Como podemos ver no gráfico acima, na 1a classe, classe onde estão as pessoas de maior poder aquisitivo, mais pessoas sobreviveram do que não sobreviveram. Na 2a classe houve quase um empate entre pessoas que sobreviveram e que não sobreviveram, já na 3a classe, classe em que estão as pessoas de menor poder aquisitivo, muito mais pessoas não sobreviveram do que sobreviveram."
      ],
      "metadata": {
        "id": "ypbHb9v8DxF5"
      },
      "id": "ypbHb9v8DxF5"
    },
    {
      "cell_type": "markdown",
      "id": "b8b48546",
      "metadata": {
        "id": "b8b48546"
      },
      "source": [
        "### O protocolo marítimo da época do Titanic tinha foco em dar prioridade a crianças e mulheres, analisando os dados podemos dizer se este protocolo foi seguido? \n",
        "\n"
      ]
    },
    {
      "cell_type": "code",
      "source": [
        "titanic_cor(df, 'genero')"
      ],
      "metadata": {
        "id": "j43Aa_uphl_S",
        "colab": {
          "base_uri": "https://localhost:8080/",
          "height": 348
        },
        "outputId": "fe5fd77e-9bc7-4df4-fff7-802c13179441"
      },
      "id": "j43Aa_uphl_S",
      "execution_count": null,
      "outputs": [
        {
          "output_type": "stream",
          "name": "stdout",
          "text": [
            "Quantidade por opção: \n",
            "0    577\n",
            "1    312\n",
            "Name: genero, dtype: int64\n"
          ]
        },
        {
          "output_type": "display_data",
          "data": {
            "text/plain": [
              "<Figure size 432x288 with 1 Axes>"
            ],
            "image/png": "[encoded data removed]"
          },
          "metadata": {
            "needs_background": "light"
          }
        }
      ]
    },
    {
      "cell_type": "code",
      "source": [
        "idadesep = [0,10,18,25,40,90]\n",
        "idadestatus = ['Criança','Adolescente','Jovem Adulto','Adulto','Idoso']\n",
        "df['idadestatus']=pd.cut(df.idade,idadesep,labels=idadestatus)\n"
      ],
      "metadata": {
        "id": "Kf__gcIKItWW"
      },
      "id": "Kf__gcIKItWW",
      "execution_count": null,
      "outputs": []
    },
    {
      "cell_type": "code",
      "source": [
        "titanic_cor(df, 'idadestatus')"
      ],
      "metadata": {
        "id": "OSWZmqNrMn0E",
        "colab": {
          "base_uri": "https://localhost:8080/",
          "height": 400
        },
        "outputId": "5ee99aa4-30e5-44be-9cf9-b8a3e042ffb4"
      },
      "id": "OSWZmqNrMn0E",
      "execution_count": null,
      "outputs": [
        {
          "output_type": "stream",
          "name": "stdout",
          "text": [
            "Quantidade por opção: \n",
            "Adulto          439\n",
            "Jovem Adulto    162\n",
            "Idoso           149\n",
            "Adolescente      75\n",
            "Criança          64\n",
            "Name: idadestatus, dtype: int64\n"
          ]
        },
        {
          "output_type": "display_data",
          "data": {
            "text/plain": [
              "<Figure size 432x288 with 1 Axes>"
            ],
            "image/png": "[encoded data removed]"
          },
          "metadata": {
            "needs_background": "light"
          }
        }
      ]
    },
    {
      "cell_type": "markdown",
      "id": "3ed7a5d0",
      "metadata": {
        "id": "3ed7a5d0"
      },
      "source": [
        "Podemos ver pelos graficos que o protocolo foi seguido. Entre passageiros do sexo masculino a maioria não sobreviveu, já entre pacientes do sexo feminino, a maioria sobreviveu. Quanto à idade, o único grupo que teve maior número de sobreviventes que de não sobreviventes foi o grupo das crianças."
      ]
    },
    {
      "cell_type": "markdown",
      "id": "9934559c",
      "metadata": {
        "id": "9934559c"
      },
      "source": [
        "### Ter uma família no barco influenciou negativamente ou positivamente para a sua sobrevivência?\n",
        "\n"
      ]
    },
    {
      "cell_type": "code",
      "source": [
        "temfam = [-1, 0,8]\n",
        "famstatus = ['Sem irmão/cônjuge','Com irmão/cônjuge']\n",
        "df['famstatus']=pd.cut(df.irmaos_conjuges_abordo,temfam,labels=famstatus)\n"
      ],
      "metadata": {
        "id": "mHvr9Xx3NpH_"
      },
      "id": "mHvr9Xx3NpH_",
      "execution_count": null,
      "outputs": []
    },
    {
      "cell_type": "code",
      "source": [
        "df.head()"
      ],
      "metadata": {
        "id": "vx4Ku3lcOnAb",
        "colab": {
          "base_uri": "https://localhost:8080/",
          "height": 357
        },
        "outputId": "e7ac2969-c330-459d-abd1-82cfffc86645"
      },
      "id": "vx4Ku3lcOnAb",
      "execution_count": null,
      "outputs": [
        {
          "output_type": "execute_result",
          "data": {
            "text/plain": [
              "   sobreviveu  classe_bilhete  genero  idade  irmaos_conjuges_abordo  \\\n",
              "0           0               3       0   22.0                       1   \n",
              "1           1               1       1   38.0                       1   \n",
              "2           1               3       1   26.0                       0   \n",
              "3           1               1       1   35.0                       1   \n",
              "4           0               3       0   35.0                       0   \n",
              "\n",
              "   pais_filhos_abordo    numero_bilhete  preco_bilhete cabine_numero  \\\n",
              "0                   0         A/5 21171         7.2500   C23 C25 C27   \n",
              "1                   0          PC 17599        71.2833           C85   \n",
              "2                   0  STON/O2. 3101282         7.9250   C23 C25 C27   \n",
              "3                   0            113803        53.1000          C123   \n",
              "4                   0            373450         8.0500   C23 C25 C27   \n",
              "\n",
              "  local_embarque   idadestatus          famstatus  \n",
              "0    Southampton  Jovem Adulto  Com irmão/cônjuge  \n",
              "1      Cherbourg        Adulto  Com irmão/cônjuge  \n",
              "2    Southampton        Adulto  Sem irmão/cônjuge  \n",
              "3    Southampton        Adulto  Com irmão/cônjuge  \n",
              "4    Southampton        Adulto  Sem irmão/cônjuge  "
            ],
            "text/html": [
              "\n",
              "  <div id=\"df-38dc67b9-d01c-4617-9a8e-eb5023d1df7a\">\n",
              "    <div class=\"colab-df-container\">\n",
              "      <div>\n",
              "<style scoped>\n",
              "    .dataframe tbody tr th:only-of-type {\n",
              "        vertical-align: middle;\n",
              "    }\n",
              "\n",
              "    .dataframe tbody tr th {\n",
              "        vertical-align: top;\n",
              "    }\n",
              "\n",
              "    .dataframe thead th {\n",
              "        text-align: right;\n",
              "    }\n",
              "</style>\n",
              "<table border=\"1\" class=\"dataframe\">\n",
              "  <thead>\n",
              "    <tr style=\"text-align: right;\">\n",
              "      <th></th>\n",
              "      <th>sobreviveu</th>\n",
              "      <th>classe_bilhete</th>\n",
              "      <th>genero</th>\n",
              "      <th>idade</th>\n",
              "      <th>irmaos_conjuges_abordo</th>\n",
              "      <th>pais_filhos_abordo</th>\n",
              "      <th>numero_bilhete</th>\n",
              "      <th>preco_bilhete</th>\n",
              "      <th>cabine_numero</th>\n",
              "      <th>local_embarque</th>\n",
              "      <th>idadestatus</th>\n",
              "      <th>famstatus</th>\n",
              "    </tr>\n",
              "  </thead>\n",
              "  <tbody>\n",
              "    <tr>\n",
              "      <th>0</th>\n",
              "      <td>0</td>\n",
              "      <td>3</td>\n",
              "      <td>0</td>\n",
              "      <td>22.0</td>\n",
              "      <td>1</td>\n",
              "      <td>0</td>\n",
              "      <td>A/5 21171</td>\n",
              "      <td>7.2500</td>\n",
              "      <td>C23 C25 C27</td>\n",
              "      <td>Southampton</td>\n",
              "      <td>Jovem Adulto</td>\n",
              "      <td>Com irmão/cônjuge</td>\n",
              "    </tr>\n",
              "    <tr>\n",
              "      <th>1</th>\n",
              "      <td>1</td>\n",
              "      <td>1</td>\n",
              "      <td>1</td>\n",
              "      <td>38.0</td>\n",
              "      <td>1</td>\n",
              "      <td>0</td>\n",
              "      <td>PC 17599</td>\n",
              "      <td>71.2833</td>\n",
              "      <td>C85</td>\n",
              "      <td>Cherbourg</td>\n",
              "      <td>Adulto</td>\n",
              "      <td>Com irmão/cônjuge</td>\n",
              "    </tr>\n",
              "    <tr>\n",
              "      <th>2</th>\n",
              "      <td>1</td>\n",
              "      <td>3</td>\n",
              "      <td>1</td>\n",
              "      <td>26.0</td>\n",
              "      <td>0</td>\n",
              "      <td>0</td>\n",
              "      <td>STON/O2. 3101282</td>\n",
              "      <td>7.9250</td>\n",
              "      <td>C23 C25 C27</td>\n",
              "      <td>Southampton</td>\n",
              "      <td>Adulto</td>\n",
              "      <td>Sem irmão/cônjuge</td>\n",
              "    </tr>\n",
              "    <tr>\n",
              "      <th>3</th>\n",
              "      <td>1</td>\n",
              "      <td>1</td>\n",
              "      <td>1</td>\n",
              "      <td>35.0</td>\n",
              "      <td>1</td>\n",
              "      <td>0</td>\n",
              "      <td>113803</td>\n",
              "      <td>53.1000</td>\n",
              "      <td>C123</td>\n",
              "      <td>Southampton</td>\n",
              "      <td>Adulto</td>\n",
              "      <td>Com irmão/cônjuge</td>\n",
              "    </tr>\n",
              "    <tr>\n",
              "      <th>4</th>\n",
              "      <td>0</td>\n",
              "      <td>3</td>\n",
              "      <td>0</td>\n",
              "      <td>35.0</td>\n",
              "      <td>0</td>\n",
              "      <td>0</td>\n",
              "      <td>373450</td>\n",
              "      <td>8.0500</td>\n",
              "      <td>C23 C25 C27</td>\n",
              "      <td>Southampton</td>\n",
              "      <td>Adulto</td>\n",
              "      <td>Sem irmão/cônjuge</td>\n",
              "    </tr>\n",
              "  </tbody>\n",
              "</table>\n",
              "</div>\n",
              "      <button class=\"colab-df-convert\" onclick=\"convertToInteractive('df-38dc67b9-d01c-4617-9a8e-eb5023d1df7a')\"\n",
              "              title=\"Convert this dataframe to an interactive table.\"\n",
              "              style=\"display:none;\">\n",
              "        \n",
              "  <svg xmlns=\"http://www.w3.org/2000/svg\" height=\"24px\"viewBox=\"0 0 24 24\"\n",
              "       width=\"24px\">\n",
              "    <path d=\"M0 0h24v24H0V0z\" fill=\"none\"/>\n",
              "    <path d=\"M18.56 5.44l.94 2.06.94-2.06 2.06-.94-2.06-.94-.94-2.06-.94 2.06-2.06.94zm-11 1L8.5 8.5l.94-2.06 2.06-.94-2.06-.94L8.5 2.5l-.94 2.06-2.06.94zm10 10l.94 2.06.94-2.06 2.06-.94-2.06-.94-.94-2.06-.94 2.06-2.06.94z\"/><path d=\"M17.41 7.96l-1.37-1.37c-.4-.4-.92-.59-1.43-.59-.52 0-1.04.2-1.43.59L10.3 9.45l-7.72 7.72c-.78.78-.78 2.05 0 2.83L4 21.41c.39.39.9.59 1.41.59.51 0 1.02-.2 1.41-.59l7.78-7.78 2.81-2.81c.8-.78.8-2.07 0-2.86zM5.41 20L4 18.59l7.72-7.72 1.47 1.35L5.41 20z\"/>\n",
              "  </svg>\n",
              "      </button>\n",
              "      \n",
              "  <style>\n",
              "    .colab-df-container {\n",
              "      display:flex;\n",
              "      flex-wrap:wrap;\n",
              "      gap: 12px;\n",
              "    }\n",
              "\n",
              "    .colab-df-convert {\n",
              "      background-color: #E8F0FE;\n",
              "      border: none;\n",
              "      border-radius: 50%;\n",
              "      cursor: pointer;\n",
              "      display: none;\n",
              "      fill: #1967D2;\n",
              "      height: 32px;\n",
              "      padding: 0 0 0 0;\n",
              "      width: 32px;\n",
              "    }\n",
              "\n",
              "    .colab-df-convert:hover {\n",
              "      background-color: #E2EBFA;\n",
              "      box-shadow: 0px 1px 2px rgba(60, 64, 67, 0.3), 0px 1px 3px 1px rgba(60, 64, 67, 0.15);\n",
              "      fill: #174EA6;\n",
              "    }\n",
              "\n",
              "    [theme=dark] .colab-df-convert {\n",
              "      background-color: #3B4455;\n",
              "      fill: #D2E3FC;\n",
              "    }\n",
              "\n",
              "    [theme=dark] .colab-df-convert:hover {\n",
              "      background-color: #434B5C;\n",
              "      box-shadow: 0px 1px 3px 1px rgba(0, 0, 0, 0.15);\n",
              "      filter: drop-shadow(0px 1px 2px rgba(0, 0, 0, 0.3));\n",
              "      fill: #FFFFFF;\n",
              "    }\n",
              "  </style>\n",
              "\n",
              "      <script>\n",
              "        const buttonEl =\n",
              "          document.querySelector('#df-38dc67b9-d01c-4617-9a8e-eb5023d1df7a button.colab-df-convert');\n",
              "        buttonEl.style.display =\n",
              "          google.colab.kernel.accessAllowed ? 'block' : 'none';\n",
              "\n",
              "        async function convertToInteractive(key) {\n",
              "          const element = document.querySelector('#df-38dc67b9-d01c-4617-9a8e-eb5023d1df7a');\n",
              "          const dataTable =\n",
              "            await google.colab.kernel.invokeFunction('convertToInteractive',\n",
              "                                                     [key], {});\n",
              "          if (!dataTable) return;\n",
              "\n",
              "          const docLinkHtml = 'Like what you see? Visit the ' +\n",
              "            '<a target=\"_blank\" href=https://colab.research.google.com/notebooks/data_table.ipynb>data table notebook</a>'\n",
              "            + ' to learn more about interactive tables.';\n",
              "          element.innerHTML = '';\n",
              "          dataTable['output_type'] = 'display_data';\n",
              "          await google.colab.output.renderOutput(dataTable, element);\n",
              "          const docLink = document.createElement('div');\n",
              "          docLink.innerHTML = docLinkHtml;\n",
              "          element.appendChild(docLink);\n",
              "        }\n",
              "      </script>\n",
              "    </div>\n",
              "  </div>\n",
              "  "
            ]
          },
          "metadata": {},
          "execution_count": 90
        }
      ]
    },
    {
      "cell_type": "code",
      "source": [
        "titanic_cor(df, 'famstatus')"
      ],
      "metadata": {
        "id": "ObMxERW8PBZR",
        "colab": {
          "base_uri": "https://localhost:8080/",
          "height": 349
        },
        "outputId": "8f05d819-00ca-45f0-9075-a1b9a8981e7f"
      },
      "id": "ObMxERW8PBZR",
      "execution_count": null,
      "outputs": [
        {
          "output_type": "stream",
          "name": "stdout",
          "text": [
            "Quantidade por opção: \n",
            "Sem irmão/cônjuge    606\n",
            "Com irmão/cônjuge    283\n",
            "Name: famstatus, dtype: int64\n"
          ]
        },
        {
          "output_type": "display_data",
          "data": {
            "text/plain": [
              "<Figure size 432x288 with 1 Axes>"
            ],
            "image/png": "[encoded data removed]"
          },
          "metadata": {
            "needs_background": "light"
          }
        }
      ]
    },
    {
      "cell_type": "code",
      "source": [
        "temfami = [-1, 0,8]\n",
        "pafilstatus = ['Sem pais/filhos','Com pais/filhos']\n",
        "df['pafilstatus']=pd.cut(df.pais_filhos_abordo\t,temfami,labels=pafilstatus)"
      ],
      "metadata": {
        "id": "N13mBM6lPVSu"
      },
      "id": "N13mBM6lPVSu",
      "execution_count": null,
      "outputs": []
    },
    {
      "cell_type": "code",
      "source": [
        "titanic_cor(df, 'pafilstatus')"
      ],
      "metadata": {
        "id": "IDpRkgGmPsB_",
        "colab": {
          "base_uri": "https://localhost:8080/",
          "height": 348
        },
        "outputId": "7c696c9f-d61a-434d-d398-ab4eb5f9d7e5"
      },
      "id": "IDpRkgGmPsB_",
      "execution_count": null,
      "outputs": [
        {
          "output_type": "stream",
          "name": "stdout",
          "text": [
            "Quantidade por opção: \n",
            "Sem pais/filhos    676\n",
            "Com pais/filhos    213\n",
            "Name: pafilstatus, dtype: int64\n"
          ]
        },
        {
          "output_type": "display_data",
          "data": {
            "text/plain": [
              "<Figure size 432x288 with 1 Axes>"
            ],
            "image/png": "[encoded data removed]"
          },
          "metadata": {
            "needs_background": "light"
          }
        }
      ]
    },
    {
      "cell_type": "markdown",
      "source": [
        "Podemos ver pelos gráficos acima que ter uma família influencia positivamente na sobrevivência, pois pessoas com pais/filhos ou com irmãos/cônjuges à bordo sobreviveram muito mais do que os sem pais/filhos ou sem irmãos/cônjuges à bordo."
      ],
      "metadata": {
        "id": "HgvqD9cnPwzA"
      },
      "id": "HgvqD9cnPwzA"
    },
    {
      "cell_type": "markdown",
      "id": "e904b88a",
      "metadata": {
        "id": "e904b88a"
      },
      "source": [
        "### Qual o perfil de quem não sobreviveu? E qual é o perfil de quem sobreviveu?\n",
        "- Entenda Perfil como: Gênero, Idade e Classe Social. Caso você identifique alguma nova característica pode adicioná-la ao perfil.\n",
        "\n",
        "\n"
      ]
    },
    {
      "cell_type": "code",
      "source": [
        "sns.countplot(data = df, x = 'genero', hue = 'sobreviveu')\n"
      ],
      "metadata": {
        "id": "SJyWNeTCSFrQ",
        "colab": {
          "base_uri": "https://localhost:8080/",
          "height": 296
        },
        "outputId": "201e5621-8a98-4914-ef78-ad3e2f342b8d"
      },
      "id": "SJyWNeTCSFrQ",
      "execution_count": null,
      "outputs": [
        {
          "output_type": "execute_result",
          "data": {
            "text/plain": [
              "<AxesSubplot:xlabel='genero', ylabel='count'>"
            ]
          },
          "metadata": {},
          "execution_count": 94
        },
        {
          "output_type": "display_data",
          "data": {
            "text/plain": [
              "<Figure size 432x288 with 1 Axes>"
            ],
            "image/png": "[encoded data removed]"
          },
          "metadata": {
            "needs_background": "light"
          }
        }
      ]
    },
    {
      "cell_type": "code",
      "execution_count": null,
      "id": "fc2ed148",
      "metadata": {
        "id": "fc2ed148",
        "colab": {
          "base_uri": "https://localhost:8080/",
          "height": 296
        },
        "outputId": "50733fb0-75e6-4906-c278-5972f7660298"
      },
      "outputs": [
        {
          "output_type": "execute_result",
          "data": {
            "text/plain": [
              "<AxesSubplot:xlabel='idadestatus', ylabel='count'>"
            ]
          },
          "metadata": {},
          "execution_count": 95
        },
        {
          "output_type": "display_data",
          "data": {
            "text/plain": [
              "<Figure size 432x288 with 1 Axes>"
            ],
            "image/png": "[encoded data removed]"
          },
          "metadata": {
            "needs_background": "light"
          }
        }
      ],
      "source": [
        "\n",
        "sns.countplot(data = df, x = 'idadestatus', hue = 'sobreviveu')\n"
      ]
    },
    {
      "cell_type": "code",
      "source": [
        "sns.countplot(data = df, x = 'classe_bilhete', hue = 'sobreviveu')"
      ],
      "metadata": {
        "id": "1h3zAH67SJo_",
        "colab": {
          "base_uri": "https://localhost:8080/",
          "height": 297
        },
        "outputId": "fa305208-19d0-4c9e-b956-e311afe90d77"
      },
      "id": "1h3zAH67SJo_",
      "execution_count": null,
      "outputs": [
        {
          "output_type": "execute_result",
          "data": {
            "text/plain": [
              "<AxesSubplot:xlabel='classe_bilhete', ylabel='count'>"
            ]
          },
          "metadata": {},
          "execution_count": 96
        },
        {
          "output_type": "display_data",
          "data": {
            "text/plain": [
              "<Figure size 432x288 with 1 Axes>"
            ],
            "image/png": "[encoded data removed]"
          },
          "metadata": {
            "needs_background": "light"
          }
        }
      ]
    },
    {
      "cell_type": "markdown",
      "id": "5993efa2",
      "metadata": {
        "id": "5993efa2"
      },
      "source": [
        "Pelas análises feitas anteriormente, o perfil de quem mais sobreviveu são pessoas da 1a classe (classe social alta), do sexo feminino e de menor idade. O perfil de quem menos sobreviveu é o de pessoas de classe social baixa (3a classe), do sexo masculino, e de idades adultas. "
      ]
    },
    {
      "cell_type": "markdown",
      "metadata": {
        "id": "9898edbd"
      },
      "source": [
        "# Predições - Aprendizado de Máquina\n",
        "Uma vez que você compreendeu o contexto do problema e explorou os dados relacionados ao mesmo, é hora de criar um modelo para fazer predições!\n",
        "\n",
        "### Orientações:\n",
        "* O objetivo do seu modelo é fazer uma predição de sobrevivência com base nas informações de cada pessoa em individual.[Referencia para estudo de caso.](https://www.youtube.com/watch?v=ba3_UMjhAQc) \n",
        "* Você poderá desenvolver novas features para ajudar o modelo a entender melhor as características de cada amostra. \n",
        "* Deve ser feita uma limpeza e normalização dos dados antes de ser fornecido para o modelo.\n",
        "* Você não poderá utilizar nenhuma lib de AutoML no desafio, é recomendado utilizar a bibliteca do [scikit-learn](https://scikit-learn.org/stable/supervised_learning.html#supervised-learning) para fazer o seu processamento dos dados e treinamento de modelo.\n",
        "* Defina quais métricas são importantes para o seu problema uma vez que se trata de uma classificação. [Referencia  para entender métricas.](https://medium.com/kunumi/m%C3%A9tricas-de-avalia%C3%A7%C3%A3o-em-machine-learning-classifica%C3%A7%C3%A3o-49340dcdb198)\n",
        "* Você deve testar mais de um modelo e comprar o resultados antes de escolher o melhor modelo para o seu problema.\n",
        " \n",
        "Este vídeo é de um Cientista de Dados resolvendo o problema refência do desafio, a suas idéias e lógicas podem ser aproveitadas mas o código não pode ser aproveitado uma vez que os dados não são exatamente iguais.[Link da solução feita por um profissional de referência do projeto.](https://www.youtube.com/watch?v=1KguWZH4hXw&list=PLwnip85KhroW8Q1JSNbgl06iNPeC0SDkx&index=7)"
      ],
      "id": "9898edbd"
    },
    {
      "cell_type": "code",
      "execution_count": null,
      "metadata": {
        "id": "3f71444a",
        "colab": {
          "base_uri": "https://localhost:8080/"
        },
        "outputId": "cb9b1910-9038-46b9-837a-bfb8b0af2ef7"
      },
      "outputs": [
        {
          "output_type": "stream",
          "name": "stdout",
          "text": [
            "Looking in indexes: https://pypi.org/simple, https://us-python.pkg.dev/colab-wheels/public/simple/\n",
            "Requirement already satisfied: scikit-learn in /usr/local/lib/python3.7/dist-packages (1.0.2)\n",
            "Requirement already satisfied: joblib>=0.11 in /usr/local/lib/python3.7/dist-packages (from scikit-learn) (1.1.0)\n",
            "Requirement already satisfied: numpy>=1.14.6 in /usr/local/lib/python3.7/dist-packages (from scikit-learn) (1.21.6)\n",
            "Requirement already satisfied: threadpoolctl>=2.0.0 in /usr/local/lib/python3.7/dist-packages (from scikit-learn) (3.1.0)\n",
            "Requirement already satisfied: scipy>=1.1.0 in /usr/local/lib/python3.7/dist-packages (from scikit-learn) (1.7.3)\n"
          ]
        }
      ],
      "source": [
        "!pip install -U scikit-learn"
      ],
      "id": "3f71444a"
    },
    {
      "cell_type": "code",
      "execution_count": null,
      "metadata": {
        "id": "2f518d7b",
        "colab": {
          "base_uri": "https://localhost:8080/"
        },
        "outputId": "7145cccc-6aca-438e-cec8-00d932347aac"
      },
      "outputs": [
        {
          "output_type": "stream",
          "name": "stdout",
          "text": [
            "               sobreviveu  classe_bilhete genero  idade  \\\n",
            "id_passageiro                                             \n",
            "1                   False               3      M   22.0   \n",
            "2                    True               1      F   38.0   \n",
            "3                    True               3      F   26.0   \n",
            "4                    True               1      F   35.0   \n",
            "5                   False               3      M   35.0   \n",
            "...                   ...             ...    ...    ...   \n",
            "887                 False               2      M   27.0   \n",
            "888                  True               1      F   19.0   \n",
            "889                 False               3      F    NaN   \n",
            "890                  True               1      M   26.0   \n",
            "891                 False               3      M   32.0   \n",
            "\n",
            "               irmaos_conjuges_abordo  pais_filhos_abordo    numero_bilhete  \\\n",
            "id_passageiro                                                                 \n",
            "1                                   1                   0         A/5 21171   \n",
            "2                                   1                   0          PC 17599   \n",
            "3                                   0                   0  STON/O2. 3101282   \n",
            "4                                   1                   0            113803   \n",
            "5                                   0                   0            373450   \n",
            "...                               ...                 ...               ...   \n",
            "887                                 0                   0            211536   \n",
            "888                                 0                   0            112053   \n",
            "889                                 1                   2        W./C. 6607   \n",
            "890                                 0                   0            111369   \n",
            "891                                 0                   0            370376   \n",
            "\n",
            "               preco_bilhete cabine_numero local_embarque  \n",
            "id_passageiro                                              \n",
            "1                     7.2500           NaN    Southampton  \n",
            "2                    71.2833           C85      Cherbourg  \n",
            "3                     7.9250           NaN    Southampton  \n",
            "4                    53.1000          C123    Southampton  \n",
            "5                     8.0500           NaN    Southampton  \n",
            "...                      ...           ...            ...  \n",
            "887                  13.0000           NaN    Southampton  \n",
            "888                  30.0000           B42    Southampton  \n",
            "889                  23.4500           NaN    Southampton  \n",
            "890                  30.0000          C148      Cherbourg  \n",
            "891                   7.7500           NaN     Queenstown  \n",
            "\n",
            "[891 rows x 10 columns]\n"
          ]
        }
      ],
      "source": [
        "### Importação dos pacotes scikit-learn \n",
        "#\n",
        "#\n",
        "#\n",
        "\n",
        "# Reimportando o conjunto de dado\n",
        "df_ml = pd.read_csv(\"/content/drive/MyDrive/AsCan/titanic.csv\").set_index(\"id_passageiro\")\n",
        "\n",
        "print(df_ml)"
      ],
      "id": "2f518d7b"
    },
    {
      "cell_type": "markdown",
      "metadata": {
        "id": "c6259035"
      },
      "source": [
        "#### Perguntas guias para criação do modelo:\n",
        "- Como você pretende tratar os dados faltantes do seu dataset antes de fornecer para o modelo? \n",
        "- Você consegue criar alguma nova coluna (feature) para fornecer ao modelo?\n",
        "- Existe alguma coluna que pode ser removida sob algum critério? Como por exemplo correlação?\n",
        "- Você encontrou `outliers` no dataset? Se sim qual ação foi feita com estes dados?\n",
        "- Quais normatizações você aplicou nos dados categóricos e numéricos?\n",
        "\n"
      ],
      "id": "c6259035"
    },
    {
      "cell_type": "markdown",
      "source": [
        "Primeiramente, vamos ver quais os dados faltantes no dataset:"
      ],
      "metadata": {
        "id": "JA3ITYXYsBaO"
      },
      "id": "JA3ITYXYsBaO"
    },
    {
      "cell_type": "code",
      "source": [
        "df_ml.info()"
      ],
      "metadata": {
        "id": "uILm06QasGu5",
        "colab": {
          "base_uri": "https://localhost:8080/"
        },
        "outputId": "c1e45ed0-39c3-4f43-fa1c-3299346ebe9e"
      },
      "id": "uILm06QasGu5",
      "execution_count": null,
      "outputs": [
        {
          "output_type": "stream",
          "name": "stdout",
          "text": [
            "<class 'pandas.core.frame.DataFrame'>\n",
            "Int64Index: 891 entries, 1 to 891\n",
            "Data columns (total 10 columns):\n",
            " #   Column                  Non-Null Count  Dtype  \n",
            "---  ------                  --------------  -----  \n",
            " 0   sobreviveu              891 non-null    bool   \n",
            " 1   classe_bilhete          891 non-null    int64  \n",
            " 2   genero                  891 non-null    object \n",
            " 3   idade                   714 non-null    float64\n",
            " 4   irmaos_conjuges_abordo  891 non-null    int64  \n",
            " 5   pais_filhos_abordo      891 non-null    int64  \n",
            " 6   numero_bilhete          891 non-null    object \n",
            " 7   preco_bilhete           891 non-null    float64\n",
            " 8   cabine_numero           204 non-null    object \n",
            " 9   local_embarque          889 non-null    object \n",
            "dtypes: bool(1), float64(2), int64(3), object(4)\n",
            "memory usage: 70.5+ KB\n"
          ]
        }
      ]
    },
    {
      "cell_type": "markdown",
      "source": [
        "Como vemos acima existem valores faltando em algumas colunas, ou seja, valores nulos. Vamos então, checar que valores são esses:"
      ],
      "metadata": {
        "id": "Rc27WWJAsqcE"
      },
      "id": "Rc27WWJAsqcE"
    },
    {
      "cell_type": "code",
      "source": [
        "df_ml.isnull().sum()"
      ],
      "metadata": {
        "id": "LowtKWWMsrsQ",
        "colab": {
          "base_uri": "https://localhost:8080/"
        },
        "outputId": "a685ad8f-080b-44f1-f078-31649f846a6b"
      },
      "id": "LowtKWWMsrsQ",
      "execution_count": null,
      "outputs": [
        {
          "output_type": "execute_result",
          "data": {
            "text/plain": [
              "sobreviveu                  0\n",
              "classe_bilhete              0\n",
              "genero                      0\n",
              "idade                     177\n",
              "irmaos_conjuges_abordo      0\n",
              "pais_filhos_abordo          0\n",
              "numero_bilhete              0\n",
              "preco_bilhete               0\n",
              "cabine_numero             687\n",
              "local_embarque              2\n",
              "dtype: int64"
            ]
          },
          "metadata": {},
          "execution_count": 100
        }
      ]
    },
    {
      "cell_type": "markdown",
      "source": [
        "Como observado, existem 177 valores nulos na coluna 'idade', 687 valores nulos na coluna 'cabine_numero' e 2 valores nulos na coluna 'local_embarque'."
      ],
      "metadata": {
        "id": "6QZhyz5zsylV"
      },
      "id": "6QZhyz5zsylV"
    },
    {
      "cell_type": "markdown",
      "source": [
        "Como podemos ver, a grande maioria das linhas da coluna 'cabine_numero' estão nulas, restam apenas 204 de 891, sendo 687 nulas. Por isso, tomamos a decisão de não usar os dados dessa coluna e retirá-la dos dados a serem \n",
        "observados na criação dos modelos."
      ],
      "metadata": {
        "id": "VE0fYWYIs1pU"
      },
      "id": "VE0fYWYIs1pU"
    },
    {
      "cell_type": "code",
      "source": [
        "#dropando a columa cabine_numero\n",
        "df_ml = df_ml.drop(columns='cabine_numero', axis=1)"
      ],
      "metadata": {
        "id": "0F79bLzjtS9M"
      },
      "id": "0F79bLzjtS9M",
      "execution_count": null,
      "outputs": []
    },
    {
      "cell_type": "markdown",
      "source": [
        "Agora ainda temos 177 dados faltantes na coluna 'idade' e 2 dados faltantes na coluna 'local_embarque'."
      ],
      "metadata": {
        "id": "tyKE6AZ2tUCa"
      },
      "id": "tyKE6AZ2tUCa"
    },
    {
      "cell_type": "markdown",
      "source": [
        "Temos apenas mais 2 valores nulos na coluna 'local_embaque'. Iremos tratar esses valores nulos substituindo-os pelo valor mais comum na coluna 'local_embarque'."
      ],
      "metadata": {
        "id": "rrySx3VDtiT8"
      },
      "id": "rrySx3VDtiT8"
    },
    {
      "cell_type": "code",
      "source": [
        "#achando o valor de moda da coluna 'local_embarque':\n",
        "print(df_ml['local_embarque'].mode())"
      ],
      "metadata": {
        "id": "YOnmJ3iItevA",
        "colab": {
          "base_uri": "https://localhost:8080/"
        },
        "outputId": "a8bcb169-5388-48ec-c06e-3cbccd30ebf0"
      },
      "id": "YOnmJ3iItevA",
      "execution_count": null,
      "outputs": [
        {
          "output_type": "stream",
          "name": "stdout",
          "text": [
            "0    Southampton\n",
            "dtype: object\n"
          ]
        }
      ]
    },
    {
      "cell_type": "markdown",
      "source": [
        "O valor mais comum na coluna 'local_embarque' é 'Southampton', então iremos substituir os 2 valores faltantes por este."
      ],
      "metadata": {
        "id": "ckL7m4AdttZH"
      },
      "id": "ckL7m4AdttZH"
    },
    {
      "cell_type": "code",
      "source": [
        "#substituindo os valores faltantes da coluna 'local_embaque' com o valor de moda:\n",
        "df_ml['local_embarque'].fillna(df_ml['local_embarque'].mode()[0], inplace=True)"
      ],
      "metadata": {
        "id": "PW2e9gfdtpjT"
      },
      "id": "PW2e9gfdtpjT",
      "execution_count": null,
      "outputs": []
    },
    {
      "cell_type": "markdown",
      "source": [
        "Ainda temos 177 dados faltantes na coluna 'idade'. São muitos valores, então pra achar uma forma melhor de substituir esses valores, vamos observar as correlações entre os dados:"
      ],
      "metadata": {
        "id": "b_yYbTGwt26z"
      },
      "id": "b_yYbTGwt26z"
    },
    {
      "cell_type": "code",
      "source": [
        "df_ml.corr()"
      ],
      "metadata": {
        "id": "csdulBo8uCiR",
        "colab": {
          "base_uri": "https://localhost:8080/",
          "height": 237
        },
        "outputId": "89fca37f-f1d5-42d9-d020-7901581641ce"
      },
      "id": "csdulBo8uCiR",
      "execution_count": null,
      "outputs": [
        {
          "output_type": "execute_result",
          "data": {
            "text/plain": [
              "                        sobreviveu  classe_bilhete     idade  \\\n",
              "sobreviveu                1.000000       -0.338481 -0.077221   \n",
              "classe_bilhete           -0.338481        1.000000 -0.369226   \n",
              "idade                    -0.077221       -0.369226  1.000000   \n",
              "irmaos_conjuges_abordo   -0.035322        0.083081 -0.308247   \n",
              "pais_filhos_abordo        0.081629        0.018443 -0.189119   \n",
              "preco_bilhete             0.257307       -0.549500  0.096067   \n",
              "\n",
              "                        irmaos_conjuges_abordo  pais_filhos_abordo  \\\n",
              "sobreviveu                           -0.035322            0.081629   \n",
              "classe_bilhete                        0.083081            0.018443   \n",
              "idade                                -0.308247           -0.189119   \n",
              "irmaos_conjuges_abordo                1.000000            0.414838   \n",
              "pais_filhos_abordo                    0.414838            1.000000   \n",
              "preco_bilhete                         0.159651            0.216225   \n",
              "\n",
              "                        preco_bilhete  \n",
              "sobreviveu                   0.257307  \n",
              "classe_bilhete              -0.549500  \n",
              "idade                        0.096067  \n",
              "irmaos_conjuges_abordo       0.159651  \n",
              "pais_filhos_abordo           0.216225  \n",
              "preco_bilhete                1.000000  "
            ],
            "text/html": [
              "\n",
              "  <div id=\"df-55554769-9d20-4ab7-a3a0-302d0a7e1cb3\">\n",
              "    <div class=\"colab-df-container\">\n",
              "      <div>\n",
              "<style scoped>\n",
              "    .dataframe tbody tr th:only-of-type {\n",
              "        vertical-align: middle;\n",
              "    }\n",
              "\n",
              "    .dataframe tbody tr th {\n",
              "        vertical-align: top;\n",
              "    }\n",
              "\n",
              "    .dataframe thead th {\n",
              "        text-align: right;\n",
              "    }\n",
              "</style>\n",
              "<table border=\"1\" class=\"dataframe\">\n",
              "  <thead>\n",
              "    <tr style=\"text-align: right;\">\n",
              "      <th></th>\n",
              "      <th>sobreviveu</th>\n",
              "      <th>classe_bilhete</th>\n",
              "      <th>idade</th>\n",
              "      <th>irmaos_conjuges_abordo</th>\n",
              "      <th>pais_filhos_abordo</th>\n",
              "      <th>preco_bilhete</th>\n",
              "    </tr>\n",
              "  </thead>\n",
              "  <tbody>\n",
              "    <tr>\n",
              "      <th>sobreviveu</th>\n",
              "      <td>1.000000</td>\n",
              "      <td>-0.338481</td>\n",
              "      <td>-0.077221</td>\n",
              "      <td>-0.035322</td>\n",
              "      <td>0.081629</td>\n",
              "      <td>0.257307</td>\n",
              "    </tr>\n",
              "    <tr>\n",
              "      <th>classe_bilhete</th>\n",
              "      <td>-0.338481</td>\n",
              "      <td>1.000000</td>\n",
              "      <td>-0.369226</td>\n",
              "      <td>0.083081</td>\n",
              "      <td>0.018443</td>\n",
              "      <td>-0.549500</td>\n",
              "    </tr>\n",
              "    <tr>\n",
              "      <th>idade</th>\n",
              "      <td>-0.077221</td>\n",
              "      <td>-0.369226</td>\n",
              "      <td>1.000000</td>\n",
              "      <td>-0.308247</td>\n",
              "      <td>-0.189119</td>\n",
              "      <td>0.096067</td>\n",
              "    </tr>\n",
              "    <tr>\n",
              "      <th>irmaos_conjuges_abordo</th>\n",
              "      <td>-0.035322</td>\n",
              "      <td>0.083081</td>\n",
              "      <td>-0.308247</td>\n",
              "      <td>1.000000</td>\n",
              "      <td>0.414838</td>\n",
              "      <td>0.159651</td>\n",
              "    </tr>\n",
              "    <tr>\n",
              "      <th>pais_filhos_abordo</th>\n",
              "      <td>0.081629</td>\n",
              "      <td>0.018443</td>\n",
              "      <td>-0.189119</td>\n",
              "      <td>0.414838</td>\n",
              "      <td>1.000000</td>\n",
              "      <td>0.216225</td>\n",
              "    </tr>\n",
              "    <tr>\n",
              "      <th>preco_bilhete</th>\n",
              "      <td>0.257307</td>\n",
              "      <td>-0.549500</td>\n",
              "      <td>0.096067</td>\n",
              "      <td>0.159651</td>\n",
              "      <td>0.216225</td>\n",
              "      <td>1.000000</td>\n",
              "    </tr>\n",
              "  </tbody>\n",
              "</table>\n",
              "</div>\n",
              "      <button class=\"colab-df-convert\" onclick=\"convertToInteractive('df-55554769-9d20-4ab7-a3a0-302d0a7e1cb3')\"\n",
              "              title=\"Convert this dataframe to an interactive table.\"\n",
              "              style=\"display:none;\">\n",
              "        \n",
              "  <svg xmlns=\"http://www.w3.org/2000/svg\" height=\"24px\"viewBox=\"0 0 24 24\"\n",
              "       width=\"24px\">\n",
              "    <path d=\"M0 0h24v24H0V0z\" fill=\"none\"/>\n",
              "    <path d=\"M18.56 5.44l.94 2.06.94-2.06 2.06-.94-2.06-.94-.94-2.06-.94 2.06-2.06.94zm-11 1L8.5 8.5l.94-2.06 2.06-.94-2.06-.94L8.5 2.5l-.94 2.06-2.06.94zm10 10l.94 2.06.94-2.06 2.06-.94-2.06-.94-.94-2.06-.94 2.06-2.06.94z\"/><path d=\"M17.41 7.96l-1.37-1.37c-.4-.4-.92-.59-1.43-.59-.52 0-1.04.2-1.43.59L10.3 9.45l-7.72 7.72c-.78.78-.78 2.05 0 2.83L4 21.41c.39.39.9.59 1.41.59.51 0 1.02-.2 1.41-.59l7.78-7.78 2.81-2.81c.8-.78.8-2.07 0-2.86zM5.41 20L4 18.59l7.72-7.72 1.47 1.35L5.41 20z\"/>\n",
              "  </svg>\n",
              "      </button>\n",
              "      \n",
              "  <style>\n",
              "    .colab-df-container {\n",
              "      display:flex;\n",
              "      flex-wrap:wrap;\n",
              "      gap: 12px;\n",
              "    }\n",
              "\n",
              "    .colab-df-convert {\n",
              "      background-color: #E8F0FE;\n",
              "      border: none;\n",
              "      border-radius: 50%;\n",
              "      cursor: pointer;\n",
              "      display: none;\n",
              "      fill: #1967D2;\n",
              "      height: 32px;\n",
              "      padding: 0 0 0 0;\n",
              "      width: 32px;\n",
              "    }\n",
              "\n",
              "    .colab-df-convert:hover {\n",
              "      background-color: #E2EBFA;\n",
              "      box-shadow: 0px 1px 2px rgba(60, 64, 67, 0.3), 0px 1px 3px 1px rgba(60, 64, 67, 0.15);\n",
              "      fill: #174EA6;\n",
              "    }\n",
              "\n",
              "    [theme=dark] .colab-df-convert {\n",
              "      background-color: #3B4455;\n",
              "      fill: #D2E3FC;\n",
              "    }\n",
              "\n",
              "    [theme=dark] .colab-df-convert:hover {\n",
              "      background-color: #434B5C;\n",
              "      box-shadow: 0px 1px 3px 1px rgba(0, 0, 0, 0.15);\n",
              "      filter: drop-shadow(0px 1px 2px rgba(0, 0, 0, 0.3));\n",
              "      fill: #FFFFFF;\n",
              "    }\n",
              "  </style>\n",
              "\n",
              "      <script>\n",
              "        const buttonEl =\n",
              "          document.querySelector('#df-55554769-9d20-4ab7-a3a0-302d0a7e1cb3 button.colab-df-convert');\n",
              "        buttonEl.style.display =\n",
              "          google.colab.kernel.accessAllowed ? 'block' : 'none';\n",
              "\n",
              "        async function convertToInteractive(key) {\n",
              "          const element = document.querySelector('#df-55554769-9d20-4ab7-a3a0-302d0a7e1cb3');\n",
              "          const dataTable =\n",
              "            await google.colab.kernel.invokeFunction('convertToInteractive',\n",
              "                                                     [key], {});\n",
              "          if (!dataTable) return;\n",
              "\n",
              "          const docLinkHtml = 'Like what you see? Visit the ' +\n",
              "            '<a target=\"_blank\" href=https://colab.research.google.com/notebooks/data_table.ipynb>data table notebook</a>'\n",
              "            + ' to learn more about interactive tables.';\n",
              "          element.innerHTML = '';\n",
              "          dataTable['output_type'] = 'display_data';\n",
              "          await google.colab.output.renderOutput(dataTable, element);\n",
              "          const docLink = document.createElement('div');\n",
              "          docLink.innerHTML = docLinkHtml;\n",
              "          element.appendChild(docLink);\n",
              "        }\n",
              "      </script>\n",
              "    </div>\n",
              "  </div>\n",
              "  "
            ]
          },
          "metadata": {},
          "execution_count": 104
        }
      ]
    },
    {
      "cell_type": "markdown",
      "source": [
        "Podemos observar que a coluna que tem uma correlação maior com 'idade' é a coluna, 'classe_bilhete', então iremos utilizar essa informação para preencher os dados faltantes da coluna 'idade'. Iremos preencher os dados faltantes por média de idade em cada classe."
      ],
      "metadata": {
        "id": "8051j7IFx2d2"
      },
      "id": "8051j7IFx2d2"
    },
    {
      "cell_type": "code",
      "source": [
        "df_ml[df_ml['classe_bilhete'] == 1]['idade'].mean()"
      ],
      "metadata": {
        "id": "41fa5U6jyAJY",
        "colab": {
          "base_uri": "https://localhost:8080/"
        },
        "outputId": "d0107ca9-2257-4009-c1c1-1b9fda5ad831"
      },
      "id": "41fa5U6jyAJY",
      "execution_count": null,
      "outputs": [
        {
          "output_type": "execute_result",
          "data": {
            "text/plain": [
              "38.233440860215055"
            ]
          },
          "metadata": {},
          "execution_count": 105
        }
      ]
    },
    {
      "cell_type": "code",
      "source": [
        "df_ml[df_ml['classe_bilhete'] == 2]['idade'].mean()"
      ],
      "metadata": {
        "id": "NmHs546Aym7e",
        "colab": {
          "base_uri": "https://localhost:8080/"
        },
        "outputId": "7f4556c1-d3b3-4d6f-ff30-c6bc110fd7c4"
      },
      "id": "NmHs546Aym7e",
      "execution_count": null,
      "outputs": [
        {
          "output_type": "execute_result",
          "data": {
            "text/plain": [
              "29.87763005780347"
            ]
          },
          "metadata": {},
          "execution_count": 106
        }
      ]
    },
    {
      "cell_type": "code",
      "source": [
        "df_ml[df_ml['classe_bilhete'] == 3]['idade'].mean()"
      ],
      "metadata": {
        "id": "ErpXwYH1yoyx",
        "colab": {
          "base_uri": "https://localhost:8080/"
        },
        "outputId": "42b7e007-4cb9-4b1a-cb5f-f114fd88a5d6"
      },
      "id": "ErpXwYH1yoyx",
      "execution_count": null,
      "outputs": [
        {
          "output_type": "execute_result",
          "data": {
            "text/plain": [
              "25.14061971830986"
            ]
          },
          "metadata": {},
          "execution_count": 107
        }
      ]
    },
    {
      "cell_type": "code",
      "source": [
        "for i in sorted(df_ml['classe_bilhete'].unique()):\n",
        "  print(f'Pessoas da {i}ª classe tem média de idade de {df_ml[df_ml[\"classe_bilhete\"] == i][\"idade\"].mean():.2f} anos. ')"
      ],
      "metadata": {
        "id": "oKiiBowGyq5-",
        "colab": {
          "base_uri": "https://localhost:8080/"
        },
        "outputId": "ae017e39-13a8-427c-b61f-f2b0a8871333"
      },
      "id": "oKiiBowGyq5-",
      "execution_count": null,
      "outputs": [
        {
          "output_type": "stream",
          "name": "stdout",
          "text": [
            "Pessoas da 1ª classe tem média de idade de 38.23 anos. \n",
            "Pessoas da 2ª classe tem média de idade de 29.88 anos. \n",
            "Pessoas da 3ª classe tem média de idade de 25.14 anos. \n"
          ]
        }
      ]
    },
    {
      "cell_type": "markdown",
      "source": [
        "Preenchendo os valores nulos da coluna idade com a média de idade por classe:"
      ],
      "metadata": {
        "id": "i0GY2U0Vzll2"
      },
      "id": "i0GY2U0Vzll2"
    },
    {
      "cell_type": "code",
      "source": [
        "for i in df_ml.index:\n",
        "  if pd.isnull(df_ml['idade'][i]):\n",
        "    if df_ml['classe_bilhete'][i] == 1:\n",
        "      df_ml['idade'][i] = round(df_ml[df_ml['classe_bilhete'] == 1]['idade'].mean(), 2);\n",
        "    elif df_ml['classe_bilhete'][i] == 2:\n",
        "      df_ml['idade'][i] = round(df_ml[df_ml['classe_bilhete'] == 2]['idade'].mean(), 2);\n",
        "    elif df_ml['classe_bilhete'][i] == 3:\n",
        "      df_ml['idade'][i] = round(df_ml[df_ml['classe_bilhete'] == 3]['idade'].mean(), 2);\n"
      ],
      "metadata": {
        "id": "h2TgKatrxp-X",
        "colab": {
          "base_uri": "https://localhost:8080/"
        },
        "outputId": "6de9fa76-b6bb-431e-c050-68cc749f82e4"
      },
      "id": "h2TgKatrxp-X",
      "execution_count": null,
      "outputs": [
        {
          "output_type": "stream",
          "name": "stderr",
          "text": [
            "/usr/local/lib/python3.7/dist-packages/ipykernel_launcher.py:8: SettingWithCopyWarning: \n",
            "A value is trying to be set on a copy of a slice from a DataFrame\n",
            "\n",
            "See the caveats in the documentation: https://pandas.pydata.org/pandas-docs/stable/user_guide/indexing.html#returning-a-view-versus-a-copy\n",
            "  \n",
            "/usr/local/lib/python3.7/dist-packages/ipykernel_launcher.py:6: SettingWithCopyWarning: \n",
            "A value is trying to be set on a copy of a slice from a DataFrame\n",
            "\n",
            "See the caveats in the documentation: https://pandas.pydata.org/pandas-docs/stable/user_guide/indexing.html#returning-a-view-versus-a-copy\n",
            "  \n",
            "/usr/local/lib/python3.7/dist-packages/ipykernel_launcher.py:8: SettingWithCopyWarning: \n",
            "A value is trying to be set on a copy of a slice from a DataFrame\n",
            "\n",
            "See the caveats in the documentation: https://pandas.pydata.org/pandas-docs/stable/user_guide/indexing.html#returning-a-view-versus-a-copy\n",
            "  \n",
            "/usr/local/lib/python3.7/dist-packages/ipykernel_launcher.py:8: SettingWithCopyWarning: \n",
            "A value is trying to be set on a copy of a slice from a DataFrame\n",
            "\n",
            "See the caveats in the documentation: https://pandas.pydata.org/pandas-docs/stable/user_guide/indexing.html#returning-a-view-versus-a-copy\n",
            "  \n",
            "/usr/local/lib/python3.7/dist-packages/ipykernel_launcher.py:8: SettingWithCopyWarning: \n",
            "A value is trying to be set on a copy of a slice from a DataFrame\n",
            "\n",
            "See the caveats in the documentation: https://pandas.pydata.org/pandas-docs/stable/user_guide/indexing.html#returning-a-view-versus-a-copy\n",
            "  \n",
            "/usr/local/lib/python3.7/dist-packages/ipykernel_launcher.py:8: SettingWithCopyWarning: \n",
            "A value is trying to be set on a copy of a slice from a DataFrame\n",
            "\n",
            "See the caveats in the documentation: https://pandas.pydata.org/pandas-docs/stable/user_guide/indexing.html#returning-a-view-versus-a-copy\n",
            "  \n",
            "/usr/local/lib/python3.7/dist-packages/ipykernel_launcher.py:4: SettingWithCopyWarning: \n",
            "A value is trying to be set on a copy of a slice from a DataFrame\n",
            "\n",
            "See the caveats in the documentation: https://pandas.pydata.org/pandas-docs/stable/user_guide/indexing.html#returning-a-view-versus-a-copy\n",
            "  after removing the cwd from sys.path.\n",
            "/usr/local/lib/python3.7/dist-packages/ipykernel_launcher.py:8: SettingWithCopyWarning: \n",
            "A value is trying to be set on a copy of a slice from a DataFrame\n",
            "\n",
            "See the caveats in the documentation: https://pandas.pydata.org/pandas-docs/stable/user_guide/indexing.html#returning-a-view-versus-a-copy\n",
            "  \n",
            "/usr/local/lib/python3.7/dist-packages/ipykernel_launcher.py:8: SettingWithCopyWarning: \n",
            "A value is trying to be set on a copy of a slice from a DataFrame\n",
            "\n",
            "See the caveats in the documentation: https://pandas.pydata.org/pandas-docs/stable/user_guide/indexing.html#returning-a-view-versus-a-copy\n",
            "  \n",
            "/usr/local/lib/python3.7/dist-packages/ipykernel_launcher.py:8: SettingWithCopyWarning: \n",
            "A value is trying to be set on a copy of a slice from a DataFrame\n",
            "\n",
            "See the caveats in the documentation: https://pandas.pydata.org/pandas-docs/stable/user_guide/indexing.html#returning-a-view-versus-a-copy\n",
            "  \n",
            "/usr/local/lib/python3.7/dist-packages/ipykernel_launcher.py:8: SettingWithCopyWarning: \n",
            "A value is trying to be set on a copy of a slice from a DataFrame\n",
            "\n",
            "See the caveats in the documentation: https://pandas.pydata.org/pandas-docs/stable/user_guide/indexing.html#returning-a-view-versus-a-copy\n",
            "  \n",
            "/usr/local/lib/python3.7/dist-packages/ipykernel_launcher.py:8: SettingWithCopyWarning: \n",
            "A value is trying to be set on a copy of a slice from a DataFrame\n",
            "\n",
            "See the caveats in the documentation: https://pandas.pydata.org/pandas-docs/stable/user_guide/indexing.html#returning-a-view-versus-a-copy\n",
            "  \n",
            "/usr/local/lib/python3.7/dist-packages/ipykernel_launcher.py:8: SettingWithCopyWarning: \n",
            "A value is trying to be set on a copy of a slice from a DataFrame\n",
            "\n",
            "See the caveats in the documentation: https://pandas.pydata.org/pandas-docs/stable/user_guide/indexing.html#returning-a-view-versus-a-copy\n",
            "  \n",
            "/usr/local/lib/python3.7/dist-packages/ipykernel_launcher.py:8: SettingWithCopyWarning: \n",
            "A value is trying to be set on a copy of a slice from a DataFrame\n",
            "\n",
            "See the caveats in the documentation: https://pandas.pydata.org/pandas-docs/stable/user_guide/indexing.html#returning-a-view-versus-a-copy\n",
            "  \n",
            "/usr/local/lib/python3.7/dist-packages/ipykernel_launcher.py:4: SettingWithCopyWarning: \n",
            "A value is trying to be set on a copy of a slice from a DataFrame\n",
            "\n",
            "See the caveats in the documentation: https://pandas.pydata.org/pandas-docs/stable/user_guide/indexing.html#returning-a-view-versus-a-copy\n",
            "  after removing the cwd from sys.path.\n",
            "/usr/local/lib/python3.7/dist-packages/ipykernel_launcher.py:4: SettingWithCopyWarning: \n",
            "A value is trying to be set on a copy of a slice from a DataFrame\n",
            "\n",
            "See the caveats in the documentation: https://pandas.pydata.org/pandas-docs/stable/user_guide/indexing.html#returning-a-view-versus-a-copy\n",
            "  after removing the cwd from sys.path.\n",
            "/usr/local/lib/python3.7/dist-packages/ipykernel_launcher.py:8: SettingWithCopyWarning: \n",
            "A value is trying to be set on a copy of a slice from a DataFrame\n",
            "\n",
            "See the caveats in the documentation: https://pandas.pydata.org/pandas-docs/stable/user_guide/indexing.html#returning-a-view-versus-a-copy\n",
            "  \n",
            "/usr/local/lib/python3.7/dist-packages/ipykernel_launcher.py:8: SettingWithCopyWarning: \n",
            "A value is trying to be set on a copy of a slice from a DataFrame\n",
            "\n",
            "See the caveats in the documentation: https://pandas.pydata.org/pandas-docs/stable/user_guide/indexing.html#returning-a-view-versus-a-copy\n",
            "  \n",
            "/usr/local/lib/python3.7/dist-packages/ipykernel_launcher.py:8: SettingWithCopyWarning: \n",
            "A value is trying to be set on a copy of a slice from a DataFrame\n",
            "\n",
            "See the caveats in the documentation: https://pandas.pydata.org/pandas-docs/stable/user_guide/indexing.html#returning-a-view-versus-a-copy\n",
            "  \n",
            "/usr/local/lib/python3.7/dist-packages/ipykernel_launcher.py:8: SettingWithCopyWarning: \n",
            "A value is trying to be set on a copy of a slice from a DataFrame\n",
            "\n",
            "See the caveats in the documentation: https://pandas.pydata.org/pandas-docs/stable/user_guide/indexing.html#returning-a-view-versus-a-copy\n",
            "  \n",
            "/usr/local/lib/python3.7/dist-packages/ipykernel_launcher.py:8: SettingWithCopyWarning: \n",
            "A value is trying to be set on a copy of a slice from a DataFrame\n",
            "\n",
            "See the caveats in the documentation: https://pandas.pydata.org/pandas-docs/stable/user_guide/indexing.html#returning-a-view-versus-a-copy\n",
            "  \n",
            "/usr/local/lib/python3.7/dist-packages/ipykernel_launcher.py:8: SettingWithCopyWarning: \n",
            "A value is trying to be set on a copy of a slice from a DataFrame\n",
            "\n",
            "See the caveats in the documentation: https://pandas.pydata.org/pandas-docs/stable/user_guide/indexing.html#returning-a-view-versus-a-copy\n",
            "  \n",
            "/usr/local/lib/python3.7/dist-packages/ipykernel_launcher.py:8: SettingWithCopyWarning: \n",
            "A value is trying to be set on a copy of a slice from a DataFrame\n",
            "\n",
            "See the caveats in the documentation: https://pandas.pydata.org/pandas-docs/stable/user_guide/indexing.html#returning-a-view-versus-a-copy\n",
            "  \n",
            "/usr/local/lib/python3.7/dist-packages/ipykernel_launcher.py:8: SettingWithCopyWarning: \n",
            "A value is trying to be set on a copy of a slice from a DataFrame\n",
            "\n",
            "See the caveats in the documentation: https://pandas.pydata.org/pandas-docs/stable/user_guide/indexing.html#returning-a-view-versus-a-copy\n",
            "  \n",
            "/usr/local/lib/python3.7/dist-packages/ipykernel_launcher.py:8: SettingWithCopyWarning: \n",
            "A value is trying to be set on a copy of a slice from a DataFrame\n",
            "\n",
            "See the caveats in the documentation: https://pandas.pydata.org/pandas-docs/stable/user_guide/indexing.html#returning-a-view-versus-a-copy\n",
            "  \n",
            "/usr/local/lib/python3.7/dist-packages/ipykernel_launcher.py:8: SettingWithCopyWarning: \n",
            "A value is trying to be set on a copy of a slice from a DataFrame\n",
            "\n",
            "See the caveats in the documentation: https://pandas.pydata.org/pandas-docs/stable/user_guide/indexing.html#returning-a-view-versus-a-copy\n",
            "  \n",
            "/usr/local/lib/python3.7/dist-packages/ipykernel_launcher.py:8: SettingWithCopyWarning: \n",
            "A value is trying to be set on a copy of a slice from a DataFrame\n",
            "\n",
            "See the caveats in the documentation: https://pandas.pydata.org/pandas-docs/stable/user_guide/indexing.html#returning-a-view-versus-a-copy\n",
            "  \n",
            "/usr/local/lib/python3.7/dist-packages/ipykernel_launcher.py:8: SettingWithCopyWarning: \n",
            "A value is trying to be set on a copy of a slice from a DataFrame\n",
            "\n",
            "See the caveats in the documentation: https://pandas.pydata.org/pandas-docs/stable/user_guide/indexing.html#returning-a-view-versus-a-copy\n",
            "  \n",
            "/usr/local/lib/python3.7/dist-packages/ipykernel_launcher.py:8: SettingWithCopyWarning: \n",
            "A value is trying to be set on a copy of a slice from a DataFrame\n",
            "\n",
            "See the caveats in the documentation: https://pandas.pydata.org/pandas-docs/stable/user_guide/indexing.html#returning-a-view-versus-a-copy\n",
            "  \n",
            "/usr/local/lib/python3.7/dist-packages/ipykernel_launcher.py:8: SettingWithCopyWarning: \n",
            "A value is trying to be set on a copy of a slice from a DataFrame\n",
            "\n",
            "See the caveats in the documentation: https://pandas.pydata.org/pandas-docs/stable/user_guide/indexing.html#returning-a-view-versus-a-copy\n",
            "  \n",
            "/usr/local/lib/python3.7/dist-packages/ipykernel_launcher.py:8: SettingWithCopyWarning: \n",
            "A value is trying to be set on a copy of a slice from a DataFrame\n",
            "\n",
            "See the caveats in the documentation: https://pandas.pydata.org/pandas-docs/stable/user_guide/indexing.html#returning-a-view-versus-a-copy\n",
            "  \n",
            "/usr/local/lib/python3.7/dist-packages/ipykernel_launcher.py:8: SettingWithCopyWarning: \n",
            "A value is trying to be set on a copy of a slice from a DataFrame\n",
            "\n",
            "See the caveats in the documentation: https://pandas.pydata.org/pandas-docs/stable/user_guide/indexing.html#returning-a-view-versus-a-copy\n",
            "  \n",
            "/usr/local/lib/python3.7/dist-packages/ipykernel_launcher.py:4: SettingWithCopyWarning: \n",
            "A value is trying to be set on a copy of a slice from a DataFrame\n",
            "\n",
            "See the caveats in the documentation: https://pandas.pydata.org/pandas-docs/stable/user_guide/indexing.html#returning-a-view-versus-a-copy\n",
            "  after removing the cwd from sys.path.\n",
            "/usr/local/lib/python3.7/dist-packages/ipykernel_launcher.py:4: SettingWithCopyWarning: \n",
            "A value is trying to be set on a copy of a slice from a DataFrame\n",
            "\n",
            "See the caveats in the documentation: https://pandas.pydata.org/pandas-docs/stable/user_guide/indexing.html#returning-a-view-versus-a-copy\n",
            "  after removing the cwd from sys.path.\n",
            "/usr/local/lib/python3.7/dist-packages/ipykernel_launcher.py:8: SettingWithCopyWarning: \n",
            "A value is trying to be set on a copy of a slice from a DataFrame\n",
            "\n",
            "See the caveats in the documentation: https://pandas.pydata.org/pandas-docs/stable/user_guide/indexing.html#returning-a-view-versus-a-copy\n",
            "  \n",
            "/usr/local/lib/python3.7/dist-packages/ipykernel_launcher.py:8: SettingWithCopyWarning: \n",
            "A value is trying to be set on a copy of a slice from a DataFrame\n",
            "\n",
            "See the caveats in the documentation: https://pandas.pydata.org/pandas-docs/stable/user_guide/indexing.html#returning-a-view-versus-a-copy\n",
            "  \n",
            "/usr/local/lib/python3.7/dist-packages/ipykernel_launcher.py:6: SettingWithCopyWarning: \n",
            "A value is trying to be set on a copy of a slice from a DataFrame\n",
            "\n",
            "See the caveats in the documentation: https://pandas.pydata.org/pandas-docs/stable/user_guide/indexing.html#returning-a-view-versus-a-copy\n",
            "  \n",
            "/usr/local/lib/python3.7/dist-packages/ipykernel_launcher.py:4: SettingWithCopyWarning: \n",
            "A value is trying to be set on a copy of a slice from a DataFrame\n",
            "\n",
            "See the caveats in the documentation: https://pandas.pydata.org/pandas-docs/stable/user_guide/indexing.html#returning-a-view-versus-a-copy\n",
            "  after removing the cwd from sys.path.\n",
            "/usr/local/lib/python3.7/dist-packages/ipykernel_launcher.py:8: SettingWithCopyWarning: \n",
            "A value is trying to be set on a copy of a slice from a DataFrame\n",
            "\n",
            "See the caveats in the documentation: https://pandas.pydata.org/pandas-docs/stable/user_guide/indexing.html#returning-a-view-versus-a-copy\n",
            "  \n",
            "/usr/local/lib/python3.7/dist-packages/ipykernel_launcher.py:8: SettingWithCopyWarning: \n",
            "A value is trying to be set on a copy of a slice from a DataFrame\n",
            "\n",
            "See the caveats in the documentation: https://pandas.pydata.org/pandas-docs/stable/user_guide/indexing.html#returning-a-view-versus-a-copy\n",
            "  \n",
            "/usr/local/lib/python3.7/dist-packages/ipykernel_launcher.py:8: SettingWithCopyWarning: \n",
            "A value is trying to be set on a copy of a slice from a DataFrame\n",
            "\n",
            "See the caveats in the documentation: https://pandas.pydata.org/pandas-docs/stable/user_guide/indexing.html#returning-a-view-versus-a-copy\n",
            "  \n",
            "/usr/local/lib/python3.7/dist-packages/ipykernel_launcher.py:8: SettingWithCopyWarning: \n",
            "A value is trying to be set on a copy of a slice from a DataFrame\n",
            "\n",
            "See the caveats in the documentation: https://pandas.pydata.org/pandas-docs/stable/user_guide/indexing.html#returning-a-view-versus-a-copy\n",
            "  \n",
            "/usr/local/lib/python3.7/dist-packages/ipykernel_launcher.py:8: SettingWithCopyWarning: \n",
            "A value is trying to be set on a copy of a slice from a DataFrame\n",
            "\n",
            "See the caveats in the documentation: https://pandas.pydata.org/pandas-docs/stable/user_guide/indexing.html#returning-a-view-versus-a-copy\n",
            "  \n",
            "/usr/local/lib/python3.7/dist-packages/ipykernel_launcher.py:8: SettingWithCopyWarning: \n",
            "A value is trying to be set on a copy of a slice from a DataFrame\n",
            "\n",
            "See the caveats in the documentation: https://pandas.pydata.org/pandas-docs/stable/user_guide/indexing.html#returning-a-view-versus-a-copy\n",
            "  \n",
            "/usr/local/lib/python3.7/dist-packages/ipykernel_launcher.py:8: SettingWithCopyWarning: \n",
            "A value is trying to be set on a copy of a slice from a DataFrame\n",
            "\n",
            "See the caveats in the documentation: https://pandas.pydata.org/pandas-docs/stable/user_guide/indexing.html#returning-a-view-versus-a-copy\n",
            "  \n",
            "/usr/local/lib/python3.7/dist-packages/ipykernel_launcher.py:8: SettingWithCopyWarning: \n",
            "A value is trying to be set on a copy of a slice from a DataFrame\n",
            "\n",
            "See the caveats in the documentation: https://pandas.pydata.org/pandas-docs/stable/user_guide/indexing.html#returning-a-view-versus-a-copy\n",
            "  \n",
            "/usr/local/lib/python3.7/dist-packages/ipykernel_launcher.py:8: SettingWithCopyWarning: \n",
            "A value is trying to be set on a copy of a slice from a DataFrame\n",
            "\n",
            "See the caveats in the documentation: https://pandas.pydata.org/pandas-docs/stable/user_guide/indexing.html#returning-a-view-versus-a-copy\n",
            "  \n",
            "/usr/local/lib/python3.7/dist-packages/ipykernel_launcher.py:8: SettingWithCopyWarning: \n",
            "A value is trying to be set on a copy of a slice from a DataFrame\n",
            "\n",
            "See the caveats in the documentation: https://pandas.pydata.org/pandas-docs/stable/user_guide/indexing.html#returning-a-view-versus-a-copy\n",
            "  \n",
            "/usr/local/lib/python3.7/dist-packages/ipykernel_launcher.py:8: SettingWithCopyWarning: \n",
            "A value is trying to be set on a copy of a slice from a DataFrame\n",
            "\n",
            "See the caveats in the documentation: https://pandas.pydata.org/pandas-docs/stable/user_guide/indexing.html#returning-a-view-versus-a-copy\n",
            "  \n",
            "/usr/local/lib/python3.7/dist-packages/ipykernel_launcher.py:4: SettingWithCopyWarning: \n",
            "A value is trying to be set on a copy of a slice from a DataFrame\n",
            "\n",
            "See the caveats in the documentation: https://pandas.pydata.org/pandas-docs/stable/user_guide/indexing.html#returning-a-view-versus-a-copy\n",
            "  after removing the cwd from sys.path.\n",
            "/usr/local/lib/python3.7/dist-packages/ipykernel_launcher.py:8: SettingWithCopyWarning: \n",
            "A value is trying to be set on a copy of a slice from a DataFrame\n",
            "\n",
            "See the caveats in the documentation: https://pandas.pydata.org/pandas-docs/stable/user_guide/indexing.html#returning-a-view-versus-a-copy\n",
            "  \n",
            "/usr/local/lib/python3.7/dist-packages/ipykernel_launcher.py:8: SettingWithCopyWarning: \n",
            "A value is trying to be set on a copy of a slice from a DataFrame\n",
            "\n",
            "See the caveats in the documentation: https://pandas.pydata.org/pandas-docs/stable/user_guide/indexing.html#returning-a-view-versus-a-copy\n",
            "  \n",
            "/usr/local/lib/python3.7/dist-packages/ipykernel_launcher.py:4: SettingWithCopyWarning: \n",
            "A value is trying to be set on a copy of a slice from a DataFrame\n",
            "\n",
            "See the caveats in the documentation: https://pandas.pydata.org/pandas-docs/stable/user_guide/indexing.html#returning-a-view-versus-a-copy\n",
            "  after removing the cwd from sys.path.\n",
            "/usr/local/lib/python3.7/dist-packages/ipykernel_launcher.py:8: SettingWithCopyWarning: \n",
            "A value is trying to be set on a copy of a slice from a DataFrame\n",
            "\n",
            "See the caveats in the documentation: https://pandas.pydata.org/pandas-docs/stable/user_guide/indexing.html#returning-a-view-versus-a-copy\n",
            "  \n",
            "/usr/local/lib/python3.7/dist-packages/ipykernel_launcher.py:6: SettingWithCopyWarning: \n",
            "A value is trying to be set on a copy of a slice from a DataFrame\n",
            "\n",
            "See the caveats in the documentation: https://pandas.pydata.org/pandas-docs/stable/user_guide/indexing.html#returning-a-view-versus-a-copy\n",
            "  \n",
            "/usr/local/lib/python3.7/dist-packages/ipykernel_launcher.py:4: SettingWithCopyWarning: \n",
            "A value is trying to be set on a copy of a slice from a DataFrame\n",
            "\n",
            "See the caveats in the documentation: https://pandas.pydata.org/pandas-docs/stable/user_guide/indexing.html#returning-a-view-versus-a-copy\n",
            "  after removing the cwd from sys.path.\n",
            "/usr/local/lib/python3.7/dist-packages/ipykernel_launcher.py:4: SettingWithCopyWarning: \n",
            "A value is trying to be set on a copy of a slice from a DataFrame\n",
            "\n",
            "See the caveats in the documentation: https://pandas.pydata.org/pandas-docs/stable/user_guide/indexing.html#returning-a-view-versus-a-copy\n",
            "  after removing the cwd from sys.path.\n",
            "/usr/local/lib/python3.7/dist-packages/ipykernel_launcher.py:4: SettingWithCopyWarning: \n",
            "A value is trying to be set on a copy of a slice from a DataFrame\n",
            "\n",
            "See the caveats in the documentation: https://pandas.pydata.org/pandas-docs/stable/user_guide/indexing.html#returning-a-view-versus-a-copy\n",
            "  after removing the cwd from sys.path.\n",
            "/usr/local/lib/python3.7/dist-packages/ipykernel_launcher.py:8: SettingWithCopyWarning: \n",
            "A value is trying to be set on a copy of a slice from a DataFrame\n",
            "\n",
            "See the caveats in the documentation: https://pandas.pydata.org/pandas-docs/stable/user_guide/indexing.html#returning-a-view-versus-a-copy\n",
            "  \n",
            "/usr/local/lib/python3.7/dist-packages/ipykernel_launcher.py:8: SettingWithCopyWarning: \n",
            "A value is trying to be set on a copy of a slice from a DataFrame\n",
            "\n",
            "See the caveats in the documentation: https://pandas.pydata.org/pandas-docs/stable/user_guide/indexing.html#returning-a-view-versus-a-copy\n",
            "  \n",
            "/usr/local/lib/python3.7/dist-packages/ipykernel_launcher.py:6: SettingWithCopyWarning: \n",
            "A value is trying to be set on a copy of a slice from a DataFrame\n",
            "\n",
            "See the caveats in the documentation: https://pandas.pydata.org/pandas-docs/stable/user_guide/indexing.html#returning-a-view-versus-a-copy\n",
            "  \n",
            "/usr/local/lib/python3.7/dist-packages/ipykernel_launcher.py:8: SettingWithCopyWarning: \n",
            "A value is trying to be set on a copy of a slice from a DataFrame\n",
            "\n",
            "See the caveats in the documentation: https://pandas.pydata.org/pandas-docs/stable/user_guide/indexing.html#returning-a-view-versus-a-copy\n",
            "  \n",
            "/usr/local/lib/python3.7/dist-packages/ipykernel_launcher.py:4: SettingWithCopyWarning: \n",
            "A value is trying to be set on a copy of a slice from a DataFrame\n",
            "\n",
            "See the caveats in the documentation: https://pandas.pydata.org/pandas-docs/stable/user_guide/indexing.html#returning-a-view-versus-a-copy\n",
            "  after removing the cwd from sys.path.\n",
            "/usr/local/lib/python3.7/dist-packages/ipykernel_launcher.py:8: SettingWithCopyWarning: \n",
            "A value is trying to be set on a copy of a slice from a DataFrame\n",
            "\n",
            "See the caveats in the documentation: https://pandas.pydata.org/pandas-docs/stable/user_guide/indexing.html#returning-a-view-versus-a-copy\n",
            "  \n",
            "/usr/local/lib/python3.7/dist-packages/ipykernel_launcher.py:8: SettingWithCopyWarning: \n",
            "A value is trying to be set on a copy of a slice from a DataFrame\n",
            "\n",
            "See the caveats in the documentation: https://pandas.pydata.org/pandas-docs/stable/user_guide/indexing.html#returning-a-view-versus-a-copy\n",
            "  \n",
            "/usr/local/lib/python3.7/dist-packages/ipykernel_launcher.py:4: SettingWithCopyWarning: \n",
            "A value is trying to be set on a copy of a slice from a DataFrame\n",
            "\n",
            "See the caveats in the documentation: https://pandas.pydata.org/pandas-docs/stable/user_guide/indexing.html#returning-a-view-versus-a-copy\n",
            "  after removing the cwd from sys.path.\n",
            "/usr/local/lib/python3.7/dist-packages/ipykernel_launcher.py:8: SettingWithCopyWarning: \n",
            "A value is trying to be set on a copy of a slice from a DataFrame\n",
            "\n",
            "See the caveats in the documentation: https://pandas.pydata.org/pandas-docs/stable/user_guide/indexing.html#returning-a-view-versus-a-copy\n",
            "  \n",
            "/usr/local/lib/python3.7/dist-packages/ipykernel_launcher.py:8: SettingWithCopyWarning: \n",
            "A value is trying to be set on a copy of a slice from a DataFrame\n",
            "\n",
            "See the caveats in the documentation: https://pandas.pydata.org/pandas-docs/stable/user_guide/indexing.html#returning-a-view-versus-a-copy\n",
            "  \n",
            "/usr/local/lib/python3.7/dist-packages/ipykernel_launcher.py:4: SettingWithCopyWarning: \n",
            "A value is trying to be set on a copy of a slice from a DataFrame\n",
            "\n",
            "See the caveats in the documentation: https://pandas.pydata.org/pandas-docs/stable/user_guide/indexing.html#returning-a-view-versus-a-copy\n",
            "  after removing the cwd from sys.path.\n",
            "/usr/local/lib/python3.7/dist-packages/ipykernel_launcher.py:8: SettingWithCopyWarning: \n",
            "A value is trying to be set on a copy of a slice from a DataFrame\n",
            "\n",
            "See the caveats in the documentation: https://pandas.pydata.org/pandas-docs/stable/user_guide/indexing.html#returning-a-view-versus-a-copy\n",
            "  \n",
            "/usr/local/lib/python3.7/dist-packages/ipykernel_launcher.py:8: SettingWithCopyWarning: \n",
            "A value is trying to be set on a copy of a slice from a DataFrame\n",
            "\n",
            "See the caveats in the documentation: https://pandas.pydata.org/pandas-docs/stable/user_guide/indexing.html#returning-a-view-versus-a-copy\n",
            "  \n",
            "/usr/local/lib/python3.7/dist-packages/ipykernel_launcher.py:8: SettingWithCopyWarning: \n",
            "A value is trying to be set on a copy of a slice from a DataFrame\n",
            "\n",
            "See the caveats in the documentation: https://pandas.pydata.org/pandas-docs/stable/user_guide/indexing.html#returning-a-view-versus-a-copy\n",
            "  \n",
            "/usr/local/lib/python3.7/dist-packages/ipykernel_launcher.py:8: SettingWithCopyWarning: \n",
            "A value is trying to be set on a copy of a slice from a DataFrame\n",
            "\n",
            "See the caveats in the documentation: https://pandas.pydata.org/pandas-docs/stable/user_guide/indexing.html#returning-a-view-versus-a-copy\n",
            "  \n",
            "/usr/local/lib/python3.7/dist-packages/ipykernel_launcher.py:8: SettingWithCopyWarning: \n",
            "A value is trying to be set on a copy of a slice from a DataFrame\n",
            "\n",
            "See the caveats in the documentation: https://pandas.pydata.org/pandas-docs/stable/user_guide/indexing.html#returning-a-view-versus-a-copy\n",
            "  \n",
            "/usr/local/lib/python3.7/dist-packages/ipykernel_launcher.py:8: SettingWithCopyWarning: \n",
            "A value is trying to be set on a copy of a slice from a DataFrame\n",
            "\n",
            "See the caveats in the documentation: https://pandas.pydata.org/pandas-docs/stable/user_guide/indexing.html#returning-a-view-versus-a-copy\n",
            "  \n",
            "/usr/local/lib/python3.7/dist-packages/ipykernel_launcher.py:4: SettingWithCopyWarning: \n",
            "A value is trying to be set on a copy of a slice from a DataFrame\n",
            "\n",
            "See the caveats in the documentation: https://pandas.pydata.org/pandas-docs/stable/user_guide/indexing.html#returning-a-view-versus-a-copy\n",
            "  after removing the cwd from sys.path.\n",
            "/usr/local/lib/python3.7/dist-packages/ipykernel_launcher.py:8: SettingWithCopyWarning: \n",
            "A value is trying to be set on a copy of a slice from a DataFrame\n",
            "\n",
            "See the caveats in the documentation: https://pandas.pydata.org/pandas-docs/stable/user_guide/indexing.html#returning-a-view-versus-a-copy\n",
            "  \n",
            "/usr/local/lib/python3.7/dist-packages/ipykernel_launcher.py:8: SettingWithCopyWarning: \n",
            "A value is trying to be set on a copy of a slice from a DataFrame\n",
            "\n",
            "See the caveats in the documentation: https://pandas.pydata.org/pandas-docs/stable/user_guide/indexing.html#returning-a-view-versus-a-copy\n",
            "  \n",
            "/usr/local/lib/python3.7/dist-packages/ipykernel_launcher.py:8: SettingWithCopyWarning: \n",
            "A value is trying to be set on a copy of a slice from a DataFrame\n",
            "\n",
            "See the caveats in the documentation: https://pandas.pydata.org/pandas-docs/stable/user_guide/indexing.html#returning-a-view-versus-a-copy\n",
            "  \n",
            "/usr/local/lib/python3.7/dist-packages/ipykernel_launcher.py:8: SettingWithCopyWarning: \n",
            "A value is trying to be set on a copy of a slice from a DataFrame\n",
            "\n",
            "See the caveats in the documentation: https://pandas.pydata.org/pandas-docs/stable/user_guide/indexing.html#returning-a-view-versus-a-copy\n",
            "  \n",
            "/usr/local/lib/python3.7/dist-packages/ipykernel_launcher.py:8: SettingWithCopyWarning: \n",
            "A value is trying to be set on a copy of a slice from a DataFrame\n",
            "\n",
            "See the caveats in the documentation: https://pandas.pydata.org/pandas-docs/stable/user_guide/indexing.html#returning-a-view-versus-a-copy\n",
            "  \n",
            "/usr/local/lib/python3.7/dist-packages/ipykernel_launcher.py:6: SettingWithCopyWarning: \n",
            "A value is trying to be set on a copy of a slice from a DataFrame\n",
            "\n",
            "See the caveats in the documentation: https://pandas.pydata.org/pandas-docs/stable/user_guide/indexing.html#returning-a-view-versus-a-copy\n",
            "  \n",
            "/usr/local/lib/python3.7/dist-packages/ipykernel_launcher.py:8: SettingWithCopyWarning: \n",
            "A value is trying to be set on a copy of a slice from a DataFrame\n",
            "\n",
            "See the caveats in the documentation: https://pandas.pydata.org/pandas-docs/stable/user_guide/indexing.html#returning-a-view-versus-a-copy\n",
            "  \n",
            "/usr/local/lib/python3.7/dist-packages/ipykernel_launcher.py:8: SettingWithCopyWarning: \n",
            "A value is trying to be set on a copy of a slice from a DataFrame\n",
            "\n",
            "See the caveats in the documentation: https://pandas.pydata.org/pandas-docs/stable/user_guide/indexing.html#returning-a-view-versus-a-copy\n",
            "  \n",
            "/usr/local/lib/python3.7/dist-packages/ipykernel_launcher.py:8: SettingWithCopyWarning: \n",
            "A value is trying to be set on a copy of a slice from a DataFrame\n",
            "\n",
            "See the caveats in the documentation: https://pandas.pydata.org/pandas-docs/stable/user_guide/indexing.html#returning-a-view-versus-a-copy\n",
            "  \n",
            "/usr/local/lib/python3.7/dist-packages/ipykernel_launcher.py:8: SettingWithCopyWarning: \n",
            "A value is trying to be set on a copy of a slice from a DataFrame\n",
            "\n",
            "See the caveats in the documentation: https://pandas.pydata.org/pandas-docs/stable/user_guide/indexing.html#returning-a-view-versus-a-copy\n",
            "  \n",
            "/usr/local/lib/python3.7/dist-packages/ipykernel_launcher.py:8: SettingWithCopyWarning: \n",
            "A value is trying to be set on a copy of a slice from a DataFrame\n",
            "\n",
            "See the caveats in the documentation: https://pandas.pydata.org/pandas-docs/stable/user_guide/indexing.html#returning-a-view-versus-a-copy\n",
            "  \n",
            "/usr/local/lib/python3.7/dist-packages/ipykernel_launcher.py:8: SettingWithCopyWarning: \n",
            "A value is trying to be set on a copy of a slice from a DataFrame\n",
            "\n",
            "See the caveats in the documentation: https://pandas.pydata.org/pandas-docs/stable/user_guide/indexing.html#returning-a-view-versus-a-copy\n",
            "  \n",
            "/usr/local/lib/python3.7/dist-packages/ipykernel_launcher.py:8: SettingWithCopyWarning: \n",
            "A value is trying to be set on a copy of a slice from a DataFrame\n",
            "\n",
            "See the caveats in the documentation: https://pandas.pydata.org/pandas-docs/stable/user_guide/indexing.html#returning-a-view-versus-a-copy\n",
            "  \n",
            "/usr/local/lib/python3.7/dist-packages/ipykernel_launcher.py:8: SettingWithCopyWarning: \n",
            "A value is trying to be set on a copy of a slice from a DataFrame\n",
            "\n",
            "See the caveats in the documentation: https://pandas.pydata.org/pandas-docs/stable/user_guide/indexing.html#returning-a-view-versus-a-copy\n",
            "  \n",
            "/usr/local/lib/python3.7/dist-packages/ipykernel_launcher.py:4: SettingWithCopyWarning: \n",
            "A value is trying to be set on a copy of a slice from a DataFrame\n",
            "\n",
            "See the caveats in the documentation: https://pandas.pydata.org/pandas-docs/stable/user_guide/indexing.html#returning-a-view-versus-a-copy\n",
            "  after removing the cwd from sys.path.\n",
            "/usr/local/lib/python3.7/dist-packages/ipykernel_launcher.py:8: SettingWithCopyWarning: \n",
            "A value is trying to be set on a copy of a slice from a DataFrame\n",
            "\n",
            "See the caveats in the documentation: https://pandas.pydata.org/pandas-docs/stable/user_guide/indexing.html#returning-a-view-versus-a-copy\n",
            "  \n",
            "/usr/local/lib/python3.7/dist-packages/ipykernel_launcher.py:8: SettingWithCopyWarning: \n",
            "A value is trying to be set on a copy of a slice from a DataFrame\n",
            "\n",
            "See the caveats in the documentation: https://pandas.pydata.org/pandas-docs/stable/user_guide/indexing.html#returning-a-view-versus-a-copy\n",
            "  \n",
            "/usr/local/lib/python3.7/dist-packages/ipykernel_launcher.py:6: SettingWithCopyWarning: \n",
            "A value is trying to be set on a copy of a slice from a DataFrame\n",
            "\n",
            "See the caveats in the documentation: https://pandas.pydata.org/pandas-docs/stable/user_guide/indexing.html#returning-a-view-versus-a-copy\n",
            "  \n",
            "/usr/local/lib/python3.7/dist-packages/ipykernel_launcher.py:8: SettingWithCopyWarning: \n",
            "A value is trying to be set on a copy of a slice from a DataFrame\n",
            "\n",
            "See the caveats in the documentation: https://pandas.pydata.org/pandas-docs/stable/user_guide/indexing.html#returning-a-view-versus-a-copy\n",
            "  \n",
            "/usr/local/lib/python3.7/dist-packages/ipykernel_launcher.py:8: SettingWithCopyWarning: \n",
            "A value is trying to be set on a copy of a slice from a DataFrame\n",
            "\n",
            "See the caveats in the documentation: https://pandas.pydata.org/pandas-docs/stable/user_guide/indexing.html#returning-a-view-versus-a-copy\n",
            "  \n",
            "/usr/local/lib/python3.7/dist-packages/ipykernel_launcher.py:4: SettingWithCopyWarning: \n",
            "A value is trying to be set on a copy of a slice from a DataFrame\n",
            "\n",
            "See the caveats in the documentation: https://pandas.pydata.org/pandas-docs/stable/user_guide/indexing.html#returning-a-view-versus-a-copy\n",
            "  after removing the cwd from sys.path.\n",
            "/usr/local/lib/python3.7/dist-packages/ipykernel_launcher.py:6: SettingWithCopyWarning: \n",
            "A value is trying to be set on a copy of a slice from a DataFrame\n",
            "\n",
            "See the caveats in the documentation: https://pandas.pydata.org/pandas-docs/stable/user_guide/indexing.html#returning-a-view-versus-a-copy\n",
            "  \n",
            "/usr/local/lib/python3.7/dist-packages/ipykernel_launcher.py:8: SettingWithCopyWarning: \n",
            "A value is trying to be set on a copy of a slice from a DataFrame\n",
            "\n",
            "See the caveats in the documentation: https://pandas.pydata.org/pandas-docs/stable/user_guide/indexing.html#returning-a-view-versus-a-copy\n",
            "  \n",
            "/usr/local/lib/python3.7/dist-packages/ipykernel_launcher.py:8: SettingWithCopyWarning: \n",
            "A value is trying to be set on a copy of a slice from a DataFrame\n",
            "\n",
            "See the caveats in the documentation: https://pandas.pydata.org/pandas-docs/stable/user_guide/indexing.html#returning-a-view-versus-a-copy\n",
            "  \n",
            "/usr/local/lib/python3.7/dist-packages/ipykernel_launcher.py:8: SettingWithCopyWarning: \n",
            "A value is trying to be set on a copy of a slice from a DataFrame\n",
            "\n",
            "See the caveats in the documentation: https://pandas.pydata.org/pandas-docs/stable/user_guide/indexing.html#returning-a-view-versus-a-copy\n",
            "  \n",
            "/usr/local/lib/python3.7/dist-packages/ipykernel_launcher.py:8: SettingWithCopyWarning: \n",
            "A value is trying to be set on a copy of a slice from a DataFrame\n",
            "\n",
            "See the caveats in the documentation: https://pandas.pydata.org/pandas-docs/stable/user_guide/indexing.html#returning-a-view-versus-a-copy\n",
            "  \n",
            "/usr/local/lib/python3.7/dist-packages/ipykernel_launcher.py:8: SettingWithCopyWarning: \n",
            "A value is trying to be set on a copy of a slice from a DataFrame\n",
            "\n",
            "See the caveats in the documentation: https://pandas.pydata.org/pandas-docs/stable/user_guide/indexing.html#returning-a-view-versus-a-copy\n",
            "  \n",
            "/usr/local/lib/python3.7/dist-packages/ipykernel_launcher.py:4: SettingWithCopyWarning: \n",
            "A value is trying to be set on a copy of a slice from a DataFrame\n",
            "\n",
            "See the caveats in the documentation: https://pandas.pydata.org/pandas-docs/stable/user_guide/indexing.html#returning-a-view-versus-a-copy\n",
            "  after removing the cwd from sys.path.\n",
            "/usr/local/lib/python3.7/dist-packages/ipykernel_launcher.py:8: SettingWithCopyWarning: \n",
            "A value is trying to be set on a copy of a slice from a DataFrame\n",
            "\n",
            "See the caveats in the documentation: https://pandas.pydata.org/pandas-docs/stable/user_guide/indexing.html#returning-a-view-versus-a-copy\n",
            "  \n",
            "/usr/local/lib/python3.7/dist-packages/ipykernel_launcher.py:8: SettingWithCopyWarning: \n",
            "A value is trying to be set on a copy of a slice from a DataFrame\n",
            "\n",
            "See the caveats in the documentation: https://pandas.pydata.org/pandas-docs/stable/user_guide/indexing.html#returning-a-view-versus-a-copy\n",
            "  \n",
            "/usr/local/lib/python3.7/dist-packages/ipykernel_launcher.py:8: SettingWithCopyWarning: \n",
            "A value is trying to be set on a copy of a slice from a DataFrame\n",
            "\n",
            "See the caveats in the documentation: https://pandas.pydata.org/pandas-docs/stable/user_guide/indexing.html#returning-a-view-versus-a-copy\n",
            "  \n",
            "/usr/local/lib/python3.7/dist-packages/ipykernel_launcher.py:8: SettingWithCopyWarning: \n",
            "A value is trying to be set on a copy of a slice from a DataFrame\n",
            "\n",
            "See the caveats in the documentation: https://pandas.pydata.org/pandas-docs/stable/user_guide/indexing.html#returning-a-view-versus-a-copy\n",
            "  \n",
            "/usr/local/lib/python3.7/dist-packages/ipykernel_launcher.py:4: SettingWithCopyWarning: \n",
            "A value is trying to be set on a copy of a slice from a DataFrame\n",
            "\n",
            "See the caveats in the documentation: https://pandas.pydata.org/pandas-docs/stable/user_guide/indexing.html#returning-a-view-versus-a-copy\n",
            "  after removing the cwd from sys.path.\n",
            "/usr/local/lib/python3.7/dist-packages/ipykernel_launcher.py:8: SettingWithCopyWarning: \n",
            "A value is trying to be set on a copy of a slice from a DataFrame\n",
            "\n",
            "See the caveats in the documentation: https://pandas.pydata.org/pandas-docs/stable/user_guide/indexing.html#returning-a-view-versus-a-copy\n",
            "  \n",
            "/usr/local/lib/python3.7/dist-packages/ipykernel_launcher.py:8: SettingWithCopyWarning: \n",
            "A value is trying to be set on a copy of a slice from a DataFrame\n",
            "\n",
            "See the caveats in the documentation: https://pandas.pydata.org/pandas-docs/stable/user_guide/indexing.html#returning-a-view-versus-a-copy\n",
            "  \n",
            "/usr/local/lib/python3.7/dist-packages/ipykernel_launcher.py:8: SettingWithCopyWarning: \n",
            "A value is trying to be set on a copy of a slice from a DataFrame\n",
            "\n",
            "See the caveats in the documentation: https://pandas.pydata.org/pandas-docs/stable/user_guide/indexing.html#returning-a-view-versus-a-copy\n",
            "  \n",
            "/usr/local/lib/python3.7/dist-packages/ipykernel_launcher.py:6: SettingWithCopyWarning: \n",
            "A value is trying to be set on a copy of a slice from a DataFrame\n",
            "\n",
            "See the caveats in the documentation: https://pandas.pydata.org/pandas-docs/stable/user_guide/indexing.html#returning-a-view-versus-a-copy\n",
            "  \n",
            "/usr/local/lib/python3.7/dist-packages/ipykernel_launcher.py:8: SettingWithCopyWarning: \n",
            "A value is trying to be set on a copy of a slice from a DataFrame\n",
            "\n",
            "See the caveats in the documentation: https://pandas.pydata.org/pandas-docs/stable/user_guide/indexing.html#returning-a-view-versus-a-copy\n",
            "  \n",
            "/usr/local/lib/python3.7/dist-packages/ipykernel_launcher.py:4: SettingWithCopyWarning: \n",
            "A value is trying to be set on a copy of a slice from a DataFrame\n",
            "\n",
            "See the caveats in the documentation: https://pandas.pydata.org/pandas-docs/stable/user_guide/indexing.html#returning-a-view-versus-a-copy\n",
            "  after removing the cwd from sys.path.\n",
            "/usr/local/lib/python3.7/dist-packages/ipykernel_launcher.py:8: SettingWithCopyWarning: \n",
            "A value is trying to be set on a copy of a slice from a DataFrame\n",
            "\n",
            "See the caveats in the documentation: https://pandas.pydata.org/pandas-docs/stable/user_guide/indexing.html#returning-a-view-versus-a-copy\n",
            "  \n",
            "/usr/local/lib/python3.7/dist-packages/ipykernel_launcher.py:8: SettingWithCopyWarning: \n",
            "A value is trying to be set on a copy of a slice from a DataFrame\n",
            "\n",
            "See the caveats in the documentation: https://pandas.pydata.org/pandas-docs/stable/user_guide/indexing.html#returning-a-view-versus-a-copy\n",
            "  \n",
            "/usr/local/lib/python3.7/dist-packages/ipykernel_launcher.py:8: SettingWithCopyWarning: \n",
            "A value is trying to be set on a copy of a slice from a DataFrame\n",
            "\n",
            "See the caveats in the documentation: https://pandas.pydata.org/pandas-docs/stable/user_guide/indexing.html#returning-a-view-versus-a-copy\n",
            "  \n",
            "/usr/local/lib/python3.7/dist-packages/ipykernel_launcher.py:8: SettingWithCopyWarning: \n",
            "A value is trying to be set on a copy of a slice from a DataFrame\n",
            "\n",
            "See the caveats in the documentation: https://pandas.pydata.org/pandas-docs/stable/user_guide/indexing.html#returning-a-view-versus-a-copy\n",
            "  \n",
            "/usr/local/lib/python3.7/dist-packages/ipykernel_launcher.py:8: SettingWithCopyWarning: \n",
            "A value is trying to be set on a copy of a slice from a DataFrame\n",
            "\n",
            "See the caveats in the documentation: https://pandas.pydata.org/pandas-docs/stable/user_guide/indexing.html#returning-a-view-versus-a-copy\n",
            "  \n",
            "/usr/local/lib/python3.7/dist-packages/ipykernel_launcher.py:8: SettingWithCopyWarning: \n",
            "A value is trying to be set on a copy of a slice from a DataFrame\n",
            "\n",
            "See the caveats in the documentation: https://pandas.pydata.org/pandas-docs/stable/user_guide/indexing.html#returning-a-view-versus-a-copy\n",
            "  \n",
            "/usr/local/lib/python3.7/dist-packages/ipykernel_launcher.py:8: SettingWithCopyWarning: \n",
            "A value is trying to be set on a copy of a slice from a DataFrame\n",
            "\n",
            "See the caveats in the documentation: https://pandas.pydata.org/pandas-docs/stable/user_guide/indexing.html#returning-a-view-versus-a-copy\n",
            "  \n",
            "/usr/local/lib/python3.7/dist-packages/ipykernel_launcher.py:8: SettingWithCopyWarning: \n",
            "A value is trying to be set on a copy of a slice from a DataFrame\n",
            "\n",
            "See the caveats in the documentation: https://pandas.pydata.org/pandas-docs/stable/user_guide/indexing.html#returning-a-view-versus-a-copy\n",
            "  \n",
            "/usr/local/lib/python3.7/dist-packages/ipykernel_launcher.py:8: SettingWithCopyWarning: \n",
            "A value is trying to be set on a copy of a slice from a DataFrame\n",
            "\n",
            "See the caveats in the documentation: https://pandas.pydata.org/pandas-docs/stable/user_guide/indexing.html#returning-a-view-versus-a-copy\n",
            "  \n",
            "/usr/local/lib/python3.7/dist-packages/ipykernel_launcher.py:6: SettingWithCopyWarning: \n",
            "A value is trying to be set on a copy of a slice from a DataFrame\n",
            "\n",
            "See the caveats in the documentation: https://pandas.pydata.org/pandas-docs/stable/user_guide/indexing.html#returning-a-view-versus-a-copy\n",
            "  \n",
            "/usr/local/lib/python3.7/dist-packages/ipykernel_launcher.py:8: SettingWithCopyWarning: \n",
            "A value is trying to be set on a copy of a slice from a DataFrame\n",
            "\n",
            "See the caveats in the documentation: https://pandas.pydata.org/pandas-docs/stable/user_guide/indexing.html#returning-a-view-versus-a-copy\n",
            "  \n",
            "/usr/local/lib/python3.7/dist-packages/ipykernel_launcher.py:8: SettingWithCopyWarning: \n",
            "A value is trying to be set on a copy of a slice from a DataFrame\n",
            "\n",
            "See the caveats in the documentation: https://pandas.pydata.org/pandas-docs/stable/user_guide/indexing.html#returning-a-view-versus-a-copy\n",
            "  \n",
            "/usr/local/lib/python3.7/dist-packages/ipykernel_launcher.py:4: SettingWithCopyWarning: \n",
            "A value is trying to be set on a copy of a slice from a DataFrame\n",
            "\n",
            "See the caveats in the documentation: https://pandas.pydata.org/pandas-docs/stable/user_guide/indexing.html#returning-a-view-versus-a-copy\n",
            "  after removing the cwd from sys.path.\n",
            "/usr/local/lib/python3.7/dist-packages/ipykernel_launcher.py:8: SettingWithCopyWarning: \n",
            "A value is trying to be set on a copy of a slice from a DataFrame\n",
            "\n",
            "See the caveats in the documentation: https://pandas.pydata.org/pandas-docs/stable/user_guide/indexing.html#returning-a-view-versus-a-copy\n",
            "  \n",
            "/usr/local/lib/python3.7/dist-packages/ipykernel_launcher.py:8: SettingWithCopyWarning: \n",
            "A value is trying to be set on a copy of a slice from a DataFrame\n",
            "\n",
            "See the caveats in the documentation: https://pandas.pydata.org/pandas-docs/stable/user_guide/indexing.html#returning-a-view-versus-a-copy\n",
            "  \n",
            "/usr/local/lib/python3.7/dist-packages/ipykernel_launcher.py:8: SettingWithCopyWarning: \n",
            "A value is trying to be set on a copy of a slice from a DataFrame\n",
            "\n",
            "See the caveats in the documentation: https://pandas.pydata.org/pandas-docs/stable/user_guide/indexing.html#returning-a-view-versus-a-copy\n",
            "  \n",
            "/usr/local/lib/python3.7/dist-packages/ipykernel_launcher.py:8: SettingWithCopyWarning: \n",
            "A value is trying to be set on a copy of a slice from a DataFrame\n",
            "\n",
            "See the caveats in the documentation: https://pandas.pydata.org/pandas-docs/stable/user_guide/indexing.html#returning-a-view-versus-a-copy\n",
            "  \n",
            "/usr/local/lib/python3.7/dist-packages/ipykernel_launcher.py:4: SettingWithCopyWarning: \n",
            "A value is trying to be set on a copy of a slice from a DataFrame\n",
            "\n",
            "See the caveats in the documentation: https://pandas.pydata.org/pandas-docs/stable/user_guide/indexing.html#returning-a-view-versus-a-copy\n",
            "  after removing the cwd from sys.path.\n",
            "/usr/local/lib/python3.7/dist-packages/ipykernel_launcher.py:8: SettingWithCopyWarning: \n",
            "A value is trying to be set on a copy of a slice from a DataFrame\n",
            "\n",
            "See the caveats in the documentation: https://pandas.pydata.org/pandas-docs/stable/user_guide/indexing.html#returning-a-view-versus-a-copy\n",
            "  \n",
            "/usr/local/lib/python3.7/dist-packages/ipykernel_launcher.py:8: SettingWithCopyWarning: \n",
            "A value is trying to be set on a copy of a slice from a DataFrame\n",
            "\n",
            "See the caveats in the documentation: https://pandas.pydata.org/pandas-docs/stable/user_guide/indexing.html#returning-a-view-versus-a-copy\n",
            "  \n",
            "/usr/local/lib/python3.7/dist-packages/ipykernel_launcher.py:8: SettingWithCopyWarning: \n",
            "A value is trying to be set on a copy of a slice from a DataFrame\n",
            "\n",
            "See the caveats in the documentation: https://pandas.pydata.org/pandas-docs/stable/user_guide/indexing.html#returning-a-view-versus-a-copy\n",
            "  \n",
            "/usr/local/lib/python3.7/dist-packages/ipykernel_launcher.py:8: SettingWithCopyWarning: \n",
            "A value is trying to be set on a copy of a slice from a DataFrame\n",
            "\n",
            "See the caveats in the documentation: https://pandas.pydata.org/pandas-docs/stable/user_guide/indexing.html#returning-a-view-versus-a-copy\n",
            "  \n",
            "/usr/local/lib/python3.7/dist-packages/ipykernel_launcher.py:8: SettingWithCopyWarning: \n",
            "A value is trying to be set on a copy of a slice from a DataFrame\n",
            "\n",
            "See the caveats in the documentation: https://pandas.pydata.org/pandas-docs/stable/user_guide/indexing.html#returning-a-view-versus-a-copy\n",
            "  \n",
            "/usr/local/lib/python3.7/dist-packages/ipykernel_launcher.py:8: SettingWithCopyWarning: \n",
            "A value is trying to be set on a copy of a slice from a DataFrame\n",
            "\n",
            "See the caveats in the documentation: https://pandas.pydata.org/pandas-docs/stable/user_guide/indexing.html#returning-a-view-versus-a-copy\n",
            "  \n",
            "/usr/local/lib/python3.7/dist-packages/ipykernel_launcher.py:8: SettingWithCopyWarning: \n",
            "A value is trying to be set on a copy of a slice from a DataFrame\n",
            "\n",
            "See the caveats in the documentation: https://pandas.pydata.org/pandas-docs/stable/user_guide/indexing.html#returning-a-view-versus-a-copy\n",
            "  \n",
            "/usr/local/lib/python3.7/dist-packages/ipykernel_launcher.py:4: SettingWithCopyWarning: \n",
            "A value is trying to be set on a copy of a slice from a DataFrame\n",
            "\n",
            "See the caveats in the documentation: https://pandas.pydata.org/pandas-docs/stable/user_guide/indexing.html#returning-a-view-versus-a-copy\n",
            "  after removing the cwd from sys.path.\n",
            "/usr/local/lib/python3.7/dist-packages/ipykernel_launcher.py:6: SettingWithCopyWarning: \n",
            "A value is trying to be set on a copy of a slice from a DataFrame\n",
            "\n",
            "See the caveats in the documentation: https://pandas.pydata.org/pandas-docs/stable/user_guide/indexing.html#returning-a-view-versus-a-copy\n",
            "  \n",
            "/usr/local/lib/python3.7/dist-packages/ipykernel_launcher.py:8: SettingWithCopyWarning: \n",
            "A value is trying to be set on a copy of a slice from a DataFrame\n",
            "\n",
            "See the caveats in the documentation: https://pandas.pydata.org/pandas-docs/stable/user_guide/indexing.html#returning-a-view-versus-a-copy\n",
            "  \n",
            "/usr/local/lib/python3.7/dist-packages/ipykernel_launcher.py:8: SettingWithCopyWarning: \n",
            "A value is trying to be set on a copy of a slice from a DataFrame\n",
            "\n",
            "See the caveats in the documentation: https://pandas.pydata.org/pandas-docs/stable/user_guide/indexing.html#returning-a-view-versus-a-copy\n",
            "  \n",
            "/usr/local/lib/python3.7/dist-packages/ipykernel_launcher.py:8: SettingWithCopyWarning: \n",
            "A value is trying to be set on a copy of a slice from a DataFrame\n",
            "\n",
            "See the caveats in the documentation: https://pandas.pydata.org/pandas-docs/stable/user_guide/indexing.html#returning-a-view-versus-a-copy\n",
            "  \n",
            "/usr/local/lib/python3.7/dist-packages/ipykernel_launcher.py:8: SettingWithCopyWarning: \n",
            "A value is trying to be set on a copy of a slice from a DataFrame\n",
            "\n",
            "See the caveats in the documentation: https://pandas.pydata.org/pandas-docs/stable/user_guide/indexing.html#returning-a-view-versus-a-copy\n",
            "  \n",
            "/usr/local/lib/python3.7/dist-packages/ipykernel_launcher.py:4: SettingWithCopyWarning: \n",
            "A value is trying to be set on a copy of a slice from a DataFrame\n",
            "\n",
            "See the caveats in the documentation: https://pandas.pydata.org/pandas-docs/stable/user_guide/indexing.html#returning-a-view-versus-a-copy\n",
            "  after removing the cwd from sys.path.\n",
            "/usr/local/lib/python3.7/dist-packages/ipykernel_launcher.py:8: SettingWithCopyWarning: \n",
            "A value is trying to be set on a copy of a slice from a DataFrame\n",
            "\n",
            "See the caveats in the documentation: https://pandas.pydata.org/pandas-docs/stable/user_guide/indexing.html#returning-a-view-versus-a-copy\n",
            "  \n",
            "/usr/local/lib/python3.7/dist-packages/ipykernel_launcher.py:8: SettingWithCopyWarning: \n",
            "A value is trying to be set on a copy of a slice from a DataFrame\n",
            "\n",
            "See the caveats in the documentation: https://pandas.pydata.org/pandas-docs/stable/user_guide/indexing.html#returning-a-view-versus-a-copy\n",
            "  \n",
            "/usr/local/lib/python3.7/dist-packages/ipykernel_launcher.py:6: SettingWithCopyWarning: \n",
            "A value is trying to be set on a copy of a slice from a DataFrame\n",
            "\n",
            "See the caveats in the documentation: https://pandas.pydata.org/pandas-docs/stable/user_guide/indexing.html#returning-a-view-versus-a-copy\n",
            "  \n",
            "/usr/local/lib/python3.7/dist-packages/ipykernel_launcher.py:8: SettingWithCopyWarning: \n",
            "A value is trying to be set on a copy of a slice from a DataFrame\n",
            "\n",
            "See the caveats in the documentation: https://pandas.pydata.org/pandas-docs/stable/user_guide/indexing.html#returning-a-view-versus-a-copy\n",
            "  \n",
            "/usr/local/lib/python3.7/dist-packages/ipykernel_launcher.py:8: SettingWithCopyWarning: \n",
            "A value is trying to be set on a copy of a slice from a DataFrame\n",
            "\n",
            "See the caveats in the documentation: https://pandas.pydata.org/pandas-docs/stable/user_guide/indexing.html#returning-a-view-versus-a-copy\n",
            "  \n",
            "/usr/local/lib/python3.7/dist-packages/ipykernel_launcher.py:4: SettingWithCopyWarning: \n",
            "A value is trying to be set on a copy of a slice from a DataFrame\n",
            "\n",
            "See the caveats in the documentation: https://pandas.pydata.org/pandas-docs/stable/user_guide/indexing.html#returning-a-view-versus-a-copy\n",
            "  after removing the cwd from sys.path.\n",
            "/usr/local/lib/python3.7/dist-packages/ipykernel_launcher.py:8: SettingWithCopyWarning: \n",
            "A value is trying to be set on a copy of a slice from a DataFrame\n",
            "\n",
            "See the caveats in the documentation: https://pandas.pydata.org/pandas-docs/stable/user_guide/indexing.html#returning-a-view-versus-a-copy\n",
            "  \n",
            "/usr/local/lib/python3.7/dist-packages/ipykernel_launcher.py:4: SettingWithCopyWarning: \n",
            "A value is trying to be set on a copy of a slice from a DataFrame\n",
            "\n",
            "See the caveats in the documentation: https://pandas.pydata.org/pandas-docs/stable/user_guide/indexing.html#returning-a-view-versus-a-copy\n",
            "  after removing the cwd from sys.path.\n",
            "/usr/local/lib/python3.7/dist-packages/ipykernel_launcher.py:8: SettingWithCopyWarning: \n",
            "A value is trying to be set on a copy of a slice from a DataFrame\n",
            "\n",
            "See the caveats in the documentation: https://pandas.pydata.org/pandas-docs/stable/user_guide/indexing.html#returning-a-view-versus-a-copy\n",
            "  \n",
            "/usr/local/lib/python3.7/dist-packages/ipykernel_launcher.py:8: SettingWithCopyWarning: \n",
            "A value is trying to be set on a copy of a slice from a DataFrame\n",
            "\n",
            "See the caveats in the documentation: https://pandas.pydata.org/pandas-docs/stable/user_guide/indexing.html#returning-a-view-versus-a-copy\n",
            "  \n",
            "/usr/local/lib/python3.7/dist-packages/ipykernel_launcher.py:8: SettingWithCopyWarning: \n",
            "A value is trying to be set on a copy of a slice from a DataFrame\n",
            "\n",
            "See the caveats in the documentation: https://pandas.pydata.org/pandas-docs/stable/user_guide/indexing.html#returning-a-view-versus-a-copy\n",
            "  \n",
            "/usr/local/lib/python3.7/dist-packages/ipykernel_launcher.py:8: SettingWithCopyWarning: \n",
            "A value is trying to be set on a copy of a slice from a DataFrame\n",
            "\n",
            "See the caveats in the documentation: https://pandas.pydata.org/pandas-docs/stable/user_guide/indexing.html#returning-a-view-versus-a-copy\n",
            "  \n",
            "/usr/local/lib/python3.7/dist-packages/ipykernel_launcher.py:8: SettingWithCopyWarning: \n",
            "A value is trying to be set on a copy of a slice from a DataFrame\n",
            "\n",
            "See the caveats in the documentation: https://pandas.pydata.org/pandas-docs/stable/user_guide/indexing.html#returning-a-view-versus-a-copy\n",
            "  \n",
            "/usr/local/lib/python3.7/dist-packages/ipykernel_launcher.py:8: SettingWithCopyWarning: \n",
            "A value is trying to be set on a copy of a slice from a DataFrame\n",
            "\n",
            "See the caveats in the documentation: https://pandas.pydata.org/pandas-docs/stable/user_guide/indexing.html#returning-a-view-versus-a-copy\n",
            "  \n",
            "/usr/local/lib/python3.7/dist-packages/ipykernel_launcher.py:8: SettingWithCopyWarning: \n",
            "A value is trying to be set on a copy of a slice from a DataFrame\n",
            "\n",
            "See the caveats in the documentation: https://pandas.pydata.org/pandas-docs/stable/user_guide/indexing.html#returning-a-view-versus-a-copy\n",
            "  \n",
            "/usr/local/lib/python3.7/dist-packages/ipykernel_launcher.py:4: SettingWithCopyWarning: \n",
            "A value is trying to be set on a copy of a slice from a DataFrame\n",
            "\n",
            "See the caveats in the documentation: https://pandas.pydata.org/pandas-docs/stable/user_guide/indexing.html#returning-a-view-versus-a-copy\n",
            "  after removing the cwd from sys.path.\n",
            "/usr/local/lib/python3.7/dist-packages/ipykernel_launcher.py:4: SettingWithCopyWarning: \n",
            "A value is trying to be set on a copy of a slice from a DataFrame\n",
            "\n",
            "See the caveats in the documentation: https://pandas.pydata.org/pandas-docs/stable/user_guide/indexing.html#returning-a-view-versus-a-copy\n",
            "  after removing the cwd from sys.path.\n",
            "/usr/local/lib/python3.7/dist-packages/ipykernel_launcher.py:8: SettingWithCopyWarning: \n",
            "A value is trying to be set on a copy of a slice from a DataFrame\n",
            "\n",
            "See the caveats in the documentation: https://pandas.pydata.org/pandas-docs/stable/user_guide/indexing.html#returning-a-view-versus-a-copy\n",
            "  \n",
            "/usr/local/lib/python3.7/dist-packages/ipykernel_launcher.py:8: SettingWithCopyWarning: \n",
            "A value is trying to be set on a copy of a slice from a DataFrame\n",
            "\n",
            "See the caveats in the documentation: https://pandas.pydata.org/pandas-docs/stable/user_guide/indexing.html#returning-a-view-versus-a-copy\n",
            "  \n",
            "/usr/local/lib/python3.7/dist-packages/ipykernel_launcher.py:8: SettingWithCopyWarning: \n",
            "A value is trying to be set on a copy of a slice from a DataFrame\n",
            "\n",
            "See the caveats in the documentation: https://pandas.pydata.org/pandas-docs/stable/user_guide/indexing.html#returning-a-view-versus-a-copy\n",
            "  \n",
            "/usr/local/lib/python3.7/dist-packages/ipykernel_launcher.py:8: SettingWithCopyWarning: \n",
            "A value is trying to be set on a copy of a slice from a DataFrame\n",
            "\n",
            "See the caveats in the documentation: https://pandas.pydata.org/pandas-docs/stable/user_guide/indexing.html#returning-a-view-versus-a-copy\n",
            "  \n",
            "/usr/local/lib/python3.7/dist-packages/ipykernel_launcher.py:8: SettingWithCopyWarning: \n",
            "A value is trying to be set on a copy of a slice from a DataFrame\n",
            "\n",
            "See the caveats in the documentation: https://pandas.pydata.org/pandas-docs/stable/user_guide/indexing.html#returning-a-view-versus-a-copy\n",
            "  \n",
            "/usr/local/lib/python3.7/dist-packages/ipykernel_launcher.py:4: SettingWithCopyWarning: \n",
            "A value is trying to be set on a copy of a slice from a DataFrame\n",
            "\n",
            "See the caveats in the documentation: https://pandas.pydata.org/pandas-docs/stable/user_guide/indexing.html#returning-a-view-versus-a-copy\n",
            "  after removing the cwd from sys.path.\n",
            "/usr/local/lib/python3.7/dist-packages/ipykernel_launcher.py:8: SettingWithCopyWarning: \n",
            "A value is trying to be set on a copy of a slice from a DataFrame\n",
            "\n",
            "See the caveats in the documentation: https://pandas.pydata.org/pandas-docs/stable/user_guide/indexing.html#returning-a-view-versus-a-copy\n",
            "  \n",
            "/usr/local/lib/python3.7/dist-packages/ipykernel_launcher.py:4: SettingWithCopyWarning: \n",
            "A value is trying to be set on a copy of a slice from a DataFrame\n",
            "\n",
            "See the caveats in the documentation: https://pandas.pydata.org/pandas-docs/stable/user_guide/indexing.html#returning-a-view-versus-a-copy\n",
            "  after removing the cwd from sys.path.\n",
            "/usr/local/lib/python3.7/dist-packages/ipykernel_launcher.py:8: SettingWithCopyWarning: \n",
            "A value is trying to be set on a copy of a slice from a DataFrame\n",
            "\n",
            "See the caveats in the documentation: https://pandas.pydata.org/pandas-docs/stable/user_guide/indexing.html#returning-a-view-versus-a-copy\n",
            "  \n",
            "/usr/local/lib/python3.7/dist-packages/ipykernel_launcher.py:8: SettingWithCopyWarning: \n",
            "A value is trying to be set on a copy of a slice from a DataFrame\n",
            "\n",
            "See the caveats in the documentation: https://pandas.pydata.org/pandas-docs/stable/user_guide/indexing.html#returning-a-view-versus-a-copy\n",
            "  \n",
            "/usr/local/lib/python3.7/dist-packages/ipykernel_launcher.py:8: SettingWithCopyWarning: \n",
            "A value is trying to be set on a copy of a slice from a DataFrame\n",
            "\n",
            "See the caveats in the documentation: https://pandas.pydata.org/pandas-docs/stable/user_guide/indexing.html#returning-a-view-versus-a-copy\n",
            "  \n",
            "/usr/local/lib/python3.7/dist-packages/ipykernel_launcher.py:8: SettingWithCopyWarning: \n",
            "A value is trying to be set on a copy of a slice from a DataFrame\n",
            "\n",
            "See the caveats in the documentation: https://pandas.pydata.org/pandas-docs/stable/user_guide/indexing.html#returning-a-view-versus-a-copy\n",
            "  \n",
            "/usr/local/lib/python3.7/dist-packages/ipykernel_launcher.py:8: SettingWithCopyWarning: \n",
            "A value is trying to be set on a copy of a slice from a DataFrame\n",
            "\n",
            "See the caveats in the documentation: https://pandas.pydata.org/pandas-docs/stable/user_guide/indexing.html#returning-a-view-versus-a-copy\n",
            "  \n"
          ]
        }
      ]
    },
    {
      "cell_type": "markdown",
      "source": [
        "Agora veremos que não temos mais nenhum valor nulo no nosso dataset:\n"
      ],
      "metadata": {
        "id": "dy69F9jz2IEx"
      },
      "id": "dy69F9jz2IEx"
    },
    {
      "cell_type": "code",
      "source": [
        "df_ml.isnull().sum()"
      ],
      "metadata": {
        "id": "MgmUq8_R1UvF",
        "colab": {
          "base_uri": "https://localhost:8080/"
        },
        "outputId": "4ea8f7b8-1de9-4c49-94ae-a60892df44e1"
      },
      "id": "MgmUq8_R1UvF",
      "execution_count": null,
      "outputs": [
        {
          "output_type": "execute_result",
          "data": {
            "text/plain": [
              "sobreviveu                0\n",
              "classe_bilhete            0\n",
              "genero                    0\n",
              "idade                     0\n",
              "irmaos_conjuges_abordo    0\n",
              "pais_filhos_abordo        0\n",
              "numero_bilhete            0\n",
              "preco_bilhete             0\n",
              "local_embarque            0\n",
              "dtype: int64"
            ]
          },
          "metadata": {},
          "execution_count": 110
        }
      ]
    },
    {
      "cell_type": "markdown",
      "source": [
        "Vamos observar se podemos retirar alguma coluna que não tenha grande correlação com a sobrevivência ou não. Dados com pouca correlação com a sobrevivência podem acabar mais atrapalhando que ajudando nosso modelo a prever corretamente:"
      ],
      "metadata": {
        "id": "OnYzSp-l2ZnF"
      },
      "id": "OnYzSp-l2ZnF"
    },
    {
      "cell_type": "code",
      "source": [
        "df_ml.corr()"
      ],
      "metadata": {
        "id": "jL8ecLFK3FFP",
        "colab": {
          "base_uri": "https://localhost:8080/",
          "height": 237
        },
        "outputId": "c7aa7ab6-8083-4e5e-edf5-e501c2f9559e"
      },
      "id": "jL8ecLFK3FFP",
      "execution_count": null,
      "outputs": [
        {
          "output_type": "execute_result",
          "data": {
            "text/plain": [
              "                        sobreviveu  classe_bilhete     idade  \\\n",
              "sobreviveu                1.000000       -0.338481 -0.050503   \n",
              "classe_bilhete           -0.338481        1.000000 -0.403852   \n",
              "idade                    -0.050503       -0.403852  1.000000   \n",
              "irmaos_conjuges_abordo   -0.035322        0.083081 -0.243452   \n",
              "pais_filhos_abordo        0.081629        0.018443 -0.175795   \n",
              "preco_bilhete             0.257307       -0.549500  0.120883   \n",
              "\n",
              "                        irmaos_conjuges_abordo  pais_filhos_abordo  \\\n",
              "sobreviveu                           -0.035322            0.081629   \n",
              "classe_bilhete                        0.083081            0.018443   \n",
              "idade                                -0.243452           -0.175795   \n",
              "irmaos_conjuges_abordo                1.000000            0.414838   \n",
              "pais_filhos_abordo                    0.414838            1.000000   \n",
              "preco_bilhete                         0.159651            0.216225   \n",
              "\n",
              "                        preco_bilhete  \n",
              "sobreviveu                   0.257307  \n",
              "classe_bilhete              -0.549500  \n",
              "idade                        0.120883  \n",
              "irmaos_conjuges_abordo       0.159651  \n",
              "pais_filhos_abordo           0.216225  \n",
              "preco_bilhete                1.000000  "
            ],
            "text/html": [
              "\n",
              "  <div id=\"df-4fb2992e-0b16-4b59-92ea-6f2c037ef5fa\">\n",
              "    <div class=\"colab-df-container\">\n",
              "      <div>\n",
              "<style scoped>\n",
              "    .dataframe tbody tr th:only-of-type {\n",
              "        vertical-align: middle;\n",
              "    }\n",
              "\n",
              "    .dataframe tbody tr th {\n",
              "        vertical-align: top;\n",
              "    }\n",
              "\n",
              "    .dataframe thead th {\n",
              "        text-align: right;\n",
              "    }\n",
              "</style>\n",
              "<table border=\"1\" class=\"dataframe\">\n",
              "  <thead>\n",
              "    <tr style=\"text-align: right;\">\n",
              "      <th></th>\n",
              "      <th>sobreviveu</th>\n",
              "      <th>classe_bilhete</th>\n",
              "      <th>idade</th>\n",
              "      <th>irmaos_conjuges_abordo</th>\n",
              "      <th>pais_filhos_abordo</th>\n",
              "      <th>preco_bilhete</th>\n",
              "    </tr>\n",
              "  </thead>\n",
              "  <tbody>\n",
              "    <tr>\n",
              "      <th>sobreviveu</th>\n",
              "      <td>1.000000</td>\n",
              "      <td>-0.338481</td>\n",
              "      <td>-0.050503</td>\n",
              "      <td>-0.035322</td>\n",
              "      <td>0.081629</td>\n",
              "      <td>0.257307</td>\n",
              "    </tr>\n",
              "    <tr>\n",
              "      <th>classe_bilhete</th>\n",
              "      <td>-0.338481</td>\n",
              "      <td>1.000000</td>\n",
              "      <td>-0.403852</td>\n",
              "      <td>0.083081</td>\n",
              "      <td>0.018443</td>\n",
              "      <td>-0.549500</td>\n",
              "    </tr>\n",
              "    <tr>\n",
              "      <th>idade</th>\n",
              "      <td>-0.050503</td>\n",
              "      <td>-0.403852</td>\n",
              "      <td>1.000000</td>\n",
              "      <td>-0.243452</td>\n",
              "      <td>-0.175795</td>\n",
              "      <td>0.120883</td>\n",
              "    </tr>\n",
              "    <tr>\n",
              "      <th>irmaos_conjuges_abordo</th>\n",
              "      <td>-0.035322</td>\n",
              "      <td>0.083081</td>\n",
              "      <td>-0.243452</td>\n",
              "      <td>1.000000</td>\n",
              "      <td>0.414838</td>\n",
              "      <td>0.159651</td>\n",
              "    </tr>\n",
              "    <tr>\n",
              "      <th>pais_filhos_abordo</th>\n",
              "      <td>0.081629</td>\n",
              "      <td>0.018443</td>\n",
              "      <td>-0.175795</td>\n",
              "      <td>0.414838</td>\n",
              "      <td>1.000000</td>\n",
              "      <td>0.216225</td>\n",
              "    </tr>\n",
              "    <tr>\n",
              "      <th>preco_bilhete</th>\n",
              "      <td>0.257307</td>\n",
              "      <td>-0.549500</td>\n",
              "      <td>0.120883</td>\n",
              "      <td>0.159651</td>\n",
              "      <td>0.216225</td>\n",
              "      <td>1.000000</td>\n",
              "    </tr>\n",
              "  </tbody>\n",
              "</table>\n",
              "</div>\n",
              "      <button class=\"colab-df-convert\" onclick=\"convertToInteractive('df-4fb2992e-0b16-4b59-92ea-6f2c037ef5fa')\"\n",
              "              title=\"Convert this dataframe to an interactive table.\"\n",
              "              style=\"display:none;\">\n",
              "        \n",
              "  <svg xmlns=\"http://www.w3.org/2000/svg\" height=\"24px\"viewBox=\"0 0 24 24\"\n",
              "       width=\"24px\">\n",
              "    <path d=\"M0 0h24v24H0V0z\" fill=\"none\"/>\n",
              "    <path d=\"M18.56 5.44l.94 2.06.94-2.06 2.06-.94-2.06-.94-.94-2.06-.94 2.06-2.06.94zm-11 1L8.5 8.5l.94-2.06 2.06-.94-2.06-.94L8.5 2.5l-.94 2.06-2.06.94zm10 10l.94 2.06.94-2.06 2.06-.94-2.06-.94-.94-2.06-.94 2.06-2.06.94z\"/><path d=\"M17.41 7.96l-1.37-1.37c-.4-.4-.92-.59-1.43-.59-.52 0-1.04.2-1.43.59L10.3 9.45l-7.72 7.72c-.78.78-.78 2.05 0 2.83L4 21.41c.39.39.9.59 1.41.59.51 0 1.02-.2 1.41-.59l7.78-7.78 2.81-2.81c.8-.78.8-2.07 0-2.86zM5.41 20L4 18.59l7.72-7.72 1.47 1.35L5.41 20z\"/>\n",
              "  </svg>\n",
              "      </button>\n",
              "      \n",
              "  <style>\n",
              "    .colab-df-container {\n",
              "      display:flex;\n",
              "      flex-wrap:wrap;\n",
              "      gap: 12px;\n",
              "    }\n",
              "\n",
              "    .colab-df-convert {\n",
              "      background-color: #E8F0FE;\n",
              "      border: none;\n",
              "      border-radius: 50%;\n",
              "      cursor: pointer;\n",
              "      display: none;\n",
              "      fill: #1967D2;\n",
              "      height: 32px;\n",
              "      padding: 0 0 0 0;\n",
              "      width: 32px;\n",
              "    }\n",
              "\n",
              "    .colab-df-convert:hover {\n",
              "      background-color: #E2EBFA;\n",
              "      box-shadow: 0px 1px 2px rgba(60, 64, 67, 0.3), 0px 1px 3px 1px rgba(60, 64, 67, 0.15);\n",
              "      fill: #174EA6;\n",
              "    }\n",
              "\n",
              "    [theme=dark] .colab-df-convert {\n",
              "      background-color: #3B4455;\n",
              "      fill: #D2E3FC;\n",
              "    }\n",
              "\n",
              "    [theme=dark] .colab-df-convert:hover {\n",
              "      background-color: #434B5C;\n",
              "      box-shadow: 0px 1px 3px 1px rgba(0, 0, 0, 0.15);\n",
              "      filter: drop-shadow(0px 1px 2px rgba(0, 0, 0, 0.3));\n",
              "      fill: #FFFFFF;\n",
              "    }\n",
              "  </style>\n",
              "\n",
              "      <script>\n",
              "        const buttonEl =\n",
              "          document.querySelector('#df-4fb2992e-0b16-4b59-92ea-6f2c037ef5fa button.colab-df-convert');\n",
              "        buttonEl.style.display =\n",
              "          google.colab.kernel.accessAllowed ? 'block' : 'none';\n",
              "\n",
              "        async function convertToInteractive(key) {\n",
              "          const element = document.querySelector('#df-4fb2992e-0b16-4b59-92ea-6f2c037ef5fa');\n",
              "          const dataTable =\n",
              "            await google.colab.kernel.invokeFunction('convertToInteractive',\n",
              "                                                     [key], {});\n",
              "          if (!dataTable) return;\n",
              "\n",
              "          const docLinkHtml = 'Like what you see? Visit the ' +\n",
              "            '<a target=\"_blank\" href=https://colab.research.google.com/notebooks/data_table.ipynb>data table notebook</a>'\n",
              "            + ' to learn more about interactive tables.';\n",
              "          element.innerHTML = '';\n",
              "          dataTable['output_type'] = 'display_data';\n",
              "          await google.colab.output.renderOutput(dataTable, element);\n",
              "          const docLink = document.createElement('div');\n",
              "          docLink.innerHTML = docLinkHtml;\n",
              "          element.appendChild(docLink);\n",
              "        }\n",
              "      </script>\n",
              "    </div>\n",
              "  </div>\n",
              "  "
            ]
          },
          "metadata": {},
          "execution_count": 111
        }
      ]
    },
    {
      "cell_type": "code",
      "source": [
        "df_ml.head()"
      ],
      "metadata": {
        "id": "OB12sBC526Qf",
        "colab": {
          "base_uri": "https://localhost:8080/",
          "height": 281
        },
        "outputId": "564f71b1-fdfb-4cd0-d3a5-3b1854067893"
      },
      "id": "OB12sBC526Qf",
      "execution_count": null,
      "outputs": [
        {
          "output_type": "execute_result",
          "data": {
            "text/plain": [
              "               sobreviveu  classe_bilhete genero  idade  \\\n",
              "id_passageiro                                             \n",
              "1                   False               3      M   22.0   \n",
              "2                    True               1      F   38.0   \n",
              "3                    True               3      F   26.0   \n",
              "4                    True               1      F   35.0   \n",
              "5                   False               3      M   35.0   \n",
              "\n",
              "               irmaos_conjuges_abordo  pais_filhos_abordo    numero_bilhete  \\\n",
              "id_passageiro                                                                 \n",
              "1                                   1                   0         A/5 21171   \n",
              "2                                   1                   0          PC 17599   \n",
              "3                                   0                   0  STON/O2. 3101282   \n",
              "4                                   1                   0            113803   \n",
              "5                                   0                   0            373450   \n",
              "\n",
              "               preco_bilhete local_embarque  \n",
              "id_passageiro                                \n",
              "1                     7.2500    Southampton  \n",
              "2                    71.2833      Cherbourg  \n",
              "3                     7.9250    Southampton  \n",
              "4                    53.1000    Southampton  \n",
              "5                     8.0500    Southampton  "
            ],
            "text/html": [
              "\n",
              "  <div id=\"df-d3ad9e1c-8ece-4553-852d-aa5123c71d79\">\n",
              "    <div class=\"colab-df-container\">\n",
              "      <div>\n",
              "<style scoped>\n",
              "    .dataframe tbody tr th:only-of-type {\n",
              "        vertical-align: middle;\n",
              "    }\n",
              "\n",
              "    .dataframe tbody tr th {\n",
              "        vertical-align: top;\n",
              "    }\n",
              "\n",
              "    .dataframe thead th {\n",
              "        text-align: right;\n",
              "    }\n",
              "</style>\n",
              "<table border=\"1\" class=\"dataframe\">\n",
              "  <thead>\n",
              "    <tr style=\"text-align: right;\">\n",
              "      <th></th>\n",
              "      <th>sobreviveu</th>\n",
              "      <th>classe_bilhete</th>\n",
              "      <th>genero</th>\n",
              "      <th>idade</th>\n",
              "      <th>irmaos_conjuges_abordo</th>\n",
              "      <th>pais_filhos_abordo</th>\n",
              "      <th>numero_bilhete</th>\n",
              "      <th>preco_bilhete</th>\n",
              "      <th>local_embarque</th>\n",
              "    </tr>\n",
              "    <tr>\n",
              "      <th>id_passageiro</th>\n",
              "      <th></th>\n",
              "      <th></th>\n",
              "      <th></th>\n",
              "      <th></th>\n",
              "      <th></th>\n",
              "      <th></th>\n",
              "      <th></th>\n",
              "      <th></th>\n",
              "      <th></th>\n",
              "    </tr>\n",
              "  </thead>\n",
              "  <tbody>\n",
              "    <tr>\n",
              "      <th>1</th>\n",
              "      <td>False</td>\n",
              "      <td>3</td>\n",
              "      <td>M</td>\n",
              "      <td>22.0</td>\n",
              "      <td>1</td>\n",
              "      <td>0</td>\n",
              "      <td>A/5 21171</td>\n",
              "      <td>7.2500</td>\n",
              "      <td>Southampton</td>\n",
              "    </tr>\n",
              "    <tr>\n",
              "      <th>2</th>\n",
              "      <td>True</td>\n",
              "      <td>1</td>\n",
              "      <td>F</td>\n",
              "      <td>38.0</td>\n",
              "      <td>1</td>\n",
              "      <td>0</td>\n",
              "      <td>PC 17599</td>\n",
              "      <td>71.2833</td>\n",
              "      <td>Cherbourg</td>\n",
              "    </tr>\n",
              "    <tr>\n",
              "      <th>3</th>\n",
              "      <td>True</td>\n",
              "      <td>3</td>\n",
              "      <td>F</td>\n",
              "      <td>26.0</td>\n",
              "      <td>0</td>\n",
              "      <td>0</td>\n",
              "      <td>STON/O2. 3101282</td>\n",
              "      <td>7.9250</td>\n",
              "      <td>Southampton</td>\n",
              "    </tr>\n",
              "    <tr>\n",
              "      <th>4</th>\n",
              "      <td>True</td>\n",
              "      <td>1</td>\n",
              "      <td>F</td>\n",
              "      <td>35.0</td>\n",
              "      <td>1</td>\n",
              "      <td>0</td>\n",
              "      <td>113803</td>\n",
              "      <td>53.1000</td>\n",
              "      <td>Southampton</td>\n",
              "    </tr>\n",
              "    <tr>\n",
              "      <th>5</th>\n",
              "      <td>False</td>\n",
              "      <td>3</td>\n",
              "      <td>M</td>\n",
              "      <td>35.0</td>\n",
              "      <td>0</td>\n",
              "      <td>0</td>\n",
              "      <td>373450</td>\n",
              "      <td>8.0500</td>\n",
              "      <td>Southampton</td>\n",
              "    </tr>\n",
              "  </tbody>\n",
              "</table>\n",
              "</div>\n",
              "      <button class=\"colab-df-convert\" onclick=\"convertToInteractive('df-d3ad9e1c-8ece-4553-852d-aa5123c71d79')\"\n",
              "              title=\"Convert this dataframe to an interactive table.\"\n",
              "              style=\"display:none;\">\n",
              "        \n",
              "  <svg xmlns=\"http://www.w3.org/2000/svg\" height=\"24px\"viewBox=\"0 0 24 24\"\n",
              "       width=\"24px\">\n",
              "    <path d=\"M0 0h24v24H0V0z\" fill=\"none\"/>\n",
              "    <path d=\"M18.56 5.44l.94 2.06.94-2.06 2.06-.94-2.06-.94-.94-2.06-.94 2.06-2.06.94zm-11 1L8.5 8.5l.94-2.06 2.06-.94-2.06-.94L8.5 2.5l-.94 2.06-2.06.94zm10 10l.94 2.06.94-2.06 2.06-.94-2.06-.94-.94-2.06-.94 2.06-2.06.94z\"/><path d=\"M17.41 7.96l-1.37-1.37c-.4-.4-.92-.59-1.43-.59-.52 0-1.04.2-1.43.59L10.3 9.45l-7.72 7.72c-.78.78-.78 2.05 0 2.83L4 21.41c.39.39.9.59 1.41.59.51 0 1.02-.2 1.41-.59l7.78-7.78 2.81-2.81c.8-.78.8-2.07 0-2.86zM5.41 20L4 18.59l7.72-7.72 1.47 1.35L5.41 20z\"/>\n",
              "  </svg>\n",
              "      </button>\n",
              "      \n",
              "  <style>\n",
              "    .colab-df-container {\n",
              "      display:flex;\n",
              "      flex-wrap:wrap;\n",
              "      gap: 12px;\n",
              "    }\n",
              "\n",
              "    .colab-df-convert {\n",
              "      background-color: #E8F0FE;\n",
              "      border: none;\n",
              "      border-radius: 50%;\n",
              "      cursor: pointer;\n",
              "      display: none;\n",
              "      fill: #1967D2;\n",
              "      height: 32px;\n",
              "      padding: 0 0 0 0;\n",
              "      width: 32px;\n",
              "    }\n",
              "\n",
              "    .colab-df-convert:hover {\n",
              "      background-color: #E2EBFA;\n",
              "      box-shadow: 0px 1px 2px rgba(60, 64, 67, 0.3), 0px 1px 3px 1px rgba(60, 64, 67, 0.15);\n",
              "      fill: #174EA6;\n",
              "    }\n",
              "\n",
              "    [theme=dark] .colab-df-convert {\n",
              "      background-color: #3B4455;\n",
              "      fill: #D2E3FC;\n",
              "    }\n",
              "\n",
              "    [theme=dark] .colab-df-convert:hover {\n",
              "      background-color: #434B5C;\n",
              "      box-shadow: 0px 1px 3px 1px rgba(0, 0, 0, 0.15);\n",
              "      filter: drop-shadow(0px 1px 2px rgba(0, 0, 0, 0.3));\n",
              "      fill: #FFFFFF;\n",
              "    }\n",
              "  </style>\n",
              "\n",
              "      <script>\n",
              "        const buttonEl =\n",
              "          document.querySelector('#df-d3ad9e1c-8ece-4553-852d-aa5123c71d79 button.colab-df-convert');\n",
              "        buttonEl.style.display =\n",
              "          google.colab.kernel.accessAllowed ? 'block' : 'none';\n",
              "\n",
              "        async function convertToInteractive(key) {\n",
              "          const element = document.querySelector('#df-d3ad9e1c-8ece-4553-852d-aa5123c71d79');\n",
              "          const dataTable =\n",
              "            await google.colab.kernel.invokeFunction('convertToInteractive',\n",
              "                                                     [key], {});\n",
              "          if (!dataTable) return;\n",
              "\n",
              "          const docLinkHtml = 'Like what you see? Visit the ' +\n",
              "            '<a target=\"_blank\" href=https://colab.research.google.com/notebooks/data_table.ipynb>data table notebook</a>'\n",
              "            + ' to learn more about interactive tables.';\n",
              "          element.innerHTML = '';\n",
              "          dataTable['output_type'] = 'display_data';\n",
              "          await google.colab.output.renderOutput(dataTable, element);\n",
              "          const docLink = document.createElement('div');\n",
              "          docLink.innerHTML = docLinkHtml;\n",
              "          element.appendChild(docLink);\n",
              "        }\n",
              "      </script>\n",
              "    </div>\n",
              "  </div>\n",
              "  "
            ]
          },
          "metadata": {},
          "execution_count": 112
        }
      ]
    },
    {
      "cell_type": "markdown",
      "source": [
        "Podemos observar acima que a coluna 'numero_bilhete' é uma variável categórica que não é facilmente transformada, de forma lógica, em numérica de modo a poder correlacioná-la com a variável de sobrevivência. Como podemos ver essa variável, por sere categórica, nem aparece na tabela de correlação. Por isso, decidimos retirá-la do nosso dataset."
      ],
      "metadata": {
        "id": "D1MMy9f329vj"
      },
      "id": "D1MMy9f329vj"
    },
    {
      "cell_type": "code",
      "source": [
        "df_ml = df_ml.drop(columns='numero_bilhete', axis=1)"
      ],
      "metadata": {
        "id": "C1-d48NQ3p20"
      },
      "id": "C1-d48NQ3p20",
      "execution_count": null,
      "outputs": []
    },
    {
      "cell_type": "markdown",
      "source": [
        "Outra coluna que não aparece na tabela de correlação, por ser categórica, é a de gênero, porém essa variável pode ser facilmente convertida em numérica de forma lógica e de modo a poder correlacioná-la com a variável de sobrevivência, é o que faremos a seguir:"
      ],
      "metadata": {
        "id": "O_gZ4Ei24GKR"
      },
      "id": "O_gZ4Ei24GKR"
    },
    {
      "cell_type": "code",
      "source": [
        "df_ml['genero'] = df_ml['genero'].map({'F':1, 'M':0})"
      ],
      "metadata": {
        "id": "UYpH7vozThnG"
      },
      "id": "UYpH7vozThnG",
      "execution_count": null,
      "outputs": []
    },
    {
      "cell_type": "markdown",
      "source": [
        "Valores M (homens) passaram a ser 0 e valores F (mulheres) passaram a ser 1. Nosso dataset está dessa forma até o momento:"
      ],
      "metadata": {
        "id": "cquotN9ZTh-c"
      },
      "id": "cquotN9ZTh-c"
    },
    {
      "cell_type": "code",
      "source": [
        "df_ml.head()"
      ],
      "metadata": {
        "id": "1HqFugWuUN64",
        "colab": {
          "base_uri": "https://localhost:8080/",
          "height": 237
        },
        "outputId": "4d5af481-278b-45b0-ad0e-d4b7ee2fcc9c"
      },
      "id": "1HqFugWuUN64",
      "execution_count": null,
      "outputs": [
        {
          "output_type": "execute_result",
          "data": {
            "text/plain": [
              "               sobreviveu  classe_bilhete  genero  idade  \\\n",
              "id_passageiro                                              \n",
              "1                   False               3       0   22.0   \n",
              "2                    True               1       1   38.0   \n",
              "3                    True               3       1   26.0   \n",
              "4                    True               1       1   35.0   \n",
              "5                   False               3       0   35.0   \n",
              "\n",
              "               irmaos_conjuges_abordo  pais_filhos_abordo  preco_bilhete  \\\n",
              "id_passageiro                                                              \n",
              "1                                   1                   0         7.2500   \n",
              "2                                   1                   0        71.2833   \n",
              "3                                   0                   0         7.9250   \n",
              "4                                   1                   0        53.1000   \n",
              "5                                   0                   0         8.0500   \n",
              "\n",
              "              local_embarque  \n",
              "id_passageiro                 \n",
              "1                Southampton  \n",
              "2                  Cherbourg  \n",
              "3                Southampton  \n",
              "4                Southampton  \n",
              "5                Southampton  "
            ],
            "text/html": [
              "\n",
              "  <div id=\"df-1259ff54-4038-445b-ba13-5df1ddf3f0da\">\n",
              "    <div class=\"colab-df-container\">\n",
              "      <div>\n",
              "<style scoped>\n",
              "    .dataframe tbody tr th:only-of-type {\n",
              "        vertical-align: middle;\n",
              "    }\n",
              "\n",
              "    .dataframe tbody tr th {\n",
              "        vertical-align: top;\n",
              "    }\n",
              "\n",
              "    .dataframe thead th {\n",
              "        text-align: right;\n",
              "    }\n",
              "</style>\n",
              "<table border=\"1\" class=\"dataframe\">\n",
              "  <thead>\n",
              "    <tr style=\"text-align: right;\">\n",
              "      <th></th>\n",
              "      <th>sobreviveu</th>\n",
              "      <th>classe_bilhete</th>\n",
              "      <th>genero</th>\n",
              "      <th>idade</th>\n",
              "      <th>irmaos_conjuges_abordo</th>\n",
              "      <th>pais_filhos_abordo</th>\n",
              "      <th>preco_bilhete</th>\n",
              "      <th>local_embarque</th>\n",
              "    </tr>\n",
              "    <tr>\n",
              "      <th>id_passageiro</th>\n",
              "      <th></th>\n",
              "      <th></th>\n",
              "      <th></th>\n",
              "      <th></th>\n",
              "      <th></th>\n",
              "      <th></th>\n",
              "      <th></th>\n",
              "      <th></th>\n",
              "    </tr>\n",
              "  </thead>\n",
              "  <tbody>\n",
              "    <tr>\n",
              "      <th>1</th>\n",
              "      <td>False</td>\n",
              "      <td>3</td>\n",
              "      <td>0</td>\n",
              "      <td>22.0</td>\n",
              "      <td>1</td>\n",
              "      <td>0</td>\n",
              "      <td>7.2500</td>\n",
              "      <td>Southampton</td>\n",
              "    </tr>\n",
              "    <tr>\n",
              "      <th>2</th>\n",
              "      <td>True</td>\n",
              "      <td>1</td>\n",
              "      <td>1</td>\n",
              "      <td>38.0</td>\n",
              "      <td>1</td>\n",
              "      <td>0</td>\n",
              "      <td>71.2833</td>\n",
              "      <td>Cherbourg</td>\n",
              "    </tr>\n",
              "    <tr>\n",
              "      <th>3</th>\n",
              "      <td>True</td>\n",
              "      <td>3</td>\n",
              "      <td>1</td>\n",
              "      <td>26.0</td>\n",
              "      <td>0</td>\n",
              "      <td>0</td>\n",
              "      <td>7.9250</td>\n",
              "      <td>Southampton</td>\n",
              "    </tr>\n",
              "    <tr>\n",
              "      <th>4</th>\n",
              "      <td>True</td>\n",
              "      <td>1</td>\n",
              "      <td>1</td>\n",
              "      <td>35.0</td>\n",
              "      <td>1</td>\n",
              "      <td>0</td>\n",
              "      <td>53.1000</td>\n",
              "      <td>Southampton</td>\n",
              "    </tr>\n",
              "    <tr>\n",
              "      <th>5</th>\n",
              "      <td>False</td>\n",
              "      <td>3</td>\n",
              "      <td>0</td>\n",
              "      <td>35.0</td>\n",
              "      <td>0</td>\n",
              "      <td>0</td>\n",
              "      <td>8.0500</td>\n",
              "      <td>Southampton</td>\n",
              "    </tr>\n",
              "  </tbody>\n",
              "</table>\n",
              "</div>\n",
              "      <button class=\"colab-df-convert\" onclick=\"convertToInteractive('df-1259ff54-4038-445b-ba13-5df1ddf3f0da')\"\n",
              "              title=\"Convert this dataframe to an interactive table.\"\n",
              "              style=\"display:none;\">\n",
              "        \n",
              "  <svg xmlns=\"http://www.w3.org/2000/svg\" height=\"24px\"viewBox=\"0 0 24 24\"\n",
              "       width=\"24px\">\n",
              "    <path d=\"M0 0h24v24H0V0z\" fill=\"none\"/>\n",
              "    <path d=\"M18.56 5.44l.94 2.06.94-2.06 2.06-.94-2.06-.94-.94-2.06-.94 2.06-2.06.94zm-11 1L8.5 8.5l.94-2.06 2.06-.94-2.06-.94L8.5 2.5l-.94 2.06-2.06.94zm10 10l.94 2.06.94-2.06 2.06-.94-2.06-.94-.94-2.06-.94 2.06-2.06.94z\"/><path d=\"M17.41 7.96l-1.37-1.37c-.4-.4-.92-.59-1.43-.59-.52 0-1.04.2-1.43.59L10.3 9.45l-7.72 7.72c-.78.78-.78 2.05 0 2.83L4 21.41c.39.39.9.59 1.41.59.51 0 1.02-.2 1.41-.59l7.78-7.78 2.81-2.81c.8-.78.8-2.07 0-2.86zM5.41 20L4 18.59l7.72-7.72 1.47 1.35L5.41 20z\"/>\n",
              "  </svg>\n",
              "      </button>\n",
              "      \n",
              "  <style>\n",
              "    .colab-df-container {\n",
              "      display:flex;\n",
              "      flex-wrap:wrap;\n",
              "      gap: 12px;\n",
              "    }\n",
              "\n",
              "    .colab-df-convert {\n",
              "      background-color: #E8F0FE;\n",
              "      border: none;\n",
              "      border-radius: 50%;\n",
              "      cursor: pointer;\n",
              "      display: none;\n",
              "      fill: #1967D2;\n",
              "      height: 32px;\n",
              "      padding: 0 0 0 0;\n",
              "      width: 32px;\n",
              "    }\n",
              "\n",
              "    .colab-df-convert:hover {\n",
              "      background-color: #E2EBFA;\n",
              "      box-shadow: 0px 1px 2px rgba(60, 64, 67, 0.3), 0px 1px 3px 1px rgba(60, 64, 67, 0.15);\n",
              "      fill: #174EA6;\n",
              "    }\n",
              "\n",
              "    [theme=dark] .colab-df-convert {\n",
              "      background-color: #3B4455;\n",
              "      fill: #D2E3FC;\n",
              "    }\n",
              "\n",
              "    [theme=dark] .colab-df-convert:hover {\n",
              "      background-color: #434B5C;\n",
              "      box-shadow: 0px 1px 3px 1px rgba(0, 0, 0, 0.15);\n",
              "      filter: drop-shadow(0px 1px 2px rgba(0, 0, 0, 0.3));\n",
              "      fill: #FFFFFF;\n",
              "    }\n",
              "  </style>\n",
              "\n",
              "      <script>\n",
              "        const buttonEl =\n",
              "          document.querySelector('#df-1259ff54-4038-445b-ba13-5df1ddf3f0da button.colab-df-convert');\n",
              "        buttonEl.style.display =\n",
              "          google.colab.kernel.accessAllowed ? 'block' : 'none';\n",
              "\n",
              "        async function convertToInteractive(key) {\n",
              "          const element = document.querySelector('#df-1259ff54-4038-445b-ba13-5df1ddf3f0da');\n",
              "          const dataTable =\n",
              "            await google.colab.kernel.invokeFunction('convertToInteractive',\n",
              "                                                     [key], {});\n",
              "          if (!dataTable) return;\n",
              "\n",
              "          const docLinkHtml = 'Like what you see? Visit the ' +\n",
              "            '<a target=\"_blank\" href=https://colab.research.google.com/notebooks/data_table.ipynb>data table notebook</a>'\n",
              "            + ' to learn more about interactive tables.';\n",
              "          element.innerHTML = '';\n",
              "          dataTable['output_type'] = 'display_data';\n",
              "          await google.colab.output.renderOutput(dataTable, element);\n",
              "          const docLink = document.createElement('div');\n",
              "          docLink.innerHTML = docLinkHtml;\n",
              "          element.appendChild(docLink);\n",
              "        }\n",
              "      </script>\n",
              "    </div>\n",
              "  </div>\n",
              "  "
            ]
          },
          "metadata": {},
          "execution_count": 115
        }
      ]
    },
    {
      "cell_type": "markdown",
      "source": [
        "Mais uma coluna que não aparece na tabela de correlação, por ser categórica, é a de 'local_embarque', porém podemos convertê-la em numérica de forma lógica e de modo a poder correlacioná-la com a variável de sobrevivência. É o que faremos a seguir:"
      ],
      "metadata": {
        "id": "Dzfe1XSsbQdE"
      },
      "id": "Dzfe1XSsbQdE"
    },
    {
      "cell_type": "code",
      "source": [
        "df_ml['local_embarque'].unique()"
      ],
      "metadata": {
        "id": "WWPrmJ7gbfh7",
        "colab": {
          "base_uri": "https://localhost:8080/"
        },
        "outputId": "0fb11208-8464-4273-d7bd-d9e25f6dcc09"
      },
      "id": "WWPrmJ7gbfh7",
      "execution_count": null,
      "outputs": [
        {
          "output_type": "execute_result",
          "data": {
            "text/plain": [
              "array(['Southampton', 'Cherbourg', 'Queenstown'], dtype=object)"
            ]
          },
          "metadata": {},
          "execution_count": 116
        }
      ]
    },
    {
      "cell_type": "markdown",
      "source": [
        "Vemos acima que temos três tipos de valores nessa coluna: 'Southampton', 'Cherbourg' e 'Queenstown'."
      ],
      "metadata": {
        "id": "exuUFxhJbtUn"
      },
      "id": "exuUFxhJbtUn"
    },
    {
      "cell_type": "code",
      "source": [
        "#encode dos valores de 'local_embarque'\n",
        "local_embarque = pd.get_dummies(df_ml['local_embarque'], prefix='local_embarque', drop_first=True)"
      ],
      "metadata": {
        "id": "xpCHKPKYcwf3"
      },
      "id": "xpCHKPKYcwf3",
      "execution_count": null,
      "outputs": []
    },
    {
      "cell_type": "markdown",
      "source": [
        "Também iremos converter os valores de 'classe_bilhete' em valores 0 ou 1, pois com valores 1, 2 e 3, o modelo pode não ter um resultado tão otimizado."
      ],
      "metadata": {
        "id": "ITlOm4M9cFDN"
      },
      "id": "ITlOm4M9cFDN"
    },
    {
      "cell_type": "code",
      "source": [
        "classe_bilhete = pd.get_dummies(df_ml['classe_bilhete'], prefix='classe_bilhete', drop_first=True)"
      ],
      "metadata": {
        "id": "Efs5kqE0dGjf"
      },
      "id": "Efs5kqE0dGjf",
      "execution_count": null,
      "outputs": []
    },
    {
      "cell_type": "code",
      "source": [
        "df_ml = pd.concat([df_ml,local_embarque, classe_bilhete], axis = 1)"
      ],
      "metadata": {
        "id": "NgYqZ4Bgdb43"
      },
      "id": "NgYqZ4Bgdb43",
      "execution_count": null,
      "outputs": []
    },
    {
      "cell_type": "code",
      "source": [
        "df_ml.drop(['local_embarque', 'classe_bilhete'], axis = 1, inplace = True)"
      ],
      "metadata": {
        "id": "2O-aFSG3d6Ti"
      },
      "id": "2O-aFSG3d6Ti",
      "execution_count": null,
      "outputs": []
    },
    {
      "cell_type": "markdown",
      "source": [
        "Finalmente, observamos que a coluna 'sobreviveu' tem valores true e false, vamos então transformá-los em valores 0 ou 1 para facilitar a modelagem do nosso dataset:"
      ],
      "metadata": {
        "id": "vq1LUjg0FHfq"
      },
      "id": "vq1LUjg0FHfq"
    },
    {
      "cell_type": "code",
      "source": [
        "#não sobreviveu = 0 sobreviveu = 1\n",
        "df_ml.sobreviveu = df_ml.sobreviveu.replace({True: 1, False: 0})"
      ],
      "metadata": {
        "id": "Nm1i76glHjpU"
      },
      "id": "Nm1i76glHjpU",
      "execution_count": null,
      "outputs": []
    },
    {
      "cell_type": "markdown",
      "source": [
        "Nosso dataset fica, então, dessa forma:"
      ],
      "metadata": {
        "id": "UaNzKzu7eK7m"
      },
      "id": "UaNzKzu7eK7m"
    },
    {
      "cell_type": "code",
      "source": [
        "df_ml"
      ],
      "metadata": {
        "id": "pTrRiqzYdvmq",
        "colab": {
          "base_uri": "https://localhost:8080/",
          "height": 519
        },
        "outputId": "95b521cf-0446-488e-8250-bf22ae20627f"
      },
      "id": "pTrRiqzYdvmq",
      "execution_count": null,
      "outputs": [
        {
          "output_type": "execute_result",
          "data": {
            "text/plain": [
              "               sobreviveu  genero  idade  irmaos_conjuges_abordo  \\\n",
              "id_passageiro                                                      \n",
              "1                       0       0  22.00                       1   \n",
              "2                       1       1  38.00                       1   \n",
              "3                       1       1  26.00                       0   \n",
              "4                       1       1  35.00                       1   \n",
              "5                       0       0  35.00                       0   \n",
              "...                   ...     ...    ...                     ...   \n",
              "887                     0       0  27.00                       0   \n",
              "888                     1       1  19.00                       0   \n",
              "889                     0       1  25.14                       1   \n",
              "890                     1       0  26.00                       0   \n",
              "891                     0       0  32.00                       0   \n",
              "\n",
              "               pais_filhos_abordo  preco_bilhete  local_embarque_Queenstown  \\\n",
              "id_passageiro                                                                 \n",
              "1                               0         7.2500                          0   \n",
              "2                               0        71.2833                          0   \n",
              "3                               0         7.9250                          0   \n",
              "4                               0        53.1000                          0   \n",
              "5                               0         8.0500                          0   \n",
              "...                           ...            ...                        ...   \n",
              "887                             0        13.0000                          0   \n",
              "888                             0        30.0000                          0   \n",
              "889                             2        23.4500                          0   \n",
              "890                             0        30.0000                          0   \n",
              "891                             0         7.7500                          1   \n",
              "\n",
              "               local_embarque_Southampton  classe_bilhete_2  classe_bilhete_3  \n",
              "id_passageiro                                                                  \n",
              "1                                       1                 0                 1  \n",
              "2                                       0                 0                 0  \n",
              "3                                       1                 0                 1  \n",
              "4                                       1                 0                 0  \n",
              "5                                       1                 0                 1  \n",
              "...                                   ...               ...               ...  \n",
              "887                                     1                 1                 0  \n",
              "888                                     1                 0                 0  \n",
              "889                                     1                 0                 1  \n",
              "890                                     0                 0                 0  \n",
              "891                                     0                 0                 1  \n",
              "\n",
              "[891 rows x 10 columns]"
            ],
            "text/html": [
              "\n",
              "  <div id=\"df-ce5321b0-41c6-4fea-845b-c708b809f20b\">\n",
              "    <div class=\"colab-df-container\">\n",
              "      <div>\n",
              "<style scoped>\n",
              "    .dataframe tbody tr th:only-of-type {\n",
              "        vertical-align: middle;\n",
              "    }\n",
              "\n",
              "    .dataframe tbody tr th {\n",
              "        vertical-align: top;\n",
              "    }\n",
              "\n",
              "    .dataframe thead th {\n",
              "        text-align: right;\n",
              "    }\n",
              "</style>\n",
              "<table border=\"1\" class=\"dataframe\">\n",
              "  <thead>\n",
              "    <tr style=\"text-align: right;\">\n",
              "      <th></th>\n",
              "      <th>sobreviveu</th>\n",
              "      <th>genero</th>\n",
              "      <th>idade</th>\n",
              "      <th>irmaos_conjuges_abordo</th>\n",
              "      <th>pais_filhos_abordo</th>\n",
              "      <th>preco_bilhete</th>\n",
              "      <th>local_embarque_Queenstown</th>\n",
              "      <th>local_embarque_Southampton</th>\n",
              "      <th>classe_bilhete_2</th>\n",
              "      <th>classe_bilhete_3</th>\n",
              "    </tr>\n",
              "    <tr>\n",
              "      <th>id_passageiro</th>\n",
              "      <th></th>\n",
              "      <th></th>\n",
              "      <th></th>\n",
              "      <th></th>\n",
              "      <th></th>\n",
              "      <th></th>\n",
              "      <th></th>\n",
              "      <th></th>\n",
              "      <th></th>\n",
              "      <th></th>\n",
              "    </tr>\n",
              "  </thead>\n",
              "  <tbody>\n",
              "    <tr>\n",
              "      <th>1</th>\n",
              "      <td>0</td>\n",
              "      <td>0</td>\n",
              "      <td>22.00</td>\n",
              "      <td>1</td>\n",
              "      <td>0</td>\n",
              "      <td>7.2500</td>\n",
              "      <td>0</td>\n",
              "      <td>1</td>\n",
              "      <td>0</td>\n",
              "      <td>1</td>\n",
              "    </tr>\n",
              "    <tr>\n",
              "      <th>2</th>\n",
              "      <td>1</td>\n",
              "      <td>1</td>\n",
              "      <td>38.00</td>\n",
              "      <td>1</td>\n",
              "      <td>0</td>\n",
              "      <td>71.2833</td>\n",
              "      <td>0</td>\n",
              "      <td>0</td>\n",
              "      <td>0</td>\n",
              "      <td>0</td>\n",
              "    </tr>\n",
              "    <tr>\n",
              "      <th>3</th>\n",
              "      <td>1</td>\n",
              "      <td>1</td>\n",
              "      <td>26.00</td>\n",
              "      <td>0</td>\n",
              "      <td>0</td>\n",
              "      <td>7.9250</td>\n",
              "      <td>0</td>\n",
              "      <td>1</td>\n",
              "      <td>0</td>\n",
              "      <td>1</td>\n",
              "    </tr>\n",
              "    <tr>\n",
              "      <th>4</th>\n",
              "      <td>1</td>\n",
              "      <td>1</td>\n",
              "      <td>35.00</td>\n",
              "      <td>1</td>\n",
              "      <td>0</td>\n",
              "      <td>53.1000</td>\n",
              "      <td>0</td>\n",
              "      <td>1</td>\n",
              "      <td>0</td>\n",
              "      <td>0</td>\n",
              "    </tr>\n",
              "    <tr>\n",
              "      <th>5</th>\n",
              "      <td>0</td>\n",
              "      <td>0</td>\n",
              "      <td>35.00</td>\n",
              "      <td>0</td>\n",
              "      <td>0</td>\n",
              "      <td>8.0500</td>\n",
              "      <td>0</td>\n",
              "      <td>1</td>\n",
              "      <td>0</td>\n",
              "      <td>1</td>\n",
              "    </tr>\n",
              "    <tr>\n",
              "      <th>...</th>\n",
              "      <td>...</td>\n",
              "      <td>...</td>\n",
              "      <td>...</td>\n",
              "      <td>...</td>\n",
              "      <td>...</td>\n",
              "      <td>...</td>\n",
              "      <td>...</td>\n",
              "      <td>...</td>\n",
              "      <td>...</td>\n",
              "      <td>...</td>\n",
              "    </tr>\n",
              "    <tr>\n",
              "      <th>887</th>\n",
              "      <td>0</td>\n",
              "      <td>0</td>\n",
              "      <td>27.00</td>\n",
              "      <td>0</td>\n",
              "      <td>0</td>\n",
              "      <td>13.0000</td>\n",
              "      <td>0</td>\n",
              "      <td>1</td>\n",
              "      <td>1</td>\n",
              "      <td>0</td>\n",
              "    </tr>\n",
              "    <tr>\n",
              "      <th>888</th>\n",
              "      <td>1</td>\n",
              "      <td>1</td>\n",
              "      <td>19.00</td>\n",
              "      <td>0</td>\n",
              "      <td>0</td>\n",
              "      <td>30.0000</td>\n",
              "      <td>0</td>\n",
              "      <td>1</td>\n",
              "      <td>0</td>\n",
              "      <td>0</td>\n",
              "    </tr>\n",
              "    <tr>\n",
              "      <th>889</th>\n",
              "      <td>0</td>\n",
              "      <td>1</td>\n",
              "      <td>25.14</td>\n",
              "      <td>1</td>\n",
              "      <td>2</td>\n",
              "      <td>23.4500</td>\n",
              "      <td>0</td>\n",
              "      <td>1</td>\n",
              "      <td>0</td>\n",
              "      <td>1</td>\n",
              "    </tr>\n",
              "    <tr>\n",
              "      <th>890</th>\n",
              "      <td>1</td>\n",
              "      <td>0</td>\n",
              "      <td>26.00</td>\n",
              "      <td>0</td>\n",
              "      <td>0</td>\n",
              "      <td>30.0000</td>\n",
              "      <td>0</td>\n",
              "      <td>0</td>\n",
              "      <td>0</td>\n",
              "      <td>0</td>\n",
              "    </tr>\n",
              "    <tr>\n",
              "      <th>891</th>\n",
              "      <td>0</td>\n",
              "      <td>0</td>\n",
              "      <td>32.00</td>\n",
              "      <td>0</td>\n",
              "      <td>0</td>\n",
              "      <td>7.7500</td>\n",
              "      <td>1</td>\n",
              "      <td>0</td>\n",
              "      <td>0</td>\n",
              "      <td>1</td>\n",
              "    </tr>\n",
              "  </tbody>\n",
              "</table>\n",
              "<p>891 rows × 10 columns</p>\n",
              "</div>\n",
              "      <button class=\"colab-df-convert\" onclick=\"convertToInteractive('df-ce5321b0-41c6-4fea-845b-c708b809f20b')\"\n",
              "              title=\"Convert this dataframe to an interactive table.\"\n",
              "              style=\"display:none;\">\n",
              "        \n",
              "  <svg xmlns=\"http://www.w3.org/2000/svg\" height=\"24px\"viewBox=\"0 0 24 24\"\n",
              "       width=\"24px\">\n",
              "    <path d=\"M0 0h24v24H0V0z\" fill=\"none\"/>\n",
              "    <path d=\"M18.56 5.44l.94 2.06.94-2.06 2.06-.94-2.06-.94-.94-2.06-.94 2.06-2.06.94zm-11 1L8.5 8.5l.94-2.06 2.06-.94-2.06-.94L8.5 2.5l-.94 2.06-2.06.94zm10 10l.94 2.06.94-2.06 2.06-.94-2.06-.94-.94-2.06-.94 2.06-2.06.94z\"/><path d=\"M17.41 7.96l-1.37-1.37c-.4-.4-.92-.59-1.43-.59-.52 0-1.04.2-1.43.59L10.3 9.45l-7.72 7.72c-.78.78-.78 2.05 0 2.83L4 21.41c.39.39.9.59 1.41.59.51 0 1.02-.2 1.41-.59l7.78-7.78 2.81-2.81c.8-.78.8-2.07 0-2.86zM5.41 20L4 18.59l7.72-7.72 1.47 1.35L5.41 20z\"/>\n",
              "  </svg>\n",
              "      </button>\n",
              "      \n",
              "  <style>\n",
              "    .colab-df-container {\n",
              "      display:flex;\n",
              "      flex-wrap:wrap;\n",
              "      gap: 12px;\n",
              "    }\n",
              "\n",
              "    .colab-df-convert {\n",
              "      background-color: #E8F0FE;\n",
              "      border: none;\n",
              "      border-radius: 50%;\n",
              "      cursor: pointer;\n",
              "      display: none;\n",
              "      fill: #1967D2;\n",
              "      height: 32px;\n",
              "      padding: 0 0 0 0;\n",
              "      width: 32px;\n",
              "    }\n",
              "\n",
              "    .colab-df-convert:hover {\n",
              "      background-color: #E2EBFA;\n",
              "      box-shadow: 0px 1px 2px rgba(60, 64, 67, 0.3), 0px 1px 3px 1px rgba(60, 64, 67, 0.15);\n",
              "      fill: #174EA6;\n",
              "    }\n",
              "\n",
              "    [theme=dark] .colab-df-convert {\n",
              "      background-color: #3B4455;\n",
              "      fill: #D2E3FC;\n",
              "    }\n",
              "\n",
              "    [theme=dark] .colab-df-convert:hover {\n",
              "      background-color: #434B5C;\n",
              "      box-shadow: 0px 1px 3px 1px rgba(0, 0, 0, 0.15);\n",
              "      filter: drop-shadow(0px 1px 2px rgba(0, 0, 0, 0.3));\n",
              "      fill: #FFFFFF;\n",
              "    }\n",
              "  </style>\n",
              "\n",
              "      <script>\n",
              "        const buttonEl =\n",
              "          document.querySelector('#df-ce5321b0-41c6-4fea-845b-c708b809f20b button.colab-df-convert');\n",
              "        buttonEl.style.display =\n",
              "          google.colab.kernel.accessAllowed ? 'block' : 'none';\n",
              "\n",
              "        async function convertToInteractive(key) {\n",
              "          const element = document.querySelector('#df-ce5321b0-41c6-4fea-845b-c708b809f20b');\n",
              "          const dataTable =\n",
              "            await google.colab.kernel.invokeFunction('convertToInteractive',\n",
              "                                                     [key], {});\n",
              "          if (!dataTable) return;\n",
              "\n",
              "          const docLinkHtml = 'Like what you see? Visit the ' +\n",
              "            '<a target=\"_blank\" href=https://colab.research.google.com/notebooks/data_table.ipynb>data table notebook</a>'\n",
              "            + ' to learn more about interactive tables.';\n",
              "          element.innerHTML = '';\n",
              "          dataTable['output_type'] = 'display_data';\n",
              "          await google.colab.output.renderOutput(dataTable, element);\n",
              "          const docLink = document.createElement('div');\n",
              "          docLink.innerHTML = docLinkHtml;\n",
              "          element.appendChild(docLink);\n",
              "        }\n",
              "      </script>\n",
              "    </div>\n",
              "  </div>\n",
              "  "
            ]
          },
          "metadata": {},
          "execution_count": 122
        }
      ]
    },
    {
      "cell_type": "markdown",
      "source": [
        "Observa-se que o dataset tem 2 colunas relacionadas à família: 'irmaos_conjuges_abordo' e 'pais_filhos_abordo'. Iremos, então, criar uma nova coluna para o dataset que indique o tamanho da família do passageiro que está a bordo. Iremos somar os valores de 'irmaos_conjuges_abordo' e 'pais_filhos_abordo' mais 1 (representando o próprio passageiro):"
      ],
      "metadata": {
        "id": "is7vzFLZUpJt"
      },
      "id": "is7vzFLZUpJt"
    },
    {
      "cell_type": "code",
      "source": [
        "df_ml['tamanho_familia'] = df_ml['irmaos_conjuges_abordo'] + df_ml['pais_filhos_abordo'] + 1"
      ],
      "metadata": {
        "id": "jsgPPw6xVepf"
      },
      "id": "jsgPPw6xVepf",
      "execution_count": null,
      "outputs": []
    },
    {
      "cell_type": "code",
      "source": [
        "df_ml.head()"
      ],
      "metadata": {
        "id": "cuF4CO-NWLli",
        "colab": {
          "base_uri": "https://localhost:8080/",
          "height": 301
        },
        "outputId": "aeaa49b8-fba4-4a16-9d73-0abeab587f8d"
      },
      "id": "cuF4CO-NWLli",
      "execution_count": null,
      "outputs": [
        {
          "output_type": "execute_result",
          "data": {
            "text/plain": [
              "               sobreviveu  genero  idade  irmaos_conjuges_abordo  \\\n",
              "id_passageiro                                                      \n",
              "1                       0       0   22.0                       1   \n",
              "2                       1       1   38.0                       1   \n",
              "3                       1       1   26.0                       0   \n",
              "4                       1       1   35.0                       1   \n",
              "5                       0       0   35.0                       0   \n",
              "\n",
              "               pais_filhos_abordo  preco_bilhete  local_embarque_Queenstown  \\\n",
              "id_passageiro                                                                 \n",
              "1                               0         7.2500                          0   \n",
              "2                               0        71.2833                          0   \n",
              "3                               0         7.9250                          0   \n",
              "4                               0        53.1000                          0   \n",
              "5                               0         8.0500                          0   \n",
              "\n",
              "               local_embarque_Southampton  classe_bilhete_2  classe_bilhete_3  \\\n",
              "id_passageiro                                                                   \n",
              "1                                       1                 0                 1   \n",
              "2                                       0                 0                 0   \n",
              "3                                       1                 0                 1   \n",
              "4                                       1                 0                 0   \n",
              "5                                       1                 0                 1   \n",
              "\n",
              "               tamanho_familia  \n",
              "id_passageiro                   \n",
              "1                            2  \n",
              "2                            2  \n",
              "3                            1  \n",
              "4                            2  \n",
              "5                            1  "
            ],
            "text/html": [
              "\n",
              "  <div id=\"df-c83ebffe-a666-4b93-9699-df87c8b63c09\">\n",
              "    <div class=\"colab-df-container\">\n",
              "      <div>\n",
              "<style scoped>\n",
              "    .dataframe tbody tr th:only-of-type {\n",
              "        vertical-align: middle;\n",
              "    }\n",
              "\n",
              "    .dataframe tbody tr th {\n",
              "        vertical-align: top;\n",
              "    }\n",
              "\n",
              "    .dataframe thead th {\n",
              "        text-align: right;\n",
              "    }\n",
              "</style>\n",
              "<table border=\"1\" class=\"dataframe\">\n",
              "  <thead>\n",
              "    <tr style=\"text-align: right;\">\n",
              "      <th></th>\n",
              "      <th>sobreviveu</th>\n",
              "      <th>genero</th>\n",
              "      <th>idade</th>\n",
              "      <th>irmaos_conjuges_abordo</th>\n",
              "      <th>pais_filhos_abordo</th>\n",
              "      <th>preco_bilhete</th>\n",
              "      <th>local_embarque_Queenstown</th>\n",
              "      <th>local_embarque_Southampton</th>\n",
              "      <th>classe_bilhete_2</th>\n",
              "      <th>classe_bilhete_3</th>\n",
              "      <th>tamanho_familia</th>\n",
              "    </tr>\n",
              "    <tr>\n",
              "      <th>id_passageiro</th>\n",
              "      <th></th>\n",
              "      <th></th>\n",
              "      <th></th>\n",
              "      <th></th>\n",
              "      <th></th>\n",
              "      <th></th>\n",
              "      <th></th>\n",
              "      <th></th>\n",
              "      <th></th>\n",
              "      <th></th>\n",
              "      <th></th>\n",
              "    </tr>\n",
              "  </thead>\n",
              "  <tbody>\n",
              "    <tr>\n",
              "      <th>1</th>\n",
              "      <td>0</td>\n",
              "      <td>0</td>\n",
              "      <td>22.0</td>\n",
              "      <td>1</td>\n",
              "      <td>0</td>\n",
              "      <td>7.2500</td>\n",
              "      <td>0</td>\n",
              "      <td>1</td>\n",
              "      <td>0</td>\n",
              "      <td>1</td>\n",
              "      <td>2</td>\n",
              "    </tr>\n",
              "    <tr>\n",
              "      <th>2</th>\n",
              "      <td>1</td>\n",
              "      <td>1</td>\n",
              "      <td>38.0</td>\n",
              "      <td>1</td>\n",
              "      <td>0</td>\n",
              "      <td>71.2833</td>\n",
              "      <td>0</td>\n",
              "      <td>0</td>\n",
              "      <td>0</td>\n",
              "      <td>0</td>\n",
              "      <td>2</td>\n",
              "    </tr>\n",
              "    <tr>\n",
              "      <th>3</th>\n",
              "      <td>1</td>\n",
              "      <td>1</td>\n",
              "      <td>26.0</td>\n",
              "      <td>0</td>\n",
              "      <td>0</td>\n",
              "      <td>7.9250</td>\n",
              "      <td>0</td>\n",
              "      <td>1</td>\n",
              "      <td>0</td>\n",
              "      <td>1</td>\n",
              "      <td>1</td>\n",
              "    </tr>\n",
              "    <tr>\n",
              "      <th>4</th>\n",
              "      <td>1</td>\n",
              "      <td>1</td>\n",
              "      <td>35.0</td>\n",
              "      <td>1</td>\n",
              "      <td>0</td>\n",
              "      <td>53.1000</td>\n",
              "      <td>0</td>\n",
              "      <td>1</td>\n",
              "      <td>0</td>\n",
              "      <td>0</td>\n",
              "      <td>2</td>\n",
              "    </tr>\n",
              "    <tr>\n",
              "      <th>5</th>\n",
              "      <td>0</td>\n",
              "      <td>0</td>\n",
              "      <td>35.0</td>\n",
              "      <td>0</td>\n",
              "      <td>0</td>\n",
              "      <td>8.0500</td>\n",
              "      <td>0</td>\n",
              "      <td>1</td>\n",
              "      <td>0</td>\n",
              "      <td>1</td>\n",
              "      <td>1</td>\n",
              "    </tr>\n",
              "  </tbody>\n",
              "</table>\n",
              "</div>\n",
              "      <button class=\"colab-df-convert\" onclick=\"convertToInteractive('df-c83ebffe-a666-4b93-9699-df87c8b63c09')\"\n",
              "              title=\"Convert this dataframe to an interactive table.\"\n",
              "              style=\"display:none;\">\n",
              "        \n",
              "  <svg xmlns=\"http://www.w3.org/2000/svg\" height=\"24px\"viewBox=\"0 0 24 24\"\n",
              "       width=\"24px\">\n",
              "    <path d=\"M0 0h24v24H0V0z\" fill=\"none\"/>\n",
              "    <path d=\"M18.56 5.44l.94 2.06.94-2.06 2.06-.94-2.06-.94-.94-2.06-.94 2.06-2.06.94zm-11 1L8.5 8.5l.94-2.06 2.06-.94-2.06-.94L8.5 2.5l-.94 2.06-2.06.94zm10 10l.94 2.06.94-2.06 2.06-.94-2.06-.94-.94-2.06-.94 2.06-2.06.94z\"/><path d=\"M17.41 7.96l-1.37-1.37c-.4-.4-.92-.59-1.43-.59-.52 0-1.04.2-1.43.59L10.3 9.45l-7.72 7.72c-.78.78-.78 2.05 0 2.83L4 21.41c.39.39.9.59 1.41.59.51 0 1.02-.2 1.41-.59l7.78-7.78 2.81-2.81c.8-.78.8-2.07 0-2.86zM5.41 20L4 18.59l7.72-7.72 1.47 1.35L5.41 20z\"/>\n",
              "  </svg>\n",
              "      </button>\n",
              "      \n",
              "  <style>\n",
              "    .colab-df-container {\n",
              "      display:flex;\n",
              "      flex-wrap:wrap;\n",
              "      gap: 12px;\n",
              "    }\n",
              "\n",
              "    .colab-df-convert {\n",
              "      background-color: #E8F0FE;\n",
              "      border: none;\n",
              "      border-radius: 50%;\n",
              "      cursor: pointer;\n",
              "      display: none;\n",
              "      fill: #1967D2;\n",
              "      height: 32px;\n",
              "      padding: 0 0 0 0;\n",
              "      width: 32px;\n",
              "    }\n",
              "\n",
              "    .colab-df-convert:hover {\n",
              "      background-color: #E2EBFA;\n",
              "      box-shadow: 0px 1px 2px rgba(60, 64, 67, 0.3), 0px 1px 3px 1px rgba(60, 64, 67, 0.15);\n",
              "      fill: #174EA6;\n",
              "    }\n",
              "\n",
              "    [theme=dark] .colab-df-convert {\n",
              "      background-color: #3B4455;\n",
              "      fill: #D2E3FC;\n",
              "    }\n",
              "\n",
              "    [theme=dark] .colab-df-convert:hover {\n",
              "      background-color: #434B5C;\n",
              "      box-shadow: 0px 1px 3px 1px rgba(0, 0, 0, 0.15);\n",
              "      filter: drop-shadow(0px 1px 2px rgba(0, 0, 0, 0.3));\n",
              "      fill: #FFFFFF;\n",
              "    }\n",
              "  </style>\n",
              "\n",
              "      <script>\n",
              "        const buttonEl =\n",
              "          document.querySelector('#df-c83ebffe-a666-4b93-9699-df87c8b63c09 button.colab-df-convert');\n",
              "        buttonEl.style.display =\n",
              "          google.colab.kernel.accessAllowed ? 'block' : 'none';\n",
              "\n",
              "        async function convertToInteractive(key) {\n",
              "          const element = document.querySelector('#df-c83ebffe-a666-4b93-9699-df87c8b63c09');\n",
              "          const dataTable =\n",
              "            await google.colab.kernel.invokeFunction('convertToInteractive',\n",
              "                                                     [key], {});\n",
              "          if (!dataTable) return;\n",
              "\n",
              "          const docLinkHtml = 'Like what you see? Visit the ' +\n",
              "            '<a target=\"_blank\" href=https://colab.research.google.com/notebooks/data_table.ipynb>data table notebook</a>'\n",
              "            + ' to learn more about interactive tables.';\n",
              "          element.innerHTML = '';\n",
              "          dataTable['output_type'] = 'display_data';\n",
              "          await google.colab.output.renderOutput(dataTable, element);\n",
              "          const docLink = document.createElement('div');\n",
              "          docLink.innerHTML = docLinkHtml;\n",
              "          element.appendChild(docLink);\n",
              "        }\n",
              "      </script>\n",
              "    </div>\n",
              "  </div>\n",
              "  "
            ]
          },
          "metadata": {},
          "execution_count": 124
        }
      ]
    },
    {
      "cell_type": "markdown",
      "source": [
        "Verificaremos, então se existem outliers no nosso dataset nas colunas em que essa verificação faz mais sentido, ou seja, em 'idade', e 'preco_bilhete'. Caso existam, iremos tratar esses outliers para que não prejudiquem o modelo."
      ],
      "metadata": {
        "id": "5o8jPbVxjlOt"
      },
      "id": "5o8jPbVxjlOt"
    },
    {
      "cell_type": "markdown",
      "source": [
        "Abaixo iremos observar os boxplots (que mostram os outliers dos dados) e a distribuição dos dados (para ver que tipo de tratamento de outliers aplicar):"
      ],
      "metadata": {
        "id": "0ltsEMGZTFU1"
      },
      "id": "0ltsEMGZTFU1"
    },
    {
      "cell_type": "markdown",
      "source": [
        "##Idade:"
      ],
      "metadata": {
        "id": "Q6wLw-q0TRxd"
      },
      "id": "Q6wLw-q0TRxd"
    },
    {
      "cell_type": "code",
      "source": [
        "plt.figure(figsize=(12,6));\n",
        "\n",
        "plt.subplot(1,2,1);\n",
        "fig = sns.boxplot(x='idade', data= df_ml, orient='v', color='#ffffb2');\n",
        "fig.set_title('Boxplot da Idade');\n",
        "fig.set_ylabel('Valores da idade');\n",
        "\n",
        "plt.subplot(1,2,2);\n",
        "fig = df_ml.idade.hist(bins=25);\n",
        "fig.set_title('Distribuição de Idade');\n",
        "fig.set_ylabel('Quantidade de observações com a idade no eixo x');"
      ],
      "metadata": {
        "colab": {
          "base_uri": "https://localhost:8080/",
          "height": 439
        },
        "id": "OMrRDmz9Q6bY",
        "outputId": "fed82f54-140d-44b1-ca85-250202db83ea"
      },
      "id": "OMrRDmz9Q6bY",
      "execution_count": null,
      "outputs": [
        {
          "output_type": "stream",
          "name": "stderr",
          "text": [
            "/usr/local/lib/python3.7/dist-packages/seaborn/_core.py:1303: UserWarning: Vertical orientation ignored with only `x` specified.\n",
            "  warnings.warn(single_var_warning.format(\"Vertical\", \"x\"))\n"
          ]
        },
        {
          "output_type": "display_data",
          "data": {
            "text/plain": [
              "<Figure size 864x432 with 2 Axes>"
            ],
            "image/png": "[encoded data removed]"
          },
          "metadata": {
            "needs_background": "light"
          }
        }
      ]
    },
    {
      "cell_type": "markdown",
      "source": [
        "Observamos que a coluna idade tem vários outliers e está em distribuição praticamente normal, então utilizaremos o método de 3x o desvio padrão. "
      ],
      "metadata": {
        "id": "4HoOi4j6bOQX"
      },
      "id": "4HoOi4j6bOQX"
    },
    {
      "cell_type": "code",
      "source": [
        "#tratando os outliers para idade\n",
        "quartil_superior = df_ml.idade.mean() + 3 * df_ml.idade.std()\n",
        "quartil_inferior = df_ml.idade.mean() - 3 * df_ml.idade.std()\n",
        "\n",
        "#não se considera o limite inferior, já que não existe idade negativa\n",
        "\n",
        "print('Os valores de idade que serão considerados outliers estão entre {minimo} e {maximo}'.format(minimo = quartil_inferior, maximo = quartil_superior))\n",
        "threshold = df_ml.idade.mean() + 3 * df_ml.idade.std()\n",
        "print('threshold: {threshold}'.format(threshold=threshold))\n",
        "print('Quantidade de registros que serão alterados para o quartil superior: {}'.format(df_ml[df_ml['idade']>quartil_superior].count()[0]))"
      ],
      "metadata": {
        "colab": {
          "base_uri": "https://localhost:8080/"
        },
        "id": "bEt57IbddCLy",
        "outputId": "8c3a7d23-50df-41e8-f1c2-2eeb356a75a7"
      },
      "id": "bEt57IbddCLy",
      "execution_count": null,
      "outputs": [
        {
          "output_type": "stream",
          "name": "stdout",
          "text": [
            "Os valores de idade que serão considerados outliers estão entre -10.338746155707806 e 68.924133361095\n",
            "threshold: 68.924133361095\n",
            "Quantidade de registros que serão alterados para o quartil superior: 7\n"
          ]
        }
      ]
    },
    {
      "cell_type": "markdown",
      "source": [
        "Mostrando as linhas que tem idades com outlier:"
      ],
      "metadata": {
        "id": "-uEhXbBwiMIU"
      },
      "id": "-uEhXbBwiMIU"
    },
    {
      "cell_type": "code",
      "source": [
        "df_ml[(df_ml.idade > quartil_superior) | (df_ml.idade < quartil_inferior)]"
      ],
      "metadata": {
        "colab": {
          "base_uri": "https://localhost:8080/",
          "height": 364
        },
        "id": "xJaIpH4phpDz",
        "outputId": "4fdb4a03-3378-454c-b885-b91ce48d4401"
      },
      "id": "xJaIpH4phpDz",
      "execution_count": null,
      "outputs": [
        {
          "output_type": "execute_result",
          "data": {
            "text/plain": [
              "               sobreviveu  genero  idade  irmaos_conjuges_abordo  \\\n",
              "id_passageiro                                                      \n",
              "97                      0       0   71.0                       0   \n",
              "117                     0       0   70.5                       0   \n",
              "494                     0       0   71.0                       0   \n",
              "631                     1       0   80.0                       0   \n",
              "673                     0       0   70.0                       0   \n",
              "746                     0       0   70.0                       1   \n",
              "852                     0       0   74.0                       0   \n",
              "\n",
              "               pais_filhos_abordo  preco_bilhete  local_embarque_Queenstown  \\\n",
              "id_passageiro                                                                 \n",
              "97                              0        34.6542                          0   \n",
              "117                             0         7.7500                          1   \n",
              "494                             0        49.5042                          0   \n",
              "631                             0        30.0000                          0   \n",
              "673                             0        10.5000                          0   \n",
              "746                             1        71.0000                          0   \n",
              "852                             0         7.7750                          0   \n",
              "\n",
              "               local_embarque_Southampton  classe_bilhete_2  classe_bilhete_3  \\\n",
              "id_passageiro                                                                   \n",
              "97                                      0                 0                 0   \n",
              "117                                     0                 0                 1   \n",
              "494                                     0                 0                 0   \n",
              "631                                     1                 0                 0   \n",
              "673                                     1                 1                 0   \n",
              "746                                     1                 0                 0   \n",
              "852                                     1                 0                 1   \n",
              "\n",
              "               tamanho_familia  \n",
              "id_passageiro                   \n",
              "97                           1  \n",
              "117                          1  \n",
              "494                          1  \n",
              "631                          1  \n",
              "673                          1  \n",
              "746                          3  \n",
              "852                          1  "
            ],
            "text/html": [
              "\n",
              "  <div id=\"df-282bf1ba-4f0a-4817-bce9-8e409eb8cacf\">\n",
              "    <div class=\"colab-df-container\">\n",
              "      <div>\n",
              "<style scoped>\n",
              "    .dataframe tbody tr th:only-of-type {\n",
              "        vertical-align: middle;\n",
              "    }\n",
              "\n",
              "    .dataframe tbody tr th {\n",
              "        vertical-align: top;\n",
              "    }\n",
              "\n",
              "    .dataframe thead th {\n",
              "        text-align: right;\n",
              "    }\n",
              "</style>\n",
              "<table border=\"1\" class=\"dataframe\">\n",
              "  <thead>\n",
              "    <tr style=\"text-align: right;\">\n",
              "      <th></th>\n",
              "      <th>sobreviveu</th>\n",
              "      <th>genero</th>\n",
              "      <th>idade</th>\n",
              "      <th>irmaos_conjuges_abordo</th>\n",
              "      <th>pais_filhos_abordo</th>\n",
              "      <th>preco_bilhete</th>\n",
              "      <th>local_embarque_Queenstown</th>\n",
              "      <th>local_embarque_Southampton</th>\n",
              "      <th>classe_bilhete_2</th>\n",
              "      <th>classe_bilhete_3</th>\n",
              "      <th>tamanho_familia</th>\n",
              "    </tr>\n",
              "    <tr>\n",
              "      <th>id_passageiro</th>\n",
              "      <th></th>\n",
              "      <th></th>\n",
              "      <th></th>\n",
              "      <th></th>\n",
              "      <th></th>\n",
              "      <th></th>\n",
              "      <th></th>\n",
              "      <th></th>\n",
              "      <th></th>\n",
              "      <th></th>\n",
              "      <th></th>\n",
              "    </tr>\n",
              "  </thead>\n",
              "  <tbody>\n",
              "    <tr>\n",
              "      <th>97</th>\n",
              "      <td>0</td>\n",
              "      <td>0</td>\n",
              "      <td>71.0</td>\n",
              "      <td>0</td>\n",
              "      <td>0</td>\n",
              "      <td>34.6542</td>\n",
              "      <td>0</td>\n",
              "      <td>0</td>\n",
              "      <td>0</td>\n",
              "      <td>0</td>\n",
              "      <td>1</td>\n",
              "    </tr>\n",
              "    <tr>\n",
              "      <th>117</th>\n",
              "      <td>0</td>\n",
              "      <td>0</td>\n",
              "      <td>70.5</td>\n",
              "      <td>0</td>\n",
              "      <td>0</td>\n",
              "      <td>7.7500</td>\n",
              "      <td>1</td>\n",
              "      <td>0</td>\n",
              "      <td>0</td>\n",
              "      <td>1</td>\n",
              "      <td>1</td>\n",
              "    </tr>\n",
              "    <tr>\n",
              "      <th>494</th>\n",
              "      <td>0</td>\n",
              "      <td>0</td>\n",
              "      <td>71.0</td>\n",
              "      <td>0</td>\n",
              "      <td>0</td>\n",
              "      <td>49.5042</td>\n",
              "      <td>0</td>\n",
              "      <td>0</td>\n",
              "      <td>0</td>\n",
              "      <td>0</td>\n",
              "      <td>1</td>\n",
              "    </tr>\n",
              "    <tr>\n",
              "      <th>631</th>\n",
              "      <td>1</td>\n",
              "      <td>0</td>\n",
              "      <td>80.0</td>\n",
              "      <td>0</td>\n",
              "      <td>0</td>\n",
              "      <td>30.0000</td>\n",
              "      <td>0</td>\n",
              "      <td>1</td>\n",
              "      <td>0</td>\n",
              "      <td>0</td>\n",
              "      <td>1</td>\n",
              "    </tr>\n",
              "    <tr>\n",
              "      <th>673</th>\n",
              "      <td>0</td>\n",
              "      <td>0</td>\n",
              "      <td>70.0</td>\n",
              "      <td>0</td>\n",
              "      <td>0</td>\n",
              "      <td>10.5000</td>\n",
              "      <td>0</td>\n",
              "      <td>1</td>\n",
              "      <td>1</td>\n",
              "      <td>0</td>\n",
              "      <td>1</td>\n",
              "    </tr>\n",
              "    <tr>\n",
              "      <th>746</th>\n",
              "      <td>0</td>\n",
              "      <td>0</td>\n",
              "      <td>70.0</td>\n",
              "      <td>1</td>\n",
              "      <td>1</td>\n",
              "      <td>71.0000</td>\n",
              "      <td>0</td>\n",
              "      <td>1</td>\n",
              "      <td>0</td>\n",
              "      <td>0</td>\n",
              "      <td>3</td>\n",
              "    </tr>\n",
              "    <tr>\n",
              "      <th>852</th>\n",
              "      <td>0</td>\n",
              "      <td>0</td>\n",
              "      <td>74.0</td>\n",
              "      <td>0</td>\n",
              "      <td>0</td>\n",
              "      <td>7.7750</td>\n",
              "      <td>0</td>\n",
              "      <td>1</td>\n",
              "      <td>0</td>\n",
              "      <td>1</td>\n",
              "      <td>1</td>\n",
              "    </tr>\n",
              "  </tbody>\n",
              "</table>\n",
              "</div>\n",
              "      <button class=\"colab-df-convert\" onclick=\"convertToInteractive('df-282bf1ba-4f0a-4817-bce9-8e409eb8cacf')\"\n",
              "              title=\"Convert this dataframe to an interactive table.\"\n",
              "              style=\"display:none;\">\n",
              "        \n",
              "  <svg xmlns=\"http://www.w3.org/2000/svg\" height=\"24px\"viewBox=\"0 0 24 24\"\n",
              "       width=\"24px\">\n",
              "    <path d=\"M0 0h24v24H0V0z\" fill=\"none\"/>\n",
              "    <path d=\"M18.56 5.44l.94 2.06.94-2.06 2.06-.94-2.06-.94-.94-2.06-.94 2.06-2.06.94zm-11 1L8.5 8.5l.94-2.06 2.06-.94-2.06-.94L8.5 2.5l-.94 2.06-2.06.94zm10 10l.94 2.06.94-2.06 2.06-.94-2.06-.94-.94-2.06-.94 2.06-2.06.94z\"/><path d=\"M17.41 7.96l-1.37-1.37c-.4-.4-.92-.59-1.43-.59-.52 0-1.04.2-1.43.59L10.3 9.45l-7.72 7.72c-.78.78-.78 2.05 0 2.83L4 21.41c.39.39.9.59 1.41.59.51 0 1.02-.2 1.41-.59l7.78-7.78 2.81-2.81c.8-.78.8-2.07 0-2.86zM5.41 20L4 18.59l7.72-7.72 1.47 1.35L5.41 20z\"/>\n",
              "  </svg>\n",
              "      </button>\n",
              "      \n",
              "  <style>\n",
              "    .colab-df-container {\n",
              "      display:flex;\n",
              "      flex-wrap:wrap;\n",
              "      gap: 12px;\n",
              "    }\n",
              "\n",
              "    .colab-df-convert {\n",
              "      background-color: #E8F0FE;\n",
              "      border: none;\n",
              "      border-radius: 50%;\n",
              "      cursor: pointer;\n",
              "      display: none;\n",
              "      fill: #1967D2;\n",
              "      height: 32px;\n",
              "      padding: 0 0 0 0;\n",
              "      width: 32px;\n",
              "    }\n",
              "\n",
              "    .colab-df-convert:hover {\n",
              "      background-color: #E2EBFA;\n",
              "      box-shadow: 0px 1px 2px rgba(60, 64, 67, 0.3), 0px 1px 3px 1px rgba(60, 64, 67, 0.15);\n",
              "      fill: #174EA6;\n",
              "    }\n",
              "\n",
              "    [theme=dark] .colab-df-convert {\n",
              "      background-color: #3B4455;\n",
              "      fill: #D2E3FC;\n",
              "    }\n",
              "\n",
              "    [theme=dark] .colab-df-convert:hover {\n",
              "      background-color: #434B5C;\n",
              "      box-shadow: 0px 1px 3px 1px rgba(0, 0, 0, 0.15);\n",
              "      filter: drop-shadow(0px 1px 2px rgba(0, 0, 0, 0.3));\n",
              "      fill: #FFFFFF;\n",
              "    }\n",
              "  </style>\n",
              "\n",
              "      <script>\n",
              "        const buttonEl =\n",
              "          document.querySelector('#df-282bf1ba-4f0a-4817-bce9-8e409eb8cacf button.colab-df-convert');\n",
              "        buttonEl.style.display =\n",
              "          google.colab.kernel.accessAllowed ? 'block' : 'none';\n",
              "\n",
              "        async function convertToInteractive(key) {\n",
              "          const element = document.querySelector('#df-282bf1ba-4f0a-4817-bce9-8e409eb8cacf');\n",
              "          const dataTable =\n",
              "            await google.colab.kernel.invokeFunction('convertToInteractive',\n",
              "                                                     [key], {});\n",
              "          if (!dataTable) return;\n",
              "\n",
              "          const docLinkHtml = 'Like what you see? Visit the ' +\n",
              "            '<a target=\"_blank\" href=https://colab.research.google.com/notebooks/data_table.ipynb>data table notebook</a>'\n",
              "            + ' to learn more about interactive tables.';\n",
              "          element.innerHTML = '';\n",
              "          dataTable['output_type'] = 'display_data';\n",
              "          await google.colab.output.renderOutput(dataTable, element);\n",
              "          const docLink = document.createElement('div');\n",
              "          docLink.innerHTML = docLinkHtml;\n",
              "          element.appendChild(docLink);\n",
              "        }\n",
              "      </script>\n",
              "    </div>\n",
              "  </div>\n",
              "  "
            ]
          },
          "metadata": {},
          "execution_count": 127
        }
      ]
    },
    {
      "cell_type": "code",
      "source": [
        "import numpy as np\n",
        "#Substituindo os outliers (idades com valores maiores que o threshold):\n",
        "def idade_outlier(database):\n",
        "  database['idade'] = np.where(database['idade'] > threshold, threshold, database['idade'] )\n",
        "\n",
        "idade_outlier(df_ml)"
      ],
      "metadata": {
        "id": "HwAdtUEjiZbO"
      },
      "id": "HwAdtUEjiZbO",
      "execution_count": null,
      "outputs": []
    },
    {
      "cell_type": "code",
      "source": [
        "#Mostrando que os outliers identificados não estão mais presentes:\n",
        "df_ml[(df_ml.idade > quartil_superior) | (df_ml.idade < quartil_inferior)]"
      ],
      "metadata": {
        "colab": {
          "base_uri": "https://localhost:8080/",
          "height": 145
        },
        "id": "_wUCZ-pXjAa_",
        "outputId": "252e3c9d-0cfa-44df-f4c0-a6fd65fb3273"
      },
      "id": "_wUCZ-pXjAa_",
      "execution_count": null,
      "outputs": [
        {
          "output_type": "execute_result",
          "data": {
            "text/plain": [
              "Empty DataFrame\n",
              "Columns: [sobreviveu, genero, idade, irmaos_conjuges_abordo, pais_filhos_abordo, preco_bilhete, local_embarque_Queenstown, local_embarque_Southampton, classe_bilhete_2, classe_bilhete_3, tamanho_familia]\n",
              "Index: []"
            ],
            "text/html": [
              "\n",
              "  <div id=\"df-3a288186-a6db-4cd5-a0c6-69114909592e\">\n",
              "    <div class=\"colab-df-container\">\n",
              "      <div>\n",
              "<style scoped>\n",
              "    .dataframe tbody tr th:only-of-type {\n",
              "        vertical-align: middle;\n",
              "    }\n",
              "\n",
              "    .dataframe tbody tr th {\n",
              "        vertical-align: top;\n",
              "    }\n",
              "\n",
              "    .dataframe thead th {\n",
              "        text-align: right;\n",
              "    }\n",
              "</style>\n",
              "<table border=\"1\" class=\"dataframe\">\n",
              "  <thead>\n",
              "    <tr style=\"text-align: right;\">\n",
              "      <th></th>\n",
              "      <th>sobreviveu</th>\n",
              "      <th>genero</th>\n",
              "      <th>idade</th>\n",
              "      <th>irmaos_conjuges_abordo</th>\n",
              "      <th>pais_filhos_abordo</th>\n",
              "      <th>preco_bilhete</th>\n",
              "      <th>local_embarque_Queenstown</th>\n",
              "      <th>local_embarque_Southampton</th>\n",
              "      <th>classe_bilhete_2</th>\n",
              "      <th>classe_bilhete_3</th>\n",
              "      <th>tamanho_familia</th>\n",
              "    </tr>\n",
              "    <tr>\n",
              "      <th>id_passageiro</th>\n",
              "      <th></th>\n",
              "      <th></th>\n",
              "      <th></th>\n",
              "      <th></th>\n",
              "      <th></th>\n",
              "      <th></th>\n",
              "      <th></th>\n",
              "      <th></th>\n",
              "      <th></th>\n",
              "      <th></th>\n",
              "      <th></th>\n",
              "    </tr>\n",
              "  </thead>\n",
              "  <tbody>\n",
              "  </tbody>\n",
              "</table>\n",
              "</div>\n",
              "      <button class=\"colab-df-convert\" onclick=\"convertToInteractive('df-3a288186-a6db-4cd5-a0c6-69114909592e')\"\n",
              "              title=\"Convert this dataframe to an interactive table.\"\n",
              "              style=\"display:none;\">\n",
              "        \n",
              "  <svg xmlns=\"http://www.w3.org/2000/svg\" height=\"24px\"viewBox=\"0 0 24 24\"\n",
              "       width=\"24px\">\n",
              "    <path d=\"M0 0h24v24H0V0z\" fill=\"none\"/>\n",
              "    <path d=\"M18.56 5.44l.94 2.06.94-2.06 2.06-.94-2.06-.94-.94-2.06-.94 2.06-2.06.94zm-11 1L8.5 8.5l.94-2.06 2.06-.94-2.06-.94L8.5 2.5l-.94 2.06-2.06.94zm10 10l.94 2.06.94-2.06 2.06-.94-2.06-.94-.94-2.06-.94 2.06-2.06.94z\"/><path d=\"M17.41 7.96l-1.37-1.37c-.4-.4-.92-.59-1.43-.59-.52 0-1.04.2-1.43.59L10.3 9.45l-7.72 7.72c-.78.78-.78 2.05 0 2.83L4 21.41c.39.39.9.59 1.41.59.51 0 1.02-.2 1.41-.59l7.78-7.78 2.81-2.81c.8-.78.8-2.07 0-2.86zM5.41 20L4 18.59l7.72-7.72 1.47 1.35L5.41 20z\"/>\n",
              "  </svg>\n",
              "      </button>\n",
              "      \n",
              "  <style>\n",
              "    .colab-df-container {\n",
              "      display:flex;\n",
              "      flex-wrap:wrap;\n",
              "      gap: 12px;\n",
              "    }\n",
              "\n",
              "    .colab-df-convert {\n",
              "      background-color: #E8F0FE;\n",
              "      border: none;\n",
              "      border-radius: 50%;\n",
              "      cursor: pointer;\n",
              "      display: none;\n",
              "      fill: #1967D2;\n",
              "      height: 32px;\n",
              "      padding: 0 0 0 0;\n",
              "      width: 32px;\n",
              "    }\n",
              "\n",
              "    .colab-df-convert:hover {\n",
              "      background-color: #E2EBFA;\n",
              "      box-shadow: 0px 1px 2px rgba(60, 64, 67, 0.3), 0px 1px 3px 1px rgba(60, 64, 67, 0.15);\n",
              "      fill: #174EA6;\n",
              "    }\n",
              "\n",
              "    [theme=dark] .colab-df-convert {\n",
              "      background-color: #3B4455;\n",
              "      fill: #D2E3FC;\n",
              "    }\n",
              "\n",
              "    [theme=dark] .colab-df-convert:hover {\n",
              "      background-color: #434B5C;\n",
              "      box-shadow: 0px 1px 3px 1px rgba(0, 0, 0, 0.15);\n",
              "      filter: drop-shadow(0px 1px 2px rgba(0, 0, 0, 0.3));\n",
              "      fill: #FFFFFF;\n",
              "    }\n",
              "  </style>\n",
              "\n",
              "      <script>\n",
              "        const buttonEl =\n",
              "          document.querySelector('#df-3a288186-a6db-4cd5-a0c6-69114909592e button.colab-df-convert');\n",
              "        buttonEl.style.display =\n",
              "          google.colab.kernel.accessAllowed ? 'block' : 'none';\n",
              "\n",
              "        async function convertToInteractive(key) {\n",
              "          const element = document.querySelector('#df-3a288186-a6db-4cd5-a0c6-69114909592e');\n",
              "          const dataTable =\n",
              "            await google.colab.kernel.invokeFunction('convertToInteractive',\n",
              "                                                     [key], {});\n",
              "          if (!dataTable) return;\n",
              "\n",
              "          const docLinkHtml = 'Like what you see? Visit the ' +\n",
              "            '<a target=\"_blank\" href=https://colab.research.google.com/notebooks/data_table.ipynb>data table notebook</a>'\n",
              "            + ' to learn more about interactive tables.';\n",
              "          element.innerHTML = '';\n",
              "          dataTable['output_type'] = 'display_data';\n",
              "          await google.colab.output.renderOutput(dataTable, element);\n",
              "          const docLink = document.createElement('div');\n",
              "          docLink.innerHTML = docLinkHtml;\n",
              "          element.appendChild(docLink);\n",
              "        }\n",
              "      </script>\n",
              "    </div>\n",
              "  </div>\n",
              "  "
            ]
          },
          "metadata": {},
          "execution_count": 129
        }
      ]
    },
    {
      "cell_type": "markdown",
      "source": [
        "##Preço dos Bilhetes:"
      ],
      "metadata": {
        "id": "8_d2UV1abmLt"
      },
      "id": "8_d2UV1abmLt"
    },
    {
      "cell_type": "code",
      "source": [
        "plt.figure(figsize=(12,6));\n",
        "\n",
        "plt.subplot(1,2,1);\n",
        "fig = sns.boxplot(x='preco_bilhete', data= df_ml, orient='v', color='#ffffb2');\n",
        "fig.set_title('Boxplot da Preço dos bilhetes');\n",
        "fig.set_ylabel('Valores dos preços dos bilhetes');\n",
        "\n",
        "plt.subplot(1,2,2);\n",
        "fig = df_ml.preco_bilhete.hist(bins=25);\n",
        "fig.set_title('Distribuição de preço dos bilhetes');\n",
        "fig.set_ylabel('Quantidade de observações com o preço dos bilhetes no eixo x');"
      ],
      "metadata": {
        "colab": {
          "base_uri": "https://localhost:8080/",
          "height": 440
        },
        "id": "6jyLV_RZUM2w",
        "outputId": "991fbb90-72ec-4d36-8d2e-c96485259848"
      },
      "id": "6jyLV_RZUM2w",
      "execution_count": null,
      "outputs": [
        {
          "output_type": "stream",
          "name": "stderr",
          "text": [
            "/usr/local/lib/python3.7/dist-packages/seaborn/_core.py:1303: UserWarning: Vertical orientation ignored with only `x` specified.\n",
            "  warnings.warn(single_var_warning.format(\"Vertical\", \"x\"))\n"
          ]
        },
        {
          "output_type": "display_data",
          "data": {
            "text/plain": [
              "<Figure size 864x432 with 2 Axes>"
            ],
            "image/png": "[encoded data removed]"
          },
          "metadata": {
            "needs_background": "light"
          }
        }
      ]
    },
    {
      "cell_type": "markdown",
      "source": [
        "Observamos que a coluna preco_bilhete tem vários outliers e está assimétrica à direita, então utilizaremos o método interquartil. \n",
        "\n"
      ],
      "metadata": {
        "id": "TFBeQjwKnOvX"
      },
      "id": "TFBeQjwKnOvX"
    },
    {
      "cell_type": "code",
      "source": [
        "IQR = df_ml.preco_bilhete.describe()[6] - df_ml.preco_bilhete.describe()[4]\n",
        "quartil_sup_preco = df_ml.preco_bilhete.quantile(0.75) + IQR*3\n",
        "quartil_inf_preco = df_ml.preco_bilhete.quantile(0.25) - IQR*3\n",
        "\n",
        "print('Valores dos Outliers referentes à feature preco_bilhete estão entre {b} e {a}'.format(a = quartil_sup_preco, b = quartil_inf_preco))\n",
        "print('Quantidade de registros que serão alterados para o quartil superior: {}'.format(df_ml[df_ml['preco_bilhete'] > quartil_sup_preco].count()[0]))"
      ],
      "metadata": {
        "colab": {
          "base_uri": "https://localhost:8080/"
        },
        "id": "YMOD5VVPnOfW",
        "outputId": "d524deff-d3a8-4d7a-8c9f-0092d64b671a"
      },
      "id": "YMOD5VVPnOfW",
      "execution_count": null,
      "outputs": [
        {
          "output_type": "stream",
          "name": "stdout",
          "text": [
            "Valores dos Outliers referentes à feature preco_bilhete estão entre -61.358399999999996 e 100.2688\n",
            "Quantidade de registros que serão alterados para o quartil superior: 53\n"
          ]
        }
      ]
    },
    {
      "cell_type": "markdown",
      "source": [
        "Antes de substituir os outliers, vamos ver de que classe são as pessoas que pagaram um valor acima de 100 pelo bilhete:"
      ],
      "metadata": {
        "id": "A_7FNkErpA7s"
      },
      "id": "A_7FNkErpA7s"
    },
    {
      "cell_type": "code",
      "source": [
        "df_ml[df_ml['preco_bilhete']> quartil_sup_preco]"
      ],
      "metadata": {
        "colab": {
          "base_uri": "https://localhost:8080/",
          "height": 1000
        },
        "id": "aOTwYkT5pJjr",
        "outputId": "d1e2db7b-2ecf-40c8-f43d-d6e3a4f7a335"
      },
      "id": "aOTwYkT5pJjr",
      "execution_count": null,
      "outputs": [
        {
          "output_type": "execute_result",
          "data": {
            "text/plain": [
              "               sobreviveu  genero  idade  irmaos_conjuges_abordo  \\\n",
              "id_passageiro                                                      \n",
              "28                      0       0  19.00                       3   \n",
              "32                      1       1  38.23                       1   \n",
              "89                      1       1  23.00                       3   \n",
              "119                     0       0  24.00                       0   \n",
              "196                     1       1  58.00                       0   \n",
              "216                     1       1  31.00                       1   \n",
              "259                     1       1  35.00                       0   \n",
              "269                     1       1  58.00                       0   \n",
              "270                     1       1  35.00                       0   \n",
              "298                     0       1   2.00                       1   \n",
              "300                     1       1  50.00                       0   \n",
              "306                     1       0   0.92                       1   \n",
              "307                     1       1  38.23                       0   \n",
              "308                     1       1  17.00                       1   \n",
              "312                     1       1  18.00                       2   \n",
              "319                     1       1  31.00                       0   \n",
              "320                     1       1  40.00                       1   \n",
              "326                     1       1  36.00                       0   \n",
              "333                     0       0  38.00                       0   \n",
              "335                     1       1  38.23                       1   \n",
              "338                     1       1  41.00                       0   \n",
              "342                     1       1  24.00                       3   \n",
              "374                     0       0  22.00                       0   \n",
              "378                     0       0  27.00                       0   \n",
              "381                     1       1  42.00                       0   \n",
              "391                     1       0  36.00                       1   \n",
              "394                     1       1  23.00                       1   \n",
              "436                     1       1  14.00                       1   \n",
              "439                     0       0  64.00                       1   \n",
              "499                     0       1  25.00                       1   \n",
              "506                     0       0  18.00                       1   \n",
              "528                     0       0  38.23                       0   \n",
              "538                     1       1  30.00                       0   \n",
              "545                     0       0  50.00                       1   \n",
              "551                     1       0  17.00                       0   \n",
              "558                     0       0  38.23                       0   \n",
              "582                     1       1  39.00                       1   \n",
              "610                     1       1  40.00                       0   \n",
              "660                     0       0  58.00                       0   \n",
              "661                     1       0  50.00                       2   \n",
              "680                     1       0  36.00                       0   \n",
              "690                     1       1  15.00                       0   \n",
              "699                     0       0  49.00                       1   \n",
              "701                     1       1  18.00                       1   \n",
              "709                     1       1  22.00                       0   \n",
              "717                     1       1  38.00                       0   \n",
              "731                     1       1  29.00                       0   \n",
              "738                     1       0  35.00                       0   \n",
              "743                     1       1  21.00                       2   \n",
              "764                     1       1  36.00                       1   \n",
              "780                     1       1  43.00                       0   \n",
              "803                     1       0  11.00                       1   \n",
              "857                     1       1  45.00                       1   \n",
              "\n",
              "               pais_filhos_abordo  preco_bilhete  local_embarque_Queenstown  \\\n",
              "id_passageiro                                                                 \n",
              "28                              2       263.0000                          0   \n",
              "32                              0       146.5208                          0   \n",
              "89                              2       263.0000                          0   \n",
              "119                             1       247.5208                          0   \n",
              "196                             0       146.5208                          0   \n",
              "216                             0       113.2750                          0   \n",
              "259                             0       512.3292                          0   \n",
              "269                             1       153.4625                          0   \n",
              "270                             0       135.6333                          0   \n",
              "298                             2       151.5500                          0   \n",
              "300                             1       247.5208                          0   \n",
              "306                             2       151.5500                          0   \n",
              "307                             0       110.8833                          0   \n",
              "308                             0       108.9000                          0   \n",
              "312                             2       262.3750                          0   \n",
              "319                             2       164.8667                          0   \n",
              "320                             1       134.5000                          0   \n",
              "326                             0       135.6333                          0   \n",
              "333                             1       153.4625                          0   \n",
              "335                             0       133.6500                          0   \n",
              "338                             0       134.5000                          0   \n",
              "342                             2       263.0000                          0   \n",
              "374                             0       135.6333                          0   \n",
              "378                             2       211.5000                          0   \n",
              "381                             0       227.5250                          0   \n",
              "391                             2       120.0000                          0   \n",
              "394                             0       113.2750                          0   \n",
              "436                             2       120.0000                          0   \n",
              "439                             4       263.0000                          0   \n",
              "499                             2       151.5500                          0   \n",
              "506                             0       108.9000                          0   \n",
              "528                             0       221.7792                          0   \n",
              "538                             0       106.4250                          0   \n",
              "545                             0       106.4250                          0   \n",
              "551                             2       110.8833                          0   \n",
              "558                             0       227.5250                          0   \n",
              "582                             1       110.8833                          0   \n",
              "610                             0       153.4625                          0   \n",
              "660                             2       113.2750                          0   \n",
              "661                             0       133.6500                          0   \n",
              "680                             1       512.3292                          0   \n",
              "690                             1       211.3375                          0   \n",
              "699                             1       110.8833                          0   \n",
              "701                             0       227.5250                          0   \n",
              "709                             0       151.5500                          0   \n",
              "717                             0       227.5250                          0   \n",
              "731                             0       211.3375                          0   \n",
              "738                             0       512.3292                          0   \n",
              "743                             2       262.3750                          0   \n",
              "764                             2       120.0000                          0   \n",
              "780                             1       211.3375                          0   \n",
              "803                             2       120.0000                          0   \n",
              "857                             1       164.8667                          0   \n",
              "\n",
              "               local_embarque_Southampton  classe_bilhete_2  classe_bilhete_3  \\\n",
              "id_passageiro                                                                   \n",
              "28                                      1                 0                 0   \n",
              "32                                      0                 0                 0   \n",
              "89                                      1                 0                 0   \n",
              "119                                     0                 0                 0   \n",
              "196                                     0                 0                 0   \n",
              "216                                     0                 0                 0   \n",
              "259                                     0                 0                 0   \n",
              "269                                     1                 0                 0   \n",
              "270                                     1                 0                 0   \n",
              "298                                     1                 0                 0   \n",
              "300                                     0                 0                 0   \n",
              "306                                     1                 0                 0   \n",
              "307                                     0                 0                 0   \n",
              "308                                     0                 0                 0   \n",
              "312                                     0                 0                 0   \n",
              "319                                     1                 0                 0   \n",
              "320                                     0                 0                 0   \n",
              "326                                     0                 0                 0   \n",
              "333                                     1                 0                 0   \n",
              "335                                     1                 0                 0   \n",
              "338                                     0                 0                 0   \n",
              "342                                     1                 0                 0   \n",
              "374                                     0                 0                 0   \n",
              "378                                     0                 0                 0   \n",
              "381                                     0                 0                 0   \n",
              "391                                     1                 0                 0   \n",
              "394                                     0                 0                 0   \n",
              "436                                     1                 0                 0   \n",
              "439                                     1                 0                 0   \n",
              "499                                     1                 0                 0   \n",
              "506                                     0                 0                 0   \n",
              "528                                     1                 0                 0   \n",
              "538                                     0                 0                 0   \n",
              "545                                     0                 0                 0   \n",
              "551                                     0                 0                 0   \n",
              "558                                     0                 0                 0   \n",
              "582                                     0                 0                 0   \n",
              "610                                     1                 0                 0   \n",
              "660                                     0                 0                 0   \n",
              "661                                     1                 0                 0   \n",
              "680                                     0                 0                 0   \n",
              "690                                     1                 0                 0   \n",
              "699                                     0                 0                 0   \n",
              "701                                     0                 0                 0   \n",
              "709                                     1                 0                 0   \n",
              "717                                     0                 0                 0   \n",
              "731                                     1                 0                 0   \n",
              "738                                     0                 0                 0   \n",
              "743                                     0                 0                 0   \n",
              "764                                     1                 0                 0   \n",
              "780                                     1                 0                 0   \n",
              "803                                     1                 0                 0   \n",
              "857                                     1                 0                 0   \n",
              "\n",
              "               tamanho_familia  \n",
              "id_passageiro                   \n",
              "28                           6  \n",
              "32                           2  \n",
              "89                           6  \n",
              "119                          2  \n",
              "196                          1  \n",
              "216                          2  \n",
              "259                          1  \n",
              "269                          2  \n",
              "270                          1  \n",
              "298                          4  \n",
              "300                          2  \n",
              "306                          4  \n",
              "307                          1  \n",
              "308                          2  \n",
              "312                          5  \n",
              "319                          3  \n",
              "320                          3  \n",
              "326                          1  \n",
              "333                          2  \n",
              "335                          2  \n",
              "338                          1  \n",
              "342                          6  \n",
              "374                          1  \n",
              "378                          3  \n",
              "381                          1  \n",
              "391                          4  \n",
              "394                          2  \n",
              "436                          4  \n",
              "439                          6  \n",
              "499                          4  \n",
              "506                          2  \n",
              "528                          1  \n",
              "538                          1  \n",
              "545                          2  \n",
              "551                          3  \n",
              "558                          1  \n",
              "582                          3  \n",
              "610                          1  \n",
              "660                          3  \n",
              "661                          3  \n",
              "680                          2  \n",
              "690                          2  \n",
              "699                          3  \n",
              "701                          2  \n",
              "709                          1  \n",
              "717                          1  \n",
              "731                          1  \n",
              "738                          1  \n",
              "743                          5  \n",
              "764                          4  \n",
              "780                          2  \n",
              "803                          4  \n",
              "857                          3  "
            ],
            "text/html": [
              "\n",
              "  <div id=\"df-094e5748-9c6a-425c-b478-c24c552ac692\">\n",
              "    <div class=\"colab-df-container\">\n",
              "      <div>\n",
              "<style scoped>\n",
              "    .dataframe tbody tr th:only-of-type {\n",
              "        vertical-align: middle;\n",
              "    }\n",
              "\n",
              "    .dataframe tbody tr th {\n",
              "        vertical-align: top;\n",
              "    }\n",
              "\n",
              "    .dataframe thead th {\n",
              "        text-align: right;\n",
              "    }\n",
              "</style>\n",
              "<table border=\"1\" class=\"dataframe\">\n",
              "  <thead>\n",
              "    <tr style=\"text-align: right;\">\n",
              "      <th></th>\n",
              "      <th>sobreviveu</th>\n",
              "      <th>genero</th>\n",
              "      <th>idade</th>\n",
              "      <th>irmaos_conjuges_abordo</th>\n",
              "      <th>pais_filhos_abordo</th>\n",
              "      <th>preco_bilhete</th>\n",
              "      <th>local_embarque_Queenstown</th>\n",
              "      <th>local_embarque_Southampton</th>\n",
              "      <th>classe_bilhete_2</th>\n",
              "      <th>classe_bilhete_3</th>\n",
              "      <th>tamanho_familia</th>\n",
              "    </tr>\n",
              "    <tr>\n",
              "      <th>id_passageiro</th>\n",
              "      <th></th>\n",
              "      <th></th>\n",
              "      <th></th>\n",
              "      <th></th>\n",
              "      <th></th>\n",
              "      <th></th>\n",
              "      <th></th>\n",
              "      <th></th>\n",
              "      <th></th>\n",
              "      <th></th>\n",
              "      <th></th>\n",
              "    </tr>\n",
              "  </thead>\n",
              "  <tbody>\n",
              "    <tr>\n",
              "      <th>28</th>\n",
              "      <td>0</td>\n",
              "      <td>0</td>\n",
              "      <td>19.00</td>\n",
              "      <td>3</td>\n",
              "      <td>2</td>\n",
              "      <td>263.0000</td>\n",
              "      <td>0</td>\n",
              "      <td>1</td>\n",
              "      <td>0</td>\n",
              "      <td>0</td>\n",
              "      <td>6</td>\n",
              "    </tr>\n",
              "    <tr>\n",
              "      <th>32</th>\n",
              "      <td>1</td>\n",
              "      <td>1</td>\n",
              "      <td>38.23</td>\n",
              "      <td>1</td>\n",
              "      <td>0</td>\n",
              "      <td>146.5208</td>\n",
              "      <td>0</td>\n",
              "      <td>0</td>\n",
              "      <td>0</td>\n",
              "      <td>0</td>\n",
              "      <td>2</td>\n",
              "    </tr>\n",
              "    <tr>\n",
              "      <th>89</th>\n",
              "      <td>1</td>\n",
              "      <td>1</td>\n",
              "      <td>23.00</td>\n",
              "      <td>3</td>\n",
              "      <td>2</td>\n",
              "      <td>263.0000</td>\n",
              "      <td>0</td>\n",
              "      <td>1</td>\n",
              "      <td>0</td>\n",
              "      <td>0</td>\n",
              "      <td>6</td>\n",
              "    </tr>\n",
              "    <tr>\n",
              "      <th>119</th>\n",
              "      <td>0</td>\n",
              "      <td>0</td>\n",
              "      <td>24.00</td>\n",
              "      <td>0</td>\n",
              "      <td>1</td>\n",
              "      <td>247.5208</td>\n",
              "      <td>0</td>\n",
              "      <td>0</td>\n",
              "      <td>0</td>\n",
              "      <td>0</td>\n",
              "      <td>2</td>\n",
              "    </tr>\n",
              "    <tr>\n",
              "      <th>196</th>\n",
              "      <td>1</td>\n",
              "      <td>1</td>\n",
              "      <td>58.00</td>\n",
              "      <td>0</td>\n",
              "      <td>0</td>\n",
              "      <td>146.5208</td>\n",
              "      <td>0</td>\n",
              "      <td>0</td>\n",
              "      <td>0</td>\n",
              "      <td>0</td>\n",
              "      <td>1</td>\n",
              "    </tr>\n",
              "    <tr>\n",
              "      <th>216</th>\n",
              "      <td>1</td>\n",
              "      <td>1</td>\n",
              "      <td>31.00</td>\n",
              "      <td>1</td>\n",
              "      <td>0</td>\n",
              "      <td>113.2750</td>\n",
              "      <td>0</td>\n",
              "      <td>0</td>\n",
              "      <td>0</td>\n",
              "      <td>0</td>\n",
              "      <td>2</td>\n",
              "    </tr>\n",
              "    <tr>\n",
              "      <th>259</th>\n",
              "      <td>1</td>\n",
              "      <td>1</td>\n",
              "      <td>35.00</td>\n",
              "      <td>0</td>\n",
              "      <td>0</td>\n",
              "      <td>512.3292</td>\n",
              "      <td>0</td>\n",
              "      <td>0</td>\n",
              "      <td>0</td>\n",
              "      <td>0</td>\n",
              "      <td>1</td>\n",
              "    </tr>\n",
              "    <tr>\n",
              "      <th>269</th>\n",
              "      <td>1</td>\n",
              "      <td>1</td>\n",
              "      <td>58.00</td>\n",
              "      <td>0</td>\n",
              "      <td>1</td>\n",
              "      <td>153.4625</td>\n",
              "      <td>0</td>\n",
              "      <td>1</td>\n",
              "      <td>0</td>\n",
              "      <td>0</td>\n",
              "      <td>2</td>\n",
              "    </tr>\n",
              "    <tr>\n",
              "      <th>270</th>\n",
              "      <td>1</td>\n",
              "      <td>1</td>\n",
              "      <td>35.00</td>\n",
              "      <td>0</td>\n",
              "      <td>0</td>\n",
              "      <td>135.6333</td>\n",
              "      <td>0</td>\n",
              "      <td>1</td>\n",
              "      <td>0</td>\n",
              "      <td>0</td>\n",
              "      <td>1</td>\n",
              "    </tr>\n",
              "    <tr>\n",
              "      <th>298</th>\n",
              "      <td>0</td>\n",
              "      <td>1</td>\n",
              "      <td>2.00</td>\n",
              "      <td>1</td>\n",
              "      <td>2</td>\n",
              "      <td>151.5500</td>\n",
              "      <td>0</td>\n",
              "      <td>1</td>\n",
              "      <td>0</td>\n",
              "      <td>0</td>\n",
              "      <td>4</td>\n",
              "    </tr>\n",
              "    <tr>\n",
              "      <th>300</th>\n",
              "      <td>1</td>\n",
              "      <td>1</td>\n",
              "      <td>50.00</td>\n",
              "      <td>0</td>\n",
              "      <td>1</td>\n",
              "      <td>247.5208</td>\n",
              "      <td>0</td>\n",
              "      <td>0</td>\n",
              "      <td>0</td>\n",
              "      <td>0</td>\n",
              "      <td>2</td>\n",
              "    </tr>\n",
              "    <tr>\n",
              "      <th>306</th>\n",
              "      <td>1</td>\n",
              "      <td>0</td>\n",
              "      <td>0.92</td>\n",
              "      <td>1</td>\n",
              "      <td>2</td>\n",
              "      <td>151.5500</td>\n",
              "      <td>0</td>\n",
              "      <td>1</td>\n",
              "      <td>0</td>\n",
              "      <td>0</td>\n",
              "      <td>4</td>\n",
              "    </tr>\n",
              "    <tr>\n",
              "      <th>307</th>\n",
              "      <td>1</td>\n",
              "      <td>1</td>\n",
              "      <td>38.23</td>\n",
              "      <td>0</td>\n",
              "      <td>0</td>\n",
              "      <td>110.8833</td>\n",
              "      <td>0</td>\n",
              "      <td>0</td>\n",
              "      <td>0</td>\n",
              "      <td>0</td>\n",
              "      <td>1</td>\n",
              "    </tr>\n",
              "    <tr>\n",
              "      <th>308</th>\n",
              "      <td>1</td>\n",
              "      <td>1</td>\n",
              "      <td>17.00</td>\n",
              "      <td>1</td>\n",
              "      <td>0</td>\n",
              "      <td>108.9000</td>\n",
              "      <td>0</td>\n",
              "      <td>0</td>\n",
              "      <td>0</td>\n",
              "      <td>0</td>\n",
              "      <td>2</td>\n",
              "    </tr>\n",
              "    <tr>\n",
              "      <th>312</th>\n",
              "      <td>1</td>\n",
              "      <td>1</td>\n",
              "      <td>18.00</td>\n",
              "      <td>2</td>\n",
              "      <td>2</td>\n",
              "      <td>262.3750</td>\n",
              "      <td>0</td>\n",
              "      <td>0</td>\n",
              "      <td>0</td>\n",
              "      <td>0</td>\n",
              "      <td>5</td>\n",
              "    </tr>\n",
              "    <tr>\n",
              "      <th>319</th>\n",
              "      <td>1</td>\n",
              "      <td>1</td>\n",
              "      <td>31.00</td>\n",
              "      <td>0</td>\n",
              "      <td>2</td>\n",
              "      <td>164.8667</td>\n",
              "      <td>0</td>\n",
              "      <td>1</td>\n",
              "      <td>0</td>\n",
              "      <td>0</td>\n",
              "      <td>3</td>\n",
              "    </tr>\n",
              "    <tr>\n",
              "      <th>320</th>\n",
              "      <td>1</td>\n",
              "      <td>1</td>\n",
              "      <td>40.00</td>\n",
              "      <td>1</td>\n",
              "      <td>1</td>\n",
              "      <td>134.5000</td>\n",
              "      <td>0</td>\n",
              "      <td>0</td>\n",
              "      <td>0</td>\n",
              "      <td>0</td>\n",
              "      <td>3</td>\n",
              "    </tr>\n",
              "    <tr>\n",
              "      <th>326</th>\n",
              "      <td>1</td>\n",
              "      <td>1</td>\n",
              "      <td>36.00</td>\n",
              "      <td>0</td>\n",
              "      <td>0</td>\n",
              "      <td>135.6333</td>\n",
              "      <td>0</td>\n",
              "      <td>0</td>\n",
              "      <td>0</td>\n",
              "      <td>0</td>\n",
              "      <td>1</td>\n",
              "    </tr>\n",
              "    <tr>\n",
              "      <th>333</th>\n",
              "      <td>0</td>\n",
              "      <td>0</td>\n",
              "      <td>38.00</td>\n",
              "      <td>0</td>\n",
              "      <td>1</td>\n",
              "      <td>153.4625</td>\n",
              "      <td>0</td>\n",
              "      <td>1</td>\n",
              "      <td>0</td>\n",
              "      <td>0</td>\n",
              "      <td>2</td>\n",
              "    </tr>\n",
              "    <tr>\n",
              "      <th>335</th>\n",
              "      <td>1</td>\n",
              "      <td>1</td>\n",
              "      <td>38.23</td>\n",
              "      <td>1</td>\n",
              "      <td>0</td>\n",
              "      <td>133.6500</td>\n",
              "      <td>0</td>\n",
              "      <td>1</td>\n",
              "      <td>0</td>\n",
              "      <td>0</td>\n",
              "      <td>2</td>\n",
              "    </tr>\n",
              "    <tr>\n",
              "      <th>338</th>\n",
              "      <td>1</td>\n",
              "      <td>1</td>\n",
              "      <td>41.00</td>\n",
              "      <td>0</td>\n",
              "      <td>0</td>\n",
              "      <td>134.5000</td>\n",
              "      <td>0</td>\n",
              "      <td>0</td>\n",
              "      <td>0</td>\n",
              "      <td>0</td>\n",
              "      <td>1</td>\n",
              "    </tr>\n",
              "    <tr>\n",
              "      <th>342</th>\n",
              "      <td>1</td>\n",
              "      <td>1</td>\n",
              "      <td>24.00</td>\n",
              "      <td>3</td>\n",
              "      <td>2</td>\n",
              "      <td>263.0000</td>\n",
              "      <td>0</td>\n",
              "      <td>1</td>\n",
              "      <td>0</td>\n",
              "      <td>0</td>\n",
              "      <td>6</td>\n",
              "    </tr>\n",
              "    <tr>\n",
              "      <th>374</th>\n",
              "      <td>0</td>\n",
              "      <td>0</td>\n",
              "      <td>22.00</td>\n",
              "      <td>0</td>\n",
              "      <td>0</td>\n",
              "      <td>135.6333</td>\n",
              "      <td>0</td>\n",
              "      <td>0</td>\n",
              "      <td>0</td>\n",
              "      <td>0</td>\n",
              "      <td>1</td>\n",
              "    </tr>\n",
              "    <tr>\n",
              "      <th>378</th>\n",
              "      <td>0</td>\n",
              "      <td>0</td>\n",
              "      <td>27.00</td>\n",
              "      <td>0</td>\n",
              "      <td>2</td>\n",
              "      <td>211.5000</td>\n",
              "      <td>0</td>\n",
              "      <td>0</td>\n",
              "      <td>0</td>\n",
              "      <td>0</td>\n",
              "      <td>3</td>\n",
              "    </tr>\n",
              "    <tr>\n",
              "      <th>381</th>\n",
              "      <td>1</td>\n",
              "      <td>1</td>\n",
              "      <td>42.00</td>\n",
              "      <td>0</td>\n",
              "      <td>0</td>\n",
              "      <td>227.5250</td>\n",
              "      <td>0</td>\n",
              "      <td>0</td>\n",
              "      <td>0</td>\n",
              "      <td>0</td>\n",
              "      <td>1</td>\n",
              "    </tr>\n",
              "    <tr>\n",
              "      <th>391</th>\n",
              "      <td>1</td>\n",
              "      <td>0</td>\n",
              "      <td>36.00</td>\n",
              "      <td>1</td>\n",
              "      <td>2</td>\n",
              "      <td>120.0000</td>\n",
              "      <td>0</td>\n",
              "      <td>1</td>\n",
              "      <td>0</td>\n",
              "      <td>0</td>\n",
              "      <td>4</td>\n",
              "    </tr>\n",
              "    <tr>\n",
              "      <th>394</th>\n",
              "      <td>1</td>\n",
              "      <td>1</td>\n",
              "      <td>23.00</td>\n",
              "      <td>1</td>\n",
              "      <td>0</td>\n",
              "      <td>113.2750</td>\n",
              "      <td>0</td>\n",
              "      <td>0</td>\n",
              "      <td>0</td>\n",
              "      <td>0</td>\n",
              "      <td>2</td>\n",
              "    </tr>\n",
              "    <tr>\n",
              "      <th>436</th>\n",
              "      <td>1</td>\n",
              "      <td>1</td>\n",
              "      <td>14.00</td>\n",
              "      <td>1</td>\n",
              "      <td>2</td>\n",
              "      <td>120.0000</td>\n",
              "      <td>0</td>\n",
              "      <td>1</td>\n",
              "      <td>0</td>\n",
              "      <td>0</td>\n",
              "      <td>4</td>\n",
              "    </tr>\n",
              "    <tr>\n",
              "      <th>439</th>\n",
              "      <td>0</td>\n",
              "      <td>0</td>\n",
              "      <td>64.00</td>\n",
              "      <td>1</td>\n",
              "      <td>4</td>\n",
              "      <td>263.0000</td>\n",
              "      <td>0</td>\n",
              "      <td>1</td>\n",
              "      <td>0</td>\n",
              "      <td>0</td>\n",
              "      <td>6</td>\n",
              "    </tr>\n",
              "    <tr>\n",
              "      <th>499</th>\n",
              "      <td>0</td>\n",
              "      <td>1</td>\n",
              "      <td>25.00</td>\n",
              "      <td>1</td>\n",
              "      <td>2</td>\n",
              "      <td>151.5500</td>\n",
              "      <td>0</td>\n",
              "      <td>1</td>\n",
              "      <td>0</td>\n",
              "      <td>0</td>\n",
              "      <td>4</td>\n",
              "    </tr>\n",
              "    <tr>\n",
              "      <th>506</th>\n",
              "      <td>0</td>\n",
              "      <td>0</td>\n",
              "      <td>18.00</td>\n",
              "      <td>1</td>\n",
              "      <td>0</td>\n",
              "      <td>108.9000</td>\n",
              "      <td>0</td>\n",
              "      <td>0</td>\n",
              "      <td>0</td>\n",
              "      <td>0</td>\n",
              "      <td>2</td>\n",
              "    </tr>\n",
              "    <tr>\n",
              "      <th>528</th>\n",
              "      <td>0</td>\n",
              "      <td>0</td>\n",
              "      <td>38.23</td>\n",
              "      <td>0</td>\n",
              "      <td>0</td>\n",
              "      <td>221.7792</td>\n",
              "      <td>0</td>\n",
              "      <td>1</td>\n",
              "      <td>0</td>\n",
              "      <td>0</td>\n",
              "      <td>1</td>\n",
              "    </tr>\n",
              "    <tr>\n",
              "      <th>538</th>\n",
              "      <td>1</td>\n",
              "      <td>1</td>\n",
              "      <td>30.00</td>\n",
              "      <td>0</td>\n",
              "      <td>0</td>\n",
              "      <td>106.4250</td>\n",
              "      <td>0</td>\n",
              "      <td>0</td>\n",
              "      <td>0</td>\n",
              "      <td>0</td>\n",
              "      <td>1</td>\n",
              "    </tr>\n",
              "    <tr>\n",
              "      <th>545</th>\n",
              "      <td>0</td>\n",
              "      <td>0</td>\n",
              "      <td>50.00</td>\n",
              "      <td>1</td>\n",
              "      <td>0</td>\n",
              "      <td>106.4250</td>\n",
              "      <td>0</td>\n",
              "      <td>0</td>\n",
              "      <td>0</td>\n",
              "      <td>0</td>\n",
              "      <td>2</td>\n",
              "    </tr>\n",
              "    <tr>\n",
              "      <th>551</th>\n",
              "      <td>1</td>\n",
              "      <td>0</td>\n",
              "      <td>17.00</td>\n",
              "      <td>0</td>\n",
              "      <td>2</td>\n",
              "      <td>110.8833</td>\n",
              "      <td>0</td>\n",
              "      <td>0</td>\n",
              "      <td>0</td>\n",
              "      <td>0</td>\n",
              "      <td>3</td>\n",
              "    </tr>\n",
              "    <tr>\n",
              "      <th>558</th>\n",
              "      <td>0</td>\n",
              "      <td>0</td>\n",
              "      <td>38.23</td>\n",
              "      <td>0</td>\n",
              "      <td>0</td>\n",
              "      <td>227.5250</td>\n",
              "      <td>0</td>\n",
              "      <td>0</td>\n",
              "      <td>0</td>\n",
              "      <td>0</td>\n",
              "      <td>1</td>\n",
              "    </tr>\n",
              "    <tr>\n",
              "      <th>582</th>\n",
              "      <td>1</td>\n",
              "      <td>1</td>\n",
              "      <td>39.00</td>\n",
              "      <td>1</td>\n",
              "      <td>1</td>\n",
              "      <td>110.8833</td>\n",
              "      <td>0</td>\n",
              "      <td>0</td>\n",
              "      <td>0</td>\n",
              "      <td>0</td>\n",
              "      <td>3</td>\n",
              "    </tr>\n",
              "    <tr>\n",
              "      <th>610</th>\n",
              "      <td>1</td>\n",
              "      <td>1</td>\n",
              "      <td>40.00</td>\n",
              "      <td>0</td>\n",
              "      <td>0</td>\n",
              "      <td>153.4625</td>\n",
              "      <td>0</td>\n",
              "      <td>1</td>\n",
              "      <td>0</td>\n",
              "      <td>0</td>\n",
              "      <td>1</td>\n",
              "    </tr>\n",
              "    <tr>\n",
              "      <th>660</th>\n",
              "      <td>0</td>\n",
              "      <td>0</td>\n",
              "      <td>58.00</td>\n",
              "      <td>0</td>\n",
              "      <td>2</td>\n",
              "      <td>113.2750</td>\n",
              "      <td>0</td>\n",
              "      <td>0</td>\n",
              "      <td>0</td>\n",
              "      <td>0</td>\n",
              "      <td>3</td>\n",
              "    </tr>\n",
              "    <tr>\n",
              "      <th>661</th>\n",
              "      <td>1</td>\n",
              "      <td>0</td>\n",
              "      <td>50.00</td>\n",
              "      <td>2</td>\n",
              "      <td>0</td>\n",
              "      <td>133.6500</td>\n",
              "      <td>0</td>\n",
              "      <td>1</td>\n",
              "      <td>0</td>\n",
              "      <td>0</td>\n",
              "      <td>3</td>\n",
              "    </tr>\n",
              "    <tr>\n",
              "      <th>680</th>\n",
              "      <td>1</td>\n",
              "      <td>0</td>\n",
              "      <td>36.00</td>\n",
              "      <td>0</td>\n",
              "      <td>1</td>\n",
              "      <td>512.3292</td>\n",
              "      <td>0</td>\n",
              "      <td>0</td>\n",
              "      <td>0</td>\n",
              "      <td>0</td>\n",
              "      <td>2</td>\n",
              "    </tr>\n",
              "    <tr>\n",
              "      <th>690</th>\n",
              "      <td>1</td>\n",
              "      <td>1</td>\n",
              "      <td>15.00</td>\n",
              "      <td>0</td>\n",
              "      <td>1</td>\n",
              "      <td>211.3375</td>\n",
              "      <td>0</td>\n",
              "      <td>1</td>\n",
              "      <td>0</td>\n",
              "      <td>0</td>\n",
              "      <td>2</td>\n",
              "    </tr>\n",
              "    <tr>\n",
              "      <th>699</th>\n",
              "      <td>0</td>\n",
              "      <td>0</td>\n",
              "      <td>49.00</td>\n",
              "      <td>1</td>\n",
              "      <td>1</td>\n",
              "      <td>110.8833</td>\n",
              "      <td>0</td>\n",
              "      <td>0</td>\n",
              "      <td>0</td>\n",
              "      <td>0</td>\n",
              "      <td>3</td>\n",
              "    </tr>\n",
              "    <tr>\n",
              "      <th>701</th>\n",
              "      <td>1</td>\n",
              "      <td>1</td>\n",
              "      <td>18.00</td>\n",
              "      <td>1</td>\n",
              "      <td>0</td>\n",
              "      <td>227.5250</td>\n",
              "      <td>0</td>\n",
              "      <td>0</td>\n",
              "      <td>0</td>\n",
              "      <td>0</td>\n",
              "      <td>2</td>\n",
              "    </tr>\n",
              "    <tr>\n",
              "      <th>709</th>\n",
              "      <td>1</td>\n",
              "      <td>1</td>\n",
              "      <td>22.00</td>\n",
              "      <td>0</td>\n",
              "      <td>0</td>\n",
              "      <td>151.5500</td>\n",
              "      <td>0</td>\n",
              "      <td>1</td>\n",
              "      <td>0</td>\n",
              "      <td>0</td>\n",
              "      <td>1</td>\n",
              "    </tr>\n",
              "    <tr>\n",
              "      <th>717</th>\n",
              "      <td>1</td>\n",
              "      <td>1</td>\n",
              "      <td>38.00</td>\n",
              "      <td>0</td>\n",
              "      <td>0</td>\n",
              "      <td>227.5250</td>\n",
              "      <td>0</td>\n",
              "      <td>0</td>\n",
              "      <td>0</td>\n",
              "      <td>0</td>\n",
              "      <td>1</td>\n",
              "    </tr>\n",
              "    <tr>\n",
              "      <th>731</th>\n",
              "      <td>1</td>\n",
              "      <td>1</td>\n",
              "      <td>29.00</td>\n",
              "      <td>0</td>\n",
              "      <td>0</td>\n",
              "      <td>211.3375</td>\n",
              "      <td>0</td>\n",
              "      <td>1</td>\n",
              "      <td>0</td>\n",
              "      <td>0</td>\n",
              "      <td>1</td>\n",
              "    </tr>\n",
              "    <tr>\n",
              "      <th>738</th>\n",
              "      <td>1</td>\n",
              "      <td>0</td>\n",
              "      <td>35.00</td>\n",
              "      <td>0</td>\n",
              "      <td>0</td>\n",
              "      <td>512.3292</td>\n",
              "      <td>0</td>\n",
              "      <td>0</td>\n",
              "      <td>0</td>\n",
              "      <td>0</td>\n",
              "      <td>1</td>\n",
              "    </tr>\n",
              "    <tr>\n",
              "      <th>743</th>\n",
              "      <td>1</td>\n",
              "      <td>1</td>\n",
              "      <td>21.00</td>\n",
              "      <td>2</td>\n",
              "      <td>2</td>\n",
              "      <td>262.3750</td>\n",
              "      <td>0</td>\n",
              "      <td>0</td>\n",
              "      <td>0</td>\n",
              "      <td>0</td>\n",
              "      <td>5</td>\n",
              "    </tr>\n",
              "    <tr>\n",
              "      <th>764</th>\n",
              "      <td>1</td>\n",
              "      <td>1</td>\n",
              "      <td>36.00</td>\n",
              "      <td>1</td>\n",
              "      <td>2</td>\n",
              "      <td>120.0000</td>\n",
              "      <td>0</td>\n",
              "      <td>1</td>\n",
              "      <td>0</td>\n",
              "      <td>0</td>\n",
              "      <td>4</td>\n",
              "    </tr>\n",
              "    <tr>\n",
              "      <th>780</th>\n",
              "      <td>1</td>\n",
              "      <td>1</td>\n",
              "      <td>43.00</td>\n",
              "      <td>0</td>\n",
              "      <td>1</td>\n",
              "      <td>211.3375</td>\n",
              "      <td>0</td>\n",
              "      <td>1</td>\n",
              "      <td>0</td>\n",
              "      <td>0</td>\n",
              "      <td>2</td>\n",
              "    </tr>\n",
              "    <tr>\n",
              "      <th>803</th>\n",
              "      <td>1</td>\n",
              "      <td>0</td>\n",
              "      <td>11.00</td>\n",
              "      <td>1</td>\n",
              "      <td>2</td>\n",
              "      <td>120.0000</td>\n",
              "      <td>0</td>\n",
              "      <td>1</td>\n",
              "      <td>0</td>\n",
              "      <td>0</td>\n",
              "      <td>4</td>\n",
              "    </tr>\n",
              "    <tr>\n",
              "      <th>857</th>\n",
              "      <td>1</td>\n",
              "      <td>1</td>\n",
              "      <td>45.00</td>\n",
              "      <td>1</td>\n",
              "      <td>1</td>\n",
              "      <td>164.8667</td>\n",
              "      <td>0</td>\n",
              "      <td>1</td>\n",
              "      <td>0</td>\n",
              "      <td>0</td>\n",
              "      <td>3</td>\n",
              "    </tr>\n",
              "  </tbody>\n",
              "</table>\n",
              "</div>\n",
              "      <button class=\"colab-df-convert\" onclick=\"convertToInteractive('df-094e5748-9c6a-425c-b478-c24c552ac692')\"\n",
              "              title=\"Convert this dataframe to an interactive table.\"\n",
              "              style=\"display:none;\">\n",
              "        \n",
              "  <svg xmlns=\"http://www.w3.org/2000/svg\" height=\"24px\"viewBox=\"0 0 24 24\"\n",
              "       width=\"24px\">\n",
              "    <path d=\"M0 0h24v24H0V0z\" fill=\"none\"/>\n",
              "    <path d=\"M18.56 5.44l.94 2.06.94-2.06 2.06-.94-2.06-.94-.94-2.06-.94 2.06-2.06.94zm-11 1L8.5 8.5l.94-2.06 2.06-.94-2.06-.94L8.5 2.5l-.94 2.06-2.06.94zm10 10l.94 2.06.94-2.06 2.06-.94-2.06-.94-.94-2.06-.94 2.06-2.06.94z\"/><path d=\"M17.41 7.96l-1.37-1.37c-.4-.4-.92-.59-1.43-.59-.52 0-1.04.2-1.43.59L10.3 9.45l-7.72 7.72c-.78.78-.78 2.05 0 2.83L4 21.41c.39.39.9.59 1.41.59.51 0 1.02-.2 1.41-.59l7.78-7.78 2.81-2.81c.8-.78.8-2.07 0-2.86zM5.41 20L4 18.59l7.72-7.72 1.47 1.35L5.41 20z\"/>\n",
              "  </svg>\n",
              "      </button>\n",
              "      \n",
              "  <style>\n",
              "    .colab-df-container {\n",
              "      display:flex;\n",
              "      flex-wrap:wrap;\n",
              "      gap: 12px;\n",
              "    }\n",
              "\n",
              "    .colab-df-convert {\n",
              "      background-color: #E8F0FE;\n",
              "      border: none;\n",
              "      border-radius: 50%;\n",
              "      cursor: pointer;\n",
              "      display: none;\n",
              "      fill: #1967D2;\n",
              "      height: 32px;\n",
              "      padding: 0 0 0 0;\n",
              "      width: 32px;\n",
              "    }\n",
              "\n",
              "    .colab-df-convert:hover {\n",
              "      background-color: #E2EBFA;\n",
              "      box-shadow: 0px 1px 2px rgba(60, 64, 67, 0.3), 0px 1px 3px 1px rgba(60, 64, 67, 0.15);\n",
              "      fill: #174EA6;\n",
              "    }\n",
              "\n",
              "    [theme=dark] .colab-df-convert {\n",
              "      background-color: #3B4455;\n",
              "      fill: #D2E3FC;\n",
              "    }\n",
              "\n",
              "    [theme=dark] .colab-df-convert:hover {\n",
              "      background-color: #434B5C;\n",
              "      box-shadow: 0px 1px 3px 1px rgba(0, 0, 0, 0.15);\n",
              "      filter: drop-shadow(0px 1px 2px rgba(0, 0, 0, 0.3));\n",
              "      fill: #FFFFFF;\n",
              "    }\n",
              "  </style>\n",
              "\n",
              "      <script>\n",
              "        const buttonEl =\n",
              "          document.querySelector('#df-094e5748-9c6a-425c-b478-c24c552ac692 button.colab-df-convert');\n",
              "        buttonEl.style.display =\n",
              "          google.colab.kernel.accessAllowed ? 'block' : 'none';\n",
              "\n",
              "        async function convertToInteractive(key) {\n",
              "          const element = document.querySelector('#df-094e5748-9c6a-425c-b478-c24c552ac692');\n",
              "          const dataTable =\n",
              "            await google.colab.kernel.invokeFunction('convertToInteractive',\n",
              "                                                     [key], {});\n",
              "          if (!dataTable) return;\n",
              "\n",
              "          const docLinkHtml = 'Like what you see? Visit the ' +\n",
              "            '<a target=\"_blank\" href=https://colab.research.google.com/notebooks/data_table.ipynb>data table notebook</a>'\n",
              "            + ' to learn more about interactive tables.';\n",
              "          element.innerHTML = '';\n",
              "          dataTable['output_type'] = 'display_data';\n",
              "          await google.colab.output.renderOutput(dataTable, element);\n",
              "          const docLink = document.createElement('div');\n",
              "          docLink.innerHTML = docLinkHtml;\n",
              "          element.appendChild(docLink);\n",
              "        }\n",
              "      </script>\n",
              "    </div>\n",
              "  </div>\n",
              "  "
            ]
          },
          "metadata": {},
          "execution_count": 132
        }
      ]
    },
    {
      "cell_type": "markdown",
      "source": [
        "Podemos observar que os que pagaram não estão nem na 2a classe nem na 3a classe, pois tanto 'classe_bilhete_2' quanto 'classe_bilhete_3' apresentam valores 0 em todas as linhas. Concluímos, portanto, que todos os que pagaram um valor acima de 100 estão na 1a classe, o que é coerente.\n",
        "\n",
        "Por isso, ao invés de inserir o valor limite do outlier, vamos encontrar o valor da média dos preços pagos na 1a classe e substituir esses outliers por essa média, de forma a não alterar a distribuição dos dados.\n",
        "\n"
      ],
      "metadata": {
        "id": "ONTrCrpzpvF9"
      },
      "id": "ONTrCrpzpvF9"
    },
    {
      "cell_type": "code",
      "source": [
        "#Média de preço pago pela primeira classe:\n",
        "df_ml[(df_ml['classe_bilhete_2']==0) & (df_ml['classe_bilhete_3']==0)]['preco_bilhete'].mean()"
      ],
      "metadata": {
        "colab": {
          "base_uri": "https://localhost:8080/"
        },
        "id": "Ausurn-rtxdA",
        "outputId": "ed77227e-6c82-4af2-a588-218eb5fca290"
      },
      "id": "Ausurn-rtxdA",
      "execution_count": null,
      "outputs": [
        {
          "output_type": "execute_result",
          "data": {
            "text/plain": [
              "84.1546875"
            ]
          },
          "metadata": {},
          "execution_count": 133
        }
      ]
    },
    {
      "cell_type": "code",
      "source": [
        "#Média de preço pago pela primeira classe com valores abaixo do valor do quartil superior:\n",
        "df_ml[(df_ml['classe_bilhete_2']==0) & (df_ml['classe_bilhete_3']==0) & (df_ml['preco_bilhete']<quartil_sup_preco)]['preco_bilhete'].mean()"
      ],
      "metadata": {
        "colab": {
          "base_uri": "https://localhost:8080/"
        },
        "id": "0PYY1JGQq3JI",
        "outputId": "6e745a6a-77f2-4174-d37e-5ea191fd2481"
      },
      "id": "0PYY1JGQq3JI",
      "execution_count": null,
      "outputs": [
        {
          "output_type": "execute_result",
          "data": {
            "text/plain": [
              "50.70350306748466"
            ]
          },
          "metadata": {},
          "execution_count": 134
        }
      ]
    },
    {
      "cell_type": "markdown",
      "source": [
        "Como temos 53 valores, se inserirmos um único valor para os 53 outliers iremos formar um pico na distribuição de valores, assim, faremos a variância de 45 a 60 para fazer a distribuição."
      ],
      "metadata": {
        "id": "xq4szpn7uOoc"
      },
      "id": "xq4szpn7uOoc"
    },
    {
      "cell_type": "code",
      "source": [
        "#Substituição dos outliers da 1a classe\n",
        "def preco_outlier(database):\n",
        "  database['preco_bilhete'] =  np.where(database['preco_bilhete']>quartil_sup_preco, np.random.randint(45,60,1)[0], database['preco_bilhete'])\n",
        "\n",
        "preco_outlier(df_ml)"
      ],
      "metadata": {
        "id": "fhKRIV-muGo0"
      },
      "id": "fhKRIV-muGo0",
      "execution_count": null,
      "outputs": []
    },
    {
      "cell_type": "markdown",
      "source": [
        "Mostrando que os valores achados de outliers foram substituídos:"
      ],
      "metadata": {
        "id": "nASywXYHvtEU"
      },
      "id": "nASywXYHvtEU"
    },
    {
      "cell_type": "code",
      "source": [
        "df_ml[df_ml['preco_bilhete']> quartil_sup_preco]"
      ],
      "metadata": {
        "colab": {
          "base_uri": "https://localhost:8080/",
          "height": 145
        },
        "id": "R04D7upZvxtR",
        "outputId": "b5ab34bf-5bb1-4c0c-a7ca-f126374c6687"
      },
      "id": "R04D7upZvxtR",
      "execution_count": null,
      "outputs": [
        {
          "output_type": "execute_result",
          "data": {
            "text/plain": [
              "Empty DataFrame\n",
              "Columns: [sobreviveu, genero, idade, irmaos_conjuges_abordo, pais_filhos_abordo, preco_bilhete, local_embarque_Queenstown, local_embarque_Southampton, classe_bilhete_2, classe_bilhete_3, tamanho_familia]\n",
              "Index: []"
            ],
            "text/html": [
              "\n",
              "  <div id=\"df-2fc75925-add2-4ef6-8f20-77d4b25ac693\">\n",
              "    <div class=\"colab-df-container\">\n",
              "      <div>\n",
              "<style scoped>\n",
              "    .dataframe tbody tr th:only-of-type {\n",
              "        vertical-align: middle;\n",
              "    }\n",
              "\n",
              "    .dataframe tbody tr th {\n",
              "        vertical-align: top;\n",
              "    }\n",
              "\n",
              "    .dataframe thead th {\n",
              "        text-align: right;\n",
              "    }\n",
              "</style>\n",
              "<table border=\"1\" class=\"dataframe\">\n",
              "  <thead>\n",
              "    <tr style=\"text-align: right;\">\n",
              "      <th></th>\n",
              "      <th>sobreviveu</th>\n",
              "      <th>genero</th>\n",
              "      <th>idade</th>\n",
              "      <th>irmaos_conjuges_abordo</th>\n",
              "      <th>pais_filhos_abordo</th>\n",
              "      <th>preco_bilhete</th>\n",
              "      <th>local_embarque_Queenstown</th>\n",
              "      <th>local_embarque_Southampton</th>\n",
              "      <th>classe_bilhete_2</th>\n",
              "      <th>classe_bilhete_3</th>\n",
              "      <th>tamanho_familia</th>\n",
              "    </tr>\n",
              "    <tr>\n",
              "      <th>id_passageiro</th>\n",
              "      <th></th>\n",
              "      <th></th>\n",
              "      <th></th>\n",
              "      <th></th>\n",
              "      <th></th>\n",
              "      <th></th>\n",
              "      <th></th>\n",
              "      <th></th>\n",
              "      <th></th>\n",
              "      <th></th>\n",
              "      <th></th>\n",
              "    </tr>\n",
              "  </thead>\n",
              "  <tbody>\n",
              "  </tbody>\n",
              "</table>\n",
              "</div>\n",
              "      <button class=\"colab-df-convert\" onclick=\"convertToInteractive('df-2fc75925-add2-4ef6-8f20-77d4b25ac693')\"\n",
              "              title=\"Convert this dataframe to an interactive table.\"\n",
              "              style=\"display:none;\">\n",
              "        \n",
              "  <svg xmlns=\"http://www.w3.org/2000/svg\" height=\"24px\"viewBox=\"0 0 24 24\"\n",
              "       width=\"24px\">\n",
              "    <path d=\"M0 0h24v24H0V0z\" fill=\"none\"/>\n",
              "    <path d=\"M18.56 5.44l.94 2.06.94-2.06 2.06-.94-2.06-.94-.94-2.06-.94 2.06-2.06.94zm-11 1L8.5 8.5l.94-2.06 2.06-.94-2.06-.94L8.5 2.5l-.94 2.06-2.06.94zm10 10l.94 2.06.94-2.06 2.06-.94-2.06-.94-.94-2.06-.94 2.06-2.06.94z\"/><path d=\"M17.41 7.96l-1.37-1.37c-.4-.4-.92-.59-1.43-.59-.52 0-1.04.2-1.43.59L10.3 9.45l-7.72 7.72c-.78.78-.78 2.05 0 2.83L4 21.41c.39.39.9.59 1.41.59.51 0 1.02-.2 1.41-.59l7.78-7.78 2.81-2.81c.8-.78.8-2.07 0-2.86zM5.41 20L4 18.59l7.72-7.72 1.47 1.35L5.41 20z\"/>\n",
              "  </svg>\n",
              "      </button>\n",
              "      \n",
              "  <style>\n",
              "    .colab-df-container {\n",
              "      display:flex;\n",
              "      flex-wrap:wrap;\n",
              "      gap: 12px;\n",
              "    }\n",
              "\n",
              "    .colab-df-convert {\n",
              "      background-color: #E8F0FE;\n",
              "      border: none;\n",
              "      border-radius: 50%;\n",
              "      cursor: pointer;\n",
              "      display: none;\n",
              "      fill: #1967D2;\n",
              "      height: 32px;\n",
              "      padding: 0 0 0 0;\n",
              "      width: 32px;\n",
              "    }\n",
              "\n",
              "    .colab-df-convert:hover {\n",
              "      background-color: #E2EBFA;\n",
              "      box-shadow: 0px 1px 2px rgba(60, 64, 67, 0.3), 0px 1px 3px 1px rgba(60, 64, 67, 0.15);\n",
              "      fill: #174EA6;\n",
              "    }\n",
              "\n",
              "    [theme=dark] .colab-df-convert {\n",
              "      background-color: #3B4455;\n",
              "      fill: #D2E3FC;\n",
              "    }\n",
              "\n",
              "    [theme=dark] .colab-df-convert:hover {\n",
              "      background-color: #434B5C;\n",
              "      box-shadow: 0px 1px 3px 1px rgba(0, 0, 0, 0.15);\n",
              "      filter: drop-shadow(0px 1px 2px rgba(0, 0, 0, 0.3));\n",
              "      fill: #FFFFFF;\n",
              "    }\n",
              "  </style>\n",
              "\n",
              "      <script>\n",
              "        const buttonEl =\n",
              "          document.querySelector('#df-2fc75925-add2-4ef6-8f20-77d4b25ac693 button.colab-df-convert');\n",
              "        buttonEl.style.display =\n",
              "          google.colab.kernel.accessAllowed ? 'block' : 'none';\n",
              "\n",
              "        async function convertToInteractive(key) {\n",
              "          const element = document.querySelector('#df-2fc75925-add2-4ef6-8f20-77d4b25ac693');\n",
              "          const dataTable =\n",
              "            await google.colab.kernel.invokeFunction('convertToInteractive',\n",
              "                                                     [key], {});\n",
              "          if (!dataTable) return;\n",
              "\n",
              "          const docLinkHtml = 'Like what you see? Visit the ' +\n",
              "            '<a target=\"_blank\" href=https://colab.research.google.com/notebooks/data_table.ipynb>data table notebook</a>'\n",
              "            + ' to learn more about interactive tables.';\n",
              "          element.innerHTML = '';\n",
              "          dataTable['output_type'] = 'display_data';\n",
              "          await google.colab.output.renderOutput(dataTable, element);\n",
              "          const docLink = document.createElement('div');\n",
              "          docLink.innerHTML = docLinkHtml;\n",
              "          element.appendChild(docLink);\n",
              "        }\n",
              "      </script>\n",
              "    </div>\n",
              "  </div>\n",
              "  "
            ]
          },
          "metadata": {},
          "execution_count": 136
        }
      ]
    },
    {
      "cell_type": "markdown",
      "source": [
        "Temos valores em preco_bilhete que estão zerados, vamos estão subsituir esses valores pela média de cada classe:"
      ],
      "metadata": {
        "id": "sgi42lc4vzqX"
      },
      "id": "sgi42lc4vzqX"
    },
    {
      "cell_type": "code",
      "source": [
        "med1classe = df_ml[(df_ml['classe_bilhete_2']==0) & (df_ml['classe_bilhete_3']==0)]['preco_bilhete'].mean()\n",
        "med2classe = df_ml[(df_ml['classe_bilhete_2']==1)]['preco_bilhete'].mean()\n",
        "med3classe = df_ml[(df_ml['classe_bilhete_3']==1)]['preco_bilhete'].mean()\n",
        "print('Média 1a classe:', med1classe)\n",
        "print('Média 2a classe:', med2classe)\n",
        "print('Média 3a classe:', med3classe)\n"
      ],
      "metadata": {
        "colab": {
          "base_uri": "https://localhost:8080/"
        },
        "id": "1vivkKc-wCS2",
        "outputId": "5a892857-d31f-46a2-df3a-9f41a62eef19"
      },
      "id": "1vivkKc-wCS2",
      "execution_count": null,
      "outputs": [
        {
          "output_type": "stream",
          "name": "stdout",
          "text": [
            "Média 1a classe: 51.51236574074074\n",
            "Média 2a classe: 20.662183152173913\n",
            "Média 3a classe: 13.675550101832993\n"
          ]
        }
      ]
    },
    {
      "cell_type": "code",
      "source": [
        "zeradoclasse1 = df_ml[(df_ml['classe_bilhete_2']==0) & (['classe_bilhete_3']==0) & (df_ml['preco_bilhete']==0)]['preco_bilhete'].count()\n",
        "zeradoclasse2 = df_ml[(df_ml['classe_bilhete_2']==1) & (df_ml['preco_bilhete']==0)]['preco_bilhete'].count()\n",
        "zeradoclasse3 = df_ml[(df_ml['classe_bilhete_3']==1) & (df_ml['preco_bilhete']==0)]['preco_bilhete'].count()\n",
        "print('Quantidade de valores de preco_bilhete zerados 1a classe:', zeradoclasse1)\n",
        "print('Quantidade de valores de preco_bilhete zerados 2a classe:', zeradoclasse2)\n",
        "print('Quantidade de valores de preco_bilhete zerados 3a classe:', zeradoclasse3)"
      ],
      "metadata": {
        "colab": {
          "base_uri": "https://localhost:8080/"
        },
        "id": "wxIHL00OyEzN",
        "outputId": "b13eef3c-2841-45bd-955a-a1ef345c45a8"
      },
      "id": "wxIHL00OyEzN",
      "execution_count": null,
      "outputs": [
        {
          "output_type": "stream",
          "name": "stdout",
          "text": [
            "Quantidade de valores de preco_bilhete zerados 1a classe: 0\n",
            "Quantidade de valores de preco_bilhete zerados 2a classe: 6\n",
            "Quantidade de valores de preco_bilhete zerados 3a classe: 4\n"
          ]
        }
      ]
    },
    {
      "cell_type": "code",
      "source": [
        "#Substituindo os valores pelas médias encontradas:\n",
        "#na segunda classe:\n",
        "df_ml['preco_bilhete'] = np.where(((df_ml['preco_bilhete']==0 ) & (df_ml['classe_bilhete_2']==1)), med2classe, df_ml['preco_bilhete'])\n",
        "\n",
        "#na terceira classe:\n",
        "df_ml['preco_bilhete'] = np.where(((df_ml['preco_bilhete']==0 ) & (df_ml['classe_bilhete_3']==1)), med3classe, df_ml['preco_bilhete'])"
      ],
      "metadata": {
        "id": "xf8cm3C3wlg6"
      },
      "id": "xf8cm3C3wlg6",
      "execution_count": null,
      "outputs": []
    },
    {
      "cell_type": "markdown",
      "source": [
        "Não temos mais linhas com preços de bilhetes igual a zero:"
      ],
      "metadata": {
        "id": "L5Pb2n-_y3A5"
      },
      "id": "L5Pb2n-_y3A5"
    },
    {
      "cell_type": "code",
      "source": [
        "zeradoclasse1 = df_ml[(df_ml['classe_bilhete_2']==0) & (['classe_bilhete_3']==0) & (df_ml['preco_bilhete']==0)]['preco_bilhete'].count()\n",
        "zeradoclasse2 = df_ml[(df_ml['classe_bilhete_2']==1) & (df_ml['preco_bilhete']==0)]['preco_bilhete'].count()\n",
        "zeradoclasse3 = df_ml[(df_ml['classe_bilhete_3']==1) & (df_ml['preco_bilhete']==0)]['preco_bilhete'].count()\n",
        "print('Quantidade de valores de preco_bilhete zerados 1a classe:', zeradoclasse1)\n",
        "print('Quantidade de valores de preco_bilhete zerados 2a classe:', zeradoclasse2)\n",
        "print('Quantidade de valores de preco_bilhete zerados 3a classe:', zeradoclasse3)"
      ],
      "metadata": {
        "colab": {
          "base_uri": "https://localhost:8080/"
        },
        "id": "fKUbO6xUxzT8",
        "outputId": "def84e9c-653c-40be-f5c7-554950b07e93"
      },
      "id": "fKUbO6xUxzT8",
      "execution_count": null,
      "outputs": [
        {
          "output_type": "stream",
          "name": "stdout",
          "text": [
            "Quantidade de valores de preco_bilhete zerados 1a classe: 0\n",
            "Quantidade de valores de preco_bilhete zerados 2a classe: 0\n",
            "Quantidade de valores de preco_bilhete zerados 3a classe: 0\n"
          ]
        }
      ]
    },
    {
      "cell_type": "markdown",
      "source": [
        "Vamos, agora, separar nosso dataset em treino e teste. Separamos em torno de 80% do dataset para treino e em torno de 20% do dataset para teste."
      ],
      "metadata": {
        "id": "tWVItYJTulPs"
      },
      "id": "tWVItYJTulPs"
    },
    {
      "cell_type": "code",
      "source": [
        "msk = np.random.rand(len(df_ml)) < 0.8 # cria uma mascara com as posicoes\n",
        "train = df_ml[msk]\n",
        "test = df_ml[~msk]\n"
      ],
      "metadata": {
        "id": "hubfsndmu9Bv"
      },
      "id": "hubfsndmu9Bv",
      "execution_count": null,
      "outputs": []
    },
    {
      "cell_type": "code",
      "source": [
        "print('Número de linhas da base de teste:', len(train.axes[0]))\n",
        "print('Número de linhas da base de treino:',len(test.axes[0]))"
      ],
      "metadata": {
        "colab": {
          "base_uri": "https://localhost:8080/"
        },
        "id": "mmftoWJIwIMn",
        "outputId": "e2a3b3ea-86c8-433d-a7a5-57b3e1ed911f"
      },
      "id": "mmftoWJIwIMn",
      "execution_count": null,
      "outputs": [
        {
          "output_type": "stream",
          "name": "stdout",
          "text": [
            "Número de linhas da base de teste: 726\n",
            "Número de linhas da base de treino: 165\n"
          ]
        }
      ]
    },
    {
      "cell_type": "code",
      "source": [
        "train.head()"
      ],
      "metadata": {
        "colab": {
          "base_uri": "https://localhost:8080/",
          "height": 301
        },
        "id": "x3BfMpdezG-i",
        "outputId": "0424f6bd-589f-42db-fb1a-fe0ba13bc72c"
      },
      "id": "x3BfMpdezG-i",
      "execution_count": null,
      "outputs": [
        {
          "output_type": "execute_result",
          "data": {
            "text/plain": [
              "               sobreviveu  genero  idade  irmaos_conjuges_abordo  \\\n",
              "id_passageiro                                                      \n",
              "1                       0       0  22.00                       1   \n",
              "2                       1       1  38.00                       1   \n",
              "4                       1       1  35.00                       1   \n",
              "5                       0       0  35.00                       0   \n",
              "6                       0       0  25.14                       0   \n",
              "\n",
              "               pais_filhos_abordo  preco_bilhete  local_embarque_Queenstown  \\\n",
              "id_passageiro                                                                 \n",
              "1                               0         7.2500                          0   \n",
              "2                               0        71.2833                          0   \n",
              "4                               0        53.1000                          0   \n",
              "5                               0         8.0500                          0   \n",
              "6                               0         8.4583                          1   \n",
              "\n",
              "               local_embarque_Southampton  classe_bilhete_2  classe_bilhete_3  \\\n",
              "id_passageiro                                                                   \n",
              "1                                       1                 0                 1   \n",
              "2                                       0                 0                 0   \n",
              "4                                       1                 0                 0   \n",
              "5                                       1                 0                 1   \n",
              "6                                       0                 0                 1   \n",
              "\n",
              "               tamanho_familia  \n",
              "id_passageiro                   \n",
              "1                            2  \n",
              "2                            2  \n",
              "4                            2  \n",
              "5                            1  \n",
              "6                            1  "
            ],
            "text/html": [
              "\n",
              "  <div id=\"df-6b617226-9045-47d0-8e87-f95f8c3fd80a\">\n",
              "    <div class=\"colab-df-container\">\n",
              "      <div>\n",
              "<style scoped>\n",
              "    .dataframe tbody tr th:only-of-type {\n",
              "        vertical-align: middle;\n",
              "    }\n",
              "\n",
              "    .dataframe tbody tr th {\n",
              "        vertical-align: top;\n",
              "    }\n",
              "\n",
              "    .dataframe thead th {\n",
              "        text-align: right;\n",
              "    }\n",
              "</style>\n",
              "<table border=\"1\" class=\"dataframe\">\n",
              "  <thead>\n",
              "    <tr style=\"text-align: right;\">\n",
              "      <th></th>\n",
              "      <th>sobreviveu</th>\n",
              "      <th>genero</th>\n",
              "      <th>idade</th>\n",
              "      <th>irmaos_conjuges_abordo</th>\n",
              "      <th>pais_filhos_abordo</th>\n",
              "      <th>preco_bilhete</th>\n",
              "      <th>local_embarque_Queenstown</th>\n",
              "      <th>local_embarque_Southampton</th>\n",
              "      <th>classe_bilhete_2</th>\n",
              "      <th>classe_bilhete_3</th>\n",
              "      <th>tamanho_familia</th>\n",
              "    </tr>\n",
              "    <tr>\n",
              "      <th>id_passageiro</th>\n",
              "      <th></th>\n",
              "      <th></th>\n",
              "      <th></th>\n",
              "      <th></th>\n",
              "      <th></th>\n",
              "      <th></th>\n",
              "      <th></th>\n",
              "      <th></th>\n",
              "      <th></th>\n",
              "      <th></th>\n",
              "      <th></th>\n",
              "    </tr>\n",
              "  </thead>\n",
              "  <tbody>\n",
              "    <tr>\n",
              "      <th>1</th>\n",
              "      <td>0</td>\n",
              "      <td>0</td>\n",
              "      <td>22.00</td>\n",
              "      <td>1</td>\n",
              "      <td>0</td>\n",
              "      <td>7.2500</td>\n",
              "      <td>0</td>\n",
              "      <td>1</td>\n",
              "      <td>0</td>\n",
              "      <td>1</td>\n",
              "      <td>2</td>\n",
              "    </tr>\n",
              "    <tr>\n",
              "      <th>2</th>\n",
              "      <td>1</td>\n",
              "      <td>1</td>\n",
              "      <td>38.00</td>\n",
              "      <td>1</td>\n",
              "      <td>0</td>\n",
              "      <td>71.2833</td>\n",
              "      <td>0</td>\n",
              "      <td>0</td>\n",
              "      <td>0</td>\n",
              "      <td>0</td>\n",
              "      <td>2</td>\n",
              "    </tr>\n",
              "    <tr>\n",
              "      <th>4</th>\n",
              "      <td>1</td>\n",
              "      <td>1</td>\n",
              "      <td>35.00</td>\n",
              "      <td>1</td>\n",
              "      <td>0</td>\n",
              "      <td>53.1000</td>\n",
              "      <td>0</td>\n",
              "      <td>1</td>\n",
              "      <td>0</td>\n",
              "      <td>0</td>\n",
              "      <td>2</td>\n",
              "    </tr>\n",
              "    <tr>\n",
              "      <th>5</th>\n",
              "      <td>0</td>\n",
              "      <td>0</td>\n",
              "      <td>35.00</td>\n",
              "      <td>0</td>\n",
              "      <td>0</td>\n",
              "      <td>8.0500</td>\n",
              "      <td>0</td>\n",
              "      <td>1</td>\n",
              "      <td>0</td>\n",
              "      <td>1</td>\n",
              "      <td>1</td>\n",
              "    </tr>\n",
              "    <tr>\n",
              "      <th>6</th>\n",
              "      <td>0</td>\n",
              "      <td>0</td>\n",
              "      <td>25.14</td>\n",
              "      <td>0</td>\n",
              "      <td>0</td>\n",
              "      <td>8.4583</td>\n",
              "      <td>1</td>\n",
              "      <td>0</td>\n",
              "      <td>0</td>\n",
              "      <td>1</td>\n",
              "      <td>1</td>\n",
              "    </tr>\n",
              "  </tbody>\n",
              "</table>\n",
              "</div>\n",
              "      <button class=\"colab-df-convert\" onclick=\"convertToInteractive('df-6b617226-9045-47d0-8e87-f95f8c3fd80a')\"\n",
              "              title=\"Convert this dataframe to an interactive table.\"\n",
              "              style=\"display:none;\">\n",
              "        \n",
              "  <svg xmlns=\"http://www.w3.org/2000/svg\" height=\"24px\"viewBox=\"0 0 24 24\"\n",
              "       width=\"24px\">\n",
              "    <path d=\"M0 0h24v24H0V0z\" fill=\"none\"/>\n",
              "    <path d=\"M18.56 5.44l.94 2.06.94-2.06 2.06-.94-2.06-.94-.94-2.06-.94 2.06-2.06.94zm-11 1L8.5 8.5l.94-2.06 2.06-.94-2.06-.94L8.5 2.5l-.94 2.06-2.06.94zm10 10l.94 2.06.94-2.06 2.06-.94-2.06-.94-.94-2.06-.94 2.06-2.06.94z\"/><path d=\"M17.41 7.96l-1.37-1.37c-.4-.4-.92-.59-1.43-.59-.52 0-1.04.2-1.43.59L10.3 9.45l-7.72 7.72c-.78.78-.78 2.05 0 2.83L4 21.41c.39.39.9.59 1.41.59.51 0 1.02-.2 1.41-.59l7.78-7.78 2.81-2.81c.8-.78.8-2.07 0-2.86zM5.41 20L4 18.59l7.72-7.72 1.47 1.35L5.41 20z\"/>\n",
              "  </svg>\n",
              "      </button>\n",
              "      \n",
              "  <style>\n",
              "    .colab-df-container {\n",
              "      display:flex;\n",
              "      flex-wrap:wrap;\n",
              "      gap: 12px;\n",
              "    }\n",
              "\n",
              "    .colab-df-convert {\n",
              "      background-color: #E8F0FE;\n",
              "      border: none;\n",
              "      border-radius: 50%;\n",
              "      cursor: pointer;\n",
              "      display: none;\n",
              "      fill: #1967D2;\n",
              "      height: 32px;\n",
              "      padding: 0 0 0 0;\n",
              "      width: 32px;\n",
              "    }\n",
              "\n",
              "    .colab-df-convert:hover {\n",
              "      background-color: #E2EBFA;\n",
              "      box-shadow: 0px 1px 2px rgba(60, 64, 67, 0.3), 0px 1px 3px 1px rgba(60, 64, 67, 0.15);\n",
              "      fill: #174EA6;\n",
              "    }\n",
              "\n",
              "    [theme=dark] .colab-df-convert {\n",
              "      background-color: #3B4455;\n",
              "      fill: #D2E3FC;\n",
              "    }\n",
              "\n",
              "    [theme=dark] .colab-df-convert:hover {\n",
              "      background-color: #434B5C;\n",
              "      box-shadow: 0px 1px 3px 1px rgba(0, 0, 0, 0.15);\n",
              "      filter: drop-shadow(0px 1px 2px rgba(0, 0, 0, 0.3));\n",
              "      fill: #FFFFFF;\n",
              "    }\n",
              "  </style>\n",
              "\n",
              "      <script>\n",
              "        const buttonEl =\n",
              "          document.querySelector('#df-6b617226-9045-47d0-8e87-f95f8c3fd80a button.colab-df-convert');\n",
              "        buttonEl.style.display =\n",
              "          google.colab.kernel.accessAllowed ? 'block' : 'none';\n",
              "\n",
              "        async function convertToInteractive(key) {\n",
              "          const element = document.querySelector('#df-6b617226-9045-47d0-8e87-f95f8c3fd80a');\n",
              "          const dataTable =\n",
              "            await google.colab.kernel.invokeFunction('convertToInteractive',\n",
              "                                                     [key], {});\n",
              "          if (!dataTable) return;\n",
              "\n",
              "          const docLinkHtml = 'Like what you see? Visit the ' +\n",
              "            '<a target=\"_blank\" href=https://colab.research.google.com/notebooks/data_table.ipynb>data table notebook</a>'\n",
              "            + ' to learn more about interactive tables.';\n",
              "          element.innerHTML = '';\n",
              "          dataTable['output_type'] = 'display_data';\n",
              "          await google.colab.output.renderOutput(dataTable, element);\n",
              "          const docLink = document.createElement('div');\n",
              "          docLink.innerHTML = docLinkHtml;\n",
              "          element.appendChild(docLink);\n",
              "        }\n",
              "      </script>\n",
              "    </div>\n",
              "  </div>\n",
              "  "
            ]
          },
          "metadata": {},
          "execution_count": 143
        }
      ]
    },
    {
      "cell_type": "markdown",
      "source": [
        "Antes de finalmente iniciar a modelagem, iremos fazer uma normalização na escala dos dados utilizando o método StandardScaler."
      ],
      "metadata": {
        "id": "2hUsRjJ5cUyT"
      },
      "id": "2hUsRjJ5cUyT"
    },
    {
      "cell_type": "markdown",
      "source": [
        "Agora vamos retirar a coluna de predição do conjunto de dados, vamos separá-los entre X e y."
      ],
      "metadata": {
        "id": "zUrXODKN811E"
      },
      "id": "zUrXODKN811E"
    },
    {
      "cell_type": "code",
      "source": [
        "X_train = train.drop('sobreviveu', axis = 1)\n",
        "y_train = train['sobreviveu']"
      ],
      "metadata": {
        "id": "Anq5tdK3Dx9Y"
      },
      "id": "Anq5tdK3Dx9Y",
      "execution_count": null,
      "outputs": []
    },
    {
      "cell_type": "code",
      "source": [
        "X_test = test.drop('sobreviveu', axis = 1)\n",
        "y_test = test['sobreviveu']"
      ],
      "metadata": {
        "id": "rK9AfVTczz4K"
      },
      "id": "rK9AfVTczz4K",
      "execution_count": null,
      "outputs": []
    },
    {
      "cell_type": "code",
      "source": [
        "pip install catboost\n"
      ],
      "metadata": {
        "colab": {
          "base_uri": "https://localhost:8080/"
        },
        "id": "3oJeth876K6b",
        "outputId": "9ae4f878-f44e-4b5d-806d-a836d5e70520"
      },
      "id": "3oJeth876K6b",
      "execution_count": null,
      "outputs": [
        {
          "output_type": "stream",
          "name": "stdout",
          "text": [
            "Looking in indexes: https://pypi.org/simple, https://us-python.pkg.dev/colab-wheels/public/simple/\n",
            "Collecting catboost\n",
            "  Downloading catboost-1.1-cp37-none-manylinux1_x86_64.whl (76.8 MB)\n",
            "\u001b[K     |████████████████████████████████| 76.8 MB 1.2 MB/s \n",
            "\u001b[?25hRequirement already satisfied: scipy in /usr/local/lib/python3.7/dist-packages (from catboost) (1.7.3)\n",
            "Requirement already satisfied: graphviz in /usr/local/lib/python3.7/dist-packages (from catboost) (0.10.1)\n",
            "Requirement already satisfied: numpy>=1.16.0 in /usr/local/lib/python3.7/dist-packages (from catboost) (1.21.6)\n",
            "Requirement already satisfied: pandas>=0.24.0 in /usr/local/lib/python3.7/dist-packages (from catboost) (1.1.4)\n",
            "Requirement already satisfied: six in /usr/local/lib/python3.7/dist-packages (from catboost) (1.15.0)\n",
            "Requirement already satisfied: matplotlib in /usr/local/lib/python3.7/dist-packages (from catboost) (3.5.3)\n",
            "Requirement already satisfied: plotly in /usr/local/lib/python3.7/dist-packages (from catboost) (5.5.0)\n",
            "Requirement already satisfied: python-dateutil>=2.7.3 in /usr/local/lib/python3.7/dist-packages (from pandas>=0.24.0->catboost) (2.8.2)\n",
            "Requirement already satisfied: pytz>=2017.2 in /usr/local/lib/python3.7/dist-packages (from pandas>=0.24.0->catboost) (2022.2.1)\n",
            "Requirement already satisfied: pyparsing>=2.2.1 in /usr/local/lib/python3.7/dist-packages (from matplotlib->catboost) (3.0.9)\n",
            "Requirement already satisfied: kiwisolver>=1.0.1 in /usr/local/lib/python3.7/dist-packages (from matplotlib->catboost) (1.4.4)\n",
            "Requirement already satisfied: packaging>=20.0 in /usr/local/lib/python3.7/dist-packages (from matplotlib->catboost) (21.3)\n",
            "Requirement already satisfied: pillow>=6.2.0 in /usr/local/lib/python3.7/dist-packages (from matplotlib->catboost) (7.1.2)\n",
            "Requirement already satisfied: cycler>=0.10 in /usr/local/lib/python3.7/dist-packages (from matplotlib->catboost) (0.11.0)\n",
            "Requirement already satisfied: fonttools>=4.22.0 in /usr/local/lib/python3.7/dist-packages (from matplotlib->catboost) (4.37.3)\n",
            "Requirement already satisfied: typing-extensions in /usr/local/lib/python3.7/dist-packages (from kiwisolver>=1.0.1->matplotlib->catboost) (4.1.1)\n",
            "Requirement already satisfied: tenacity>=6.2.0 in /usr/local/lib/python3.7/dist-packages (from plotly->catboost) (8.0.1)\n",
            "Installing collected packages: catboost\n",
            "Successfully installed catboost-1.1\n"
          ]
        }
      ]
    },
    {
      "cell_type": "code",
      "source": [
        "#importando todos os módulos necessários\n",
        "import numpy as np\n",
        "import pandas as pd\n",
        "import matplotlib.pyplot as plt\n",
        "import seaborn as sns\n",
        "\n",
        "from sklearn.preprocessing import OneHotEncoder, LabelEncoder, label_binarize\n",
        "import catboost\n",
        "from sklearn.model_selection import train_test_split\n",
        "from sklearn import model_selection, tree, preprocessing, metrics, linear_model\n",
        "from sklearn.svm import LinearSVC\n",
        "from sklearn.ensemble import GradientBoostingClassifier, RandomForestClassifier\n",
        "from sklearn.neighbors import KNeighborsClassifier\n",
        "from sklearn.naive_bayes import GaussianNB\n",
        "from sklearn.linear_model import LinearRegression, LogisticRegression, SGDClassifier\n",
        "from sklearn.tree import DecisionTreeClassifier\n",
        "from catboost import CatBoostClassifier, Pool, cv\n",
        "\n"
      ],
      "metadata": {
        "id": "FC_fA2r64WLC"
      },
      "id": "FC_fA2r64WLC",
      "execution_count": null,
      "outputs": []
    },
    {
      "cell_type": "markdown",
      "source": [
        "Vamos fazer uma função para facilitar a visualização da acurácia das diversas modelagens que iremos realizar:\n",
        "\n"
      ],
      "metadata": {
        "id": "haaAqJnHz_vm"
      },
      "id": "haaAqJnHz_vm"
    },
    {
      "cell_type": "code",
      "source": [
        "from sklearn.model_selection import train_test_split\n",
        "\n",
        "\n",
        "def func_acuracia(algoritmo, X_train, y_train, vc):\n",
        "  modelo = algoritmo.fit(X_train, y_train)\n",
        "  acuracia = round(modelo.score(X_train, y_train)*100, 2)\n",
        "\n",
        "  train_pred = model_selection.cross_val_predict(algoritmo, X_train, y_train, cv = vc, n_jobs = -1)\n",
        "  acuracia_vc = round(metrics.accuracy_score(y_train, train_pred)*100, 2)\n",
        "\n",
        "  return acuracia, acuracia_vc\n"
      ],
      "metadata": {
        "id": "cr1Kc3H80Stt"
      },
      "id": "cr1Kc3H80Stt",
      "execution_count": null,
      "outputs": []
    },
    {
      "cell_type": "code",
      "source": [
        "from sklearn.ensemble import RandomForestClassifier"
      ],
      "metadata": {
        "id": "EfSX0fMb4BSK"
      },
      "id": "EfSX0fMb4BSK",
      "execution_count": null,
      "outputs": []
    },
    {
      "cell_type": "code",
      "source": [
        "#Random Forest\n",
        "acc_rf, acc_vc_rf = func_acuracia(RandomForestClassifier(), X_train, y_train, 10)\n",
        "print(f\"Acurácia do modelo Random Forest: {acc_rf}\")\n",
        "print(f\"Acurácia do modelo Random Forest com validação cruzada: {acc_vc_rf}\")"
      ],
      "metadata": {
        "colab": {
          "base_uri": "https://localhost:8080/"
        },
        "id": "Jxk-ag2N10m9",
        "outputId": "40786a83-28f4-491f-b213-6c4eb94b0916"
      },
      "id": "Jxk-ag2N10m9",
      "execution_count": null,
      "outputs": [
        {
          "output_type": "stream",
          "name": "stdout",
          "text": [
            "Acurácia do modelo Random Forest: 98.35\n",
            "Acurácia do modelo Random Forest com validação cruzada: 79.34\n"
          ]
        }
      ]
    },
    {
      "cell_type": "code",
      "source": [
        "#Random Forest com dados normalizados\n",
        "from sklearn.preprocessing import StandardScaler\n",
        "scaler = StandardScaler()\n",
        "Xnorm = scaler.fit_transform(X_train)\n",
        "\n",
        "acc_rf, acc_vc_rf = func_acuracia(RandomForestClassifier(), Xnorm, y_train, 10)\n",
        "print(f\"Acurácia do modelo Random Forest com dados normalizados: {acc_rf}\")\n",
        "print(f\"Acurácia do modelo Random Forest com validação cruzada e com dados normalizados: {acc_vc_rf}\")"
      ],
      "metadata": {
        "colab": {
          "base_uri": "https://localhost:8080/"
        },
        "id": "q5KxODkd7x7e",
        "outputId": "e52a66cb-0238-4f1b-accd-9227568ac934"
      },
      "id": "q5KxODkd7x7e",
      "execution_count": null,
      "outputs": [
        {
          "output_type": "stream",
          "name": "stdout",
          "text": [
            "Acurácia do modelo Random Forest com dados normalizados: 98.35\n",
            "Acurácia do modelo Random Forest com validação cruzada e com dados normalizados: 79.75\n"
          ]
        }
      ]
    },
    {
      "cell_type": "code",
      "source": [
        "#Logistic Regression\n",
        "acc_lg, acc_vc_lg = func_acuracia(LogisticRegression(max_iter=1000), X_train, y_train, 10)\n",
        "print(f\"Acurácia do modelo Logistic Regression: {acc_lg}\")\n",
        "print(f\"Acurácia do modelo Logistic Regression com validação cruzada: {acc_vc_lg}\")"
      ],
      "metadata": {
        "colab": {
          "base_uri": "https://localhost:8080/"
        },
        "id": "2sk0oipR8M-R",
        "outputId": "69712090-5806-423c-c6f1-c126b7c63efd"
      },
      "id": "2sk0oipR8M-R",
      "execution_count": null,
      "outputs": [
        {
          "output_type": "stream",
          "name": "stdout",
          "text": [
            "Acurácia do modelo Logistic Regression: 81.13\n",
            "Acurácia do modelo Logistic Regression com validação cruzada: 80.72\n"
          ]
        }
      ]
    },
    {
      "cell_type": "code",
      "source": [
        "#Logistic Regression com dados normalizados\n",
        "acc_lg, acc_vc_lg = func_acuracia(LogisticRegression(max_iter=1000), Xnorm, y_train, 10)\n",
        "print(f\"Acurácia do modelo Logistic Regression com dados normalizados: {acc_lg}\")\n",
        "print(f\"Acurácia do modelo Logistic Regression com validação cruzada e com dados normalizados: {acc_vc_lg}\")"
      ],
      "metadata": {
        "colab": {
          "base_uri": "https://localhost:8080/"
        },
        "id": "44sTFt-D8idP",
        "outputId": "b3d1cff9-65cb-4c3c-ad4b-dc12a28f315d"
      },
      "id": "44sTFt-D8idP",
      "execution_count": null,
      "outputs": [
        {
          "output_type": "stream",
          "name": "stdout",
          "text": [
            "Acurácia do modelo Logistic Regression com dados normalizados: 80.99\n",
            "Acurácia do modelo Logistic Regression com validação cruzada e com dados normalizados: 80.3\n"
          ]
        }
      ]
    },
    {
      "cell_type": "code",
      "source": [
        "#K-Nearest Neighbours\n",
        "acc_knn, acc_vc_knn = func_acuracia(KNeighborsClassifier(), X_train, y_train, 10)\n",
        "print(f\"Acurácia do modelo K-Nearest Neighbours: {acc_knn}\")\n",
        "print(f\"Acurácia do modelo K-Nearest Neighbours com validação cruzada: {acc_vc_knn}\")"
      ],
      "metadata": {
        "colab": {
          "base_uri": "https://localhost:8080/"
        },
        "id": "yZb686YE9EQq",
        "outputId": "b0fdbed6-7cce-495f-a6e9-c0e591ced628"
      },
      "id": "yZb686YE9EQq",
      "execution_count": null,
      "outputs": [
        {
          "output_type": "stream",
          "name": "stdout",
          "text": [
            "Acurácia do modelo K-Nearest Neighbours: 80.03\n",
            "Acurácia do modelo K-Nearest Neighbours com validação cruzada: 71.35\n"
          ]
        }
      ]
    },
    {
      "cell_type": "code",
      "source": [
        "#K-Nearest Neighbours com dados normalizados\n",
        "acc_knn, acc_vc_knn = func_acuracia(KNeighborsClassifier(), Xnorm, y_train, 10)\n",
        "print(f\"Acurácia do modelo K-Nearest Neighbours com dados normalizados: {acc_knn}\")\n",
        "print(f\"Acurácia do modelo K-Nearest Neighbours com validação cruzada e com dados normalizados: {acc_vc_knn}\")"
      ],
      "metadata": {
        "colab": {
          "base_uri": "https://localhost:8080/"
        },
        "id": "GGvs53dK9aux",
        "outputId": "851fd514-16e7-46f2-955f-bb9ccb1e25ae"
      },
      "id": "GGvs53dK9aux",
      "execution_count": null,
      "outputs": [
        {
          "output_type": "stream",
          "name": "stdout",
          "text": [
            "Acurácia do modelo K-Nearest Neighbours com dados normalizados: 85.12\n",
            "Acurácia do modelo K-Nearest Neighbours com validação cruzada e com dados normalizados: 80.58\n"
          ]
        }
      ]
    },
    {
      "cell_type": "code",
      "source": [
        "#Gaussian Naive Bayes\n",
        "acc_gaussian, acc_vc_gaussian = func_acuracia(GaussianNB(), X_train, y_train, 10)\n",
        "print(f\"Acurácia do modelo Gaussian Naive Bayes: {acc_gaussian}\")\n",
        "print(f\"Acurácia do modelo Gaussian Naive Bayes com validação cruzada: {acc_vc_gaussian}\")"
      ],
      "metadata": {
        "colab": {
          "base_uri": "https://localhost:8080/"
        },
        "id": "h6_TD5ec-dLw",
        "outputId": "74fa49e8-95b0-4dd3-9be9-05a3e095986b"
      },
      "id": "h6_TD5ec-dLw",
      "execution_count": null,
      "outputs": [
        {
          "output_type": "stream",
          "name": "stdout",
          "text": [
            "Acurácia do modelo Gaussian Naive Bayes: 77.41\n",
            "Acurácia do modelo Gaussian Naive Bayes com validação cruzada: 76.03\n"
          ]
        }
      ]
    },
    {
      "cell_type": "code",
      "source": [
        "#Gaussian Naive Bayes com dados normalizados\n",
        "acc_gaussian, acc_vc_gaussian = func_acuracia(GaussianNB(), Xnorm, y_train, 10)\n",
        "print(f\"Acurácia do modelo Gaussian Naive Bayes com dados normalizados: {acc_gaussian}\")\n",
        "print(f\"Acurácia do modelo Gaussian Naive Bayes com validação cruzada e com dados normalizados: {acc_vc_gaussian}\")"
      ],
      "metadata": {
        "colab": {
          "base_uri": "https://localhost:8080/"
        },
        "id": "ope81Xfm-t2s",
        "outputId": "5ecf14f7-f5f4-4ee0-e624-83bd309cef8f"
      },
      "id": "ope81Xfm-t2s",
      "execution_count": null,
      "outputs": [
        {
          "output_type": "stream",
          "name": "stdout",
          "text": [
            "Acurácia do modelo Gaussian Naive Bayes com dados normalizados: 77.41\n",
            "Acurácia do modelo Gaussian Naive Bayes com validação cruzada e com dados normalizados: 76.03\n"
          ]
        }
      ]
    },
    {
      "cell_type": "code",
      "source": [
        "#Linear Support Vector Machines (SVC)\n",
        "acc_linear_svc, acc_vc_linear_svc = func_acuracia(LinearSVC(dual=False), X_train, y_train, 10)\n",
        "print(f\"Acurácia do modelo Linear Support Vector Machines (SVC): {acc_linear_svc}\")\n",
        "print(f\"Acurácia do modelo Linear Support Vector Machines (SVC) com validação cruzada: {acc_vc_linear_svc}\")"
      ],
      "metadata": {
        "colab": {
          "base_uri": "https://localhost:8080/"
        },
        "id": "VPv2AqTs9oBF",
        "outputId": "b64e4f35-073c-4208-905f-b6133300c0ab"
      },
      "id": "VPv2AqTs9oBF",
      "execution_count": null,
      "outputs": [
        {
          "output_type": "stream",
          "name": "stdout",
          "text": [
            "Acurácia do modelo Linear Support Vector Machines (SVC): 80.85\n",
            "Acurácia do modelo Linear Support Vector Machines (SVC) com validação cruzada: 80.17\n"
          ]
        }
      ]
    },
    {
      "cell_type": "code",
      "source": [
        "#Linear Support Vector Machines (SVC) com dados normalizados\n",
        "acc_linear_svc, acc_vc_linear_svc = func_acuracia(LinearSVC(dual=False), Xnorm, y_train, 10)\n",
        "print(f\"Acurácia do modelo Linear Support Vector Machines (SVC) com dados normalizados: {acc_linear_svc}\")\n",
        "print(f\"Acurácia do modelo Linear Support Vector Machines (SVC) com validação cruzada e com dados normalizados: {acc_vc_linear_svc}\")"
      ],
      "metadata": {
        "colab": {
          "base_uri": "https://localhost:8080/"
        },
        "id": "YcGGsM2q_tLz",
        "outputId": "4542dd32-9c06-457b-9da5-8d67740d00f3"
      },
      "id": "YcGGsM2q_tLz",
      "execution_count": null,
      "outputs": [
        {
          "output_type": "stream",
          "name": "stdout",
          "text": [
            "Acurácia do modelo Linear Support Vector Machines (SVC) com dados normalizados: 80.72\n",
            "Acurácia do modelo Linear Support Vector Machines (SVC) com validação cruzada e com dados normalizados: 80.17\n"
          ]
        }
      ]
    },
    {
      "cell_type": "code",
      "source": [
        "#Stochastic Gradient Descent\n",
        "acc_sgd, acc_vc_sgd = func_acuracia(SGDClassifier(), X_train, y_train, 10)\n",
        "print(f\"Acurácia do modelo Stochastic Gradient Descent: {acc_sgd}\")\n",
        "print(f\"Acurácia do modelo Stochastic Gradient Descent com validação cruzada: {acc_sgd}\")"
      ],
      "metadata": {
        "colab": {
          "base_uri": "https://localhost:8080/"
        },
        "id": "8G79MrnSEDAv",
        "outputId": "22ea7acb-8444-4935-b3cc-106eaa300567"
      },
      "id": "8G79MrnSEDAv",
      "execution_count": null,
      "outputs": [
        {
          "output_type": "stream",
          "name": "stdout",
          "text": [
            "Acurácia do modelo Stochastic Gradient Descent: 79.06\n",
            "Acurácia do modelo Stochastic Gradient Descent com validação cruzada: 79.06\n"
          ]
        }
      ]
    },
    {
      "cell_type": "code",
      "source": [
        "#Stochastic Gradient Descent com dados normalizados\n",
        "acc_sgd, acc_vc_sgd = func_acuracia(SGDClassifier(), Xnorm, y_train, 10)\n",
        "print(f\"Acurácia do modelo Stochastic Gradient Descent com dados normalizados: {acc_sgd}\")\n",
        "print(f\"Acurácia do modelo Stochastic Gradient Descent com validação cruzada e com dados normalizados: {acc_sgd}\")"
      ],
      "metadata": {
        "colab": {
          "base_uri": "https://localhost:8080/"
        },
        "id": "_sChP2sXEu0p",
        "outputId": "e567587c-78c8-4fde-863a-6cbb7042e4c1"
      },
      "id": "_sChP2sXEu0p",
      "execution_count": null,
      "outputs": [
        {
          "output_type": "stream",
          "name": "stdout",
          "text": [
            "Acurácia do modelo Stochastic Gradient Descent com dados normalizados: 80.44\n",
            "Acurácia do modelo Stochastic Gradient Descent com validação cruzada e com dados normalizados: 80.44\n"
          ]
        }
      ]
    },
    {
      "cell_type": "code",
      "source": [
        "#Decision Tree Classifier\n",
        "acc_dtc, acc_vc_dtc = func_acuracia(DecisionTreeClassifier(), X_train, y_train, 10)\n",
        "print(f\"Acurácia do modelo Decision Tree Classifier: {acc_dtc}\")\n",
        "print(f\"Acurácia do modelo Decision Tree Classifier com validação cruzada: {acc_vc_dtc}\")"
      ],
      "metadata": {
        "colab": {
          "base_uri": "https://localhost:8080/"
        },
        "id": "Fpsw28eJFC1L",
        "outputId": "7ed52137-0c1b-42ff-994c-843854d01aef"
      },
      "id": "Fpsw28eJFC1L",
      "execution_count": null,
      "outputs": [
        {
          "output_type": "stream",
          "name": "stdout",
          "text": [
            "Acurácia do modelo Decision Tree Classifier: 98.35\n",
            "Acurácia do modelo Decision Tree Classifier com validação cruzada: 77.41\n"
          ]
        }
      ]
    },
    {
      "cell_type": "code",
      "source": [
        "#Decision Tree Classifier com dados normalizados\n",
        "acc_dtc, acc_vc_dtc = func_acuracia(DecisionTreeClassifier(), Xnorm, y_train, 10)\n",
        "print(f\"Acurácia do modelo Decision Tree Classifier com dados normalizados: {acc_dtc}\")\n",
        "print(f\"Acurácia do modelo Decision Tree Classifier com validação cruzada e com dados normalizados: {acc_vc_dtc}\")"
      ],
      "metadata": {
        "colab": {
          "base_uri": "https://localhost:8080/"
        },
        "id": "mwMrq2qRFWvo",
        "outputId": "26f24cae-4957-4050-f943-87d4164d888c"
      },
      "id": "mwMrq2qRFWvo",
      "execution_count": null,
      "outputs": [
        {
          "output_type": "stream",
          "name": "stdout",
          "text": [
            "Acurácia do modelo Decision Tree Classifier com dados normalizados: 98.35\n",
            "Acurácia do modelo Decision Tree Classifier com validação cruzada e com dados normalizados: 78.51\n"
          ]
        }
      ]
    },
    {
      "cell_type": "code",
      "source": [
        "#Gradient Boost Classifier\n",
        "acc_gb, acc_vc_gb = func_acuracia(GradientBoostingClassifier(), X_train, y_train, 10)\n",
        "print(f\"Acurácia do modelo Gradient Boost Classifier: {acc_gb}\")\n",
        "print(f\"Acurácia do modelo Gradient Boost Classifier com validação cruzada: {acc_vc_gb}\")"
      ],
      "metadata": {
        "colab": {
          "base_uri": "https://localhost:8080/"
        },
        "id": "m7e7Hcg1Fekm",
        "outputId": "a1490a40-5ff1-4aa8-c605-b792c0662294"
      },
      "id": "m7e7Hcg1Fekm",
      "execution_count": null,
      "outputs": [
        {
          "output_type": "stream",
          "name": "stdout",
          "text": [
            "Acurácia do modelo Gradient Boost Classifier: 90.63\n",
            "Acurácia do modelo Gradient Boost Classifier com validação cruzada: 81.96\n"
          ]
        }
      ]
    },
    {
      "cell_type": "code",
      "source": [
        "#Gradient Boost Classifier com dados normalizados\n",
        "acc_gb, acc_vc_gb = func_acuracia(GradientBoostingClassifier(), Xnorm, y_train, 10)\n",
        "print(f\"Acurácia do modelo Gradient Boost Classifier com dados normalizados: {acc_gb}\")\n",
        "print(f\"Acurácia do modelo Gradient Boost Classifier com validação cruzada e com dados normalizados: {acc_vc_gb}\")"
      ],
      "metadata": {
        "colab": {
          "base_uri": "https://localhost:8080/"
        },
        "id": "rzg7VV1uFvFs",
        "outputId": "46bc8b24-ad7c-499b-fcd3-bca124576d40"
      },
      "id": "rzg7VV1uFvFs",
      "execution_count": null,
      "outputs": [
        {
          "output_type": "stream",
          "name": "stdout",
          "text": [
            "Acurácia do modelo Gradient Boost Classifier com dados normalizados: 90.63\n",
            "Acurácia do modelo Gradient Boost Classifier com validação cruzada e com dados normalizados: 82.09\n"
          ]
        }
      ]
    },
    {
      "cell_type": "markdown",
      "source": [
        "Observamos que o modelo que apresentou maior acurácia quando usada a validação cruzada foi o Gradient Boost Classifier, por isso iremos usá-lo.\n"
      ],
      "metadata": {
        "id": "Lntv35FcIF0e"
      },
      "id": "Lntv35FcIF0e"
    },
    {
      "cell_type": "code",
      "source": [
        "params = dict(\n",
        "    max_depth = [n for n in range(1, 5)], \n",
        "    min_samples_split = [n for n in range(2, 6)],\n",
        "    min_samples_leaf = [n for n in range(2, 6)],\n",
        "    n_estimators = [n for n in range(10, 50, 10)]\n",
        ")"
      ],
      "metadata": {
        "id": "TcEbk1jVIWnP"
      },
      "id": "TcEbk1jVIWnP",
      "execution_count": null,
      "outputs": []
    },
    {
      "cell_type": "code",
      "source": [
        "gbc = GradientBoostingClassifier()"
      ],
      "metadata": {
        "id": "vCE8bRXsJIl4"
      },
      "id": "vCE8bRXsJIl4",
      "execution_count": null,
      "outputs": []
    },
    {
      "cell_type": "code",
      "source": [
        "from sklearn.model_selection import GridSearchCV\n"
      ],
      "metadata": {
        "id": "dSKTbrTuJx-D"
      },
      "id": "dSKTbrTuJx-D",
      "execution_count": null,
      "outputs": []
    },
    {
      "cell_type": "code",
      "source": [
        "gbc_vc = GridSearchCV(estimator = gbc, param_grid = params, cv = 10)"
      ],
      "metadata": {
        "id": "mgr4YRdqJUy1"
      },
      "id": "mgr4YRdqJUy1",
      "execution_count": null,
      "outputs": []
    },
    {
      "cell_type": "code",
      "source": [
        "gbc_vc.fit(X_train, y_train)"
      ],
      "metadata": {
        "colab": {
          "base_uri": "https://localhost:8080/"
        },
        "id": "qSr2yMuTJ2SH",
        "outputId": "fe68b5e3-6a57-4e4a-b28a-cc92bf744107"
      },
      "id": "qSr2yMuTJ2SH",
      "execution_count": null,
      "outputs": [
        {
          "output_type": "execute_result",
          "data": {
            "text/plain": [
              "GridSearchCV(cv=10, estimator=GradientBoostingClassifier(),\n",
              "             param_grid={'max_depth': [1, 2, 3, 4],\n",
              "                         'min_samples_leaf': [2, 3, 4, 5],\n",
              "                         'min_samples_split': [2, 3, 4, 5],\n",
              "                         'n_estimators': [10, 20, 30, 40]})"
            ]
          },
          "metadata": {},
          "execution_count": 237
        }
      ]
    },
    {
      "cell_type": "code",
      "execution_count": null,
      "metadata": {
        "id": "7d153f27",
        "colab": {
          "base_uri": "https://localhost:8080/"
        },
        "outputId": "4d2f195b-1a51-44d2-877f-28d26807872b"
      },
      "outputs": [
        {
          "output_type": "stream",
          "name": "stdout",
          "text": [
            "Melhor pontuação: 0.8251331811263316\n",
            "Melhores parâmetros: GradientBoostingClassifier(max_depth=4, min_samples_leaf=2, n_estimators=30)\n"
          ]
        }
      ],
      "source": [
        "print(f'Melhor pontuação: {gbc_vc.best_score_}')\n",
        "print(f'Melhores parâmetros: {gbc_vc.best_estimator_}')"
      ],
      "id": "7d153f27"
    },
    {
      "cell_type": "code",
      "execution_count": null,
      "metadata": {
        "id": "sXTJW6OaECkH"
      },
      "outputs": [],
      "source": [
        "GradientBoostingClassifier_pred = gbc_vc.predict(X_test)"
      ],
      "id": "sXTJW6OaECkH"
    },
    {
      "cell_type": "code",
      "execution_count": null,
      "metadata": {
        "id": "M_16U1S3ECnd",
        "colab": {
          "base_uri": "https://localhost:8080/"
        },
        "outputId": "912f595b-39c9-4f2b-dad5-de35ee5b3849"
      },
      "outputs": [
        {
          "output_type": "stream",
          "name": "stdout",
          "text": [
            "A acurácia foi de 85.45%.\n"
          ]
        }
      ],
      "source": [
        "from sklearn.metrics import accuracy_score\n",
        "accuracy = accuracy_score(y_test, GradientBoostingClassifier_pred) * 100\n",
        "print (\"A acurácia foi de {:.2f}%.\".format(accuracy))"
      ],
      "id": "M_16U1S3ECnd"
    },
    {
      "cell_type": "markdown",
      "metadata": {
        "id": "507852ff"
      },
      "source": [
        "# Perguntas do Desafio  - Modelo:"
      ],
      "id": "507852ff"
    },
    {
      "cell_type": "markdown",
      "metadata": {
        "id": "70740930"
      },
      "source": [
        "### Quais etapas de processamento foram realizadas e o porquê de cada uma?\n",
        "- Responda de maneira superficial uma vez que você já mostrou via código o que foi feito, quais as etapas do seu dado desde que ele é carregado pelo pandas até ser fornecido ao modelo durante o treinamento.\n",
        "\n",
        "\n"
      ],
      "id": "70740930"
    },
    {
      "cell_type": "markdown",
      "source": [
        "Foram feitos vários tratamentos nos dados. Primeiramente se observou variáveis que não tinha grande correlação com a variável sobrevivência e, visando evitar que estas variáveis pouco correlacionadas atrapalhassem o modelo, estas foram dropadas. Após isso fez-se o uso de estratégias para preencher valores que estavam faltantes. Logo depois, fez-se o uso de estratégias para tratar outliers, de modo a que os outliers não prejudicassem a modelagem. Então, dividiu-se os dados em X_train, y_train, X_test e y_test. A partir daí foram iniciados os testes dos dados com vários tipos de modelos."
      ],
      "metadata": {
        "id": "sXVzXot2N6Wq"
      },
      "id": "sXVzXot2N6Wq"
    },
    {
      "cell_type": "markdown",
      "metadata": {
        "id": "05db5ce1"
      },
      "source": [
        "### Dos modelos testados qual foi melhor? Porque? Apresenta as métricas do seu melhor modelo. \n",
        "- Sabendo que você testou pelo menos 2 modelos diferentes, como você definiu o que é o melhor e qual é o melhor.\n",
        "\n",
        "\n"
      ],
      "id": "05db5ce1"
    },
    {
      "cell_type": "markdown",
      "source": [
        "Foram testados diversos modelos e foi escolhido aquele que, quando testado usando validação cruzada, apresentou a maior acurácia, ou seja, a maior porcentagem de acertos."
      ],
      "metadata": {
        "id": "qkf__DWrNuZE"
      },
      "id": "qkf__DWrNuZE"
    },
    {
      "cell_type": "markdown",
      "metadata": {
        "id": "648e19d0"
      },
      "source": [
        "### Seu  melhor modelo comete erros? Quais os pontos fracos dele?\n",
        "- Saber os pontos fracos de seu modelo é crucial durante o seu uso, tente identificar com uma matriz confusão onde o seu modelo erra e o perfil do dado que ele erra.\n",
        "\n",
        "\n",
        "\n"
      ],
      "id": "648e19d0"
    },
    {
      "cell_type": "code",
      "execution_count": null,
      "metadata": {
        "id": "bf2129bb",
        "colab": {
          "base_uri": "https://localhost:8080/"
        },
        "outputId": "3e01fd78-4aa5-49d2-af30-c1ecd9f48f04"
      },
      "outputs": [
        {
          "output_type": "execute_result",
          "data": {
            "text/plain": [
              "array([[101,   3],\n",
              "       [ 21,  40]])"
            ]
          },
          "metadata": {},
          "execution_count": 250
        }
      ],
      "source": [
        "from sklearn.metrics import confusion_matrix\n",
        "confusion_matrix(y_test, GradientBoostingClassifier_pred)"
      ],
      "id": "bf2129bb"
    },
    {
      "cell_type": "code",
      "source": [
        "confusion_matrix = metrics.confusion_matrix(y_test, GradientBoostingClassifier_pred)\n",
        "\n",
        "cm_display = metrics.ConfusionMatrixDisplay(confusion_matrix = confusion_matrix, display_labels = [False, True])\n",
        "\n",
        "cm_display.plot()\n",
        "plt.show()"
      ],
      "metadata": {
        "colab": {
          "base_uri": "https://localhost:8080/",
          "height": 281
        },
        "id": "FPdVkgOhPP3q",
        "outputId": "c5520114-635b-4b9c-adc1-c4e47017b695"
      },
      "id": "FPdVkgOhPP3q",
      "execution_count": null,
      "outputs": [
        {
          "output_type": "display_data",
          "data": {
            "text/plain": [
              "<Figure size 432x288 with 2 Axes>"
            ],
            "image/png": "[encoded data removed]"
          },
          "metadata": {
            "needs_background": "light"
          }
        }
      ]
    },
    {
      "cell_type": "markdown",
      "source": [
        "Como observado na matriz de confusão, o ponto fraco do modelo escolhido são os falsos negativos, ou seja, pessoas que na realidade sobreviveram e o modelo previu que não sobreviveram."
      ],
      "metadata": {
        "id": "RsMsmUzTNfv6"
      },
      "id": "RsMsmUzTNfv6"
    },
    {
      "cell_type": "markdown",
      "id": "d55ca294",
      "metadata": {
        "id": "d55ca294"
      },
      "source": [
        "Se você sobreviveu até aqui, meus parabéns! =D"
      ]
    }
  ],
  "metadata": {
    "kernelspec": {
      "display_name": "Python 3 (ipykernel)",
      "language": "python",
      "name": "python3"
    },
    "language_info": {
      "codemirror_mode": {
        "name": "ipython",
        "version": 3
      },
      "file_extension": ".py",
      "mimetype": "text/x-python",
      "name": "python",
      "nbconvert_exporter": "python",
      "pygments_lexer": "ipython3",
      "version": "3.9.7"
    },
    "colab": {
      "provenance": [],
      "collapsed_sections": [],
      "include_colab_link": true
    }
  },
  "nbformat": 4,
  "nbformat_minor": 5
}